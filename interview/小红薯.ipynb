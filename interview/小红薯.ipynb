{
 "cells": [
  {
   "cell_type": "markdown",
   "metadata": {},
   "source": [
    "# Problem 1\n",
    "\n",
    "新一年开工，薯队长为你准备了一个数字游戏。\n",
    "\n",
    "现在有由N个整数组成的数组，其中每一个整数只可以是0或者1。你可以选择一个区间范围[i, j]，其中i<=j，对其中所有数字进行翻转。对整数a进行翻转会得到1-a。\n",
    "\n",
    "你只有一次翻转的机会，薯队长希望知道经过一次翻转后，新的数组中1的个数最多是多少，聪明的你可以帮助薯队长解决这个问题吗？如果数组长度为0，直接返回-1。\n",
    "\n",
    "例如 [1, 0, 0, 1, 0]，可以翻转为 [1, 1, 1, 0, 1] 或 [1, 1, 1, 1, 0]，所以结果为4。\n",
    "\n",
    "INPUT:\n",
    "第一行，整数，表示整数数组中整数的个数\n",
    "\n",
    "第二行，依次是数组中每一个整数，以单空格间隔\n",
    "\n",
    "数据范围：数组长度在[0,100000]之间。\n",
    "\n",
    "注意：不同语言读取数据时，请注意数据类型，避免类型错误。\n",
    "\n",
    "OUTPUT:\n",
    "整数，表示经过一次翻转后，新的数组中1出现的最大次数\n",
    "\n",
    "HINT:\n",
    "可以考虑进行某种简单的变换，使得区间内0和1的数量关系更容易计算。\n",
    "\n",
    "ANA:\n",
    "\n",
    "## Brute force\n",
    "\n",
    "n + n - 1 + n -2 + n - 3 + n - 4 .... + 1\n",
    "\n",
    "# \n",
    "\n",
    "F(n) = "
   ]
  },
  {
   "cell_type": "code",
   "execution_count": 3,
   "metadata": {},
   "outputs": [
    {
     "name": "stdout",
     "output_type": "stream",
     "text": [
      "3\n"
     ]
    }
   ],
   "source": [
    "n = int(input())\n",
    "nums = list(map(int, input().split()))\n",
    "cnt = 0\n",
    "total_sum = sum(nums)\n",
    "\n",
    "for i in range(n):\n",
    "    temp_cnt = 0\n",
    "    j = i + 1\n",
    "    while j <= n:\n",
    "        temp_cnt = sum(nums[i:j])\n",
    "        res_cnt = total_sum - temp_cnt\n",
    "        rev_cnt = abs(j - i - temp_cnt)\n",
    "        if rev_cnt > temp_cnt:\n",
    "            cnt = rev_cnt + res_cnt\n",
    "        j += 1\n",
    "\n",
    "print(cnt)"
   ]
  },
  {
   "cell_type": "code",
   "execution_count": 40,
   "metadata": {},
   "outputs": [
    {
     "name": "stdout",
     "output_type": "stream",
     "text": [
      "0 1 [1] 1\n",
      "0 2 [1, 0] 2\n",
      "0 3 [1, 0, 0] 3\n",
      "1 3 [0, 0] 4\n",
      "4\n"
     ]
    }
   ],
   "source": [
    "n = 5\n",
    "nums = [1, 0, 0, 1, 0]\n",
    "cnt = 0\n",
    "total = sum(nums)\n",
    "\n",
    "for i in range(n):\n",
    "    temp_cnt = 0\n",
    "    \n",
    "    j = i + 1\n",
    "    while j <= n:\n",
    "        temp_cnt = sum(nums[i:j])\n",
    "        res_cnt = total - temp_cnt\n",
    "        rev_cnt = abs(j - i - temp_cnt)\n",
    "        rev_sum = total + rev_cnt - temp_cnt\n",
    "        if rev_sum > cnt:\n",
    "            cnt = rev_sum\n",
    "            print(i, j, nums[i:j], cnt)\n",
    "        j += 1\n",
    "\n",
    "print(cnt)"
   ]
  },
  {
   "cell_type": "markdown",
   "metadata": {},
   "source": [
    "# 2\n",
    "\n",
    "你驾驶船只在海上航行至给定一个 M*N 的海域，海上只有 K 个位置是有礁石的，其他格子都是正常海域。\n",
    "\n",
    "你作为船长驾驶船只位于地图的左上角，宝藏位于该海域的右下角，每一次航行你只能选择向右或向下移动一格，并且不能移动到有礁石的海域。求你从该海域左上角航行到右下角获取宝藏，一共有多少种路线。\n",
    "\n",
    "INPUT:\n",
    "第一行包含三个整数 M N K\n",
    "\n",
    "接下来 K 行，每行包含两个整数 x，y 描述一块礁石位于x行y列。\n",
    "\n",
    "数据保证左上角和右下角的海域是没有礁石的。\n",
    "\n",
    "OUTPUT:\n",
    "\n",
    "输出一个整数表示结果对 1000000007 取模后的值。\n",
    "\n",
    "\n",
    "ANA:\n",
    "\n",
    "递归 F（m，n）= F（m - 1，n）+ F(m, n - 1) if available\n",
    "\n",
    "init the matrix of first row and first column\n"
   ]
  },
  {
   "cell_type": "code",
   "execution_count": 69,
   "metadata": {},
   "outputs": [
    {
     "name": "stdout",
     "output_type": "stream",
     "text": [
      "0\n",
      "0\n",
      "0\n",
      "545732279\n"
     ]
    }
   ],
   "source": [
    "m, n, k = 100, 100, 3\n",
    "layout = [[15,16], [16, 15],[99,88]]\n",
    "# layout = []\n",
    "\n",
    "for i in range(len(layout) - 1, -1, -1):\n",
    "    if not layout[i]:\n",
    "        layout.pop(i)\n",
    "    else:\n",
    "        layout[i] = list(map(int, layout[i]))\n",
    "        layout[i] = [v - 1 for v in layout[i]]\n",
    "\n",
    "matrix = [[0]*n for i in range(m)]\n",
    "\n",
    "if [0, 0] not in layout:\n",
    "    matrix[0][0] = 1\n",
    "\n",
    "for i in range(1, m):\n",
    "    if [i, 0] not in layout and matrix[i-1][0]:\n",
    "        matrix[i][0] = 1\n",
    "    else:\n",
    "        matrix[i][0] = 0\n",
    "for i in range(1, n):\n",
    "    if [0, i] not in layout and matrix[0][i-1]:\n",
    "        matrix[0][i] = 1\n",
    "    else:\n",
    "        matrix[0][i] = 0\n",
    "\n",
    "# print(matrix[0], matrix[0])\n",
    "# print(matrix[1][1])\n",
    "    \n",
    "for i in range(1, m):\n",
    "    for j in range(1, n):\n",
    "        if [i, j] in layout:\n",
    "            matrix[i][j] = 0\n",
    "        else:\n",
    "            matrix[i][j] = matrix[i - 1][j] + matrix[i][j -1]\n",
    "\n",
    "# for i in range(m):\n",
    "#     for j in range(n):\n",
    "#         if matrix[i, j] < 0:\n",
    "#             print(matrix[i, j], i, j)\n",
    "\n",
    "for i in layout:\n",
    "    x, y = i[0], i[1]\n",
    "    print(matrix[x][y])\n",
    "# print(matrix)\n",
    "print(matrix[m - 1][n - 1] % 1000000007)"
   ]
  },
  {
   "cell_type": "code",
   "execution_count": 38,
   "metadata": {},
   "outputs": [
    {
     "data": {
      "text/plain": [
       "361159995"
      ]
     },
     "execution_count": 38,
     "metadata": {},
     "output_type": "execute_result"
    }
   ],
   "source": [
    "545732279 - 184572284"
   ]
  },
  {
   "cell_type": "markdown",
   "metadata": {},
   "source": [
    "# 3\n",
    "\n",
    "薯队长去旅行的途中，参加了一个有趣的活动，活动中在桌子上摆了N个物品(1 <= N <= 50000) ，从1开始编号到N，每个物品有一个价值（1～1000000之间的整数），主持人接下来会询问K轮(K <= 200000)，每轮会询问从编号A到编号B的物品中（1 <= A <= B <= N)，最高价值和最低价值差多少，第一个答出来的人就获得奖品。薯队长希望您写一个程序，能够计算出所有问题的结果\n",
    "\n",
    "INPUT:\n",
    "第一行输入N和K\n",
    "\n",
    "接下来的N行，每行一个整数，即第i个物品的价值\n",
    "\n",
    "再接下来的K行，每行两个数，即询问从编号A到编号B的物品最大价值差是多少\n",
    "\n",
    "OUTPUT:\n",
    "输出有K行，每行一个数，即结果\n",
    "\n",
    "# m1\n",
    "1. 对数组进行排序，得到每一个礼物对应的 rank\n",
    "2. 对于每一询问，都找到其中最大 rank 和最小 rank 的数，然后做减法\n",
    "\n"
   ]
  },
  {
   "cell_type": "code",
   "execution_count": 44,
   "metadata": {},
   "outputs": [
    {
     "name": "stdout",
     "output_type": "stream",
     "text": [
      "{0: 0, 1: 5, 2: 2, 3: 3, 4: 1, 5: 4}\n",
      "[1, 5] 3 0\n",
      "3\n",
      "0\n",
      "[4, 6] 5 4\n",
      "3\n"
     ]
    }
   ],
   "source": [
    "n, k = 6, 3\n",
    "values = [2,8,4,5,3,6]\n",
    "    \n",
    "query = [[1,5],[2,2,],[4,6]]\n",
    "    \n",
    "dic = dict()\n",
    "mapping = sorted(values)\n",
    "# 第n个礼物，rank 排名是多少\n",
    "for i in range(n):\n",
    "    dic[i] = mapping.index(values[i])\n",
    "\n",
    "print(dic)\n",
    "\n",
    "for q in query:\n",
    "    min_id, max_id = q[0], q[1]\n",
    "    if max_id == min_id:\n",
    "        print(0)\n",
    "        continue\n",
    "    MAX, MIN = 0, n\n",
    "    for i in range(min_id - 1, max_id):\n",
    "        # 找到 rank 排名最大的\n",
    "        if dic[i] > MAX:\n",
    "            MAX = i\n",
    "        # 找到 rank 排名最小的\n",
    "        if dic[i] < MIN:\n",
    "            MIN = i\n",
    "    print(q, MAX, MIN)\n",
    "        \n",
    "    print(values[MAX] - values[MIN])\n"
   ]
  },
  {
   "cell_type": "code",
   "execution_count": null,
   "metadata": {},
   "outputs": [],
   "source": [
    "6 3\n",
    "2\n",
    "8\n",
    "4\n",
    "5\n",
    "3\n",
    "6\n",
    "1 5\n",
    "2 2\n",
    "4 6"
   ]
  },
  {
   "cell_type": "code",
   "execution_count": null,
   "metadata": {},
   "outputs": [],
   "source": [
    "n, k = list(map(int, input().split()))\n",
    "\n",
    "values = []\n",
    "for i in range(n):\n",
    "    values.append(int(input()))\n",
    "    \n",
    "query = []\n",
    "for i in range(k):\n",
    "    query.append(list(map(int, input().split())))\n",
    "    \n",
    "dic = dict()\n",
    "mapping = sorted(values)\n",
    "for i in values:\n",
    "    dic[i] = mapping.index(i)\n",
    "\n",
    "for q in query:\n",
    "    min_id, max_id = q[0], q[1]\n",
    "    if max_id == min_id:\n",
    "        print(0)\n",
    "        continue\n",
    "    MAX = max(values[min_id - 1 : max_id])\n",
    "    MIN = min(values[min_id - 1 : max_id])\n",
    "    print(MAX - MIN)\n",
    "        \n"
   ]
  },
  {
   "cell_type": "markdown",
   "metadata": {},
   "source": [
    "# Footnotes"
   ]
  },
  {
   "cell_type": "code",
   "execution_count": null,
   "metadata": {},
   "outputs": [],
   "source": [
    "# add the doc information to README \n",
    "from tools.setup import generate_row as g\n",
    "\n",
    "g()"
   ]
  }
 ],
 "metadata": {
  "hide_input": false,
  "kernelspec": {
   "display_name": "Python 3",
   "language": "python",
   "name": "python3"
  },
  "language_info": {
   "codemirror_mode": {
    "name": "ipython",
    "version": 3
   },
   "file_extension": ".py",
   "mimetype": "text/x-python",
   "name": "python",
   "nbconvert_exporter": "python",
   "pygments_lexer": "ipython3",
   "version": "3.7.11"
  },
  "latex_envs": {
   "LaTeX_envs_menu_present": true,
   "autoclose": false,
   "autocomplete": true,
   "bibliofile": "biblio.bib",
   "cite_by": "apalike",
   "current_citInitial": 1,
   "eqLabelWithNumbers": true,
   "eqNumInitial": 1,
   "hotkeys": {
    "equation": "Ctrl-E",
    "itemize": "Ctrl-I"
   },
   "labels_anchors": false,
   "latex_user_defs": false,
   "report_style_numbering": false,
   "user_envs_cfg": false
  },
  "toc": {
   "base_numbering": 1,
   "nav_menu": {},
   "number_sections": true,
   "sideBar": true,
   "skip_h1_title": false,
   "title_cell": "Table of Contents",
   "title_sidebar": "Contents",
   "toc_cell": false,
   "toc_position": {},
   "toc_section_display": true,
   "toc_window_display": false
  }
 },
 "nbformat": 4,
 "nbformat_minor": 4
}
