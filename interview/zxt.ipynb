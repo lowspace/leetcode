{
 "cells": [
  {
   "cell_type": "code",
   "execution_count": null,
   "metadata": {},
   "outputs": [],
   "source": [
    "grid = input()\n",
    "grid = eval(grid)\n",
    "\n",
    "m, n = len(grid[0]), len(grid)\n",
    "\n",
    "cost_grid = [[0] * m for _ in range(n)]\n",
    "cost_grid[0][0] = grid[0][0]\n",
    "\n",
    "# boundary condition\n",
    "for i in range(1, m):\n",
    "    cost_grid[0][i] = cost_grid[0][i - 1] +  grid[0][i]\n",
    "\n",
    "for i in range(1, n):\n",
    "    cost_grid[i][0] = cost_grid[i - 1][0] +  grid[i][0]\n",
    "\n",
    "for i in range(1, n): # y-axis\n",
    "    for j in range(1, m): # x-axis\n",
    "        cost_grid[i][j] = min(cost_grid[i - 1][j], cost_grid[i][j - 1]) + grid[i][j]\n",
    "\n",
    "print(cost_grid[n - 1][m - 1])"
   ]
  },
  {
   "cell_type": "code",
   "execution_count": null,
   "metadata": {},
   "outputs": [],
   "source": [
    "which_line = int(input())\n",
    "if which_line < 3:\n",
    "    ans = -1\n",
    "elif which_line % 2 == 1:\n",
    "    ans = 2\n",
    "elif which_line % 4 == 0:\n",
    "    ans = 3\n",
    "else:\n",
    "    ans = 4\n",
    "print(ans)"
   ]
  },
  {
   "cell_type": "code",
   "execution_count": null,
   "metadata": {},
   "outputs": [],
   "source": [
    "n = int(input())\n",
    "grid = []\n",
    "for _ in range(n):\n",
    "    grid.append(list(map(int,input().split())))\n",
    "\n"
   ]
  }
 ],
 "metadata": {
  "interpreter": {
   "hash": "76a7b5324f028f295860f76a31df2338ff50596517c2606a79177bbdafd1d5be"
  },
  "kernelspec": {
   "display_name": "Python 3.7.11 ('leetcode')",
   "language": "python",
   "name": "python3"
  },
  "language_info": {
   "codemirror_mode": {
    "name": "ipython",
    "version": 3
   },
   "file_extension": ".py",
   "mimetype": "text/x-python",
   "name": "python",
   "nbconvert_exporter": "python",
   "pygments_lexer": "ipython3",
   "version": "3.7.11"
  },
  "orig_nbformat": 4
 },
 "nbformat": 4,
 "nbformat_minor": 2
}
