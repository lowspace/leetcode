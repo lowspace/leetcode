{
 "cells": [
  {
   "cell_type": "markdown",
   "metadata": {},
   "source": [
    "# Problem 1\n",
    "\n",
    "小美现在相信一些数字能给他带来好运。\n",
    "\n",
    "这些数字至少满足以下两个特征中的一种：\n",
    "\n",
    "1. 数字是11的整数倍。\n",
    "\n",
    "2. 数字中至少包含两个1。\n",
    "\n",
    "小美现在给你若干数字，希望你回答这个数字是不是幸运数。\n",
    "\n",
    " \n",
    "\n",
    "例如：132是11的12倍，满足条件1，101有两个1，满足条件2。\n",
    "\n",
    "INPUT:\n",
    "\n",
    "第一行一个数字n，表示小美有n组询问\n",
    "\n",
    "接下来每一行一个正整数表示小美询问的数字。\n",
    "\n",
    "数据保证1 <= n <= 500, 每个询问的数字在 [1, 1e9]范围内\n",
    "\n",
    "OUTPUT:\n",
    "\n",
    "对于每组询问，如果是幸运数，输出yes，不是，输出no。"
   ]
  },
  {
   "cell_type": "code",
   "execution_count": null,
   "metadata": {},
   "outputs": [],
   "source": [
    "import sys\n",
    "from collections import Counter\n",
    "\n",
    "lines = sys.stdin.readlines()\n",
    "\n",
    "# init n\n",
    "n = lines[0].strip()\n",
    "# int nums\n",
    "nums = []\n",
    "for i in range(1, len(lines) - 1):\n",
    "    nums.append(lines[i].strip())\n",
    "\n",
    "for num in nums:\n",
    "    if Counter(num)['1'] >= 2 or int(num) % 11 == 0:\n",
    "        print('yes')\n",
    "    else:\n",
    "        print('no')"
   ]
  },
  {
   "cell_type": "code",
   "execution_count": 32,
   "metadata": {},
   "outputs": [
    {
     "name": "stdout",
     "output_type": "stream",
     "text": [
      "yes\n",
      "yes\n",
      "no\n",
      "yes\n"
     ]
    }
   ],
   "source": [
    "for num in ['1111', '101', '2132', '66']:\n",
    "    if Counter(num)['1'] >= 2 or int(num) % 11 == 0:\n",
    "        print('yes')\n",
    "    else:\n",
    "        print('no')"
   ]
  },
  {
   "cell_type": "code",
   "execution_count": 36,
   "metadata": {},
   "outputs": [
    {
     "data": {
      "text/plain": [
       "4"
      ]
     },
     "execution_count": 36,
     "metadata": {},
     "output_type": "execute_result"
    }
   ],
   "source": [
    "Counter('10121312')['1']"
   ]
  },
  {
   "cell_type": "markdown",
   "metadata": {},
   "source": [
    "# Problem 2\n",
    "\n",
    "小美现在有一个序列，序列中仅包含1和-1两种数字。\n",
    "\n",
    "小美现在想要知道，有多少个连续的子序列，序列中的数字乘积为正。\n",
    "\n",
    "INPUT:\n",
    "\n",
    "第一行一个正整数n，表示小美手中的序列长度。\n",
    "\n",
    "第二行n个空格隔开的数字，每个数字只能是1和-1中的一种。\n",
    "\n",
    "对于80%的数据保证1 <= n <= 500\n",
    "\n",
    "对于剩余20%的数据保证1 <= n <= 5000\n",
    "\n",
    "OUTPUT: \n",
    "\n",
    "一行一个正整数表示有多少连续的子序列满足题目要求。\n",
    "\n",
    "PATTERN:\n",
    "\n",
    "1. 偶数个-1\n",
    "\n",
    "# brute force\n",
    "n^2\n",
    "\n",
    "# math\n",
    "\n",
    "turn the -1 pairs with one ONE.\n",
    "\n",
    "1 1 -1 -1\n",
    "\n",
    "n + n - 1 + n - 2 + ...\n",
    "\n",
    "3 + 2 + 1 + 0 = 6\n",
    "\n",
    "Q: what if -1 in the middle instead of the last?\n",
    "\n",
    "A: two parts, F(n) = F(l) + F(r)"
   ]
  },
  {
   "cell_type": "code",
   "execution_count": 16,
   "metadata": {},
   "outputs": [
    {
     "name": "stdout",
     "output_type": "stream",
     "text": [
      "left 1\n",
      "right 3\n",
      "4\n"
     ]
    }
   ],
   "source": [
    "n = int(input())\n",
    "nums = list(map(int, input().split()))\n",
    "\n",
    "TWO_N = 0\n",
    "\n",
    "for i in range(len(nums) - 1, -1, -1):\n",
    "    if nums[i] == -1:\n",
    "        if TWO_N == 0:\n",
    "            TWO_N += 1\n",
    "            first = i\n",
    "        elif TWO_N == 1:\n",
    "            TWO_N += 1\n",
    "\n",
    "        if TWO_N == 2:\n",
    "            n -= 1\n",
    "            TWO_N = 0\n",
    "\n",
    "if TWO_N == 0:\n",
    "    print(sum(i for i in range(n + 1)))\n",
    "\n",
    "if TWO_N == 1:\n",
    "    left = sum(i for i in range(first + 1))\n",
    "    right = sum(i for i in range(n - first))\n",
    "    print(left + right)"
   ]
  },
  {
   "cell_type": "code",
   "execution_count": null,
   "metadata": {},
   "outputs": [],
   "source": [
    "n = int(input())\n",
    "nums = list(map(int, input().split()))\n",
    "\n",
    "from collections import Counter\n",
    "\n",
    "cnt = Counter(nums)\n",
    "cnt_1, cnt_2 = cnt[1], cnt[-1]\n",
    "n = cnt_1 + cnt_2 // 2\n",
    "cnt_N = 0\n",
    "\n",
    "if cnt_2 % 2 == 1:\n",
    "    for i in range(nums):\n",
    "        if nums[i] == -1:\n",
    "            left = sum(j for j in range(i + 1))\n",
    "            right = sum(j for j in range(n - i))\n",
    "            cnt_N += left + right\n",
    "\n",
    "ans = sum(j for j in range(n + 1))\n",
    "\n",
    "print(ans + cnt_N)"
   ]
  },
  {
   "cell_type": "code",
   "execution_count": 39,
   "metadata": {},
   "outputs": [
    {
     "data": {
      "text/plain": [
       "5"
      ]
     },
     "execution_count": 39,
     "metadata": {},
     "output_type": "execute_result"
    }
   ],
   "source": [
    "Counter([1,1,1,1,1,-1,-1,-1,-1])[1]"
   ]
  },
  {
   "cell_type": "markdown",
   "metadata": {},
   "source": [
    "# Problem 3\n",
    "\n",
    "小美现在在厨房做饭。小美发现食材现在只够每种菜做一份。\n",
    "\n",
    "现在同一时刻（即不分先后顺序）来了n个顾客。每个顾客都有想两份要点的菜。只有当顾客吃到全部自己想要的菜的时候，顾客才会满意。\n",
    "\n",
    "现在你的任务是，合理地接取顾客的订单要求，尽可能让更多的顾客满意，并输出最多有多少顾客可以满意。\n",
    "\n",
    "INPUT:\n",
    "第一行两个正整数n, m\n",
    "\n",
    "n表明有多少顾客前来点菜，m表示小美现在能做的菜的编号范围在[1, m]。\n",
    "\n",
    "接下来n行，每行两个数字，表明一名顾客的所点的两道菜的编号。\n",
    "\n",
    "其中80%的数据保证2 <= n <= 10, 2 <= m <= 20\n",
    "\n",
    "另外20%的数据保证2 <= n <= 20, 2 <= m <= 40\n",
    "\n",
    "OUTPUT:\n",
    "一行一个正整数表示最多有多少顾客可以满意。\n",
    "\n",
    "PATTERN:\n",
    "\n",
    "DFS\n",
    "\n",
    "满意 = 2道菜（可能相同，可能不同）\n",
    "限制：\n",
    "+ 每类菜只能做一次\n",
    "\n",
    "# DFS\n",
    "\n",
    "对每一个用户都走一次 DFS\n"
   ]
  },
  {
   "cell_type": "code",
   "execution_count": 10,
   "metadata": {},
   "outputs": [
    {
     "data": {
      "text/plain": [
       "3"
      ]
     },
     "execution_count": 10,
     "metadata": {},
     "output_type": "execute_result"
    },
    {
     "data": {
      "text/plain": [
       "[1, 2]"
      ]
     },
     "execution_count": 10,
     "metadata": {},
     "output_type": "execute_result"
    }
   ],
   "source": [
    "import sys\n",
    "\n",
    "def dfs(i: int, visited, univisited, visited_food):\n",
    "    if not univisited:\n",
    "        return \n",
    "    \n",
    "    client = univisited.pop()\n",
    "    visited.add(client)\n",
    "    food_list = []\n",
    "    for food in lines[client]:\n",
    "        if food in visited_food:\n",
    "            break\n",
    "        else:\n",
    "            food_list.append(food)\n",
    "\n",
    "    if len(food_list) == 2:\n",
    "        visited_food.extend(food_list)\n",
    "        cnt[i] += 1\n",
    "        dfs(i, visited, univisited, visited_food)\n",
    " \n",
    "\n",
    "lines = sys.stdin.readlines()\n",
    "\n",
    "for i in range(len(lines)):\n",
    "    lines[i] = lines[i].strip().split()\n",
    "    lines[i] = list(map(int, lines[i]))\n",
    "\n",
    "# n, m = lines[0][0], lines[0][1]\n",
    "lines = lines[1:-1]\n",
    "\n",
    "# record the max\n",
    "\n",
    "from collections import Counter\n",
    "cnt = Counter()\n",
    "total = set(i for i in range(len(lines)))\n",
    "for i in range(len(lines)):\n",
    "    cnt[i] = 1\n",
    "    visited, univisited = set(), set()\n",
    "    visited.add(i)\n",
    "    univisited = total - visited\n",
    "    # add food\n",
    "    visited_food = []\n",
    "    for food in lines[i]:\n",
    "        visited_food.append(food)\n",
    "    dfs(i, visited, univisited, visited_food)\n",
    "\n",
    "print(cnt.most_common()[0][1])"
   ]
  },
  {
   "cell_type": "markdown",
   "metadata": {},
   "source": [
    "# PROBLEM 4\n",
    "\n",
    "小美现在打音游。这个音游的玩法是这样的：\n",
    "\n",
    "—— 共有n个房间。小美初始拥有一个指针，指在一号房间。\n",
    "\n",
    "—— 游戏共持续m秒，每秒会有一个房间产生炸弹，小美的指针不能在这个房间中。\n",
    "\n",
    "—— 每秒结束的瞬间，小美可以使用一次魔法，把指针切换到另一个房间中，该过程会消耗一个能量。\n",
    "\n",
    "你的任务是计算小美无伤通过音游所需要消耗的最小能量。\n",
    "\n",
    "保证第一秒的炸弹不发生在一号房间中。\n",
    "\n",
    "INPUT: \n",
    "\n",
    "第一行两个正整数 n 和 m，表示房间有 n 个，游戏持续 m 秒。\n",
    "\n",
    "第二行 m 个正整数，每个正整数在1~n 的范围内，第 i 个正整数表示第 i 秒时炸弹在哪个房间生成。\n",
    "\n",
    "数字间有空格隔开\n",
    "\n",
    "数据保证 n ＜= 10 , 1 <= m <= 10000\n",
    "\n",
    "OUTPUT:\n",
    "\n",
    "一行一个正整数，表示小美无伤通过音游所需要消耗的最少能量。\n",
    "\n",
    "PATTERN:\n",
    "\n",
    "DP\n",
    "\n",
    "房间 = 1 - n，可以在 1-n 内自由移动，第一次一定在1\n",
    "一号房第一秒没有炸弹，\n",
    "\n",
    "n x m 的矩阵，其中 m 列有一个障碍，不能访问到障碍\n",
    "\n",
    "行动：\n",
    "1. 呆在原地；\n",
    "2. 移动到 1-n 的其它房间里去"
   ]
  },
  {
   "cell_type": "code",
   "execution_count": null,
   "metadata": {},
   "outputs": [],
   "source": [
    "import sys\n",
    "\n",
    "lines = sys.stdin.readlines()\n",
    "\n",
    "for i in range(len(lines)):\n",
    "    lines[i] = lines[i].strip().split()\n",
    "    lines[i] = list(map(int, lines[i]))\n",
    "\n",
    "n, m = lines[0][0], lines[0][1]\n",
    "lines = lines[1:-1]\n",
    "\n"
   ]
  },
  {
   "cell_type": "markdown",
   "metadata": {},
   "source": [
    "# Footnotes"
   ]
  },
  {
   "cell_type": "code",
   "execution_count": null,
   "metadata": {},
   "outputs": [],
   "source": [
    "# add the doc information to README \n",
    "from tools.setup import generate_row as g\n",
    "\n",
    "g()"
   ]
  }
 ],
 "metadata": {
  "hide_input": false,
  "kernelspec": {
   "display_name": "Python 3",
   "language": "python",
   "name": "python3"
  },
  "language_info": {
   "codemirror_mode": {
    "name": "ipython",
    "version": 3
   },
   "file_extension": ".py",
   "mimetype": "text/x-python",
   "name": "python",
   "nbconvert_exporter": "python",
   "pygments_lexer": "ipython3",
   "version": "3.9.9"
  },
  "latex_envs": {
   "LaTeX_envs_menu_present": true,
   "autoclose": false,
   "autocomplete": true,
   "bibliofile": "biblio.bib",
   "cite_by": "apalike",
   "current_citInitial": 1,
   "eqLabelWithNumbers": true,
   "eqNumInitial": 1,
   "hotkeys": {
    "equation": "Ctrl-E",
    "itemize": "Ctrl-I"
   },
   "labels_anchors": false,
   "latex_user_defs": false,
   "report_style_numbering": false,
   "user_envs_cfg": false
  },
  "toc": {
   "base_numbering": 1,
   "nav_menu": {},
   "number_sections": true,
   "sideBar": true,
   "skip_h1_title": false,
   "title_cell": "Table of Contents",
   "title_sidebar": "Contents",
   "toc_cell": false,
   "toc_position": {},
   "toc_section_display": true,
   "toc_window_display": false
  }
 },
 "nbformat": 4,
 "nbformat_minor": 4
}
