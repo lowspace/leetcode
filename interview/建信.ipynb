{
 "cells": [
  {
   "cell_type": "code",
   "execution_count": null,
   "metadata": {},
   "outputs": [],
   "source": [
    "class Solution:\n",
    "    def getPosition(self , m , k , nums):\n",
    "        # write code here\n",
    "        s = 0\n",
    "        ans = -1\n",
    "        \n",
    "        for i in range(len(nums)):\n",
    "            s += nums[i]\n",
    "            if s % m == k:\n",
    "                ans = i\n",
    "        \n",
    "        return ans\n"
   ]
  },
  {
   "cell_type": "markdown",
   "metadata": {},
   "source": [
    "# brute force\n",
    "\n",
    "for each row and column, found the location of the components of the target char\n",
    "\n",
    "=> scan too much time => scan once, and use dictionary to store the location"
   ]
  },
  {
   "cell_type": "code",
   "execution_count": null,
   "metadata": {},
   "outputs": [],
   "source": [
    "#coding=utf-8\n",
    "# 本题为考试多行输入输出规范示例，无需提交，不计分。\n",
    "import sys\n",
    "if __name__ == \"__main__\":\n",
    "    # 读取第一行的n\n",
    "    n = int(sys.stdin.readline().strip())\n",
    "    ans = 0\n",
    "    for i in range(n):\n",
    "        # 读取每一行\n",
    "        line = sys.stdin.readline().strip()\n",
    "        # 把每一行的数字分隔后转化成int列表\n",
    "        values = list(map(int, line.split()))\n",
    "        for v in values:\n",
    "            ans += v\n",
    "    print(ans)"
   ]
  },
  {
   "cell_type": "code",
   "execution_count": 2,
   "metadata": {},
   "outputs": [
    {
     "data": {
      "text/plain": [
       "-1"
      ]
     },
     "execution_count": 2,
     "metadata": {},
     "output_type": "execute_result"
    }
   ],
   "source": [
    "import sys\n",
    "\n",
    "if __name__ == \"__main__\":\n",
    "    lines = sys.stdin.readlines()\n",
    "    lines = [lines[i].strip().split() for i in range(len(lines))]\n",
    "\n",
    "    T = lines[0][0]\n",
    "    # T = int(input())\n",
    "    # T = int(sys.stdin.readline().strip())\n",
    "    N, M = int(lines[1][0]), int(lines[1][1])\n",
    "    # line = input().split()\n",
    "    # line = sys.stdin.readline().strip()\n",
    "    # N, M = int(line[0]), int(line[1])\n",
    "    # lines = []\n",
    "    # for i in range(T):\n",
    "    #     lines.append(sys.stdin.readline().strip())\n",
    "    target = lines[-1][0]\n",
    "    lines = [i[0] for i in lines[2:-1]]\n",
    "    # lines = input()\n",
    "    # target = input()\n",
    "    # target = int(sys.stdin.readline().strip())\n",
    "\n",
    "    print(T, N, M, target, lines)\n",
    "\n",
    "    # init the location\n",
    "    x, y = 0, 0\n",
    "\n",
    "    # init location dict\n",
    "    locations = dict()\n",
    "    for i in range(N):\n",
    "        for j in range(M):\n",
    "            if lines[i][j] in target:\n",
    "                locations[lines[i][j]] = (i, j)\n",
    "\n",
    "    print(locations)\n",
    "\n",
    "    # int the count\n",
    "    cnt = 0\n",
    "    for char in target:\n",
    "        loc = locations[char]\n",
    "        cnt += abs(x - loc[0]) + abs(y - loc[1]) + 1\n",
    "        x, y = loc[0], loc[1]\n",
    "\n",
    "    print(cnt)"
   ]
  },
  {
   "cell_type": "code",
   "execution_count": 7,
   "metadata": {},
   "outputs": [
    {
     "data": {
      "text/plain": [
       "'$'"
      ]
     },
     "execution_count": 7,
     "metadata": {},
     "output_type": "execute_result"
    },
    {
     "data": {
      "text/plain": [
       "{'$': 3}"
      ]
     },
     "execution_count": 7,
     "metadata": {},
     "output_type": "execute_result"
    }
   ],
   "source": [
    "import sys\n",
    "\n",
    "if __name__ == \"__main__\":\n",
    "    lines = sys.stdin.readlines()\n",
    "    lines = [lines[i].strip().split() for i in range(len(lines))]\n",
    "\n",
    "    T = lines[0][0]\n",
    "    # T = int(input())\n",
    "    # T = int(sys.stdin.readline().strip())\n",
    "    N, M = int(lines[1][0]), int(lines[1][1])\n",
    "    # line = input().split()\n",
    "    # line = sys.stdin.readline().strip()\n",
    "    # N, M = int(line[0]), int(line[1])\n",
    "    # lines = []\n",
    "    # for i in range(T):\n",
    "    #     lines.append(sys.stdin.readline().strip())\n",
    "    target = lines[-1][0]\n",
    "    lines = [i[0] for i in lines[2:-1]]\n",
    "    # lines = input()\n",
    "    # target = input()\n",
    "    # target = int(sys.stdin.readline().strip())\n",
    "\n",
    "    print(T, N, M, target, lines)\n",
    "\n",
    "    # init the location\n",
    "    x, y = 0, 0\n",
    "\n",
    "    # init location dict\n",
    "    locations = dict()\n",
    "    for i in range(N):\n",
    "        for j in range(M):\n",
    "            if lines[i][j] in target:\n",
    "                l = target.index(lines[i][j])\n",
    "                locations[l] = (i, j)\n",
    "\n",
    "    print(locations)\n",
    "\n",
    "    # int the count\n",
    "    cnt = 0\n",
    "    for char in target:\n",
    "        loc = locations[char]\n",
    "        cnt += abs(x - loc[0]) + abs(y - loc[1]) + 1\n",
    "        x, y = loc[0], loc[1]\n",
    "\n",
    "    print(cnt)"
   ]
  },
  {
   "cell_type": "code",
   "execution_count": 20,
   "metadata": {},
   "outputs": [
    {
     "name": "stdout",
     "output_type": "stream",
     "text": [
      ", 0\n",
      ". 0\n",
      "/ 0\n",
      "! 0\n",
      "@ 0\n",
      "# 0\n",
      "$ 0\n",
      "% 0\n",
      "^ 0\n",
      "& 0\n",
      "* 0\n",
      "( 0\n",
      ") 0\n",
      "_ 0\n",
      "+ 0\n",
      "~ 0\n",
      "` 0\n",
      "{ 0\n",
      "} 0\n",
      "| 0\n",
      "\\ 0\n",
      "[ 0\n",
      "] 0\n",
      "' 0\n",
      ": 0\n",
      "? 0\n",
      "> 0\n",
      "< 0\n",
      ", 0\n",
      ". 0\n",
      "/ 0\n"
     ]
    }
   ],
   "source": [
    "t = \",./!@#$%^&*()_+~`{}|\\[]':?><,./\"\n",
    "d = dict()\n",
    "target = \",./!@#$%^&*()_+~`{}|\\[]':?><,./\"\n",
    "for i in set(t):\n",
    "    d[i] = 0\n",
    "\n",
    "for char in target:\n",
    "    print(char, d[char])"
   ]
  },
  {
   "cell_type": "markdown",
   "metadata": {},
   "source": [
    "# Footnotes"
   ]
  },
  {
   "cell_type": "code",
   "execution_count": null,
   "metadata": {},
   "outputs": [],
   "source": [
    "# add the doc information to README \n",
    "from tools.setup import generate_row as g\n",
    "\n",
    "g()"
   ]
  }
 ],
 "metadata": {
  "hide_input": false,
  "kernelspec": {
   "display_name": "Python 3",
   "language": "python",
   "name": "python3"
  },
  "language_info": {
   "codemirror_mode": {
    "name": "ipython",
    "version": 3
   },
   "file_extension": ".py",
   "mimetype": "text/x-python",
   "name": "python",
   "nbconvert_exporter": "python",
   "pygments_lexer": "ipython3",
   "version": "3.9.9"
  },
  "latex_envs": {
   "LaTeX_envs_menu_present": true,
   "autoclose": false,
   "autocomplete": true,
   "bibliofile": "biblio.bib",
   "cite_by": "apalike",
   "current_citInitial": 1,
   "eqLabelWithNumbers": true,
   "eqNumInitial": 1,
   "hotkeys": {
    "equation": "Ctrl-E",
    "itemize": "Ctrl-I"
   },
   "labels_anchors": false,
   "latex_user_defs": false,
   "report_style_numbering": false,
   "user_envs_cfg": false
  },
  "toc": {
   "base_numbering": 1,
   "nav_menu": {},
   "number_sections": true,
   "sideBar": true,
   "skip_h1_title": false,
   "title_cell": "Table of Contents",
   "title_sidebar": "Contents",
   "toc_cell": false,
   "toc_position": {},
   "toc_section_display": true,
   "toc_window_display": false
  }
 },
 "nbformat": 4,
 "nbformat_minor": 4
}
