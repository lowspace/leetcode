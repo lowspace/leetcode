{
 "cells": [
  {
   "cell_type": "markdown",
   "metadata": {},
   "source": [
    "# Problem 1\n",
    "\n",
    "在 x 中添加一个数，使之成为 7 的倍数\n",
    "\n",
    "INPUT：一个正整数\n",
    "\n",
    "OUTPUT：添加后的数\n",
    "\n",
    "ANA：\n",
    "\n",
    "## Brute force\n",
    "\n",
    "直接查如，求解，复杂度 n * 10"
   ]
  },
  {
   "cell_type": "code",
   "execution_count": 2,
   "metadata": {},
   "outputs": [
    {
     "ename": "IndentationError",
     "evalue": "expected an indented block (4082999311.py, line 4)",
     "output_type": "error",
     "traceback": [
      "\u001b[0;36m  Input \u001b[0;32mIn [2]\u001b[0;36m\u001b[0m\n\u001b[0;31m    for position in range(len(n) + 1):\u001b[0m\n\u001b[0m                                      ^\u001b[0m\n\u001b[0;31mIndentationError\u001b[0m\u001b[0;31m:\u001b[0m expected an indented block\n"
     ]
    }
   ],
   "source": [
    "n = list(input())\n",
    "\n",
    "def find_7(n: list) -> str:\n",
    "    nums = [str(i) for i in range(10)]\n",
    "\n",
    "    for position in range(len(n) + 1):\n",
    "        for num in nums:\n",
    "            n.insert(position, num)\n",
    "            temp = int(''.join(n))\n",
    "            if temp % 7 == 0:\n",
    "                return print(temp)\n",
    "            else:\n",
    "                n.pop(position)\n",
    "\n",
    "find_7(n)"
   ]
  },
  {
   "cell_type": "code",
   "execution_count": 26,
   "metadata": {},
   "outputs": [
    {
     "name": "stdout",
     "output_type": "stream",
     "text": [
      "413\n"
     ]
    }
   ],
   "source": [
    "n = list('13')\n",
    "\n",
    "def find_7(n: list) -> str:\n",
    "    nums = [str(i) for i in range(10)]\n",
    "\n",
    "    for position in range(len(n) + 1):\n",
    "        for num in nums:\n",
    "            n.insert(position, num)\n",
    "            temp = int(''.join(n))\n",
    "            if temp % 7 == 0:\n",
    "                return print(temp)\n",
    "            else:\n",
    "                n.pop(position)\n",
    "\n",
    "find_7(n)"
   ]
  },
  {
   "cell_type": "markdown",
   "metadata": {},
   "source": [
    "# Problem 2\n",
    "\n",
    "01字符串取反的最小代价。\n",
    "\n",
    "INPUT：str\n",
    "\n",
    "OUTPUT：int\n",
    "\n",
    "ANA：\n",
    "\n",
    "肯定是动态规划\n",
    "\n",
    "长度为 n 的最小取反 = \n",
    "\n",
    "+ 如果第 n 个已经和第 n - 1 个是反的了，那么直接使用长度 n - 1 的取反结果；\n",
    "+ 如果第 n 个第 n - 1 一样，那么：\n",
    "    + 要么第 n - 1 取反 =》 在第 n - 1 取反的情况下，前 n - 2最小的取反代价是多少？\n",
    "    + 要么第 n 取反 -》 前 n - 1 取反结果 + 当前取反\n",
    "\n",
    "代价是下标 + 1\n",
    "\n",
    "注意形式，\n",
    "只可能是 010101010 or 10101010，所以记录两种转化，直接比大小就行啦？\n",
    "\n",
    "target string 转化为 01 和 10 哪一个更小，输出哪一个\n",
    "\n",
    "如果有新的注入：\n",
    "\n",
    "+ 比较 01 和 10 序列的结尾，最新的 cost = 前 n - 1 转化成 01 的 cost（自己不动）+ 前\n",
    "\n",
    "用除法，i % 2 == 1 -》偶数位：\n",
    "01 -》前一个一定是0"
   ]
  },
  {
   "cell_type": "code",
   "execution_count": null,
   "metadata": {},
   "outputs": [],
   "source": [
    "s = input()\n",
    "cost_01 = [0] * len(s)\n",
    "cost_10 = [0] * len(s)\n",
    "\n",
    "if s[0] == '0': # init the first term\n",
    "    cost_01[0] = 0\n",
    "else:\n",
    "    cost_01[0] = 1\n",
    "\n",
    "for i in range(1, len(s)):\n",
    "    # find the location\n",
    "    res = i % 2\n",
    "    if (s[i] == '1' and res == 1) or (s[i] == '0' and res == 0):  # compare with 01 seq\n",
    "        # using the previous 01 result\n",
    "        cost_01[i] = cost_01[i - 1]\n",
    "        # using the previous 10 + curr\n",
    "        cost_10[i] = cost_10[i - 1] + i + 1\n",
    "\n",
    "    else: \n",
    "        # using the previous 10 result\n",
    "        cost_10[i] = cost_10[i - 1]\n",
    "        # using the previous 01 + curr\n",
    "        cost_01[i] = cost_01[i - 1] + i + 1\n",
    "    \n",
    "print(min(cost_10[-1], cost_01[-1]))\n"
   ]
  },
  {
   "cell_type": "code",
   "execution_count": 32,
   "metadata": {},
   "outputs": [
    {
     "name": "stdout",
     "output_type": "stream",
     "text": [
      "12\n"
     ]
    }
   ],
   "source": [
    "s = '0111111'\n",
    "cost_01 = [0] * len(s)\n",
    "cost_10 = [0] * len(s)\n",
    "\n",
    "if s[0] == '0': # init the first term\n",
    "    cost_01[0] = 0\n",
    "else:\n",
    "    cost_01[0] = 1\n",
    "\n",
    "for i in range(1, len(s)):\n",
    "    # find the location\n",
    "    res = i % 2\n",
    "    if (s[i] == '1' and res == 1) or (s[i] == '0' and res == 0):  # compare with 01 seq\n",
    "        # using the previous 01 result\n",
    "        cost_01[i] = cost_01[i - 1]\n",
    "        # using the previous 10 + curr\n",
    "        cost_10[i] = cost_10[i - 1] + i + 1\n",
    "\n",
    "    else: \n",
    "        # using the previous 10 result\n",
    "        cost_10[i] = cost_10[i - 1]\n",
    "        # using the previous 01 + curr\n",
    "        cost_01[i] = cost_01[i - 1] + i + 1\n",
    "    \n",
    "print(min(cost_10[-1], cost_01[-1]))"
   ]
  },
  {
   "cell_type": "markdown",
   "metadata": {},
   "source": [
    "# Problem 3\n",
    "\n",
    "截取子串，类型不超过k\n",
    "\n",
    "肯定是要 scan 的，要看全局\n",
    "\n"
   ]
  },
  {
   "cell_type": "code",
   "execution_count": null,
   "metadata": {},
   "outputs": [],
   "source": [
    "n, k = input().split()\n",
    "n, k = int(n), int(k)\n",
    "s = input()"
   ]
  },
  {
   "cell_type": "code",
   "execution_count": 33,
   "metadata": {},
   "outputs": [
    {
     "ename": "TypeError",
     "evalue": "int() argument must be a string, a bytes-like object or a number, not 'list'",
     "output_type": "error",
     "traceback": [
      "\u001b[0;31m---------------------------------------------------------------------------\u001b[0m",
      "\u001b[0;31mTypeError\u001b[0m                                 Traceback (most recent call last)",
      "\u001b[1;32m/Users/dnhb/Desktop/leetcode/interview/携程.ipynb Cell 9'\u001b[0m in \u001b[0;36m<cell line: 1>\u001b[0;34m()\u001b[0m\n\u001b[0;32m----> <a href='vscode-notebook-cell:/Users/dnhb/Desktop/leetcode/interview/%E6%90%BA%E7%A8%8B.ipynb#ch0000014?line=0'>1</a>\u001b[0m \u001b[39mint\u001b[39;49m([\u001b[39m'\u001b[39;49m\u001b[39m1\u001b[39;49m\u001b[39m'\u001b[39;49m,\u001b[39m'\u001b[39;49m\u001b[39m2\u001b[39;49m\u001b[39m'\u001b[39;49m])\n",
      "\u001b[0;31mTypeError\u001b[0m: int() argument must be a string, a bytes-like object or a number, not 'list'"
     ]
    }
   ],
   "source": []
  },
  {
   "cell_type": "markdown",
   "metadata": {},
   "source": [
    "# Problem 4\n",
    "\n",
    "矩阵反转\n",
    "\n",
    "最笨的就是逐行操作了，比较聪明的是，记录操作次数，然后求余"
   ]
  },
  {
   "cell_type": "code",
   "execution_count": null,
   "metadata": {},
   "outputs": [],
   "source": [
    "n, m, q = map(int, input().split())\n",
    "matrix = [0] * n\n",
    "for i in range(n):\n",
    "    matrix[i] = list(input())\n",
    "operations = [0] * q\n",
    "for i in range(q):\n",
    "    x1, y1, x2, y2 = map(int, input().split())\n",
    "    operations[i] = ((x1 - 1, y1 - 1), (x2 - 1, y2 - 1))\n",
    "\n",
    "opt_cnt = [[0] * m] * n\n",
    "\n",
    "for opt in operations:\n",
    "    start, end = opt[0], opt[1]\n",
    "    for x in range(start[0], end[0] + 1):\n",
    "        for y in range(start[1], end[1] + 1):\n",
    "            opt_cnt[x][y] += 1\n",
    "    \n",
    "    \n",
    "for row in range(n):\n",
    "    for col in range(m):\n",
    "        if opt_cnt[row][col] % 2 == 1:\n",
    "            if matrix[row][col].isupper():\n",
    "                matrix[row][col] = matrix[row][col].lower()\n",
    "            else:\n",
    "                matrix[row][col] = matrix[row][col].upper()\n",
    "\n",
    "for row in range(n):\n",
    "    print(''.join(matrix[row]))"
   ]
  },
  {
   "cell_type": "code",
   "execution_count": 56,
   "metadata": {},
   "outputs": [
    {
     "name": "stdout",
     "output_type": "stream",
     "text": [
      "[[0, 0, 0], [0, 0, 0]]\n",
      "0 0 0\n",
      "[[1, 0, 0], [0, 0, 0]]\n",
      "0 1 0\n",
      "[[1, 1, 0], [0, 0, 0]]\n",
      "0 1 1\n",
      "[[1, 2, 0], [0, 0, 0]]\n",
      "0 2 0\n",
      "[[1, 2, 1], [0, 0, 0]]\n",
      "1 1 0\n",
      "[[1, 2, 1], [0, 1, 0]]\n",
      "1 2 0\n",
      "[[1, 2, 1], [0, 1, 1]]\n",
      "[[1, 2, 1], [0, 1, 1]]\n",
      "abC\n",
      "ACD\n"
     ]
    }
   ],
   "source": [
    "n, m, q = 2, 3, 2\n",
    "matrix = [list('Abc'), list('Acd')]\n",
    "operations = [((0,0), (0,1)), ((0,1),(1,2))]\n",
    "\n",
    "opt_cnt = [[0] * m for _ in range(n)]\n",
    "\n",
    "for opt in operations:\n",
    "    start, end = opt[0], opt[1]\n",
    "    for x in range(start[0], end[0] + 1):\n",
    "        for y in range(start[1], end[1] + 1):\n",
    "            print(x, y, opt_cnt[x][y])\n",
    "            opt_cnt[x][y] += 1\n",
    "            print(opt_cnt)\n",
    "\n",
    "print(opt_cnt)\n",
    "\n",
    "for row in range(n):\n",
    "    for col in range(m):\n",
    "        if opt_cnt[row][col] % 2 == 1:\n",
    "            if matrix[row][col].isupper():\n",
    "                matrix[row][col] = matrix[row][col].lower()\n",
    "            else:\n",
    "                matrix[row][col] = matrix[row][col].upper()\n",
    "\n",
    "for row in range(n):\n",
    "    print(''.join(matrix[row]))"
   ]
  }
 ],
 "metadata": {
  "interpreter": {
   "hash": "76a7b5324f028f295860f76a31df2338ff50596517c2606a79177bbdafd1d5be"
  },
  "kernelspec": {
   "display_name": "Python 3.7.11 ('leetcode')",
   "language": "python",
   "name": "python3"
  },
  "language_info": {
   "codemirror_mode": {
    "name": "ipython",
    "version": 3
   },
   "file_extension": ".py",
   "mimetype": "text/x-python",
   "name": "python",
   "nbconvert_exporter": "python",
   "pygments_lexer": "ipython3",
   "version": "3.9.9"
  },
  "orig_nbformat": 4
 },
 "nbformat": 4,
 "nbformat_minor": 2
}
