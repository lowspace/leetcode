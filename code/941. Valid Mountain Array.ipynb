{
 "cells": [
  {
   "cell_type": "markdown",
   "metadata": {},
   "source": [
    "# Problem\n",
    "\n",
    "Given an array of integers `arr`, return *`true` if and only if it is a valid mountain array*.\n",
    "\n",
    "Recall that arr is a mountain array if and only if:\n",
    "\n",
    "- `arr.length >= 3`\n",
    "\n",
    "- There exists some `i` with  `0 < i < arr.length - 1`\n",
    "  such that:\n",
    "\n",
    "  - `arr[0] < arr[1] < ... < arr[i - 1] < arr[i]`\n",
    "  - `arr[i] > arr[i + 1] > ... > arr[arr.length - 1]`\n",
    "\n",
    "![img](https://assets.leetcode.com/uploads/2019/10/20/hint_valid_mountain_array.png)\n",
    "\n",
    " \n",
    "\n",
    "**Example 1:**\n",
    "\n",
    "```\n",
    "Input: arr = [2,1]\n",
    "Output: false\n",
    "```\n",
    "\n",
    "**Example 2:**\n",
    "\n",
    "```\n",
    "Input: arr = [3,5,5]\n",
    "Output: false\n",
    "```\n",
    "\n",
    "**Example 3:**\n",
    "\n",
    "```\n",
    "Input: arr = [0,3,2,1]\n",
    "Output: true\n",
    "```\n",
    "\n",
    " \n",
    "\n",
    "**Constraints:**\n",
    "\n",
    "- `1 <= arr.length <= 104`\n",
    "- `0 <= arr[i] <= 104`"
   ]
  },
  {
   "cell_type": "markdown",
   "metadata": {},
   "source": [
    "# Summary"
   ]
  },
  {
   "cell_type": "markdown",
   "metadata": {},
   "source": [
    "# Problem Description \n",
    "\n",
    "An increasing sequence follows a decreasing sequence. Test such sequence."
   ]
  },
  {
   "cell_type": "markdown",
   "metadata": {},
   "source": [
    "# Methods"
   ]
  },
  {
   "cell_type": "markdown",
   "metadata": {},
   "source": [
    "## Method 1 Two Pointer\n",
    "\n",
    "Checking the array from the first and last element simultaneously.\n",
    "\n",
    "+ **Time Complexity**: \n",
    "\t+ Best case: $O(n/2)$\n",
    "\t+ Worst case: $O(n/2)$\n",
    "+ **Space Complexity**: $O(1)$"
   ]
  },
  {
   "cell_type": "code",
   "execution_count": null,
   "metadata": {},
   "outputs": [],
   "source": [
    "class Solution:\n",
    "    def validMountainArray(self, arr: List[int]) -> bool:\n",
    "        def increasing_checker(arr: List[int]) -> int:\n",
    "            '''\n",
    "            feed the raw array and the reversed array to this function,\n",
    "            if it returns the same int, this array is a mountain array; otherwise, not.\n",
    "            '''\n",
    "            for i in range(len(arr) - 1):\n",
    "                if arr[i] < arr[i+1]:\n",
    "                    continue\n",
    "                else:\n",
    "                    return i\n",
    "\n",
    "            return i\n",
    "\n",
    "        if len(arr) <= 2:\n",
    "            return False\n",
    "        elif increasing_checker(arr) == (len(arr) - 1 - increasing_checker(arr[::-1])):\n",
    "            return True\n",
    "        else:\n",
    "            return False"
   ]
  },
  {
   "cell_type": "markdown",
   "metadata": {},
   "source": [
    "## Method 2 Brute Force\n",
    "\n",
    "Check the array one by one."
   ]
  },
  {
   "cell_type": "code",
   "execution_count": null,
   "metadata": {},
   "outputs": [],
   "source": [
    "class Solution:\n",
    "    def validMountainArray(self, arr: List[int]) -> bool:\n",
    "        if len(arr) <= 2:\n",
    "            return False\n",
    "        \n",
    "        for i in range(len(arr) - 1):\n",
    "            if arr[i] >= arr[i+1]:\n",
    "                break\n",
    "        \n",
    "        if i == len(arr) - 1 or i == 0:\n",
    "            return False\n",
    "\n",
    "        for j in range(len(arr) - 1, i - 1, -1):\n",
    "            if arr[j] >= arr[j-1]:\n",
    "                break\n",
    "        \n",
    "        if i == j:\n",
    "            return True\n",
    "        else:\n",
    "            return False\n"
   ]
  },
  {
   "cell_type": "markdown",
   "metadata": {},
   "source": [
    "# Footnotes"
   ]
  },
  {
   "cell_type": "code",
   "execution_count": null,
   "metadata": {},
   "outputs": [],
   "source": [
    "# add the doc information to README \n",
    "from tools.setup import generate_row as g\n",
    "\n",
    "g()"
   ]
  }
 ],
 "metadata": {
  "hide_input": false,
  "kernelspec": {
   "display_name": "Python 3",
   "language": "python",
   "name": "python3"
  },
  "language_info": {
   "codemirror_mode": {
    "name": "ipython",
    "version": 3
   },
   "file_extension": ".py",
   "mimetype": "text/x-python",
   "name": "python",
   "nbconvert_exporter": "python",
   "pygments_lexer": "ipython3",
   "version": "3.7.11"
  },
  "latex_envs": {
   "LaTeX_envs_menu_present": true,
   "autoclose": false,
   "autocomplete": true,
   "bibliofile": "biblio.bib",
   "cite_by": "apalike",
   "current_citInitial": 1,
   "eqLabelWithNumbers": true,
   "eqNumInitial": 1,
   "hotkeys": {
    "equation": "Ctrl-E",
    "itemize": "Ctrl-I"
   },
   "labels_anchors": false,
   "latex_user_defs": false,
   "report_style_numbering": false,
   "user_envs_cfg": false
  },
  "toc": {
   "base_numbering": 1,
   "nav_menu": {},
   "number_sections": true,
   "sideBar": true,
   "skip_h1_title": false,
   "title_cell": "Table of Contents",
   "title_sidebar": "Contents",
   "toc_cell": false,
   "toc_position": {},
   "toc_section_display": true,
   "toc_window_display": false
  }
 },
 "nbformat": 4,
 "nbformat_minor": 4
}
