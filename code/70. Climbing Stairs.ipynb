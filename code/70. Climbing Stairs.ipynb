{
 "cells": [
  {
   "cell_type": "markdown",
   "id": "7e290b09",
   "metadata": {},
   "source": [
    "# Problem\n",
    "\n",
    "You are climbing a staircase. It takes `n` steps to reach the top.\n",
    "\n",
    "Each time you can either climb `1` or `2` steps. In how many distinct ways can you climb to the top?\n",
    "\n",
    "**Example 1:**\n",
    "```\n",
    "**Input:** n = 2\n",
    "**Output:** 2\n",
    "**Explanation:** There are two ways to climb to the top.\n",
    "1. 1 step + 1 step\n",
    "2. 2 steps\n",
    "```\n",
    "\n",
    "**Example 2:**\n",
    "```\n",
    "**Input:** n = 3\n",
    "**Output:** 3\n",
    "**Explanation:** There are three ways to climb to the top.\n",
    "1. 1 step + 1 step + 1 step\n",
    "2. 1 step + 2 steps\n",
    "3. 2 steps + 1 step\n",
    "```\n",
    "\n",
    "**Constraints:**\n",
    "\n",
    "* `1 <= n <= 45`\n",
    "\n"
   ]
  },
  {
   "cell_type": "markdown",
   "id": "45a63e22",
   "metadata": {},
   "source": [
    "# Summary\n",
    "\n"
   ]
  },
  {
   "cell_type": "markdown",
   "id": "8901a558",
   "metadata": {},
   "source": [
    "# Problem Description\n",
    "\n"
   ]
  },
  {
   "cell_type": "markdown",
   "id": "8f0243df",
   "metadata": {},
   "source": [
    "# Methods\n",
    "\n"
   ]
  },
  {
   "cell_type": "markdown",
   "id": "2ae8b592",
   "metadata": {},
   "source": [
    "## Method 1 Combination Method\n",
    "\n",
    "The idea is to find out how many 2 can be posed in the whole path.\n",
    "\n",
    "The total count may be $C_n^0 + C_{n - 1}^1 + C_{n - 2}^2 + ... + C_{n - cnt\\_2}^{cnt\\_2}$\n",
    "\n",
    "+ **Time Complexity**: \n",
    "\t+ Best case: $O(n/2)$\n",
    "\t+ Worst case: $O(n/2)$\n",
    "+ **Space Complexity**: $O(1)$"
   ]
  },
  {
   "cell_type": "code",
   "execution_count": null,
   "id": "4d76b218",
   "metadata": {},
   "outputs": [],
   "source": [
    "class Solution:\n",
    "    def climbStairs(self, n: int) -> int:\n",
    "        from math import comb\n",
    "\n",
    "        cnt_2 = n // 2\n",
    "        ans = 0\n",
    "        for i in range(cnt_2 + 1):\n",
    "            ans += comb(n - i, i)\n",
    "\n",
    "        return ans"
   ]
  },
  {
   "cell_type": "markdown",
   "id": "ebd377b8",
   "metadata": {},
   "source": [
    "# Footnotes\n",
    "\n"
   ]
  },
  {
   "cell_type": "code",
   "execution_count": null,
   "id": "6da33f56",
   "metadata": {},
   "outputs": [],
   "source": [
    "# add the doc information to README \n",
    "from tools.setup import generate_row as g\n",
    "\n",
    "g()"
   ]
  }
 ],
 "metadata": {
  "interpreter": {
   "hash": "76a7b5324f028f295860f76a31df2338ff50596517c2606a79177bbdafd1d5be"
  },
  "kernelspec": {
   "display_name": "Python 3.7.11 ('leetcode')",
   "language": "python",
   "name": "python3"
  },
  "language_info": {
   "name": "python",
   "version": "3.7.11"
  }
 },
 "nbformat": 4,
 "nbformat_minor": 5
}
