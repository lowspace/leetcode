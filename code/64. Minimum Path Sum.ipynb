{
 "cells": [
  {
   "cell_type": "markdown",
   "id": "e77bf019",
   "metadata": {},
   "source": [
    "# Problem\n",
    "\n",
    "Given a `m x n` `grid` filled with non-negative numbers, find a path from top left to bottom right, which minimizes the sum of all numbers along its path.\n",
    "\n",
    "**Note:** You can only move either down or right at any point in time.\n",
    "\n",
    "**Example 1:**\n",
    "\n",
    "![](https://assets.leetcode.com/uploads/2020/11/05/minpath.jpg)\n",
    "```\n",
    "**Input:** grid = [[1,3,1],[1,5,1],[4,2,1]]\n",
    "**Output:** 7\n",
    "**Explanation:** Because the path 1 → 3 → 1 → 1 → 1 minimizes the sum.\n",
    "```\n",
    "\n",
    "**Example 2:**\n",
    "```\n",
    "**Input:** grid = [[1,2,3],[4,5,6]]\n",
    "**Output:** 12\n",
    "```\n",
    "\n",
    "**Constraints:**\n",
    "\n",
    "* `m == grid.length`\n",
    "* `n == grid[i].length`\n",
    "* `1 <= m, n <= 200`\n",
    "* `0 <= grid[i][j] <= 100`\n",
    "\n"
   ]
  },
  {
   "cell_type": "markdown",
   "id": "cf6d0f6b",
   "metadata": {},
   "source": [
    "# Summary\n",
    "\n",
    "In a 2D list, the first `[]` represents the y-axis and the second `[]` represents the x-axis, which can be interpreted as the first element of the 2D list is the first row (y = 0), and so on.\n",
    "\n",
    "Recursive method wastes many function calls during compute the final answer, thus iterative method is more cost-efficiency."
   ]
  },
  {
   "cell_type": "markdown",
   "id": "65540239",
   "metadata": {},
   "source": [
    "# Problem Description\n",
    "\n",
    "The problem has a fixed path length, which is *m + n*, thus the problem is to find the minimum cost path from [0,0] to [m - 1, n - 1].\n",
    "\n",
    "Recursive + DP is the tune of the problem. \n",
    "\n",
    "S(m, n) = min(S(m - 1, n), S(m, n - 1))\n",
    "\n",
    "However, recursive style is not friendly to the function call (waste too many calls). How to write an iterative style code?\n"
   ]
  },
  {
   "cell_type": "markdown",
   "id": "f67d7bfd",
   "metadata": {},
   "source": [
    "# Methods\n",
    "\n"
   ]
  },
  {
   "cell_type": "markdown",
   "id": "a958bbe1",
   "metadata": {},
   "source": [
    "## Method 1 Recursive Method\n"
   ]
  },
  {
   "cell_type": "markdown",
   "id": "31b4336f",
   "metadata": {},
   "source": [
    "Version 1 Naive Recursive without memory [TLE]\n",
    "\n",
    "+ **Time Complexity**: \n",
    "\t+ Best case: $O(2^m)$\n",
    "\t+ Worst case: $O(2^m)$\n",
    "+ **Space Complexity**: $O(1)$"
   ]
  },
  {
   "cell_type": "code",
   "execution_count": null,
   "id": "441f7894",
   "metadata": {},
   "outputs": [],
   "source": [
    "class Solution:\n",
    "    def minPathSum(self, grid: List[List[int]]) -> int:\n",
    "\n",
    "        def cost(m: int, n: int) -> int:\n",
    "            \"\"\"\n",
    "            :m: the x-axis\n",
    "            :n: the y-axis\n",
    "            :output: the cost at [m, n]\n",
    "            \"\"\"\n",
    "\n",
    "            if m == 0 and n == 0:\n",
    "                return grid[m][n]\n",
    "            elif m == 0:\n",
    "                return grid[m][n] + cost(m, n - 1)\n",
    "            elif n == 0:\n",
    "                return grid[m][n] + cost(m - 1, n)\n",
    "            else:\n",
    "                return min(cost(m - 1, n), cost(m, n - 1)) + grid[m][n]\n",
    "        \n",
    "        return cost(len(grid) - 1, len(grid[0]) - 1)"
   ]
  },
  {
   "cell_type": "markdown",
   "id": "3e22610c",
   "metadata": {},
   "source": [
    "Version 2 Recursive + DP\n",
    "\n",
    "+ **Time Complexity**: \n",
    "\t+ Best case: $O(m * n)$\n",
    "\t+ Worst case: $O(m * n)$\n",
    "+ **Space Complexity**: $O(m * n)$"
   ]
  },
  {
   "cell_type": "code",
   "execution_count": null,
   "id": "75fda548",
   "metadata": {},
   "outputs": [],
   "source": [
    "class Solution:\n",
    "    def minPathSum(self, grid: List[List[int]]) -> int:\n",
    "\n",
    "        m, n = len(grid), len(grid[0])\n",
    "        cost_grid = [[None] * n for _ in range(m)]\n",
    "\n",
    "        def cost(m: int, n: int) -> int:\n",
    "            \"\"\"\n",
    "            :m: the y-axis\n",
    "            :n: the x-axis\n",
    "            :output: the cost at [m, n]\n",
    "            \"\"\"\n",
    "\n",
    "            if cost_grid[m][n] != None:\n",
    "                return cost_grid[m][n]\n",
    "\n",
    "            if m == 0 and n == 0:\n",
    "                cost_grid[m][n] = grid[m][n]\n",
    "                return cost_grid[m][n]\n",
    "            elif m == 0:\n",
    "                cost_grid[m][n] = grid[m][n] + cost(m, n - 1)\n",
    "                return cost_grid[m][n]\n",
    "            elif n == 0:\n",
    "                cost_grid[m][n] = grid[m][n] + cost(m - 1, n)\n",
    "                return cost_grid[m][n]\n",
    "            else:\n",
    "                cost_grid[m][n] = min(cost(m - 1, n), cost(m, n - 1)) + grid[m][n]\n",
    "                return cost_grid[m][n]\n",
    "        \n",
    "        return cost(m - 1, n - 1)"
   ]
  },
  {
   "cell_type": "markdown",
   "id": "d3b712fa",
   "metadata": {},
   "source": [
    "## Method 2 Iterative Method\n",
    "\n",
    "+ **Time Complexity**: \n",
    "\t+ Best case: $O(m * n)$\n",
    "\t+ Worst case: $O(m * n()$\n",
    "+ **Space Complexity**: $O(m * n)$"
   ]
  },
  {
   "cell_type": "code",
   "execution_count": null,
   "id": "0a7e34c1",
   "metadata": {},
   "outputs": [],
   "source": [
    "class Solution:\n",
    "    def minPathSum(self, grid: List[List[int]]) -> int:\n",
    "\n",
    "        m, n = len(grid[0]), len(grid)\n",
    "\n",
    "        cost_grid = [[0] * m for _ in range(n)]\n",
    "        cost_grid[0][0] = grid[0][0]\n",
    "\n",
    "        # boundary condition\n",
    "        for i in range(1, m):\n",
    "            cost_grid[0][i] = cost_grid[0][i - 1] +  grid[0][i]\n",
    "        \n",
    "        for i in range(1, n):\n",
    "            cost_grid[i][0] = cost_grid[i - 1][0] +  grid[i][0]\n",
    "\n",
    "        for i in range(1, n): # y-axis\n",
    "            for j in range(1, m): # x-axis\n",
    "                cost_grid[i][j] = min(cost_grid[i - 1][j], cost_grid[i][j - 1]) + grid[i][j]\n",
    "\n",
    "        return cost_grid[n - 1][m - 1]"
   ]
  },
  {
   "cell_type": "markdown",
   "id": "81b534b4",
   "metadata": {},
   "source": [
    "# Footnotes\n",
    "\n"
   ]
  },
  {
   "cell_type": "code",
   "execution_count": 6,
   "id": "368083f5",
   "metadata": {},
   "outputs": [],
   "source": [
    "# add the doc information to README \n",
    "from tools.setup import generate_row as g\n",
    "\n",
    "g()"
   ]
  }
 ],
 "metadata": {
  "interpreter": {
   "hash": "76a7b5324f028f295860f76a31df2338ff50596517c2606a79177bbdafd1d5be"
  },
  "kernelspec": {
   "display_name": "Python 3.7.11 ('leetcode')",
   "language": "python",
   "name": "python3"
  },
  "language_info": {
   "codemirror_mode": {
    "name": "ipython",
    "version": 3
   },
   "file_extension": ".py",
   "mimetype": "text/x-python",
   "name": "python",
   "nbconvert_exporter": "python",
   "pygments_lexer": "ipython3",
   "version": "3.7.11"
  }
 },
 "nbformat": 4,
 "nbformat_minor": 5
}
