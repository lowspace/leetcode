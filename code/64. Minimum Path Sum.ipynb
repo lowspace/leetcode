{
 "cells": [
  {
   "cell_type": "markdown",
   "id": "e77bf019",
   "metadata": {},
   "source": [
    "# Problem\n",
    "\n",
    "Given a `m x n` `grid` filled with non-negative numbers, find a path from top left to bottom right, which minimizes the sum of all numbers along its path.\n",
    "\n",
    "**Note:** You can only move either down or right at any point in time.\n",
    "\n",
    "**Example 1:**\n",
    "\n",
    "![](https://assets.leetcode.com/uploads/2020/11/05/minpath.jpg)\n",
    "```\n",
    "**Input:** grid = [[1,3,1],[1,5,1],[4,2,1]]\n",
    "**Output:** 7\n",
    "**Explanation:** Because the path 1 → 3 → 1 → 1 → 1 minimizes the sum.\n",
    "```\n",
    "\n",
    "**Example 2:**\n",
    "```\n",
    "**Input:** grid = [[1,2,3],[4,5,6]]\n",
    "**Output:** 12\n",
    "```\n",
    "\n",
    "**Constraints:**\n",
    "\n",
    "* `m == grid.length`\n",
    "* `n == grid[i].length`\n",
    "* `1 <= m, n <= 200`\n",
    "* `0 <= grid[i][j] <= 100`\n",
    "\n"
   ]
  },
  {
   "cell_type": "markdown",
   "id": "cf6d0f6b",
   "metadata": {},
   "source": [
    "# Summary\n",
    "\n"
   ]
  },
  {
   "cell_type": "markdown",
   "id": "65540239",
   "metadata": {},
   "source": [
    "# Problem Description\n",
    "\n"
   ]
  },
  {
   "cell_type": "markdown",
   "id": "f67d7bfd",
   "metadata": {},
   "source": [
    "# Methods\n",
    "\n"
   ]
  },
  {
   "cell_type": "markdown",
   "id": "a958bbe1",
   "metadata": {},
   "source": [
    "## Method 1\n",
    "\n"
   ]
  },
  {
   "cell_type": "code",
   "execution_count": null,
   "id": "441f7894",
   "metadata": {},
   "outputs": [],
   "source": []
  },
  {
   "cell_type": "markdown",
   "id": "81b534b4",
   "metadata": {},
   "source": [
    "# Footnotes\n",
    "\n"
   ]
  },
  {
   "cell_type": "code",
   "execution_count": null,
   "id": "368083f5",
   "metadata": {},
   "outputs": [],
   "source": [
    "# add the doc information to README \n",
    "from tools.setup import generate_row as g\n",
    "\n",
    "g()"
   ]
  }
 ],
 "metadata": {},
 "nbformat": 4,
 "nbformat_minor": 5
}
