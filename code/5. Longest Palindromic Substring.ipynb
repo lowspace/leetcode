{
 "cells": [
  {
   "cell_type": "markdown",
   "id": "c43732de",
   "metadata": {},
   "source": [
    "# Problem\n",
    "\n",
    "Given a string `s`, return *the longest palindromic substring* in `s`.\n",
    "\n",
    "**Example 1:**\n",
    "```\n",
    "**Input:** s = \"babad\"\n",
    "**Output:** \"bab\"\n",
    "**Explanation:** \"aba\" is also a valid answer.\n",
    "```\n",
    "\n",
    "**Example 2:**\n",
    "```\n",
    "**Input:** s = \"cbbd\"\n",
    "**Output:** \"bb\"\n",
    "```\n",
    "\n",
    "**Constraints:**\n",
    "\n",
    "* `1 <= s.length <= 1000`\n",
    "* `s` consist of only digits and English letters.\n",
    "\n"
   ]
  },
  {
   "cell_type": "markdown",
   "id": "58197076",
   "metadata": {},
   "source": [
    "# Summary\n",
    "\n"
   ]
  },
  {
   "cell_type": "markdown",
   "id": "009f5753",
   "metadata": {},
   "source": [
    "# Problem Description\n",
    "\n"
   ]
  },
  {
   "cell_type": "markdown",
   "id": "ae8e3a8f",
   "metadata": {},
   "source": [
    "# Methods\n",
    "\n"
   ]
  },
  {
   "cell_type": "markdown",
   "id": "dfc1ce39",
   "metadata": {},
   "source": [
    "## Method 1 Expand Around Center\n",
    "\n",
    "+ **Time Complexity**: \n",
    "\t+ Best case: $O(n^2)$\n",
    "\t+ Worst case: $O(n^2)$\n",
    "+ **Space Complexity**: $O(1)$\n",
    "\n",
    "Idea: set each element as the symmetric center, and map find the longest palindromic via this center."
   ]
  },
  {
   "cell_type": "markdown",
   "id": "cda4c740",
   "metadata": {},
   "source": [
    "Version 1 Naive [TLE]\n",
    "\n",
    "This method works and it works well, but why my code is TLE."
   ]
  },
  {
   "cell_type": "code",
   "execution_count": null,
   "id": "558c8dea",
   "metadata": {},
   "outputs": [],
   "source": [
    "class Solution:\n",
    "    def longestPalindrome(self, s: str) -> str:\n",
    "        # two situation:\n",
    "        # the symmetry axis = the element it self\n",
    "        # the line before the element\n",
    "        \n",
    "        ans = ''\n",
    "        \n",
    "        for i in range(len(s)):\n",
    "            # symmetric axis = itself\n",
    "            j = min(i, len(s) - i - 1)\n",
    "            while j >= 0:\n",
    "                temp = s[i-j:i+j+1]\n",
    "                if 2 * j + 1 > len(ans) and temp == temp[::-1]:\n",
    "                    ans = temp\n",
    "                j -= 1\n",
    "            j = min(i, len(s) - i)\n",
    "            while j >= 0:\n",
    "                temp = s[i-j:i+j]\n",
    "                if 2 * j > len(ans) and temp == temp[::-1]:\n",
    "                    ans = temp\n",
    "                j -= 1\n",
    "            \n",
    "        return ans"
   ]
  },
  {
   "cell_type": "code",
   "execution_count": null,
   "id": "9131bae2",
   "metadata": {},
   "outputs": [],
   "source": []
  },
  {
   "cell_type": "markdown",
   "id": "6ee58a27",
   "metadata": {},
   "source": [
    "# Footnotes\n",
    "\n"
   ]
  },
  {
   "cell_type": "code",
   "execution_count": null,
   "id": "6349dd9a",
   "metadata": {},
   "outputs": [],
   "source": [
    "# add the doc information to README \n",
    "from tools.setup import generate_row as g\n",
    "\n",
    "g()"
   ]
  }
 ],
 "metadata": {
  "interpreter": {
   "hash": "76a7b5324f028f295860f76a31df2338ff50596517c2606a79177bbdafd1d5be"
  },
  "kernelspec": {
   "display_name": "Python 3.7.11 ('leetcode')",
   "language": "python",
   "name": "python3"
  },
  "language_info": {
   "name": "python",
   "version": "3.7.11"
  }
 },
 "nbformat": 4,
 "nbformat_minor": 5
}
