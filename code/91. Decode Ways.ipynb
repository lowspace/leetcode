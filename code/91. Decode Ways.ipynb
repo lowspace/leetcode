{
 "cells": [
  {
   "cell_type": "markdown",
   "id": "18dcefeb",
   "metadata": {},
   "source": [
    "# Problem\n",
    "\n",
    "A message containing letters from `A-Z` can be **encoded** into numbers using the following mapping:\n",
    "```\n",
    "\n",
    "'A' -> \"1\"\n",
    "'B' -> \"2\"\n",
    "...\n",
    "'Z' -> \"26\"\n",
    "```\n",
    "\n",
    "To **decode** an encoded message, all the digits must be grouped then mapped back into letters using the reverse of the mapping above (there may be multiple ways). For example, `\"11106\"` can be mapped into:\n",
    "\n",
    "* `\"AAJF\"` with the grouping `(1 1 10 6)`\n",
    "* `\"KJF\"` with the grouping `(11 10 6)`\n",
    "\n",
    "Note that the grouping `(1 11 06)` is invalid because `\"06\"` cannot be mapped into `'F'` since `\"6\"` is different from `\"06\"`.\n",
    "\n",
    "Given a string `s` containing only digits, return *the **number** of ways to **decode** it*.\n",
    "\n",
    "The test cases are generated so that the answer fits in a **32-bit** integer.\n",
    "\n",
    "**Example 1:**\n",
    "```\n",
    "**Input:** s = \"12\"\n",
    "**Output:** 2\n",
    "**Explanation:** \"12\" could be decoded as \"AB\" (1 2) or \"L\" (12).\n",
    "```\n",
    "\n",
    "**Example 2:**\n",
    "```\n",
    "**Input:** s = \"226\"\n",
    "**Output:** 3\n",
    "**Explanation:** \"226\" could be decoded as \"BZ\" (2 26), \"VF\" (22 6), or \"BBF\" (2 2 6).\n",
    "```\n",
    "\n",
    "**Example 3:**\n",
    "```\n",
    "**Input:** s = \"06\"\n",
    "**Output:** 0\n",
    "**Explanation:** \"06\" cannot be mapped to \"F\" because of the leading zero (\"6\" is different from \"06\").\n",
    "```\n",
    "\n",
    "**Constraints:**\n",
    "\n",
    "* `1 <= s.length <= 100`\n",
    "* `s` contains only digits and may contain leading zero(s).\n",
    "\n"
   ]
  },
  {
   "cell_type": "markdown",
   "id": "0a1397f3",
   "metadata": {},
   "source": [
    "# Summary\n",
    "\n"
   ]
  },
  {
   "cell_type": "markdown",
   "id": "86c8df94",
   "metadata": {},
   "source": [
    "# Problem Description\n",
    "\n",
    "Classical DP problem.\n",
    "\n",
    "This problem can be modelled as F(n) = F(n - 1) + F(n - 2) if the two are valid.\n"
   ]
  },
  {
   "cell_type": "markdown",
   "id": "b1be928a",
   "metadata": {},
   "source": [
    "# Methods \n",
    "\n"
   ]
  },
  {
   "cell_type": "markdown",
   "id": "22f08859",
   "metadata": {},
   "source": [
    "## Method 1 DP\n",
    "\n",
    "+ **Time Complexity**: \n",
    "\t+ Best case: $O()$\n",
    "\t+ Worst case: $O()$\n",
    "+ **Space Complexity**: $O()$\n",
    "\n",
    "F(n) = F(n - 1) + F(n - 2)\n",
    "\n",
    "~~F(n - 1) doesn't need to check, since the *n* doesn't affect the results. If *n*th is 0, F(n - 1) will not change; if it is not 0, F(n - 1) would not change either.~~\n",
    "\n",
    "~~F(n - 2) checks the next two elements, since the encoded int should be not greater than 26. If the number is greater than 26.~~\n",
    "\n",
    "This problem is pretty similar to the *climbing stairs* problem, since they all want to know how to arrive at the final position while this problem poses two conditions when group the adjacent elements.\n",
    "\n",
    "+ the grouped integer should not greater than 26;\n",
    "+ leading zero is not allowed as a grouped integer, such as `07`.\n",
    "\n",
    "If it meets the condition 1, we have to divide the grouped integer as two independent integers. This may lead to duplication?\n",
    "\n",
    "|a|B|C|d or |aB|C|d if aB > 26 => |a|B|C|d => same as the n - 2"
   ]
  },
  {
   "cell_type": "markdown",
   "id": "146fc08a",
   "metadata": {},
   "source": []
  },
  {
   "cell_type": "code",
   "execution_count": null,
   "id": "bf4ebe17",
   "metadata": {},
   "outputs": [],
   "source": [
    "class Solution:\n",
    "    def numDecodings(self, s: str) -> int:\n",
    "        ans = [0, None]\n",
    "\n",
    "        if s[0] == '0':\n",
    "            ans[1] = 0\n",
    "        else:\n",
    "            ans[1] = 1\n",
    "\n",
    "        for i in range(1, len(s)):\n",
    "            if int(s[i - 1 : i + 1]) <= 26:\n",
    "                if s[i] != '0':\n",
    "                    ans[0], ans[1] = ans[1], ans[0] + ans[1]\n",
    "                else:\n",
    "                    ans[0], ans[1] = ans[1], ans[1]\n",
    "            else:\n",
    "                ans[0], ans[1] = ans[]"
   ]
  },
  {
   "cell_type": "markdown",
   "id": "04ae252a",
   "metadata": {},
   "source": [
    "# Footnotes\n",
    "\n"
   ]
  },
  {
   "cell_type": "code",
   "execution_count": null,
   "id": "6159e80c",
   "metadata": {},
   "outputs": [],
   "source": [
    "# add the doc information to README \n",
    "from tools.setup import generate_row as g\n",
    "\n",
    "g()"
   ]
  }
 ],
 "metadata": {
  "language_info": {
   "name": "python"
  }
 },
 "nbformat": 4,
 "nbformat_minor": 5
}
