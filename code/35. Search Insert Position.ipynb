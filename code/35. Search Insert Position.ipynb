{
 "cells": [
  {
   "cell_type": "markdown",
   "source": [
    "# Problem\n",
    "\n",
    "Given a sorted array of distinct integers and a target value, return the index if the target is found. If not, return the index where it would be if it were inserted in order.\n",
    "\n",
    "You must write an algorithm with `O(log n)` runtime complexity.\n",
    "\n",
    " \n",
    "\n",
    "**Example 1:**\n",
    "\n",
    "```\n",
    "Input: nums = [1,3,5,6], target = 5\n",
    "Output: 2\n",
    "```\n",
    "\n",
    "**Example 2:**\n",
    "\n",
    "```\n",
    "Input: nums = [1,3,5,6], target = 2\n",
    "Output: 1\n",
    "```\n",
    "\n",
    "**Example 3:**\n",
    "\n",
    "```\n",
    "Input: nums = [1,3,5,6], target = 7\n",
    "Output: 4\n",
    "```\n",
    "\n",
    "**Example 4:**\n",
    "\n",
    "```\n",
    "Input: nums = [1,3,5,6], target = 0\n",
    "Output: 0\n",
    "```\n",
    "\n",
    "**Example 5:**\n",
    "\n",
    "```\n",
    "Input: nums = [1], target = 0\n",
    "Output: 0\n",
    "```\n",
    "\n",
    " \n",
    "\n",
    "**Constraints:**\n",
    "\n",
    "- `1 <= nums.length <=` $10^4$\n",
    "- -$10^4$ `<= nums[i] <=` $10^4$\n",
    "- `nums` contains **distinct** values sorted in **ascending** order.\n",
    "- -$10^4$ `<= target <=` $10^4$"
   ],
   "metadata": {}
  },
  {
   "cell_type": "markdown",
   "source": [
    "# Summary"
   ],
   "metadata": {}
  },
  {
   "cell_type": "markdown",
   "source": [
    "# Methods"
   ],
   "metadata": {}
  },
  {
   "cell_type": "markdown",
   "source": [
    "## Method 1\n",
    "\n",
    "Searching the list one by one has the time complexity $O(n)$, which doesn't meet the requirements."
   ],
   "metadata": {}
  },
  {
   "cell_type": "code",
   "execution_count": null,
   "source": [
    "class Solution:\n",
    "    def searchInsert(self, nums: List[int], target: int) -> int:\n",
    "        assert 1 <= len(nums) <= 10000, \"The length of nums should in [1, 10000].\"\n",
    "        assert -10000 <= target <= 10000, \"The target value should in [-10000, 10000].\"\n",
    "\n",
    "        for i in range(len(nums)):\n",
    "            assert -10000 <= nums[i] <= 10000, \"The element value in the list should in [-10000, 10000].\" \n",
    "            if nums[i] >= target:\n",
    "                return i\n",
    "        # at the last position\n",
    "        return i+1"
   ],
   "outputs": [],
   "metadata": {}
  },
  {
   "cell_type": "markdown",
   "source": [
    "## Method 2\n",
    "\n",
    "Binary search."
   ],
   "metadata": {}
  },
  {
   "cell_type": "code",
   "execution_count": null,
   "source": [
    "class Solution:\n",
    "    def searchInsert(self, nums: List[int], target: int) -> int:\n",
    "        assert 1 <= len(nums) <= 10000, \"The length of nums should in [1, 10000].\"\n",
    "        assert -10000 <= target <= 10000, \"The target value should in [-10000, 10000].\"\n",
    "\n",
    "        def binary_search(nums: List[int], l, r, target: int) -> int:\n",
    "\n",
    "            # check the base\n",
    "            if r >= 1:\n",
    "                mid = 1 + (r - 1) // 2\n",
    "\n",
    "                if nums[mid] == target:\n",
    "                    return mid\n",
    "                elif nums[mid] < target:\n",
    "                    binary_search(nums, mid, r, target)\n",
    "                else:\n",
    "                    binary_search(nums, l, mid, target)\n",
    "\n",
    "            else:\n",
    "                return 0\n",
    "\n",
    "        "
   ],
   "outputs": [],
   "metadata": {}
  }
 ],
 "metadata": {
  "hide_input": false,
  "kernelspec": {
   "display_name": "Python 3",
   "language": "python",
   "name": "python3"
  },
  "language_info": {
   "codemirror_mode": {
    "name": "ipython",
    "version": 3
   },
   "file_extension": ".py",
   "mimetype": "text/x-python",
   "name": "python",
   "nbconvert_exporter": "python",
   "pygments_lexer": "ipython3",
   "version": "3.7.10"
  },
  "latex_envs": {
   "LaTeX_envs_menu_present": true,
   "autoclose": false,
   "autocomplete": true,
   "bibliofile": "biblio.bib",
   "cite_by": "apalike",
   "current_citInitial": 1,
   "eqLabelWithNumbers": true,
   "eqNumInitial": 1,
   "hotkeys": {
    "equation": "Ctrl-E",
    "itemize": "Ctrl-I"
   },
   "labels_anchors": false,
   "latex_user_defs": false,
   "report_style_numbering": false,
   "user_envs_cfg": false
  },
  "toc": {
   "base_numbering": 1,
   "nav_menu": {},
   "number_sections": true,
   "sideBar": true,
   "skip_h1_title": false,
   "title_cell": "Table of Contents",
   "title_sidebar": "Contents",
   "toc_cell": false,
   "toc_position": {},
   "toc_section_display": true,
   "toc_window_display": false
  }
 },
 "nbformat": 4,
 "nbformat_minor": 4
}