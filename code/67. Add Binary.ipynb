{
 "cells": [
  {
   "cell_type": "code",
   "execution_count": null,
   "source": [],
   "outputs": [],
   "metadata": {}
  },
  {
   "cell_type": "markdown",
   "source": [
    "# Problem\n",
    "\n",
    "Given two binary strings `a` and `b`, return *their sum as a binary string*.\n",
    "\n",
    " \n",
    "\n",
    "**Example 1:**\n",
    "\n",
    "```\n",
    "Input: a = \"11\", b = \"1\"\n",
    "Output: \"100\"\n",
    "```\n",
    "\n",
    "**Example 2:**\n",
    "\n",
    "```\n",
    "Input: a = \"1010\", b = \"1011\"\n",
    "Output: \"10101\"\n",
    "```\n",
    "\n",
    " \n",
    "\n",
    "**Constraints:**\n",
    "\n",
    "- `1 <= a.length, b.length <=` $10^4$\n",
    "- `a` and `b` consist only of `'0'` or `'1'` characters.\n",
    "- Each string does not contain leading zeros except for the zero itself."
   ],
   "metadata": {}
  },
  {
   "cell_type": "markdown",
   "source": [
    "# Summary"
   ],
   "metadata": {}
  },
  {
   "cell_type": "markdown",
   "source": [
    "# Methods"
   ],
   "metadata": {}
  },
  {
   "cell_type": "markdown",
   "source": [
    "## Method 1"
   ],
   "metadata": {}
  },
  {
   "cell_type": "code",
   "execution_count": null,
   "source": [
    "class Solution:\n",
    "    def addBinary(self, a: str, b: str) -> str:"
   ],
   "outputs": [],
   "metadata": {}
  },
  {
   "cell_type": "code",
   "execution_count": 41,
   "source": [
    "def addBinary(a: str, b: str) -> str:\n",
    "    assert 1 <= len(a) <= 10 ** 4, 'The length of a should in [1, 10000].'\n",
    "    assert 1 <= len(b) <= 10 ** 4, 'The length of b should in [1, 10000].'\n",
    "\n",
    "    # pad the shorter string with 0\n",
    "    if len(a) < len(b):\n",
    "        a = '0' * (len(b) - len(a)) + a\n",
    "    elif len(a) > len(b):\n",
    "        b = '0' * (len(a) - len(b)) + b\n",
    "\n",
    "    a = a[::-1]\n",
    "    b = b[::-1]\n",
    "    s = 0\n",
    "    for i in range(len(a)):\n",
    "        if a[i] == '1':\n",
    "            s += 2 ** i\n",
    "        if b[i] == '1':\n",
    "            s += 2 ** i\n",
    "        \n",
    "    i_s = ''\n",
    "    for i in range(len(a), -1, -1):\n",
    "        if s // 2 ** i == 1:\n",
    "            i_s += '1'\n",
    "            s -= 2 ** i\n",
    "        else:\n",
    "            i_s += '0'\n",
    "\n",
    "    if i_s.startswith('0'):\n",
    "        i_s = i_s[1:]\n",
    "    \n",
    "    return i_s"
   ],
   "outputs": [],
   "metadata": {}
  },
  {
   "cell_type": "code",
   "execution_count": 42,
   "source": [
    "addBinary('00110', '10001')"
   ],
   "outputs": [
    {
     "output_type": "execute_result",
     "data": {
      "text/plain": [
       "'10111'"
      ]
     },
     "metadata": {},
     "execution_count": 42
    }
   ],
   "metadata": {}
  },
  {
   "cell_type": "code",
   "execution_count": 43,
   "source": [
    "addBinary('10111', '11001')"
   ],
   "outputs": [
    {
     "output_type": "execute_result",
     "data": {
      "text/plain": [
       "'110000'"
      ]
     },
     "metadata": {},
     "execution_count": 43
    }
   ],
   "metadata": {}
  },
  {
   "cell_type": "code",
   "execution_count": 45,
   "source": [
    "addBinary('10001', '01011')"
   ],
   "outputs": [
    {
     "output_type": "execute_result",
     "data": {
      "text/plain": [
       "'11100'"
      ]
     },
     "metadata": {},
     "execution_count": 45
    }
   ],
   "metadata": {}
  },
  {
   "cell_type": "code",
   "execution_count": 48,
   "source": [
    "3 ^ 3 ^ 4"
   ],
   "outputs": [
    {
     "output_type": "execute_result",
     "data": {
      "text/plain": [
       "4"
      ]
     },
     "metadata": {},
     "execution_count": 48
    }
   ],
   "metadata": {}
  }
 ],
 "metadata": {
  "hide_input": false,
  "kernelspec": {
   "name": "python3",
   "display_name": "Python 3.7.11 64-bit ('leetcode': conda)"
  },
  "language_info": {
   "codemirror_mode": {
    "name": "ipython",
    "version": 3
   },
   "file_extension": ".py",
   "mimetype": "text/x-python",
   "name": "python",
   "nbconvert_exporter": "python",
   "pygments_lexer": "ipython3",
   "version": "3.7.11"
  },
  "latex_envs": {
   "LaTeX_envs_menu_present": true,
   "autoclose": false,
   "autocomplete": true,
   "bibliofile": "biblio.bib",
   "cite_by": "apalike",
   "current_citInitial": 1,
   "eqLabelWithNumbers": true,
   "eqNumInitial": 1,
   "hotkeys": {
    "equation": "Ctrl-E",
    "itemize": "Ctrl-I"
   },
   "labels_anchors": false,
   "latex_user_defs": false,
   "report_style_numbering": false,
   "user_envs_cfg": false
  },
  "toc": {
   "base_numbering": 1,
   "nav_menu": {},
   "number_sections": true,
   "sideBar": true,
   "skip_h1_title": false,
   "title_cell": "Table of Contents",
   "title_sidebar": "Contents",
   "toc_cell": false,
   "toc_position": {},
   "toc_section_display": true,
   "toc_window_display": false
  },
  "interpreter": {
   "hash": "2f96a6611f6544233df15d5f6a8a08a40aa02f57bca46a950ae6ed4bd6cd3b20"
  }
 },
 "nbformat": 4,
 "nbformat_minor": 4
}