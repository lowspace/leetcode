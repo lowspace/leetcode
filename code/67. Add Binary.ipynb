{
 "cells": [
  {
   "cell_type": "markdown",
   "source": [
    "# Problem\n",
    "\n",
    "Given two binary strings `a` and `b`, return *their sum as a binary string*.\n",
    "\n",
    " \n",
    "\n",
    "**Example 1:**\n",
    "\n",
    "```\n",
    "Input: a = \"11\", b = \"1\"\n",
    "Output: \"100\"\n",
    "```\n",
    "\n",
    "**Example 2:**\n",
    "\n",
    "```\n",
    "Input: a = \"1010\", b = \"1011\"\n",
    "Output: \"10101\"\n",
    "```\n",
    "\n",
    " \n",
    "\n",
    "**Constraints:**\n",
    "\n",
    "- `1 <= a.length, b.length <=` $10^4$\n",
    "- `a` and `b` consist only of `'0'` or `'1'` characters.\n",
    "- Each string does not contain leading zeros except for the zero itself."
   ],
   "metadata": {}
  },
  {
   "cell_type": "markdown",
   "source": [
    "# Summary\n",
    "\n",
    "Watch out the index while slicing the list:\n",
    "\n",
    "+ Obtain one element in the list. The index should from `0` to `len(l) - 1`.\n",
    "+ Obtain a sub list. \n",
    "\n",
    "    + `[:]` = the whole list; \n",
    "    + `[n:]` = from `n`th element to the last element;\n",
    "    + `[n:m]` = from `n`th element to the `m-1`th element;\n",
    "    + `[:m]` = from the first element to the `m-1`th element."
   ],
   "metadata": {}
  },
  {
   "cell_type": "markdown",
   "source": [
    "# Methods"
   ],
   "metadata": {}
  },
  {
   "cell_type": "markdown",
   "source": [
    "## Method 1\n",
    "\n",
    "Pretty straightforward method, transform the binary into decimal system, then sum them and convert the result into binary."
   ],
   "metadata": {}
  },
  {
   "cell_type": "code",
   "execution_count": null,
   "source": [
    "class Solution:\n",
    "    def addBinary(self, a: str, b: str) -> str:\n",
    "        assert 1 <= len(a) <= 10 ** 4, 'The length of a should in [1, 10000].'\n",
    "        assert 1 <= len(b) <= 10 ** 4, 'The length of b should in [1, 10000].'\n",
    "\n",
    "        # pad the shorter string with 0 to make the two in the same length\n",
    "        if len(a) < len(b):\n",
    "            a = '0' * (len(b) - len(a)) + a\n",
    "        elif len(a) > len(b):\n",
    "            b = '0' * (len(a) - len(b)) + b\n",
    "\n",
    "        # convert a and b into decimal and sum them\n",
    "        a = a[::-1]\n",
    "        b = b[::-1]\n",
    "        s = 0\n",
    "        for i in range(len(a)):\n",
    "            if a[i] == '1':\n",
    "                s += 2 ** i\n",
    "            if b[i] == '1':\n",
    "                s += 2 ** i\n",
    "            \n",
    "        # convert the addition into decimal\n",
    "        i_s = ''\n",
    "        for i in range(len(a), -1, -1):\n",
    "            if s // 2 ** i == 1:\n",
    "                i_s += '1'\n",
    "                s -= 2 ** i\n",
    "            else:\n",
    "                i_s += '0'\n",
    "\n",
    "        # remove the 0 at the beginning\n",
    "        if i_s.startswith('0'):\n",
    "            i_s = i_s[1:]\n",
    "        \n",
    "        return i_s"
   ],
   "outputs": [],
   "metadata": {}
  },
  {
   "cell_type": "markdown",
   "source": [
    "Version 1"
   ],
   "metadata": {}
  },
  {
   "cell_type": "code",
   "execution_count": 10,
   "source": [
    "def addBinary(a: str, b: str) -> str:\n",
    "    assert 1 <= len(a) <= 10 ** 4, 'The length of a should in [1, 10000].'\n",
    "    assert 1 <= len(b) <= 10 ** 4, 'The length of b should in [1, 10000].'\n",
    "\n",
    "    # pad the shorter string with 0 to make the two in the same length\n",
    "    if len(a) < len(b):\n",
    "        a = '0' * (len(b) - len(a)) + a\n",
    "    elif len(a) > len(b):\n",
    "        b = '0' * (len(a) - len(b)) + b\n",
    "\n",
    "    # convert a and b into decimal and sum them\n",
    "    a = a[::-1]\n",
    "    b = b[::-1]\n",
    "    s = 0\n",
    "    for i in range(len(a)):\n",
    "        if a[i] == '1':\n",
    "            s += 2 ** i\n",
    "        if b[i] == '1':\n",
    "            s += 2 ** i\n",
    "        \n",
    "    # convert the addition into decimal\n",
    "    i_s = ''\n",
    "    for i in range(len(a), -1, -1):\n",
    "        if s // 2 ** i == 1:\n",
    "            i_s += '1'\n",
    "            s -= 2 ** i\n",
    "        else:\n",
    "            i_s += '0'\n",
    "\n",
    "    # remove the 0 at the beginning\n",
    "    if i_s.startswith('0'):\n",
    "        i_s = i_s[1:]\n",
    "    \n",
    "    return i_s"
   ],
   "outputs": [],
   "metadata": {}
  },
  {
   "cell_type": "markdown",
   "source": [
    "+ Momery issue\n",
    "    \n",
    "    The first version wants to ensure the two binary string in the same length, which results in a waste of memory, since if `a` has 1000 digits while `b` only with 2 digits. Thus, convert the two one by one may save memory."
   ],
   "metadata": {}
  },
  {
   "cell_type": "code",
   "execution_count": 8,
   "source": [
    "def addBinary(a: str, b: str) -> str:\n",
    "    assert 1 <= len(a) <= 10 ** 4, 'The length of a should in [1, 10000].'\n",
    "    assert 1 <= len(b) <= 10 ** 4, 'The length of b should in [1, 10000].'\n",
    "\n",
    "    def binary_to_decimal(a: str) -> int:\n",
    "        '''\n",
    "        convert a string to decimal\n",
    "        :a = the string consists of 1 and 0\n",
    "        '''\n",
    "\n",
    "        a = a[::-1]\n",
    "        decimal = 0\n",
    "        for i in range(len(a)):\n",
    "            assert a[i] == '1' or a[i] == '0', 'The input is not a binary string.'\n",
    "            if a[i] == '1':\n",
    "                decimal += 2 ** i    \n",
    "        return decimal\n",
    "\n",
    "    # convert a and b into decimal and sum them\n",
    "    s = 0\n",
    "    s += binary_to_decimal(a)\n",
    "    s += binary_to_decimal(b)\n",
    "        \n",
    "    # convert the addition into decimal\n",
    "    i_s = ''\n",
    "    for i in range(max(len(a), len(b)), -1, -1):\n",
    "        # len(a) is aleary beyond the power in max(a, b)\n",
    "        if s // 2 ** i == 1:\n",
    "            i_s += '1'\n",
    "            s -= 2 ** i\n",
    "        else:\n",
    "            i_s += '0'\n",
    "\n",
    "    # remove the 0 at the beginning\n",
    "    if i_s.startswith('0'):\n",
    "        i_s = i_s[1:]\n",
    "    \n",
    "    return i_s"
   ],
   "outputs": [],
   "metadata": {}
  }
 ],
 "metadata": {
  "hide_input": false,
  "kernelspec": {
   "name": "python3",
   "display_name": "Python 3.7.11 64-bit ('leetcode': conda)"
  },
  "language_info": {
   "codemirror_mode": {
    "name": "ipython",
    "version": 3
   },
   "file_extension": ".py",
   "mimetype": "text/x-python",
   "name": "python",
   "nbconvert_exporter": "python",
   "pygments_lexer": "ipython3",
   "version": "3.7.11"
  },
  "latex_envs": {
   "LaTeX_envs_menu_present": true,
   "autoclose": false,
   "autocomplete": true,
   "bibliofile": "biblio.bib",
   "cite_by": "apalike",
   "current_citInitial": 1,
   "eqLabelWithNumbers": true,
   "eqNumInitial": 1,
   "hotkeys": {
    "equation": "Ctrl-E",
    "itemize": "Ctrl-I"
   },
   "labels_anchors": false,
   "latex_user_defs": false,
   "report_style_numbering": false,
   "user_envs_cfg": false
  },
  "toc": {
   "base_numbering": 1,
   "nav_menu": {},
   "number_sections": true,
   "sideBar": true,
   "skip_h1_title": false,
   "title_cell": "Table of Contents",
   "title_sidebar": "Contents",
   "toc_cell": false,
   "toc_position": {},
   "toc_section_display": true,
   "toc_window_display": false
  },
  "interpreter": {
   "hash": "2f96a6611f6544233df15d5f6a8a08a40aa02f57bca46a950ae6ed4bd6cd3b20"
  }
 },
 "nbformat": 4,
 "nbformat_minor": 4
}