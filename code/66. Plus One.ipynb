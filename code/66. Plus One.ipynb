{
 "cells": [
  {
   "cell_type": "markdown",
   "id": "c66d3d02",
   "metadata": {},
   "source": [
    "# Problem\n",
    "\n",
    "You are given a **large integer** represented as an integer array `digits`, where each `digits[i]` is the `ith` digit of the integer. The digits are ordered from most significant to least significant in left-to-right order. The large integer does not contain any leading `0`'s.\n",
    "\n",
    "Increment the large integer by one and return *the resulting array of digits*.\n",
    "\n",
    "**Example 1:**\n",
    "```\n",
    "**Input:** digits = [1,2,3]\n",
    "**Output:** [1,2,4]\n",
    "**Explanation:** The array represents the integer 123.\n",
    "Incrementing by one gives 123 + 1 = 124.\n",
    "Thus, the result should be [1,2,4].\n",
    "```\n",
    "\n",
    "**Example 2:**\n",
    "```\n",
    "**Input:** digits = [4,3,2,1]\n",
    "**Output:** [4,3,2,2]\n",
    "**Explanation:** The array represents the integer 4321.\n",
    "Incrementing by one gives 4321 + 1 = 4322.\n",
    "Thus, the result should be [4,3,2,2].\n",
    "```\n",
    "\n",
    "**Example 3:**\n",
    "```\n",
    "**Input:** digits = [9]\n",
    "**Output:** [1,0]\n",
    "**Explanation:** The array represents the integer 9.\n",
    "Incrementing by one gives 9 + 1 = 10.\n",
    "Thus, the result should be [1,0].\n",
    "```\n",
    "\n",
    "**Constraints:**\n",
    "\n",
    "* `1 <= digits.length <= 100`\n",
    "* `0 <= digits[i] <= 9`\n",
    "* `digits` does not contain any leading `0`'s.\n",
    "\n"
   ]
  },
  {
   "cell_type": "markdown",
   "id": "a7cf6794",
   "metadata": {},
   "source": [
    "# Summary\n",
    "\n",
    "use carry to indicate, after using the carry, set it to `False`, otherwise, insert `1` at the first position."
   ]
  },
  {
   "cell_type": "markdown",
   "id": "f04555ae",
   "metadata": {},
   "source": [
    "# Problem Description\n",
    "\n",
    "Use `list` to represent the digits of the number and add one at the last digit, we only need to consider the marginal condition. \n"
   ]
  },
  {
   "cell_type": "markdown",
   "id": "d7e14c89",
   "metadata": {},
   "source": [
    "# Methods\n",
    "\n",
    "+ mathematical rule-based\n",
    "+ convert method"
   ]
  },
  {
   "cell_type": "markdown",
   "id": "3ba36666",
   "metadata": {},
   "source": [
    "## Method 1 Mathematical Method\n",
    "\n",
    "+ **Time Complexity**: \n",
    "\t+ Best case: $O(1)$\n",
    "\t+ Worst case: $O(n)$\n",
    "+ **Space Complexity**: $O(1)$\n",
    "\n",
    "Rules:\n",
    "\n",
    "+ if the last is 9, then carry is True, set the last to 0, and repeat this process until break;\n",
    "+ after looking through all the digits, if we still have carry in hand, we need to insert `1` at the first."
   ]
  },
  {
   "cell_type": "code",
   "execution_count": null,
   "id": "038a0540",
   "metadata": {},
   "outputs": [],
   "source": [
    "class Solution:\n",
    "    def plusOne(self, digits: List[int]) -> List[int]:\n",
    "        n, carry = len(digits) - 1, False\n",
    "\n",
    "        while n >= 0:\n",
    "            if digits[n] == 9:\n",
    "                digits[n] = 0\n",
    "                n -= 1\n",
    "                carry = True\n",
    "                continue\n",
    "            else:\n",
    "                digits[n] += 1\n",
    "                if carry:\n",
    "                    carry = False\n",
    "                break\n",
    "\n",
    "        if carry:\n",
    "            digits.insert(0, 1)\n",
    "\n",
    "        return digits            "
   ]
  },
  {
   "cell_type": "markdown",
   "id": "11cc88d2",
   "metadata": {},
   "source": [
    "## Method 2 Convert Method\n",
    "\n",
    "+ **Time Complexity**: \n",
    "\t+ Best case: $O(n)$\n",
    "\t+ Worst case: $O(n)$\n",
    "+ **Space Complexity**: $O(1)$\n",
    "\n",
    "Convert `list` to `int`, plus one, then convert `int` to `list`."
   ]
  },
  {
   "cell_type": "code",
   "execution_count": null,
   "id": "0549a52d",
   "metadata": {},
   "outputs": [],
   "source": [
    "class Solution:\n",
    "    def plusOne(self, digits: List[int]) -> List[int]:\n",
    "        num = ''\n",
    "        for i in list(map(str, digits)):\n",
    "            num += i\n",
    "        num = str(int(num) + 1)\n",
    "        num = map(int, list(num))\n",
    "\n",
    "        return num"
   ]
  },
  {
   "cell_type": "markdown",
   "id": "1c0fe1d6",
   "metadata": {},
   "source": [
    "# Footnotes\n",
    "\n"
   ]
  },
  {
   "cell_type": "code",
   "execution_count": 10,
   "id": "4b365830",
   "metadata": {},
   "outputs": [],
   "source": [
    "# add the doc information to README \n",
    "from tools.setup import generate_row as g\n",
    "\n",
    "g()"
   ]
  }
 ],
 "metadata": {
  "interpreter": {
   "hash": "76a7b5324f028f295860f76a31df2338ff50596517c2606a79177bbdafd1d5be"
  },
  "kernelspec": {
   "display_name": "Python 3.7.11 ('leetcode')",
   "language": "python",
   "name": "python3"
  },
  "language_info": {
   "codemirror_mode": {
    "name": "ipython",
    "version": 3
   },
   "file_extension": ".py",
   "mimetype": "text/x-python",
   "name": "python",
   "nbconvert_exporter": "python",
   "pygments_lexer": "ipython3",
   "version": "3.7.11"
  }
 },
 "nbformat": 4,
 "nbformat_minor": 5
}
