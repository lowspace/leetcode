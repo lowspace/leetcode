{
 "cells": [
  {
   "cell_type": "markdown",
   "metadata": {},
   "source": [
    "# Problem\n",
    "\n",
    "Suppose an array of length `n` sorted in ascending order is **rotated** between `1` and `n` times. For example, the array `nums = [0,1,4,4,5,6,7]` might become:\n",
    "\n",
    "- `[4,5,6,7,0,1,4]` if it was rotated `4` times.\n",
    "- `[0,1,4,4,5,6,7]` if it was rotated `7` times.\n",
    "\n",
    "Notice that **rotating** an array `[a[0], a[1], a[2], ..., a[n-1]]` 1 time results in the array `[a[n-1], a[0], a[1], a[2], ..., a[n-2]]`.\n",
    "\n",
    "Given the sorted rotated array `nums` that may contain **duplicates**, return *the minimum element of this array*.\n",
    "\n",
    "You must decrease the overall operation steps as much as possible.\n",
    "\n",
    "**Example 1:**\n",
    "\n",
    "```\n",
    "Input: nums = [1,3,5]\n",
    "Output: 1\n",
    "\n",
    "```\n",
    "\n",
    "**Example 2:**\n",
    "\n",
    "```\n",
    "Input: nums = [2,2,2,0,1]\n",
    "Output: 0\n",
    "\n",
    "```\n",
    "\n",
    "**Constraints:**\n",
    "\n",
    "- `n == nums.length`\n",
    "- `1 <= n <= 5000`\n",
    "- `5000 <= nums[i] <= 5000`\n",
    "- `nums` is sorted and rotated between `1` and `n` times.\n",
    "\n",
    "**Follow up:** This problem is similar to [Find Minimum in Rotated Sorted Array](https://leetcode.com/problems/find-minimum-in-rotated-sorted-array/description/), but `nums` may contain **duplicates**. Would this affect the runtime complexity? How and why?"
   ]
  },
  {
   "cell_type": "markdown",
   "metadata": {},
   "source": [
    "# Summary\n",
    "\n",
    "Same logic, but needs to discuss the situations with more details."
   ]
  },
  {
   "cell_type": "markdown",
   "metadata": {},
   "source": [
    "# Problem Description \n",
    "\n",
    "As the previous problem, the elements can be duplications. Thus we need to find the sorting cues."
   ]
  },
  {
   "cell_type": "markdown",
   "metadata": {},
   "source": [
    "# Methods"
   ]
  },
  {
   "cell_type": "markdown",
   "metadata": {},
   "source": [
    "## Method 1 Binary Search\n",
    "\n",
    "+ **Time Complexity**: \n",
    "\t+ Best case: $O(logn)$\n",
    "\t+ Worst case: $O(n)$\n",
    "+ **Space Complexity**: $O(1)$\n",
    "\n",
    "Follow the previous idea:\n",
    "\n",
    "+ `nums[left] == nums[mid] == nums[right]`: without any sorting information.\n",
    "+ `nums[left] == nums[mid] != nums[right]`:\n",
    "    + `nums[left] == nums[mid] < nums[right]`: minimum in the left side\n",
    "    + `nums[left] == nums[mid] > nums[right]`: minimum in the right side\n",
    "+ `nums[mid] == nums[right] != nums[left]`:\n",
    "    + `nums[mid] == nums[right] < nums[left]`: minimum in the left side\n",
    "    + `nums[mid] == nums[right] > nums[left]`: minimum in the left side\n",
    "+  `nums[left] == nums[right] != nums[mid]`:\n",
    "    + `nums[left] == nums[right] < nums[mid]`: minimum in the right side\n",
    "    + `nums[left] == nums[right] > nums[mid]`: minimum in the left side\n",
    "\n",
    "In a nutshell,\n",
    "\n",
    "+ `nums[mid] > nums[right]`: minimum in the right side (exclude the mid);\n",
    "+ `nums[left] == nums[mid] > nums[right]`: minimum in the right side (exclude the mid);\n",
    "+ other scenarios: minimum in the left side (include the mid)"
   ]
  },
  {
   "cell_type": "code",
   "execution_count": null,
   "metadata": {},
   "outputs": [],
   "source": [
    "class Solution:\n",
    "    def findMin(self, nums: List[int]) -> int:\n",
    "        left = 0\n",
    "        right = len(nums) - 1\n",
    "\n",
    "        while left < right:\n",
    "            mid = (left + right) // 2\n",
    "\n",
    "            # the whole array doesn't provide any information about the order\n",
    "            if nums[left] == nums[mid] == nums[right]:\n",
    "                left += 1\n",
    "            elif nums[mid] > nums[right] or nums[left] == nums[right] < nums[mid]:\n",
    "                left = mid + 1\n",
    "            else:\n",
    "                right = mid\n",
    "\n",
    "        return nums[left]"
   ]
  },
  {
   "cell_type": "markdown",
   "metadata": {},
   "source": [
    "# Footnotes"
   ]
  },
  {
   "cell_type": "code",
   "execution_count": null,
   "metadata": {},
   "outputs": [],
   "source": [
    "# add the doc information to README \n",
    "from tools.setup import generate_row as g\n",
    "\n",
    "g()"
   ]
  }
 ],
 "metadata": {
  "hide_input": false,
  "kernelspec": {
   "display_name": "Python 3",
   "language": "python",
   "name": "python3"
  },
  "language_info": {
   "codemirror_mode": {
    "name": "ipython",
    "version": 3
   },
   "file_extension": ".py",
   "mimetype": "text/x-python",
   "name": "python",
   "nbconvert_exporter": "python",
   "pygments_lexer": "ipython3",
   "version": "3.7.11"
  },
  "latex_envs": {
   "LaTeX_envs_menu_present": true,
   "autoclose": false,
   "autocomplete": true,
   "bibliofile": "biblio.bib",
   "cite_by": "apalike",
   "current_citInitial": 1,
   "eqLabelWithNumbers": true,
   "eqNumInitial": 1,
   "hotkeys": {
    "equation": "Ctrl-E",
    "itemize": "Ctrl-I"
   },
   "labels_anchors": false,
   "latex_user_defs": false,
   "report_style_numbering": false,
   "user_envs_cfg": false
  },
  "toc": {
   "base_numbering": 1,
   "nav_menu": {},
   "number_sections": true,
   "sideBar": true,
   "skip_h1_title": false,
   "title_cell": "Table of Contents",
   "title_sidebar": "Contents",
   "toc_cell": false,
   "toc_position": {},
   "toc_section_display": true,
   "toc_window_display": false
  }
 },
 "nbformat": 4,
 "nbformat_minor": 4
}
