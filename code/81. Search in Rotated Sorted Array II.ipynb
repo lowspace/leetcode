{
 "cells": [
  {
   "cell_type": "markdown",
   "metadata": {},
   "source": [
    "# Problem\n",
    "\n",
    "There is an integer array `nums` sorted in non-decreasing order (not necessarily with **distinct** values).\n",
    "\n",
    "Before being passed to your function, `nums` is **rotated** at an unknown pivot index `k` (`0 <= k < nums.length`) such that the resulting array is `[nums[k], nums[k+1], ..., nums[n-1], nums[0], nums[1], ..., nums[k-1]]` (**0-indexed**). For example, `[0,1,2,4,4,4,5,6,6,7]` might be rotated at pivot index `5` and become `[4,5,6,6,7,0,1,2,4,4]`.\n",
    "\n",
    "Given the array `nums` **after** the rotation and an integer `target`, return `true` *if* `target` *is in* `nums`*, or* `false` *if it is not in* `nums`*.*\n",
    "\n",
    "You must decrease the overall operation steps as much as possible.\n",
    "\n",
    " \n",
    "\n",
    "**Example 1:**\n",
    "\n",
    "```\n",
    "Input: nums = [2,5,6,0,0,1,2], target = 0\n",
    "Output: true\n",
    "```\n",
    "\n",
    "**Example 2:**\n",
    "\n",
    "```\n",
    "Input: nums = [2,5,6,0,0,1,2], target = 3\n",
    "Output: false\n",
    "```\n",
    "\n",
    " \n",
    "\n",
    "**Constraints:**\n",
    "\n",
    "- `1 <= nums.length <= 5000`\n",
    "- `-10^4 <= nums[i] <= 10^4`\n",
    "- `nums` is guaranteed to be rotated at some pivot.\n",
    "- `-10^4 <= target <= 10^4`\n",
    "\n",
    " \n",
    "\n",
    "**Follow up:** This problem is similar to [Search in Rotated Sorted Array](https://leetcode.com/problems/search-in-rotated-sorted-array/description/), but `nums` may contain **duplicates**. Would this affect the runtime complexity? How and why?"
   ]
  },
  {
   "cell_type": "markdown",
   "metadata": {},
   "source": [
    "# Summary\n",
    "\n",
    "The tricky part for this problem is the order of the left/right part is not plain, thus we need to find the sorting relationship and then we can implement the binary search.\n",
    "\n",
    "This idea somewhat derives from the mathematics idea, if we can't find the condition, we build it."
   ]
  },
  {
   "cell_type": "markdown",
   "metadata": {},
   "source": [
    "# Problem Description \n",
    "\n",
    "Using binary search to find the target in a rotated non-decreasing array. This problem is similar with the previous, finding the target in a rotated ascending array. "
   ]
  },
  {
   "cell_type": "markdown",
   "metadata": {},
   "source": [
    "# Methods\n",
    "\n",
    "1. linear search;\n",
    "2. binary search."
   ]
  },
  {
   "cell_type": "markdown",
   "metadata": {},
   "source": [
    "## Method 1 Linear Search\n",
    "\n",
    "+ **Time Complexity**: \n",
    "\t+ Best case: $O(n)$\n",
    "\t+ Worst case: $O(n)$\n",
    "+ **Space Complexity**: $O(1)$\n",
    "\n",
    "Pretty simple and straightforward method."
   ]
  },
  {
   "cell_type": "markdown",
   "metadata": {},
   "source": [
    "Version 1 Using Built-in Function"
   ]
  },
  {
   "cell_type": "code",
   "execution_count": null,
   "metadata": {},
   "outputs": [],
   "source": [
    "class Solution:\n",
    "    def search(self, nums: List[int], target: int) -> bool:\n",
    "        if target in nums:\n",
    "            return True\n",
    "        else:\n",
    "            return False"
   ]
  },
  {
   "cell_type": "markdown",
   "metadata": {},
   "source": [
    "Version 2 Using For Loop"
   ]
  },
  {
   "cell_type": "code",
   "execution_count": null,
   "metadata": {},
   "outputs": [],
   "source": [
    "class Solution:\n",
    "    def search(self, nums: List[int], target: int) -> bool:\n",
    "        for num in nums:\n",
    "            if num == target:\n",
    "                return True\n",
    "        \n",
    "        return False"
   ]
  },
  {
   "cell_type": "markdown",
   "metadata": {},
   "source": [
    "## Method 2 Binary Search\n",
    "\n",
    "+ **Time Complexity**: \n",
    "\t+ Best case: $O(logn)$\n",
    "\t+ Worst case: $O(n)$\n",
    "+ **Space Complexity**: $O(1)$\n",
    "\n",
    "If we use binary search to find the target like the previous did, we need to guarantee the drop part does not contain the target.\n",
    "\n",
    "Q: How to guarantee this?\n",
    "\n",
    "A: The taxonomy is the same as the previous:\n",
    "\n",
    "+ Non-decreasing array;\n",
    "+ Rotated non-decreasing array:\n",
    "\n",
    "\t+ Rotated part exceeds the half length of the whole array;\n",
    "\t+ Rotated part doesn't exceed the half length of the whole array.\n",
    "\n",
    "As for the non-decreasing array, naive binary search is enough and the duplication elements don't barry the searching process.\n",
    "\n",
    "~~As for the rotated non-decreasing array, rule-based binary search seems to be the same as the previous, since the logic does not change any more.~~\n",
    "\n",
    "In most cases, the rotated non-decreasing array is the same as the previous, but for the cases like `[1,1,1,1,1,1,1,1,1,1,1,1,1,2,1,1,1,1,1]`, the old logic can not drop or pick the interval correctly since most elements are the same.\n",
    "\n",
    "Q: How to conduct a general rule to handle the non-decreasing array?\n",
    "\n",
    "A: As the previous rotated array problem, the ascending order guarantee that we can find two ascending sequences which can be used to implement binary search or to bound the target. This non-decreasing array does not have this attribution, and cases like `[1,1,1,1,1,1,1,1,1,1,1,1,1,2,1,1,1,1,1]` beyond that scope. Thus, we can build an ascending array to implement our algorithm.\n",
    "\n",
    "Q: How to build an ascending array?\n",
    "\n",
    "A: In other words, we do not need to find the ascending array and we need to get the information about the array. More specifically, the order of the array, otherwise, we can't drop the interval. However, in this way, the time complexity is almost $O(n)$ if we search `[1, ..., 1, 2]`."
   ]
  },
  {
   "cell_type": "code",
   "execution_count": null,
   "metadata": {},
   "outputs": [],
   "source": [
    "class Solution:\n",
    "    def search(self, nums: List[int], target: int) -> bool:\n",
    "        left = 0\n",
    "        right = len(nums) - 1\n",
    "\n",
    "        while left <= right:\n",
    "            mid = (left + right) // 2\n",
    "\n",
    "            if nums[mid] == target:\n",
    "                return True\n",
    "            elif nums[left] == nums[mid] == nums[right]: # doesn't have any information about the array\n",
    "                left += 1\n",
    "                continue\n",
    "            elif nums[mid] < target:\n",
    "                # to ensure the target not in the left side\n",
    "                if nums[left] <= nums[mid] or target <= nums[right]:\n",
    "                    left = mid + 1\n",
    "                else:\n",
    "                    right = mid - 1\n",
    "            elif nums[mid] > target:\n",
    "                # to ensure the target not in the right side\n",
    "                if nums[mid] <= nums[right] or nums[left] <= target:\n",
    "                    right = mid - 1\n",
    "                else:\n",
    "                    left = mid + 1\n",
    "\n",
    "        return False"
   ]
  },
  {
   "cell_type": "markdown",
   "metadata": {},
   "source": [
    "# Footnotes"
   ]
  },
  {
   "cell_type": "code",
   "execution_count": 27,
   "metadata": {},
   "outputs": [],
   "source": [
    "# add the doc information to README \n",
    "from tools.setup import generate_row as g\n",
    "\n",
    "g()"
   ]
  }
 ],
 "metadata": {
  "hide_input": false,
  "kernelspec": {
   "display_name": "Python 3",
   "language": "python",
   "name": "python3"
  },
  "language_info": {
   "codemirror_mode": {
    "name": "ipython",
    "version": 3
   },
   "file_extension": ".py",
   "mimetype": "text/x-python",
   "name": "python",
   "nbconvert_exporter": "python",
   "pygments_lexer": "ipython3",
   "version": "3.7.11"
  },
  "latex_envs": {
   "LaTeX_envs_menu_present": true,
   "autoclose": false,
   "autocomplete": true,
   "bibliofile": "biblio.bib",
   "cite_by": "apalike",
   "current_citInitial": 1,
   "eqLabelWithNumbers": true,
   "eqNumInitial": 1,
   "hotkeys": {
    "equation": "Ctrl-E",
    "itemize": "Ctrl-I"
   },
   "labels_anchors": false,
   "latex_user_defs": false,
   "report_style_numbering": false,
   "user_envs_cfg": false
  },
  "toc": {
   "base_numbering": 1,
   "nav_menu": {},
   "number_sections": true,
   "sideBar": true,
   "skip_h1_title": false,
   "title_cell": "Table of Contents",
   "title_sidebar": "Contents",
   "toc_cell": false,
   "toc_position": {},
   "toc_section_display": true,
   "toc_window_display": false
  }
 },
 "nbformat": 4,
 "nbformat_minor": 4
}
