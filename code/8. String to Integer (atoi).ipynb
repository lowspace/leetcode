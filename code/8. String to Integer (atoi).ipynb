{
 "cells": [
  {
   "cell_type": "markdown",
   "metadata": {},
   "source": [
    "# Problem\n",
    "\n",
    "Implement the `myAtoi(string s)` function, which converts a string to a 32-bit signed integer (similar to C/C++'s `atoi` function).\n",
    "\n",
    "The algorithm for `myAtoi(string s)` is as follows:\n",
    "\n",
    "1. Read in and ignore any leading whitespace.\n",
    "2. Check if the next character (if not already at the end of the string) is `'-'` or `'+'`. Read this character in if it is either. This determines if the final result is negative or positive respectively. Assume the result is positive if neither is present.\n",
    "3. Read in next the characters until the next non-digit character or the end of the input is reached. The rest of the string is ignored.\n",
    "4. Convert these digits into an integer (i.e. `\"123\" -> 123`, `\"0032\" -> 32`). If no digits were read, then the integer is `0`. Change the sign as necessary (from step 2).\n",
    "5. If the integer is out of the 32-bit signed integer range `[-2^31, 2^31 - 1]`, then clamp the integer so that it remains in the range. Specifically, integers less than `-2^31` should be clamped to `-2^31`, and integers greater than `2^31 - 1` should be clamped to `2^31 - 1`.\n",
    "6. Return the integer as the final result.\n",
    "\n",
    "**Note:**\n",
    "\n",
    "- Only the space character `' '` is considered a whitespace character.\n",
    "- **Do not ignore** any characters other than the leading whitespace or the rest of the string after the digits.\n",
    "\n",
    " \n",
    "\n",
    "**Example 1:**\n",
    "\n",
    "```\n",
    "Input: s = \"42\"\n",
    "Output: 42\n",
    "Explanation: The underlined characters are what is read in, the caret is the current reader position.\n",
    "Step 1: \"42\" (no characters read because there is no leading whitespace)\n",
    "         ^\n",
    "Step 2: \"42\" (no characters read because there is neither a '-' nor '+')\n",
    "         ^\n",
    "Step 3: \"42\" (\"42\" is read in)\n",
    "           ^\n",
    "The parsed integer is 42.\n",
    "Since 42 is in the range [-2^31, 2^31 - 1], the final result is 42.\n",
    "```\n",
    "\n",
    "**Example 2:**\n",
    "\n",
    "```\n",
    "Input: s = \"   -42\"\n",
    "Output: -42\n",
    "Explanation:\n",
    "Step 1: \"   -42\" (leading whitespace is read and ignored)\n",
    "            ^\n",
    "Step 2: \"   -42\" ('-' is read, so the result should be negative)\n",
    "             ^\n",
    "Step 3: \"   -42\" (\"42\" is read in)\n",
    "               ^\n",
    "The parsed integer is -42.\n",
    "Since -42 is in the range [-2^31, 2^31 - 1], the final result is -42.\n",
    "```\n",
    "\n",
    "**Example 3:**\n",
    "\n",
    "```\n",
    "Input: s = \"4193 with words\"\n",
    "Output: 4193\n",
    "Explanation:\n",
    "Step 1: \"4193 with words\" (no characters read because there is no leading whitespace)\n",
    "         ^\n",
    "Step 2: \"4193 with words\" (no characters read because there is neither a '-' nor '+')\n",
    "         ^\n",
    "Step 3: \"4193 with words\" (\"4193\" is read in; reading stops because the next character is a non-digit)\n",
    "             ^\n",
    "The parsed integer is 4193.\n",
    "Since 4193 is in the range [-2^31, 2^31 - 1], the final result is 4193.\n",
    "```\n",
    "\n",
    "**Example 4:**\n",
    "\n",
    "```\n",
    "Input: s = \"words and 987\"\n",
    "Output: 0\n",
    "Explanation:\n",
    "Step 1: \"words and 987\" (no characters read because there is no leading whitespace)\n",
    "         ^\n",
    "Step 2: \"words and 987\" (no characters read because there is neither a '-' nor '+')\n",
    "         ^\n",
    "Step 3: \"words and 987\" (reading stops immediately because there is a non-digit 'w')\n",
    "         ^\n",
    "The parsed integer is 0 because no digits were read.\n",
    "Since 0 is in the range [-2^31, 2^31 - 1], the final result is 0.\n",
    "```\n",
    "\n",
    "**Example 5:**\n",
    "\n",
    "```\n",
    "Input: s = \"-91283472332\"\n",
    "Output: -2147483648\n",
    "Explanation:\n",
    "Step 1: \"-91283472332\" (no characters read because there is no leading whitespace)\n",
    "         ^\n",
    "Step 2: \"-91283472332\" ('-' is read, so the result should be negative)\n",
    "          ^\n",
    "Step 3: \"-91283472332\" (\"91283472332\" is read in)\n",
    "                     ^\n",
    "The parsed integer is -91283472332.\n",
    "Since -91283472332 is less than the lower bound of the range [-2^31, 2^31 - 1], the final result is clamped to -2^31 = -2147483648.\n",
    "```\n",
    "\n",
    " \n",
    "\n",
    "***\\*Constraints:\\****\n",
    "\n",
    "- **`0 <= s.length <= 200`**\n",
    "- **`s` consists of English letters (lower-case and upper-case), digits (`0-9`), `' '`, `'+'`, `'-'`, and `'.'`.**"
   ]
  },
  {
   "cell_type": "markdown",
   "metadata": {},
   "source": [
    "# Summary\n",
    "\n",
    "`re.match()[0]` returns the matched string."
   ]
  },
  {
   "cell_type": "markdown",
   "metadata": {},
   "source": [
    "# Problem Description"
   ]
  },
  {
   "cell_type": "markdown",
   "metadata": {},
   "source": [
    "# Methods\n",
    "\n",
    "Pretty simple logic:\n",
    "\n",
    "1. remove the leading spaces;\n",
    "2. check the sign of the potential number;\n",
    "3. find the numberic string;\n",
    "4. convert the string to int and compare it with the boundary."
   ]
  },
  {
   "cell_type": "markdown",
   "metadata": {},
   "source": [
    "## Method 1 Brute Force\n",
    "\n",
    "+ **Time Complexity**: \n",
    "\t+ Best case: $O(1)$\n",
    "\t+ Worst case: $O(n)$\n",
    "+ **Space Complexity**: $O(n)$"
   ]
  },
  {
   "cell_type": "code",
   "execution_count": null,
   "metadata": {},
   "outputs": [],
   "source": [
    "class Solution:\n",
    "    def myAtoi(self, s: str) -> int:\n",
    "        import re\n",
    "        r = re.match(r'(?<=^)[+-]?[\\d]+', s.lstrip())\n",
    "        if r:\n",
    "            r = int(r[0])\n",
    "            if r >= 2147483648:\n",
    "                return 2147483647\n",
    "            elif r < -2147483648:\n",
    "                return -2147483648\n",
    "            else:\n",
    "                return r\n",
    "        else:\n",
    "            return 0"
   ]
  },
  {
   "cell_type": "markdown",
   "metadata": {},
   "source": [
    "## Method 2 One Pointer"
   ]
  },
  {
   "cell_type": "code",
   "execution_count": 13,
   "metadata": {},
   "outputs": [],
   "source": [
    "class Solution:\n",
    "    def myAtoi(self, s: str) -> int:\n",
    "        s = s.lstrip() # remove the leading spaces\n",
    "        if s.startswith('-'):\n",
    "            s = s[1:]\n",
    "            sign = False\n",
    "        elif s.startswith('+'):\n",
    "            s = s[1:]\n",
    "            sign = True\n",
    "        else:\n",
    "            sign = True\n",
    "        r = ''\n",
    "        for c in s:\n",
    "            if c.isnumeric():\n",
    "                r += c\n",
    "            else:\n",
    "                break\n",
    "        if sign == True and r:\n",
    "            r = int(r)\n",
    "        elif sign == False and r:\n",
    "            r = -int(r)\n",
    "        else:\n",
    "            return 0\n",
    "        if r >= 2147483648:\n",
    "            return 2147483647\n",
    "        elif r < -2147483648:\n",
    "            return -2147483648\n",
    "        else:\n",
    "            return r"
   ]
  },
  {
   "cell_type": "markdown",
   "metadata": {},
   "source": [
    "# Footnotes"
   ]
  },
  {
   "cell_type": "code",
   "execution_count": null,
   "metadata": {},
   "outputs": [],
   "source": [
    "# add the doc information to README \n",
    "from tools.setup import generate_row as g\n",
    "\n",
    "g()"
   ]
  }
 ],
 "metadata": {
  "hide_input": false,
  "kernelspec": {
   "display_name": "Python 3",
   "language": "python",
   "name": "python3"
  },
  "language_info": {
   "codemirror_mode": {
    "name": "ipython",
    "version": 3
   },
   "file_extension": ".py",
   "mimetype": "text/x-python",
   "name": "python",
   "nbconvert_exporter": "python",
   "pygments_lexer": "ipython3",
   "version": "3.7.11"
  },
  "latex_envs": {
   "LaTeX_envs_menu_present": true,
   "autoclose": false,
   "autocomplete": true,
   "bibliofile": "biblio.bib",
   "cite_by": "apalike",
   "current_citInitial": 1,
   "eqLabelWithNumbers": true,
   "eqNumInitial": 1,
   "hotkeys": {
    "equation": "Ctrl-E",
    "itemize": "Ctrl-I"
   },
   "labels_anchors": false,
   "latex_user_defs": false,
   "report_style_numbering": false,
   "user_envs_cfg": false
  },
  "toc": {
   "base_numbering": 1,
   "nav_menu": {},
   "number_sections": true,
   "sideBar": true,
   "skip_h1_title": false,
   "title_cell": "Table of Contents",
   "title_sidebar": "Contents",
   "toc_cell": false,
   "toc_position": {},
   "toc_section_display": true,
   "toc_window_display": false
  }
 },
 "nbformat": 4,
 "nbformat_minor": 4
}
