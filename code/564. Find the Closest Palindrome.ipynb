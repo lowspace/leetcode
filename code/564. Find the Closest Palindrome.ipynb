{
 "cells": [
  {
   "cell_type": "markdown",
   "metadata": {},
   "source": [
    "# Problem\n",
    "\n",
    "Given a string `n` representing an integer, return *the closest integer (not including itself), which is a palindrome*. If there is a tie, return ***the smaller one***.\n",
    "\n",
    "The closest is defined as the absolute difference minimized between two integers.\n",
    "\n",
    " \n",
    "\n",
    "**Example 1:**\n",
    "\n",
    "```\n",
    "Input: n = \"123\"\n",
    "Output: \"121\"\n",
    "```\n",
    "\n",
    "**Example 2:**\n",
    "\n",
    "```\n",
    "Input: n = \"1\"\n",
    "Output: \"0\"\n",
    "Explanation: 0 and 2 are the closest palindromes but we return the smallest which is 0.\n",
    "```\n",
    "\n",
    " \n",
    "\n",
    "**Constraints:**\n",
    "\n",
    "- `1 <= n.length <= 18`\n",
    "- `n` consists of only digits.\n",
    "- `n` does not have leading zeros.\n",
    "- `n` is representing an integer in the range `[1, 10^18 - 1]`."
   ]
  },
  {
   "cell_type": "markdown",
   "metadata": {},
   "source": [
    "# Summary"
   ]
  },
  {
   "cell_type": "markdown",
   "metadata": {},
   "source": [
    "# Methods\n",
    "\n",
    "*cloest* means we need to compute the difference between the found integers and the inupt, if we can found multiple integers once. There might be two ways to find the cloest palindromic:\n",
    "\n",
    "+ using mathematics methods;\n",
    "+ using string methods."
   ]
  },
  {
   "cell_type": "markdown",
   "metadata": {},
   "source": [
    "## Method 1 [DEPRECATED] Brute Force\n",
    "\n",
    "+ **Time complexity**: $O(n)$\n",
    "+ **Space complexity**: $O(1)$\n",
    "\n",
    "Increase/decrease the input integer, and check the results whether a palindromic number.\n",
    "\n",
    "steps:\n",
    "1. convert `n` to `int`;\n",
    "2. increment/decrement by 1, and check the results whether a palindromic number, if the smaller one is, the return it;\n",
    "3. repeat step 2 until we find a palindrome.\n",
    "\n",
    "OUT OF TIME."
   ]
  },
  {
   "cell_type": "code",
   "execution_count": 114,
   "metadata": {},
   "outputs": [],
   "source": [
    "class Solution:\n",
    "    def nearestPalindromic(self, n: str) -> str:\n",
    "\n",
    "        def isPalindrome(x: int) -> bool:\n",
    "            if 0 <= x <= 9:\n",
    "                return True\n",
    "            elif x < 0 or x % 10 == 0:\n",
    "                return False\n",
    "            else:\n",
    "                rev = 0\n",
    "                while x > rev:\n",
    "                    mod = x % 10\n",
    "                    x = int(x/10)\n",
    "                    rev = rev * 10 + mod\n",
    "\n",
    "                return x == rev or int(rev/10) == x\n",
    "\n",
    "        n = int(n)\n",
    "\n",
    "        for i in range(1, n + 1):\n",
    "            left = n - i\n",
    "            right = n + i\n",
    "            if isPalindrome(left):\n",
    "                return str(left)\n",
    "            elif isPalindrome(right):\n",
    "                return str(right)\n",
    "            else:\n",
    "                pass\n",
    "        "
   ]
  },
  {
   "cell_type": "code",
   "execution_count": 2,
   "metadata": {},
   "outputs": [],
   "source": [
    "\n",
    "def nearestPalindromic(n: str) -> str:\n",
    "\n",
    "    def isPalindrome(x: int) -> bool:\n",
    "        if 0 <= x <= 9:\n",
    "            return True\n",
    "        elif x < 0 or x % 10 == 0:\n",
    "            return False\n",
    "        else:\n",
    "            rev = 0\n",
    "            while x > rev:\n",
    "                mod = x % 10\n",
    "                x = int(x/10)\n",
    "                rev = rev * 10 + mod\n",
    "\n",
    "            return x == rev or int(rev/10) == x\n",
    "\n",
    "    n = int(n)\n",
    "\n",
    "    for i in range(1, n + 1):\n",
    "        left = n - i\n",
    "        right = n + i\n",
    "        if isPalindrome(left):\n",
    "            return str(left)\n",
    "        elif isPalindrome(right):\n",
    "            return str(right)\n",
    "        else:\n",
    "            pass\n",
    "    "
   ]
  },
  {
   "cell_type": "code",
   "execution_count": 29,
   "metadata": {},
   "outputs": [
    {
     "data": {
      "text/plain": [
       "'19991'"
      ]
     },
     "execution_count": 29,
     "metadata": {},
     "output_type": "execute_result"
    }
   ],
   "source": [
    "nearestPalindromic('20002')"
   ]
  },
  {
   "cell_type": "code",
   "execution_count": 30,
   "metadata": {},
   "outputs": [
    {
     "data": {
      "text/plain": [
       "'8'"
      ]
     },
     "execution_count": 30,
     "metadata": {},
     "output_type": "execute_result"
    }
   ],
   "source": [
    "nearestPalindromic('9')"
   ]
  },
  {
   "cell_type": "markdown",
   "metadata": {},
   "source": [
    "## Method 2 [DEPRECATED] Rule-based: String\n",
    "\n",
    "Thinking about the pattern of the closest palindrome.\n",
    "\n",
    "+ modify the number with ones, then tens, hundreds, thousands ...\n",
    "+ modification should always towards the value at the corresponding position and not exceed it, such as 423, modify 3 to 4 at most; 235, modify 5 to 2 at least\n",
    "+ the input should not be the power of 10, 100, 1000, ... and so on, since it is difficult to borrow or to carry.\n",
    "\n",
    "The special cases:\n",
    "\n",
    "+ 10, 100, 1000;\n",
    "+ 11, 101, 10001;\n"
   ]
  },
  {
   "cell_type": "code",
   "execution_count": null,
   "metadata": {},
   "outputs": [],
   "source": [
    "class Solution:\n",
    "    def nearestPalindromic(self, n: str) -> str:\n",
    "        if int(n) % 10 == 0:\n",
    "            return str(int(n) - 1)\n",
    "        if n == n[::-1]:\n",
    "            if len(n) % 2 == 0:\n",
    "                median = int(n[int(len(n)/2)])\n",
    "                print(median)\n",
    "                if median != 0:\n",
    "                    n = n[:int(len(n)/2 - 1)] + str(median - 1) * 2 + n[:int(len(n)/2 - 1)][::-1]\n",
    "                else:\n",
    "                    n = n[:int(len(n)/2 - 1)] + '11' + n[:int(len(n)/2 - 1)][::-1]\n",
    "                return n\n",
    "            else:\n",
    "                median = int(n[int(len(n)/2)])\n",
    "                print(median)\n",
    "                if median != 0:\n",
    "                    n = n[:int(len(n)/2)] + str(median - 1) + n[:int(len(n)/2)][::-1]\n",
    "                else:\n",
    "                    n = n[:int(len(n)/2)] +'1' + n[:int(len(n)/2)][::-1]\n",
    "                return n\n",
    "        else:\n",
    "            if len(n) % 2 == 0:\n",
    "                n = n[:int(len(n)/2)] + n[:int(len(n)/2)][::-1] \n",
    "            else:\n",
    "                n = n[:int(len(n)/2)+1] + n[:int(len(n)/2)][::-1] \n",
    "\n",
    "            return n\n"
   ]
  },
  {
   "cell_type": "markdown",
   "metadata": {},
   "source": [
    "## Method 3: Rule-based: pattern\n",
    "\n",
    "+ **Time complexity**: $O(1)$\n",
    "+ **Space complexity**: $O(1)$\n",
    "\n",
    "Candicates:\n",
    "\n",
    "+ Form 1: the palindrome form of `n`, such as `1221` from `1222`.\n",
    "+ Form 2: increment 1 at the median value, such as `1221` from `1111`, and `141` from `131`.\n",
    "+ Form 3: decrement 1 at the medain value, such as `1001` from `1111`, and `121` from `131`.\n",
    "+ Form 4: borrow form of `n`, such as `99` from `101`, and `999` from `1001`. This form is the special form of *Form 3* since it changes the length of `n`.\n",
    "+ Form 5: carry form of `n`, such as `101` from `99`, and `1001` from `999`. This form is the special form of *Form 2* since it changes the length of `n`.\n",
    "\n",
    "Form 1 to form 3 are basis forms, while form 4 and form 5 are special forms derived from the basic. It's pretty difficult to generate a mathematical rule here to gather form 2 and form 5 together or to gather form 3 and form 4 together. Thus we can list the special cases for each scenario.\n",
    "\n",
    "steps:\n",
    "\n",
    "1. find the palindrome of that int;\n",
    "2. get the candicates of that palindrom;\n",
    "3. compare the difference."
   ]
  },
  {
   "cell_type": "code",
   "execution_count": 82,
   "metadata": {},
   "outputs": [],
   "source": [
    "class Solution:\n",
    "    def nearestPalindromic(self, n: str) -> str:\n",
    "        # find the palindrome form of n\n",
    "        if len(n) % 2 == 0:\n",
    "            palindromic_n = n[:int(len(n)/2)] + n[:int(len(n)/2)][::-1]\n",
    "        else:\n",
    "            palindromic_n = n[:int(len(n)/2 + 1)] + n[:int(len(n)/2)][::-1]\n",
    "\n",
    "        # get the candicates\n",
    "        candicates = []\n",
    "        # Form 1: palindromic_n itself\n",
    "        candicates.append(palindromic_n)\n",
    "        # Form 2 and Form 3\n",
    "        if len(n) % 2 == 0:\n",
    "            # Form 2: increment 1\n",
    "            first_half = str(int(n[:int(len(n)/2)]) + 1)\n",
    "            increment_n = first_half + first_half[::-1]\n",
    "            candicates.append(increment_n)\n",
    "            # Form 3: decrement 1\n",
    "            first_half = str(int(n[:int(len(n)/2)]) - 1)\n",
    "            decrement_n = first_half + first_half[::-1]\n",
    "            candicates.append(decrement_n)\n",
    "        else:\n",
    "            # Form 2: increment 1\n",
    "            first_half = str(int(n[:int(len(n)/2 + 1)]) + 1)\n",
    "            increment_n = first_half + first_half[:-1][::-1]\n",
    "            candicates.append(increment_n)\n",
    "            # Form 3: decrement 1\n",
    "            first_half = str(int(n[:int(len(n)/2 + 1)]) - 1)\n",
    "            decrement_n = first_half + first_half[:-1][::-1]\n",
    "            candicates.append(decrement_n)\n",
    "        # Form 4: '9' * len(n), borrow form\n",
    "        borrow_n = '9' * (len(n) - 1)\n",
    "        candicates.append(borrow_n)\n",
    "        # Form 5: '10...01', carry form\n",
    "        carry_n = '1' + '0' * (len(n) - 1) + '1'\n",
    "        candicates.append(carry_n)\n",
    "\n",
    "        diff = None\n",
    "        result = None\n",
    "        for c in candicates:\n",
    "            if c:\n",
    "                r = abs(int(c) - int(n))\n",
    "                if r: # not same\n",
    "                    if diff is None:\n",
    "                        diff = r\n",
    "                        result = c\n",
    "                    else:\n",
    "                        if r < diff:\n",
    "                            diff = r\n",
    "                            result = c  \n",
    "                        elif r == diff:\n",
    "                            result = str(min(int(c), int(result)))   \n",
    "        \n",
    "        return result"
   ]
  },
  {
   "cell_type": "code",
   "execution_count": 80,
   "metadata": {},
   "outputs": [],
   "source": [
    "def nearestPalindromic(n: str) -> str:\n",
    "    # find the palindrome form of n\n",
    "    if len(n) % 2 == 0:\n",
    "        palindromic_n = n[:int(len(n)/2)] + n[:int(len(n)/2)][::-1]\n",
    "    else:\n",
    "        palindromic_n = n[:int(len(n)/2 + 1)] + n[:int(len(n)/2)][::-1]\n",
    "\n",
    "    # get the candicates\n",
    "    candicates = []\n",
    "    # Form 1: palindromic_n itself\n",
    "    candicates.append(palindromic_n)\n",
    "    # Form 2 and Form 3\n",
    "    if len(n) % 2 == 0:\n",
    "        # Form 2: increment 1\n",
    "        first_half = str(int(n[:int(len(n)/2)]) + 1)\n",
    "        increment_n = first_half + first_half[::-1]\n",
    "        candicates.append(increment_n)\n",
    "        # Form 3: decrement 1\n",
    "        first_half = str(int(n[:int(len(n)/2)]) - 1)\n",
    "        decrement_n = first_half + first_half[::-1]\n",
    "        candicates.append(decrement_n)\n",
    "    else:\n",
    "        # Form 2: increment 1\n",
    "        first_half = str(int(n[:int(len(n)/2 + 1)]) + 1)\n",
    "        increment_n = first_half + first_half[:-1][::-1]\n",
    "        candicates.append(increment_n)\n",
    "        # Form 3: decrement 1\n",
    "        first_half = str(int(n[:int(len(n)/2 + 1)]) - 1)\n",
    "        decrement_n = first_half + first_half[:-1][::-1]\n",
    "        candicates.append(decrement_n)\n",
    "    # Form 4: '9' * len(n), borrow form\n",
    "    borrow_n = '9' * (len(n) - 1)\n",
    "    candicates.append(borrow_n)\n",
    "    # Form 5: '10...01', carry form\n",
    "    carry_n = '1' + '0' * (len(n) - 1) + '1'\n",
    "    candicates.append(carry_n)\n",
    "\n",
    "    diff = None\n",
    "    result = None\n",
    "    for c in candicates:\n",
    "        if c:\n",
    "            r = abs(int(c) - int(n))\n",
    "            if r: # not same\n",
    "                if diff is None:\n",
    "                    diff = r\n",
    "                    result = c\n",
    "                else:\n",
    "                    if r < diff:\n",
    "                        diff = r\n",
    "                        result = c  \n",
    "                    elif r == diff:\n",
    "                        result = str(min(int(c), int(result)))   \n",
    "    \n",
    "    return result"
   ]
  },
  {
   "cell_type": "code",
   "execution_count": 59,
   "metadata": {},
   "outputs": [],
   "source": [
    "def brute_force(n: str) -> str:\n",
    "\n",
    "    def isPalindrome(x: int) -> bool:\n",
    "        if 0 <= x <= 9:\n",
    "            return True\n",
    "        elif x < 0 or x % 10 == 0:\n",
    "            return False\n",
    "        else:\n",
    "            rev = 0\n",
    "            while x > rev:\n",
    "                mod = x % 10\n",
    "                x = int(x/10)\n",
    "                rev = rev * 10 + mod\n",
    "\n",
    "            return x == rev or int(rev/10) == x\n",
    "\n",
    "    n = int(n)\n",
    "\n",
    "    for i in range(1, n + 1):\n",
    "        left = n - i\n",
    "        right = n + i\n",
    "        if isPalindrome(left):\n",
    "            return str(left)\n",
    "        elif isPalindrome(right):\n",
    "            return str(right)\n",
    "        else:\n",
    "            pass\n",
    "    "
   ]
  },
  {
   "cell_type": "code",
   "execution_count": 78,
   "metadata": {},
   "outputs": [
    {
     "name": "stdout",
     "output_type": "stream",
     "text": [
      "['1', '2', '0', '', '11']\n"
     ]
    },
    {
     "data": {
      "text/plain": [
       "'0'"
      ]
     },
     "execution_count": 78,
     "metadata": {},
     "output_type": "execute_result"
    }
   ],
   "source": [
    "nearestPalindromic('1')"
   ]
  },
  {
   "cell_type": "code",
   "execution_count": 81,
   "metadata": {},
   "outputs": [],
   "source": [
    "for i in range(1, 100000):\n",
    "    if brute_force(str(i)) != nearestPalindromic(str(i)):\n",
    "        print(i)"
   ]
  },
  {
   "cell_type": "markdown",
   "metadata": {},
   "source": [
    "# Footnotes"
   ]
  }
 ],
 "metadata": {
  "hide_input": false,
  "interpreter": {
   "hash": "76a7b5324f028f295860f76a31df2338ff50596517c2606a79177bbdafd1d5be"
  },
  "kernelspec": {
   "display_name": "Python 3.7.11 64-bit ('leetcode': conda)",
   "name": "python3"
  },
  "language_info": {
   "codemirror_mode": {
    "name": "ipython",
    "version": 3
   },
   "file_extension": ".py",
   "mimetype": "text/x-python",
   "name": "python",
   "nbconvert_exporter": "python",
   "pygments_lexer": "ipython3",
   "version": "3.7.11"
  },
  "latex_envs": {
   "LaTeX_envs_menu_present": true,
   "autoclose": false,
   "autocomplete": true,
   "bibliofile": "biblio.bib",
   "cite_by": "apalike",
   "current_citInitial": 1,
   "eqLabelWithNumbers": true,
   "eqNumInitial": 1,
   "hotkeys": {
    "equation": "Ctrl-E",
    "itemize": "Ctrl-I"
   },
   "labels_anchors": false,
   "latex_user_defs": false,
   "report_style_numbering": false,
   "user_envs_cfg": false
  },
  "toc": {
   "base_numbering": 1,
   "nav_menu": {},
   "number_sections": true,
   "sideBar": true,
   "skip_h1_title": false,
   "title_cell": "Table of Contents",
   "title_sidebar": "Contents",
   "toc_cell": false,
   "toc_position": {},
   "toc_section_display": true,
   "toc_window_display": false
  }
 },
 "nbformat": 4,
 "nbformat_minor": 4
}
