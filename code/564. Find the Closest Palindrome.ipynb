{
 "cells": [
  {
   "cell_type": "markdown",
   "metadata": {},
   "source": [
    "# Problem\n",
    "\n",
    "Given a string `n` representing an integer, return *the closest integer (not including itself), which is a palindrome*. If there is a tie, return ***the smaller one***.\n",
    "\n",
    "The closest is defined as the absolute difference minimized between two integers.\n",
    "\n",
    " \n",
    "\n",
    "**Example 1:**\n",
    "\n",
    "```\n",
    "Input: n = \"123\"\n",
    "Output: \"121\"\n",
    "```\n",
    "\n",
    "**Example 2:**\n",
    "\n",
    "```\n",
    "Input: n = \"1\"\n",
    "Output: \"0\"\n",
    "Explanation: 0 and 2 are the closest palindromes but we return the smallest which is 0.\n",
    "```\n",
    "\n",
    " \n",
    "\n",
    "**Constraints:**\n",
    "\n",
    "- `1 <= n.length <= 18`\n",
    "- `n` consists of only digits.\n",
    "- `n` does not have leading zeros.\n",
    "- `n` is representing an integer in the range `[1, 10^18 - 1]`."
   ]
  },
  {
   "cell_type": "markdown",
   "metadata": {},
   "source": [
    "# Summary"
   ]
  },
  {
   "cell_type": "markdown",
   "metadata": {},
   "source": [
    "# Methods\n",
    "\n",
    "*cloest* means we need to compute the difference between the found integers and the inupt, if we can found multiple integers once. There might be two ways to find the cloest palindromic:\n",
    "\n",
    "+ using mathematics methods;\n",
    "+ using string methods."
   ]
  },
  {
   "cell_type": "markdown",
   "metadata": {},
   "source": [
    "## Method 1 Brute Force\n",
    "\n",
    "+ **Time complexity**: $O(n)$\n",
    "+ **Space complexity**: $O(1)$\n",
    "\n",
    "Increase/decrease the input integer, and check the results whether a palindromic number.\n",
    "\n",
    "steps:\n",
    "1. convert `n` to `int`;\n",
    "2. increment/decrement by 1, and check the results whether a palindromic number, if the smaller one is, the return it;\n",
    "3. repeat step 2 until we find a palindrome.\n",
    "\n",
    "OUT OF TIME.\n"
   ]
  },
  {
   "cell_type": "code",
   "execution_count": null,
   "metadata": {},
   "outputs": [],
   "source": [
    "class Solution:\n",
    "    def nearestPalindromic(self, n: str) -> str:\n",
    "\n",
    "        def isPalindrome(x: int) -> bool:\n",
    "            if 0 <= x <= 9:\n",
    "                return True\n",
    "            elif x < 0 or x % 10 == 0:\n",
    "                return False\n",
    "            else:\n",
    "                rev = 0\n",
    "                while x > rev:\n",
    "                    mod = x % 10\n",
    "                    x = int(x/10)\n",
    "                    rev = rev * 10 + mod\n",
    "\n",
    "                return x == rev or int(rev/10) == x\n",
    "\n",
    "        n = int(n)\n",
    "\n",
    "        for i in range(n + 1):\n",
    "            left = n - i\n",
    "            right = n + i\n",
    "            if isPalindrome(left):\n",
    "                return str(left)\n",
    "            elif isPalindrome(right):\n",
    "                return str(right)\n",
    "            else:\n",
    "                pass\n",
    "        "
   ]
  },
  {
   "cell_type": "markdown",
   "metadata": {},
   "source": [
    "# Footnotes"
   ]
  }
 ],
 "metadata": {
  "hide_input": false,
  "interpreter": {
   "hash": "76a7b5324f028f295860f76a31df2338ff50596517c2606a79177bbdafd1d5be"
  },
  "kernelspec": {
   "display_name": "Python 3.7.11 64-bit ('leetcode': conda)",
   "name": "python3"
  },
  "language_info": {
   "codemirror_mode": {
    "name": "ipython",
    "version": 3
   },
   "file_extension": ".py",
   "mimetype": "text/x-python",
   "name": "python",
   "nbconvert_exporter": "python",
   "pygments_lexer": "ipython3",
   "version": "3.7.11"
  },
  "latex_envs": {
   "LaTeX_envs_menu_present": true,
   "autoclose": false,
   "autocomplete": true,
   "bibliofile": "biblio.bib",
   "cite_by": "apalike",
   "current_citInitial": 1,
   "eqLabelWithNumbers": true,
   "eqNumInitial": 1,
   "hotkeys": {
    "equation": "Ctrl-E",
    "itemize": "Ctrl-I"
   },
   "labels_anchors": false,
   "latex_user_defs": false,
   "report_style_numbering": false,
   "user_envs_cfg": false
  },
  "toc": {
   "base_numbering": 1,
   "nav_menu": {},
   "number_sections": true,
   "sideBar": true,
   "skip_h1_title": false,
   "title_cell": "Table of Contents",
   "title_sidebar": "Contents",
   "toc_cell": false,
   "toc_position": {},
   "toc_section_display": true,
   "toc_window_display": false
  }
 },
 "nbformat": 4,
 "nbformat_minor": 4
}
