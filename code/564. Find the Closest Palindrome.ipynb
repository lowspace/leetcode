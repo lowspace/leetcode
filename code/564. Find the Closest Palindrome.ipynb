{
 "cells": [
  {
   "cell_type": "markdown",
   "metadata": {},
   "source": [
    "# Problem\n",
    "\n",
    "Given a string `n` representing an integer, return *the closest integer (not including itself), which is a palindrome*. If there is a tie, return ***the smaller one***.\n",
    "\n",
    "The closest is defined as the absolute difference minimized between two integers.\n",
    "\n",
    " \n",
    "\n",
    "**Example 1:**\n",
    "\n",
    "```\n",
    "Input: n = \"123\"\n",
    "Output: \"121\"\n",
    "```\n",
    "\n",
    "**Example 2:**\n",
    "\n",
    "```\n",
    "Input: n = \"1\"\n",
    "Output: \"0\"\n",
    "Explanation: 0 and 2 are the closest palindromes but we return the smallest which is 0.\n",
    "```\n",
    "\n",
    " \n",
    "\n",
    "**Constraints:**\n",
    "\n",
    "- `1 <= n.length <= 18`\n",
    "- `n` consists of only digits.\n",
    "- `n` does not have leading zeros.\n",
    "- `n` is representing an integer in the range `[1, 10^18 - 1]`."
   ]
  },
  {
   "cell_type": "markdown",
   "metadata": {},
   "source": [
    "# Summary"
   ]
  },
  {
   "cell_type": "markdown",
   "metadata": {},
   "source": [
    "# Methods\n",
    "\n",
    "*cloest* means we need to compute the difference between the found integers and the inupt, if we can found multiple integers once. There might be two ways to find the cloest palindromic:\n",
    "\n",
    "+ using mathematics methods;\n",
    "+ using string methods."
   ]
  },
  {
   "cell_type": "markdown",
   "metadata": {},
   "source": [
    "## Method 1 [DEPRECATED] Brute Force\n",
    "\n",
    "+ **Time complexity**: $O(n)$\n",
    "+ **Space complexity**: $O(1)$\n",
    "\n",
    "Increase/decrease the input integer, and check the results whether a palindromic number.\n",
    "\n",
    "steps:\n",
    "1. convert `n` to `int`;\n",
    "2. increment/decrement by 1, and check the results whether a palindromic number, if the smaller one is, the return it;\n",
    "3. repeat step 2 until we find a palindrome.\n",
    "\n",
    "OUT OF TIME."
   ]
  },
  {
   "cell_type": "code",
   "execution_count": 114,
   "metadata": {},
   "outputs": [],
   "source": [
    "class Solution:\n",
    "    def nearestPalindromic(self, n: str) -> str:\n",
    "\n",
    "        def isPalindrome(x: int) -> bool:\n",
    "            if 0 <= x <= 9:\n",
    "                return True\n",
    "            elif x < 0 or x % 10 == 0:\n",
    "                return False\n",
    "            else:\n",
    "                rev = 0\n",
    "                while x > rev:\n",
    "                    mod = x % 10\n",
    "                    x = int(x/10)\n",
    "                    rev = rev * 10 + mod\n",
    "\n",
    "                return x == rev or int(rev/10) == x\n",
    "\n",
    "        n = int(n)\n",
    "\n",
    "        for i in range(1, n + 1):\n",
    "            left = n - i\n",
    "            right = n + i\n",
    "            if isPalindrome(left):\n",
    "                return str(left)\n",
    "            elif isPalindrome(right):\n",
    "                return str(right)\n",
    "            else:\n",
    "                pass\n",
    "        "
   ]
  },
  {
   "cell_type": "markdown",
   "metadata": {},
   "source": [
    "## Method 2 [DEPRECATED] Rule-based: String\n",
    "\n",
    "Thinking about the pattern of the closest palindrome.\n",
    "\n",
    "+ modify the number with ones, then tens, hundreds, thousands ...\n",
    "+ modification should always towards the value at the corresponding position and not exceed it, such as 423, modify 3 to 4 at most; 235, modify 5 to 2 at least\n",
    "+ the input should not be the power of 10, 100, 1000, ... and so on, since it is difficult to borrow or to carry.\n",
    "\n",
    "The special cases:\n",
    "\n",
    "+ 10, 100, 1000;\n",
    "+ 11, 101, 10001;\n"
   ]
  },
  {
   "cell_type": "code",
   "execution_count": 83,
   "metadata": {},
   "outputs": [],
   "source": [
    "class Solution:\n",
    "    def nearestPalindromic(self, n: str) -> str:\n",
    "        if int(n) % 10 == 0:\n",
    "            return str(int(n) - 1)\n",
    "        if n == n[::-1]:\n",
    "            if len(n) % 2 == 0:\n",
    "                median = int(n[int(len(n)/2)])\n",
    "                print(median)\n",
    "                if median != 0:\n",
    "                    n = n[:int(len(n)/2 - 1)] + str(median - 1) * 2 + n[:int(len(n)/2 - 1)][::-1]\n",
    "                else:\n",
    "                    n = n[:int(len(n)/2 - 1)] + '11' + n[:int(len(n)/2 - 1)][::-1]\n",
    "                return n\n",
    "            else:\n",
    "                median = int(n[int(len(n)/2)])\n",
    "                print(median)\n",
    "                if median != 0:\n",
    "                    n = n[:int(len(n)/2)] + str(median - 1) + n[:int(len(n)/2)][::-1]\n",
    "                else:\n",
    "                    n = n[:int(len(n)/2)] +'1' + n[:int(len(n)/2)][::-1]\n",
    "                return n\n",
    "        else:\n",
    "            if len(n) % 2 == 0:\n",
    "                n = n[:int(len(n)/2)] + n[:int(len(n)/2)][::-1] \n",
    "            else:\n",
    "                n = n[:int(len(n)/2)+1] + n[:int(len(n)/2)][::-1] \n",
    "\n",
    "            return n\n"
   ]
  },
  {
   "cell_type": "markdown",
   "metadata": {},
   "source": [
    "## Method 3: Rule-based: pattern\n",
    "\n",
    "+ **Time complexity**: $O(1)$\n",
    "+ **Space complexity**: $O(1)$"
   ]
  },
  {
   "cell_type": "markdown",
   "metadata": {},
   "source": [
    "### Version 1 Navie 5 Form Pattern\n",
    "\n",
    "Candicates:\n",
    "\n",
    "+ Form 1: the palindrome form of `n`, such as `1221` from `1222`.\n",
    "+ Form 2: increment 1 at the median value, such as `1221` from `1111`, and `141` from `131`.\n",
    "+ Form 3: decrement 1 at the medain value, such as `1001` from `1111`, and `121` from `131`.\n",
    "+ Form 4: borrow form of `n`, such as `99` from `101`, and `999` from `1001`. This form is the special form of *Form 3* since it changes the length of `n`.\n",
    "+ Form 5: carry form of `n`, such as `101` from `99`, and `1001` from `999`. This form is the special form of *Form 2* since it changes the length of `n`.\n",
    "\n",
    "Form 1 to form 3 are basis forms, while form 4 and form 5 are special forms derived from the basic. It's pretty difficult to generate a mathematical rule here to gather form 2 and form 5 together or to gather form 3 and form 4 together. Thus we can list the special cases for each scenario.\n",
    "\n",
    "steps:\n",
    "\n",
    "1. find the palindrome of that int;\n",
    "2. get the candicates of that palindrom;\n",
    "3. compare the difference."
   ]
  },
  {
   "cell_type": "code",
   "execution_count": 82,
   "metadata": {},
   "outputs": [],
   "source": [
    "class Solution:\n",
    "    def nearestPalindromic(self, n: str) -> str:\n",
    "        # find the palindrome form of n\n",
    "        if len(n) % 2 == 0:\n",
    "            palindromic_n = n[:int(len(n)/2)] + n[:int(len(n)/2)][::-1]\n",
    "        else:\n",
    "            palindromic_n = n[:int(len(n)/2 + 1)] + n[:int(len(n)/2)][::-1]\n",
    "\n",
    "        # get the candicates\n",
    "        candicates = []\n",
    "        # Form 1: palindromic_n itself\n",
    "        candicates.append(palindromic_n)\n",
    "        # Form 2 and Form 3\n",
    "        if len(n) % 2 == 0:\n",
    "            # Form 2: increment 1\n",
    "            first_half = str(int(n[:int(len(n)/2)]) + 1)\n",
    "            increment_n = first_half + first_half[::-1]\n",
    "            candicates.append(increment_n)\n",
    "            # Form 3: decrement 1\n",
    "            first_half = str(int(n[:int(len(n)/2)]) - 1)\n",
    "            decrement_n = first_half + first_half[::-1]\n",
    "            candicates.append(decrement_n)\n",
    "        else:\n",
    "            # Form 2: increment 1\n",
    "            first_half = str(int(n[:int(len(n)/2 + 1)]) + 1)\n",
    "            increment_n = first_half + first_half[:-1][::-1]\n",
    "            candicates.append(increment_n)\n",
    "            # Form 3: decrement 1\n",
    "            first_half = str(int(n[:int(len(n)/2 + 1)]) - 1)\n",
    "            decrement_n = first_half + first_half[:-1][::-1]\n",
    "            candicates.append(decrement_n)\n",
    "        # Form 4: '9' * len(n), borrow form\n",
    "        borrow_n = '9' * (len(n) - 1)\n",
    "        candicates.append(borrow_n)\n",
    "        # Form 5: '10...01', carry form\n",
    "        carry_n = '1' + '0' * (len(n) - 1) + '1'\n",
    "        candicates.append(carry_n)\n",
    "\n",
    "        diff = None\n",
    "        result = None\n",
    "        for c in candicates:\n",
    "            if c:\n",
    "                r = abs(int(c) - int(n))\n",
    "                if r: # not same\n",
    "                    if diff is None:\n",
    "                        diff = r\n",
    "                        result = c\n",
    "                    else:\n",
    "                        if r < diff:\n",
    "                            diff = r\n",
    "                            result = c  \n",
    "                        elif r == diff:\n",
    "                            result = str(min(int(c), int(result)))   \n",
    "        \n",
    "        return result"
   ]
  },
  {
   "cell_type": "markdown",
   "metadata": {},
   "source": [
    "### Version 2 Fancy 3 Form Pattern\n",
    "\n",
    "The palindrome $abcd$ can be decoded as\n",
    "$$ abcd = (ab) \\times 10^n + cd$$\n",
    "where $ab$ denotes as $l$ and $cd$ denotes as $r$, and both of them represent the value of $ab$ and $cd$; $k$ denotes $ab$ has $k$ digits, $m$ denotes $cd$ has $m$ digits, and $t$ is the total digits of that number, $t = k + m $.\n",
    "\n",
    "Special cases:\n",
    "\n",
    "+ $10$ -> $00$, wrong borrow. Map $1\\text{x}$ to $9$ directly.\n",
    "+ $1000$ -> $99$, inbalance left and right. $k \\geq m$;\n",
    "+ $1$ -> $9$, wrong map. Restrict the length of $k$ and $m$."
   ]
  },
  {
   "cell_type": "code",
   "execution_count": null,
   "metadata": {},
   "outputs": [],
   "source": [
    "class Solution:\n",
    "    def nearestPalindromic(self, n: str) -> str:\n",
    "        candicates = []\n",
    "        \n",
    "        m = int(len(n)/2)\n",
    "        k = len(n) - m\n",
    "        l = n[:k]\n",
    "\n",
    "        # Form 1: palindromic_n itself\n",
    "        palindromic_n = l + l[:m][::-1]\n",
    "        candicates.append(palindromic_n)\n",
    "        # Form 2: increment 1\n",
    "        increment_l = str(int(l) + 1)\n",
    "        increment_n = increment_l + increment_l[:m][::-1]\n",
    "        candicates.append(increment_n)\n",
    "        # Form 3: decrement 1\n",
    "        decrement_l = str(int(l) - 1)\n",
    "        # print(decrement_l)\n",
    "        if decrement_l == '0' and m != 0:\n",
    "            decrement_n = '9'\n",
    "        elif len(decrement_l) < m:\n",
    "            decrement_n = '9' * (len(decrement_l) + m)\n",
    "        else:\n",
    "            decrement_n = decrement_l + decrement_l[:m][::-1]\n",
    "        candicates.append(decrement_n)\n",
    "\n",
    "        diff = None\n",
    "        result = None\n",
    "        for c in candicates:\n",
    "            if c:\n",
    "                r = abs(int(c) - int(n))\n",
    "                if r: # not same\n",
    "                    if diff is None:\n",
    "                        diff = r\n",
    "                        result = c\n",
    "                    else:\n",
    "                        if r < diff:\n",
    "                            diff = r\n",
    "                            result = c  \n",
    "                        elif r == diff:\n",
    "                            result = str(min(int(c), int(result)))   \n",
    "\n",
    "        return result\n"
   ]
  },
  {
   "cell_type": "markdown",
   "metadata": {},
   "source": [
    "SOLUTION TEST [Multiprocessing]"
   ]
  },
  {
   "cell_type": "code",
   "execution_count": 169,
   "metadata": {},
   "outputs": [],
   "source": [
    "def nearestPalindromic(n: str) -> str:\n",
    "    candicates = []\n",
    "    \n",
    "    m = int(len(n)/2)\n",
    "    k = len(n) - m\n",
    "    l = n[:k]\n",
    "\n",
    "    # Form 1: palindromic_n itself\n",
    "    palindromic_n = l + l[:m][::-1]\n",
    "    candicates.append(palindromic_n)\n",
    "    # Form 2: increment 1\n",
    "    increment_l = str(int(l) + 1)\n",
    "    increment_n = increment_l + increment_l[:m][::-1]\n",
    "    candicates.append(increment_n)\n",
    "    # Form 3: decrement 1\n",
    "    decrement_l = str(int(l) - 1)\n",
    "    # print(decrement_l)\n",
    "    if decrement_l == '0' and m != 0:\n",
    "        decrement_n = '9'\n",
    "    elif len(decrement_l) < m:\n",
    "        decrement_n = '9' * (len(decrement_l) + m)\n",
    "    else:\n",
    "        decrement_n = decrement_l + decrement_l[:m][::-1]\n",
    "    candicates.append(decrement_n)\n",
    "\n",
    "    diff = None\n",
    "    result = None\n",
    "    for c in candicates:\n",
    "        if c:\n",
    "            r = abs(int(c) - int(n))\n",
    "            if r: # not same\n",
    "                if diff is None:\n",
    "                    diff = r\n",
    "                    result = c\n",
    "                else:\n",
    "                    if r < diff:\n",
    "                        diff = r\n",
    "                        result = c  \n",
    "                    elif r == diff:\n",
    "                        result = str(min(int(c), int(result)))   \n",
    "\n",
    "    return result"
   ]
  },
  {
   "cell_type": "code",
   "execution_count": 195,
   "metadata": {},
   "outputs": [],
   "source": [
    "def nearestPalindromic(n):\n",
    "    \"\"\"\n",
    "    :type n: str\n",
    "    :rtype: str\n",
    "    \"\"\"\n",
    "    # based on @awice and @o_sharp\n",
    "    l = len(n)\n",
    "    # with different digits width, it must be either 10...01 or 9...9\n",
    "    candidates = set((str(10 ** l + 1), str(10 ** (l - 1) - 1)))\n",
    "    # the closest must be in middle digit +1, 0, -1, then flip left to right\n",
    "    prefix = int(n[:int((l + 1)/2)])\n",
    "    print(candidates, prefix)\n",
    "    for i in map(str, (prefix - 1, prefix, prefix + 1)):\n",
    "        print([i, i[:-1]])\n",
    "        print([i, i[:-1]][l & 1])\n",
    "        candidates.add(i + [i, i[:-1]][l & 1][::-1])\n",
    "    candidates.discard(n)\n",
    "    return min(candidates, key=lambda x: (abs(int(x) - int(n)), int(x)))"
   ]
  },
  {
   "cell_type": "code",
   "execution_count": 203,
   "metadata": {},
   "outputs": [
    {
     "data": {
      "text/plain": [
       "1"
      ]
     },
     "execution_count": 203,
     "metadata": {},
     "output_type": "execute_result"
    }
   ],
   "source": [
    "1 & 1"
   ]
  },
  {
   "cell_type": "code",
   "execution_count": 204,
   "metadata": {},
   "outputs": [
    {
     "name": "stdout",
     "output_type": "stream",
     "text": [
      "{'10001', '999'} 10\n",
      "['9', '']\n",
      "9\n",
      "['10', '1']\n",
      "10\n",
      "['11', '1']\n",
      "11\n"
     ]
    },
    {
     "data": {
      "text/plain": [
       "'999'"
      ]
     },
     "execution_count": 204,
     "metadata": {},
     "output_type": "execute_result"
    }
   ],
   "source": [
    "nearestPalindromic('1000')"
   ]
  },
  {
   "cell_type": "code",
   "execution_count": 144,
   "metadata": {},
   "outputs": [],
   "source": [
    "def brute_force(n: str) -> str:\n",
    "\n",
    "    def isPalindrome(x: int) -> bool:\n",
    "        if 0 <= x <= 9:\n",
    "            return True\n",
    "        elif x < 0 or x % 10 == 0:\n",
    "            return False\n",
    "        else:\n",
    "            rev = 0\n",
    "            while x > rev:\n",
    "                mod = x % 10\n",
    "                x = int(x/10)\n",
    "                rev = rev * 10 + mod\n",
    "\n",
    "            return x == rev or int(rev/10) == x\n",
    "\n",
    "    n = int(n)\n",
    "\n",
    "    for i in range(1, n + 1):\n",
    "        left = n - i\n",
    "        right = n + i\n",
    "        if isPalindrome(left):\n",
    "            return str(left)\n",
    "        elif isPalindrome(right):\n",
    "            return str(right)\n",
    "        else:\n",
    "            pass\n",
    "    "
   ]
  },
  {
   "cell_type": "code",
   "execution_count": 182,
   "metadata": {},
   "outputs": [
    {
     "ename": "ValueError",
     "evalue": "invalid literal for int() with base 10: '-1-'",
     "output_type": "error",
     "traceback": [
      "\u001b[0;31m---------------------------------------------------------------------------\u001b[0m",
      "\u001b[0;31mRemoteTraceback\u001b[0m                           Traceback (most recent call last)",
      "\u001b[0;31mRemoteTraceback\u001b[0m: \n\"\"\"\nTraceback (most recent call last):\n  File \"/Users/dnhb/opt/anaconda3/envs/leetcode/lib/python3.7/multiprocessing/pool.py\", line 121, in worker\n    result = (True, func(*args, **kwds))\n  File \"/Users/dnhb/opt/anaconda3/envs/leetcode/lib/python3.7/multiprocessing/pool.py\", line 44, in mapstar\n    return list(map(*args))\n  File \"/var/folders/zt/br8fkpx52gl87ltrz_3731mh0000gn/T/ipykernel_56447/2081359557.py\", line 6, in compare\n    if brute_force(str(i)) != nearestPalindromic(str(i)):\n  File \"/var/folders/zt/br8fkpx52gl87ltrz_3731mh0000gn/T/ipykernel_56447/846421122.py\", line 15, in nearestPalindromic\n    return min(candidates, key=lambda x: (abs(int(x) - int(n)), int(x)))\n  File \"/var/folders/zt/br8fkpx52gl87ltrz_3731mh0000gn/T/ipykernel_56447/846421122.py\", line 15, in <lambda>\n    return min(candidates, key=lambda x: (abs(int(x) - int(n)), int(x)))\nValueError: invalid literal for int() with base 10: '-1-'\n\"\"\"",
      "\nThe above exception was the direct cause of the following exception:\n",
      "\u001b[0;31mValueError\u001b[0m                                Traceback (most recent call last)",
      "\u001b[0;32m/var/folders/zt/br8fkpx52gl87ltrz_3731mh0000gn/T/ipykernel_56447/2081359557.py\u001b[0m in \u001b[0;36m<module>\u001b[0;34m\u001b[0m\n\u001b[1;32m     26\u001b[0m \u001b[0;34m\u001b[0m\u001b[0m\n\u001b[1;32m     27\u001b[0m         \u001b[0mstartTime\u001b[0m \u001b[0;34m=\u001b[0m \u001b[0mtm\u001b[0m\u001b[0;34m.\u001b[0m\u001b[0mtime\u001b[0m\u001b[0;34m(\u001b[0m\u001b[0;34m)\u001b[0m\u001b[0;34m\u001b[0m\u001b[0;34m\u001b[0m\u001b[0m\n\u001b[0;32m---> 28\u001b[0;31m         \u001b[0mpool\u001b[0m\u001b[0;34m.\u001b[0m\u001b[0mmap\u001b[0m\u001b[0;34m(\u001b[0m\u001b[0mcompare\u001b[0m\u001b[0;34m,\u001b[0m \u001b[0mgenerate_list\u001b[0m\u001b[0;34m(\u001b[0m\u001b[0;36m1000\u001b[0m\u001b[0;34m)\u001b[0m\u001b[0;34m)\u001b[0m\u001b[0;34m\u001b[0m\u001b[0;34m\u001b[0m\u001b[0m\n\u001b[0m\u001b[1;32m     29\u001b[0m         \u001b[0mendTime\u001b[0m \u001b[0;34m=\u001b[0m \u001b[0mtm\u001b[0m\u001b[0;34m.\u001b[0m\u001b[0mtime\u001b[0m\u001b[0;34m(\u001b[0m\u001b[0;34m)\u001b[0m\u001b[0;34m\u001b[0m\u001b[0;34m\u001b[0m\u001b[0m\n\u001b[1;32m     30\u001b[0m         \u001b[0mprint\u001b[0m\u001b[0;34m(\u001b[0m\u001b[0;34m\"Total time:\"\u001b[0m \u001b[0;34m+\u001b[0m \u001b[0;34m(\u001b[0m\u001b[0mendTime\u001b[0m \u001b[0;34m-\u001b[0m \u001b[0mstartTime\u001b[0m\u001b[0;34m)\u001b[0m\u001b[0;34m.\u001b[0m\u001b[0m__str__\u001b[0m\u001b[0;34m(\u001b[0m\u001b[0;34m)\u001b[0m\u001b[0;34m)\u001b[0m\u001b[0;34m\u001b[0m\u001b[0;34m\u001b[0m\u001b[0m\n",
      "\u001b[0;32m~/opt/anaconda3/envs/leetcode/lib/python3.7/multiprocessing/pool.py\u001b[0m in \u001b[0;36mmap\u001b[0;34m(self, func, iterable, chunksize)\u001b[0m\n\u001b[1;32m    266\u001b[0m         \u001b[0;32min\u001b[0m \u001b[0ma\u001b[0m \u001b[0mlist\u001b[0m \u001b[0mthat\u001b[0m \u001b[0;32mis\u001b[0m \u001b[0mreturned\u001b[0m\u001b[0;34m.\u001b[0m\u001b[0;34m\u001b[0m\u001b[0;34m\u001b[0m\u001b[0m\n\u001b[1;32m    267\u001b[0m         '''\n\u001b[0;32m--> 268\u001b[0;31m         \u001b[0;32mreturn\u001b[0m \u001b[0mself\u001b[0m\u001b[0;34m.\u001b[0m\u001b[0m_map_async\u001b[0m\u001b[0;34m(\u001b[0m\u001b[0mfunc\u001b[0m\u001b[0;34m,\u001b[0m \u001b[0miterable\u001b[0m\u001b[0;34m,\u001b[0m \u001b[0mmapstar\u001b[0m\u001b[0;34m,\u001b[0m \u001b[0mchunksize\u001b[0m\u001b[0;34m)\u001b[0m\u001b[0;34m.\u001b[0m\u001b[0mget\u001b[0m\u001b[0;34m(\u001b[0m\u001b[0;34m)\u001b[0m\u001b[0;34m\u001b[0m\u001b[0;34m\u001b[0m\u001b[0m\n\u001b[0m\u001b[1;32m    269\u001b[0m \u001b[0;34m\u001b[0m\u001b[0m\n\u001b[1;32m    270\u001b[0m     \u001b[0;32mdef\u001b[0m \u001b[0mstarmap\u001b[0m\u001b[0;34m(\u001b[0m\u001b[0mself\u001b[0m\u001b[0;34m,\u001b[0m \u001b[0mfunc\u001b[0m\u001b[0;34m,\u001b[0m \u001b[0miterable\u001b[0m\u001b[0;34m,\u001b[0m \u001b[0mchunksize\u001b[0m\u001b[0;34m=\u001b[0m\u001b[0;32mNone\u001b[0m\u001b[0;34m)\u001b[0m\u001b[0;34m:\u001b[0m\u001b[0;34m\u001b[0m\u001b[0;34m\u001b[0m\u001b[0m\n",
      "\u001b[0;32m~/opt/anaconda3/envs/leetcode/lib/python3.7/multiprocessing/pool.py\u001b[0m in \u001b[0;36mget\u001b[0;34m(self, timeout)\u001b[0m\n\u001b[1;32m    655\u001b[0m             \u001b[0;32mreturn\u001b[0m \u001b[0mself\u001b[0m\u001b[0;34m.\u001b[0m\u001b[0m_value\u001b[0m\u001b[0;34m\u001b[0m\u001b[0;34m\u001b[0m\u001b[0m\n\u001b[1;32m    656\u001b[0m         \u001b[0;32melse\u001b[0m\u001b[0;34m:\u001b[0m\u001b[0;34m\u001b[0m\u001b[0;34m\u001b[0m\u001b[0m\n\u001b[0;32m--> 657\u001b[0;31m             \u001b[0;32mraise\u001b[0m \u001b[0mself\u001b[0m\u001b[0;34m.\u001b[0m\u001b[0m_value\u001b[0m\u001b[0;34m\u001b[0m\u001b[0;34m\u001b[0m\u001b[0m\n\u001b[0m\u001b[1;32m    658\u001b[0m \u001b[0;34m\u001b[0m\u001b[0m\n\u001b[1;32m    659\u001b[0m     \u001b[0;32mdef\u001b[0m \u001b[0m_set\u001b[0m\u001b[0;34m(\u001b[0m\u001b[0mself\u001b[0m\u001b[0;34m,\u001b[0m \u001b[0mi\u001b[0m\u001b[0;34m,\u001b[0m \u001b[0mobj\u001b[0m\u001b[0;34m)\u001b[0m\u001b[0;34m:\u001b[0m\u001b[0;34m\u001b[0m\u001b[0;34m\u001b[0m\u001b[0m\n",
      "\u001b[0;31mValueError\u001b[0m: invalid literal for int() with base 10: '-1-'"
     ]
    }
   ],
   "source": [
    "import time as tm\n",
    "from multiprocessing import Pool\n",
    "\n",
    "def compare(l: list):\n",
    "    for i in l:\n",
    "        if brute_force(str(i)) != nearestPalindromic(str(i)):\n",
    "            print(i)\n",
    "\n",
    "    return\n",
    "\n",
    "def generate_list(n: int):\n",
    "    r = []\n",
    "    quartile = [0, 0.25, 0.5, 0.75, 1]\n",
    "\n",
    "    for i in range(len(quartile) - 1):\n",
    "        left = int(quartile[i] * n)\n",
    "        right = int(quartile[i+1] * n)\n",
    "        r.append([j for j in range(left, right)])\n",
    "    \n",
    "    return r\n",
    "\n",
    "if __name__ == '__main__':\n",
    "        \n",
    "    # construct the # of pools corresponding to the cpu_count in ur PC\n",
    "    with Pool(4) as pool:\n",
    "\n",
    "        startTime = tm.time()\n",
    "        pool.map(compare, generate_list(1000))\n",
    "        endTime = tm.time()\n",
    "        print(\"Total time:\" + (endTime - startTime).__str__())"
   ]
  },
  {
   "cell_type": "markdown",
   "metadata": {},
   "source": [
    "# Footnotes"
   ]
  }
 ],
 "metadata": {
  "hide_input": false,
  "interpreter": {
   "hash": "76a7b5324f028f295860f76a31df2338ff50596517c2606a79177bbdafd1d5be"
  },
  "kernelspec": {
   "display_name": "Python 3.7.11 64-bit ('leetcode': conda)",
   "name": "python3"
  },
  "language_info": {
   "codemirror_mode": {
    "name": "ipython",
    "version": 3
   },
   "file_extension": ".py",
   "mimetype": "text/x-python",
   "name": "python",
   "nbconvert_exporter": "python",
   "pygments_lexer": "ipython3",
   "version": "3.7.11"
  },
  "latex_envs": {
   "LaTeX_envs_menu_present": true,
   "autoclose": false,
   "autocomplete": true,
   "bibliofile": "biblio.bib",
   "cite_by": "apalike",
   "current_citInitial": 1,
   "eqLabelWithNumbers": true,
   "eqNumInitial": 1,
   "hotkeys": {
    "equation": "Ctrl-E",
    "itemize": "Ctrl-I"
   },
   "labels_anchors": false,
   "latex_user_defs": false,
   "report_style_numbering": false,
   "user_envs_cfg": false
  },
  "toc": {
   "base_numbering": 1,
   "nav_menu": {},
   "number_sections": true,
   "sideBar": true,
   "skip_h1_title": false,
   "title_cell": "Table of Contents",
   "title_sidebar": "Contents",
   "toc_cell": false,
   "toc_position": {},
   "toc_section_display": true,
   "toc_window_display": false
  }
 },
 "nbformat": 4,
 "nbformat_minor": 4
}
