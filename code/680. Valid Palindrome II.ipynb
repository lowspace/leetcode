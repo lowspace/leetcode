{
 "cells": [
  {
   "cell_type": "markdown",
   "metadata": {},
   "source": [
    "# Problem\n",
    "\n",
    "Given a string `s`, return `true` *if the* `s` *can be palindrome after deleting **at most one** character from it*.\n",
    "\n",
    " \n",
    "\n",
    "**Example 1:**\n",
    "\n",
    "```\n",
    "Input: s = \"aba\"\n",
    "Output: true\n",
    "```\n",
    "\n",
    "**Example 2:**\n",
    "\n",
    "```\n",
    "Input: s = \"abca\"\n",
    "Output: true\n",
    "Explanation: You could delete the character 'c'.\n",
    "```\n",
    "\n",
    "**Example 3:**\n",
    "\n",
    "```\n",
    "Input: s = \"abc\"\n",
    "Output: false\n",
    "```\n",
    "\n",
    " \n",
    "\n",
    "**Constraints:**\n",
    "\n",
    "- `1 <= s.length <= 10^5`\n",
    "- `s` consists of lowercase English letters."
   ]
  },
  {
   "cell_type": "markdown",
   "metadata": {},
   "source": [
    "# Summary"
   ]
  },
  {
   "cell_type": "markdown",
   "metadata": {},
   "source": [
    "# Methods"
   ]
  },
  {
   "cell_type": "markdown",
   "metadata": {},
   "source": [
    "## Method 1 [DEPRECATED] Brute Force\n",
    "\n",
    "+ **Time Complexity**: $O(n)$\n",
    "+ **Space Complexity**: $O(n)$\n",
    "+ $n$ is the string length.\n",
    "\n",
    "OUT OF TIME."
   ]
  },
  {
   "cell_type": "code",
   "execution_count": 17,
   "metadata": {},
   "outputs": [],
   "source": [
    "class Solution:\n",
    "    def validPalindrome(self, s: str) -> bool:\n",
    "        if s == s[::-1]:\n",
    "            return True\n",
    "        else:\n",
    "            for i in range(1, len(s) + 1):\n",
    "                new_s = ''.join([s[:i-1], s[i:]])\n",
    "                if new_s == new_s[::-1]:\n",
    "                    return True\n",
    "\n",
    "            return False"
   ]
  },
  {
   "cell_type": "markdown",
   "metadata": {},
   "source": [
    "## Method 2 Two Pointer"
   ]
  },
  {
   "cell_type": "markdown",
   "metadata": {},
   "source": [
    "### Version 1 [DEPRECATED] Naive Two Pointer\n",
    "\n",
    "The idea is the compare the two character at the same position, if the two character are different, then move to the next character and compare but don't accept difference for the following comparisons.\n",
    "\n",
    "One important issue is I don't know how to determine which side is to be needed to move, if two side are available. For example, 'ab...ab'."
   ]
  },
  {
   "cell_type": "code",
   "execution_count": 70,
   "metadata": {},
   "outputs": [],
   "source": [
    "class Solution:\n",
    "    def validPalindrome(self, s: str) -> bool:\n",
    "        pointer = 0\n",
    "        anchor = len(s) - 1\n",
    "        cnt = 0\n",
    "\n",
    "        while cnt <= 1 and pointer <= anchor:\n",
    "            if s[pointer] == s[anchor]:\n",
    "                pointer += 1\n",
    "                anchor -= 1\n",
    "            else:\n",
    "                if s[pointer + 1] == s[anchor]:\n",
    "                    pointer += 2\n",
    "                    anchor -= 1\n",
    "                    cnt += 1\n",
    "                elif s[pointer] == s[anchor - 1]:\n",
    "                    pointer += 1\n",
    "                    anchor -= 2\n",
    "                    cnt += 1\n",
    "                else:\n",
    "                    return False\n",
    "\n",
    "        return cnt <= 1"
   ]
  },
  {
   "cell_type": "code",
   "execution_count": null,
   "metadata": {},
   "outputs": [],
   "source": [
    "class Solution:\n",
    "    def validPalindrome(self, s: str) -> bool:\n",
    "        pointer = 0\n",
    "        anchor = len(s) - 1\n",
    "        cnt = 0\n",
    "\n",
    "        while cnt <= 1 and pointer <= anchor:\n",
    "            if s[pointer] == s[anchor]:\n",
    "                pointer += 1\n",
    "                anchor -= 1\n",
    "            else:\n",
    "                if s[pointer + 1] == s[anchor] and s[pointer] != s[anchor - 1]:\n",
    "                    pointer += 2\n",
    "                    anchor -= 1\n",
    "                    cnt += 1\n",
    "                elif s[pointer] == s[anchor - 1] and s[pointer + 1] != s[anchor]:\n",
    "                    pointer += 1\n",
    "                    anchor -= 2\n",
    "                    cnt += 1\n",
    "                elif s[pointer] == s[anchor - 1] and s[pointer + 1] == s[anchor]:\n",
    "                    pass\n",
    "                else:\n",
    "                    break\n",
    "\n",
    "        return cnt <= 1"
   ]
  },
  {
   "cell_type": "code",
   "execution_count": 69,
   "metadata": {},
   "outputs": [
    {
     "data": {
      "text/plain": [
       "True"
      ]
     },
     "execution_count": 69,
     "metadata": {},
     "output_type": "execute_result"
    }
   ],
   "source": [
    "def validPalindrome(s: str) -> bool:\n",
    "    pointer = 0\n",
    "    anchor = len(s) - 1\n",
    "    cnt = 0\n",
    "\n",
    "    while cnt <= 1 and pointer <= anchor:\n",
    "        if s[pointer] == s[anchor]:\n",
    "            pointer += 1\n",
    "            anchor -= 1\n",
    "        else:\n",
    "            if s[pointer + 1] == s[anchor]:\n",
    "                pointer += 2\n",
    "                anchor -= 1\n",
    "                cnt += 1\n",
    "            elif s[pointer] == s[anchor - 1]:\n",
    "                pointer += 1\n",
    "                anchor -= 2\n",
    "                cnt += 1\n",
    "            else:\n",
    "                return False\n",
    "\n",
    "    return cnt <= 1\n",
    " \n",
    "def validPalindrome(s: str) -> bool:\n",
    "    pointer = 0\n",
    "    anchor = len(s) - 1\n",
    "    cnt = 0\n",
    "\n",
    "    while cnt <= 1 and pointer <= anchor:\n",
    "        if s[pointer] == s[anchor]:\n",
    "            pointer += 1\n",
    "            anchor -= 1\n",
    "        else:\n",
    "            if s[pointer] == s[anchor - 1]:\n",
    "                pointer += 1\n",
    "                anchor -= 2\n",
    "                cnt += 1\n",
    "            elif s[pointer + 1] == s[anchor]:\n",
    "                pointer += 2\n",
    "                anchor -= 1\n",
    "                cnt += 1\n",
    "            else:\n",
    "                return False\n",
    "\n",
    "    return cnt <= 1\n",
    "\n",
    "validPalindrome()"
   ]
  },
  {
   "cell_type": "code",
   "execution_count": 66,
   "metadata": {},
   "outputs": [
    {
     "name": "stdout",
     "output_type": "stream",
     "text": [
      "cnt1 1\n"
     ]
    },
    {
     "data": {
      "text/plain": [
       "True"
      ]
     },
     "execution_count": 66,
     "metadata": {},
     "output_type": "execute_result"
    }
   ],
   "source": [
    "def validPalindrome(s: str) -> bool:\n",
    "    pointer = 0\n",
    "    anchor = len(s) - 1\n",
    "    cnt1 = 0\n",
    "\n",
    "    while cnt1 <= 1 and pointer <= anchor:\n",
    "        if s[pointer] == s[anchor]:\n",
    "            pointer += 1\n",
    "            anchor -= 1\n",
    "        else:\n",
    "            if s[pointer + 1] == s[anchor]:\n",
    "                pointer += 2\n",
    "                anchor -= 1\n",
    "                cnt1 += 1\n",
    "            elif s[pointer] == s[anchor - 1]:\n",
    "                pointer += 1\n",
    "                anchor -= 2\n",
    "                cnt1 += 1\n",
    "            else:\n",
    "                cnt1 += 1\n",
    "                break\n",
    "    \n",
    "    print('cnt1', cnt1)\n",
    "    pointer = 0\n",
    "    anchor = len(s) - 1\n",
    "    cnt2 = 0\n",
    "\n",
    "    while cnt2 <= 1 and pointer <= anchor:\n",
    "        if s[pointer] == s[anchor]:\n",
    "            pointer += 1\n",
    "            anchor -= 1\n",
    "        else:\n",
    "            if s[pointer] == s[anchor - 1]:\n",
    "                pointer += 1\n",
    "                anchor -= 2\n",
    "                cnt2 += 1\n",
    "            elif s[pointer + 1] == s[anchor]:\n",
    "                pointer += 2\n",
    "                anchor -= 1\n",
    "                cnt2 += 1\n",
    "            else:\n",
    "                cnt2 += 1\n",
    "                break\n",
    "\n",
    "    return cnt1 <= 1 or cnt2 <= 1\n",
    "\n",
    "validPalindrome(\"123\")"
   ]
  },
  {
   "cell_type": "markdown",
   "metadata": {},
   "source": [
    "# Footnotes"
   ]
  },
  {
   "cell_type": "code",
   "execution_count": null,
   "metadata": {},
   "outputs": [],
   "source": [
    "# add the doc information to README\n",
    "from tools.setup import generate_row as g\n",
    "\n",
    "g()"
   ]
  }
 ],
 "metadata": {
  "hide_input": false,
  "kernelspec": {
   "display_name": "Python 3",
   "language": "python",
   "name": "python3"
  },
  "language_info": {
   "codemirror_mode": {
    "name": "ipython",
    "version": 3
   },
   "file_extension": ".py",
   "mimetype": "text/x-python",
   "name": "python",
   "nbconvert_exporter": "python",
   "pygments_lexer": "ipython3",
   "version": "3.7.11"
  },
  "latex_envs": {
   "LaTeX_envs_menu_present": true,
   "autoclose": false,
   "autocomplete": true,
   "bibliofile": "biblio.bib",
   "cite_by": "apalike",
   "current_citInitial": 1,
   "eqLabelWithNumbers": true,
   "eqNumInitial": 1,
   "hotkeys": {
    "equation": "Ctrl-E",
    "itemize": "Ctrl-I"
   },
   "labels_anchors": false,
   "latex_user_defs": false,
   "report_style_numbering": false,
   "user_envs_cfg": false
  },
  "toc": {
   "base_numbering": 1,
   "nav_menu": {},
   "number_sections": true,
   "sideBar": true,
   "skip_h1_title": false,
   "title_cell": "Table of Contents",
   "title_sidebar": "Contents",
   "toc_cell": false,
   "toc_position": {},
   "toc_section_display": true,
   "toc_window_display": false
  }
 },
 "nbformat": 4,
 "nbformat_minor": 4
}
