{
 "cells": [
  {
   "cell_type": "markdown",
   "source": [
    "# Problem\n",
    "\n",
    "Given two binary strings `a` and `b`, return *their sum as a binary string*.\n",
    "\n",
    " \n",
    "\n",
    "**Example 1:**\n",
    "\n",
    "```\n",
    "Input: a = \"11\", b = \"1\"\n",
    "Output: \"100\"\n",
    "```\n",
    "\n",
    "**Example 2:**\n",
    "\n",
    "```\n",
    "Input: a = \"1010\", b = \"1011\"\n",
    "Output: \"10101\"\n",
    "```\n",
    "\n",
    " \n",
    "\n",
    "**Constraints:**\n",
    "\n",
    "- `1 <= a.length, b.length <=` $10^4$\n",
    "- `a` and `b` consist only of `'0'` or `'1'` characters.\n",
    "- Each string does not contain leading zeros except for the zero itself."
   ],
   "metadata": {}
  },
  {
   "cell_type": "markdown",
   "source": [
    "# Summary\n",
    "\n",
    "**Watch out the index while slicing the list**:\n",
    "\n",
    "+ Obtain one element in the list. The index should from `0` to `len(l) - 1`.\n",
    "+ Obtain a sub list. \n",
    "\n",
    "    + `[:]` = the whole list; \n",
    "    + `[n:]` = from `n`th element to the last element;\n",
    "    + `[n:m]` = from `n`th element to the `m-1`th element;\n",
    "    + `[:m]` = from the first element to the `m-1`th element.\n",
    "\n",
    "**standard method to compute addition**:\n",
    "\n",
    "+ sum at the same position $\\rightarrow$;\n",
    "+ divide the addition results by the base (binary or decimal) and the results can be splitted into two parts:\n",
    "\n",
    "    1. the remainder;\n",
    "    2. the carry;\n",
    "    \n",
    "+ keep the remainder as the current result for current position, use the carry to do the next sum.\n",
    "\n",
    "**wise method to compute addition**:\n",
    "\n",
    "+ use `^` to get the unchange bits;\n",
    "+ use `&` and `<<` to obtain the carry bits;\n",
    "+ add the two together;\n",
    "+ repeat the above steps until carry is 0."
   ],
   "metadata": {}
  },
  {
   "cell_type": "markdown",
   "source": [
    "# Methods\n",
    "\n",
    "The methods in binary addition divides into two category:\n",
    "\n",
    "1. covert the binary into decimal;\n",
    "2. binary addition directly.\n",
    "\n",
    "The second catogory has multiple methods to do:\n",
    "\n",
    "+ pad and opearte the binary string;\n",
    "+ convert the `str` into `list`, and compute;\n",
    "+ bitwise operations;\n",
    "+ built-in functions.\n",
    "\n",
    "The built-in operation is fancy and shows knowledge about the Pyhton, but I have no idea about the time complexity and space complexity of this solution."
   ],
   "metadata": {}
  },
  {
   "cell_type": "markdown",
   "source": [
    "## Method 1\n",
    "\n",
    "Pretty straightforward method, transform the binary into decimal system, then sum them and convert the result into binary. \n",
    "\n",
    "This method has \n",
    "\n",
    "+ time complexity $O(n)$, which $n$ is the `max(len(a), len(b))`;\n",
    "+ space complexity $O(1)$."
   ],
   "metadata": {}
  },
  {
   "cell_type": "code",
   "execution_count": null,
   "source": [
    "class Solution:\n",
    "    def addBinary(self, a: str, b: str) -> str:\n",
    "        assert 1 <= len(a) <= 10 ** 4, 'The length of a should in [1, 10000].'\n",
    "        assert 1 <= len(b) <= 10 ** 4, 'The length of b should in [1, 10000].'\n",
    "\n",
    "        # pad the shorter string with 0 to make the two in the same length\n",
    "        if len(a) < len(b):\n",
    "            a = '0' * (len(b) - len(a)) + a\n",
    "        elif len(a) > len(b):\n",
    "            b = '0' * (len(a) - len(b)) + b\n",
    "\n",
    "        # convert a and b into decimal and sum them\n",
    "        a = a[::-1]\n",
    "        b = b[::-1]\n",
    "        s = 0\n",
    "        for i in range(len(a)):\n",
    "            if a[i] == '1':\n",
    "                s += 2 ** i\n",
    "            if b[i] == '1':\n",
    "                s += 2 ** i\n",
    "            \n",
    "        # convert the addition into decimal\n",
    "        i_s = ''\n",
    "        for i in range(len(a), -1, -1):\n",
    "            if s // 2 ** i == 1:\n",
    "                i_s += '1'\n",
    "                s -= 2 ** i\n",
    "            else:\n",
    "                i_s += '0'\n",
    "\n",
    "        # remove the 0 at the beginning\n",
    "        if i_s.startswith('0'):\n",
    "            i_s = i_s[1:]\n",
    "        \n",
    "        return i_s"
   ],
   "outputs": [],
   "metadata": {}
  },
  {
   "cell_type": "markdown",
   "source": [
    "Version 1"
   ],
   "metadata": {}
  },
  {
   "cell_type": "code",
   "execution_count": 10,
   "source": [
    "def addBinary(a: str, b: str) -> str:\n",
    "    assert 1 <= len(a) <= 10 ** 4, 'The length of a should in [1, 10000].'\n",
    "    assert 1 <= len(b) <= 10 ** 4, 'The length of b should in [1, 10000].'\n",
    "\n",
    "    # pad the shorter string with 0 to make the two in the same length\n",
    "    if len(a) < len(b):\n",
    "        a = '0' * (len(b) - len(a)) + a\n",
    "    elif len(a) > len(b):\n",
    "        b = '0' * (len(a) - len(b)) + b\n",
    "\n",
    "    # convert a and b into decimal and sum them\n",
    "    a = a[::-1]\n",
    "    b = b[::-1]\n",
    "    s = 0\n",
    "    for i in range(len(a)):\n",
    "        if a[i] == '1':\n",
    "            s += 2 ** i\n",
    "        if b[i] == '1':\n",
    "            s += 2 ** i\n",
    "        \n",
    "    # convert the addition into decimal\n",
    "    i_s = ''\n",
    "    for i in range(len(a), -1, -1):\n",
    "        if s // 2 ** i == 1:\n",
    "            i_s += '1'\n",
    "            s -= 2 ** i\n",
    "        else:\n",
    "            i_s += '0'\n",
    "\n",
    "    # remove the 0 at the beginning\n",
    "    if i_s.startswith('0'):\n",
    "        i_s = i_s[1:]\n",
    "    \n",
    "    return i_s"
   ],
   "outputs": [],
   "metadata": {}
  },
  {
   "cell_type": "markdown",
   "source": [
    "+ Momery issue\n",
    "    \n",
    "    The first version wants to ensure the two binary string in the same length, which results in a waste of memory, since if `a` has 1000 digits while `b` only with 2 digits. Thus, convert the two one by one may save memory."
   ],
   "metadata": {}
  },
  {
   "cell_type": "code",
   "execution_count": 8,
   "source": [
    "def addBinary(a: str, b: str) -> str:\n",
    "    assert 1 <= len(a) <= 10 ** 4, 'The length of a should in [1, 10000].'\n",
    "    assert 1 <= len(b) <= 10 ** 4, 'The length of b should in [1, 10000].'\n",
    "\n",
    "    def binary_to_decimal(a: str) -> int:\n",
    "        '''\n",
    "        convert a string to decimal\n",
    "        :a = the string consists of 1 and 0\n",
    "        '''\n",
    "\n",
    "        a = a[::-1]\n",
    "        decimal = 0\n",
    "        for i in range(len(a)):\n",
    "            assert a[i] == '1' or a[i] == '0', 'The input is not a binary string.'\n",
    "            if a[i] == '1':\n",
    "                decimal += 2 ** i    \n",
    "        return decimal\n",
    "\n",
    "    # convert a and b into decimal and sum them\n",
    "    s = 0\n",
    "    s += binary_to_decimal(a)\n",
    "    s += binary_to_decimal(b)\n",
    "        \n",
    "    # convert the addition into decimal\n",
    "    i_s = ''\n",
    "    for i in range(max(len(a), len(b)), -1, -1):\n",
    "        # len(a) is aleary beyond the power in max(a, b)\n",
    "        if s // 2 ** i == 1:\n",
    "            i_s += '1'\n",
    "            s -= 2 ** i\n",
    "        else:\n",
    "            i_s += '0'\n",
    "\n",
    "    # remove the 0 at the beginning\n",
    "    if i_s.startswith('0'):\n",
    "        i_s = i_s[1:]\n",
    "    \n",
    "    return i_s"
   ],
   "outputs": [],
   "metadata": {}
  },
  {
   "cell_type": "markdown",
   "source": [
    "## Mehtod 2 \n",
    "\n",
    "Don't convert the binary string into decimals, but add the bianry string directly. The algorithm is if the two binary both has the `1` in the same position, then the addition at the same position is `0` and the next digit will be `1`. \n",
    "\n",
    "+ `1 + 1 = 0`, get `1` for the next position;\n",
    "+ `1 + 0 = 1`, remain nothing;\n",
    "+ `0 + 0 = 0`, remain nothing.\n",
    "\n",
    "This method has \n",
    "\n",
    "+ time complexity $O(n)$, which $n$ is the `max(len(a), len(b))`;\n",
    "+ space complexity $O(1)$."
   ],
   "metadata": {}
  },
  {
   "cell_type": "markdown",
   "source": [
    "Version 1: straight forward addition\n",
    "\n",
    "steps:\n",
    "\n",
    "+ make the two string at the same length;\n",
    "+ reverse the order of the two string;\n",
    "+ implement the binary addition."
   ],
   "metadata": {}
  },
  {
   "cell_type": "code",
   "execution_count": null,
   "source": [
    "class Solution:\n",
    "    def addBinary(self, a: str, b: str) -> str:\n",
    "\n",
    "        # pad the shorter string with 0 to make the two in the same length\n",
    "        if len(a) < len(b):\n",
    "            a = '0' * (len(b) - len(a)) + a\n",
    "        elif len(a) > len(b):\n",
    "            b = '0' * (len(a) - len(b)) + b\n",
    "\n",
    "        a = a[::-1]\n",
    "        b = b[::-1]\n",
    "        result = ''\n",
    "        carry = False\n",
    "\n",
    "        for i in range(len(a)):\n",
    "            if a[i] == b[i] == '1':\n",
    "                if carry == True:\n",
    "                    result = '1' + result\n",
    "                else:\n",
    "                    result = '0' + result\n",
    "                carry = True\n",
    "            elif a[i] == b[i] == '0':\n",
    "                if carry == True:\n",
    "                    result = '1' + result\n",
    "                else:\n",
    "                    result = '0' + result\n",
    "                carry = False\n",
    "            else:\n",
    "                if carry == True:\n",
    "                    result = '0' + result\n",
    "                    carry == True\n",
    "                else:\n",
    "                    result = '1' + result\n",
    "                    carry = False\n",
    "        if carry == True:\n",
    "            result = '1' + result\n",
    "        \n",
    "        return result"
   ],
   "outputs": [],
   "metadata": {}
  },
  {
   "cell_type": "markdown",
   "source": [
    "How can I simplify this code?\n",
    "\n",
    "Q1: if i do not pad the 0, then how to do?  \n",
    "A1: \n",
    "+ `for i in range(len(a)):` $\\Rightarrow$ `for i in range(min(len(a), len(b))):`., however, this method requires to use `try` in the further code, which costs a lot of time. Maybe `str` data type can achieve this.\n",
    "\n",
    "The below code treats the `str` as `list` and `pop` the `list` to get the corresponding the carry and value."
   ],
   "metadata": {}
  },
  {
   "cell_type": "markdown",
   "source": [
    "Version 2: `list` methods <sup>[[1]](#ft1)</sup>\n",
    "\n",
    "The fancy points:\n",
    "\n",
    "+ `pop` returns the last element of the `list` which is the smallest value in the binary string;\n",
    "+ use `if` to avoid the `str` is empty;\n",
    "+ the algorithm in calculate carry is similiar with what I thought, add the corresponding value and judge what's going on. \n",
    "\n",
    "In there, the algorithm doesn't put the carry in the sum formula but only the string value in the same place. The sum returns three kinds of results, `0, 1, 2`, where `0` represents no carry at the momenet, `1` represents at most one carry at this moment, `2` means one carry. And we need a method to show the calculation below the table.\n",
    "\n",
    "|    resutls       | 0 | 1 | 2 |\n",
    "|------------|---|---|---|\n",
    "| no carry   | 0 $\\rightarrow$ 0 | 1 $\\rightarrow$ 1| 2 $\\rightarrow$ 0 |\n",
    "| with carry | 1 $\\rightarrow$ 1 | 2 $\\rightarrow$ 0 | 3 $\\rightarrow$ 1 |\n",
    "\n",
    "I think no matther binary and decimal addition, they work as the same way:\n",
    "\n",
    "+ the value at this position = the remainder of the results mod the binary or dicimal;\n",
    "+ the value at the next position = (the carry + the current results) divide the binary or dicimal."
   ],
   "metadata": {}
  },
  {
   "cell_type": "code",
   "execution_count": 16,
   "source": [
    "def addBinary(a: str, b: str) -> str:\n",
    "    carry = 0\n",
    "    result = ''\n",
    "\n",
    "    a = list(a)\n",
    "    b = list(b)\n",
    "\n",
    "    while a or b or carry:\n",
    "        if a:\n",
    "            carry += int(a.pop())\n",
    "        if b:\n",
    "            carry += int(b.pop())\n",
    "\n",
    "        result += str(carry % 2)\n",
    "        carry //= 2\n",
    "\n",
    "    return result[::-1]"
   ],
   "outputs": [],
   "metadata": {}
  },
  {
   "cell_type": "markdown",
   "source": [
    "Version 3: `XOR` method \n",
    "\n",
    "`XOR` operation simplify the binary addition into new level with O(1) time complexity <sup>[[9]](#ft9)</sup>:\n",
    "\n",
    "+ `^` to obtain the bits with different value at the same position;\n",
    "+ `&` to find the bits with both `1` at the same position;\n",
    "+ `<<` to move the carry found by `&` at its corresponding position<sup>[[2]](#ft2)</sup>  <sup>[[3]](#ft3)</sup>\n",
    "\n",
    "which means `XOR` method computes the binary value directly:\n",
    "\n",
    "+ remaining the different value at the same position;\n",
    "+ remaining the carry value the the carry position;\n",
    "\n",
    "then add the two parts together, until the carry is 0. <sup>[[4]](#ft3)</sup>\n",
    "\n",
    "Quick example:"
   ],
   "metadata": {}
  },
  {
   "cell_type": "code",
   "execution_count": null,
   "source": [
    "class Solution:\n",
    "    def addBinary(self, a, b) -> str:\n",
    "        x, y = int(a, 2), int(b, 2)\n",
    "        while y:\n",
    "            # compute the ans without carry\n",
    "            answer = x ^ y\n",
    "            # compute the ans with carry position only\n",
    "            carry = (x & y) << 1\n",
    "            x, y = answer, carry\n",
    "        return bin(x)[2:]"
   ],
   "outputs": [],
   "metadata": {}
  },
  {
   "cell_type": "markdown",
   "source": [
    "Quick example:"
   ],
   "metadata": {}
  },
  {
   "cell_type": "code",
   "execution_count": 62,
   "source": [
    "def addBinary(a, b) -> str:\n",
    "    x, y = int(a, 2), int(b, 2)\n",
    "    t = 1\n",
    "    while y:\n",
    "        # compute the ans without carry\n",
    "        answer = x ^ y\n",
    "        # compute the ans with carry position only\n",
    "        carry = (x & y) << 1\n",
    "        print('the ans for the', t, 'time is', bin(answer)[2:])\n",
    "        print('the carry for the', t, 'time is', bin(carry)[2:], '\\n')\n",
    "        x, y = answer, carry\n",
    "        t += 1\n",
    "    return bin(x)[2:]"
   ],
   "outputs": [],
   "metadata": {}
  },
  {
   "cell_type": "code",
   "execution_count": 63,
   "source": [
    "# Note: `0` at the beginning of a bit will be ingored by Python.\n",
    "addBinary('10010', '100010')"
   ],
   "outputs": [
    {
     "output_type": "stream",
     "name": "stdout",
     "text": [
      "the ans for the 1 time is 110000\n",
      "the carry for the 1 time is 100 \n",
      "\n",
      "the ans for the 2 time is 110100\n",
      "the carry for the 2 time is 0 \n",
      "\n"
     ]
    },
    {
     "output_type": "execute_result",
     "data": {
      "text/plain": [
       "'110100'"
      ]
     },
     "metadata": {},
     "execution_count": 63
    }
   ],
   "metadata": {}
  },
  {
   "cell_type": "markdown",
   "source": [
    "Version 4: one-line Solution\n",
    "\n",
    "Take advantage of the \n"
   ],
   "metadata": {}
  },
  {
   "cell_type": "code",
   "execution_count": null,
   "source": [
    "class Solution:\n",
    "    def addBinary(self, a, b):\n",
    "        return bin(eval('0b' + a) + eval('0b' + b))[2:]"
   ],
   "outputs": [],
   "metadata": {}
  },
  {
   "cell_type": "code",
   "execution_count": null,
   "source": [
    "class Solution:\n",
    "    def addBinary(self, a: str, b: str) -> str:\n",
    "        return bin(int(a, 2) + int(b, 2))[2:]"
   ],
   "outputs": [],
   "metadata": {}
  },
  {
   "cell_type": "code",
   "execution_count": 65,
   "source": [
    "class Solution:\n",
    "    def addBinary(self, a, b):\n",
    "        return f\"{int(a,2)+int(b,2):b}\""
   ],
   "outputs": [],
   "metadata": {}
  },
  {
   "cell_type": "code",
   "execution_count": null,
   "source": [
    "class Solution:\n",
    "    def addBinary(self, a, b):\n",
    "        return '{:b}'.format(int(a, 2) + int(b, 2))"
   ],
   "outputs": [],
   "metadata": {}
  },
  {
   "cell_type": "markdown",
   "source": [
    "# Footnote\n",
    "\n",
    "<a name=\"ft1\">[1]</a>: list solution: https://leetcode.com/problems/add-binary/discuss/279879/Python-easy-to-understand\n",
    "\n",
    "<a name=\"ft2\">[2]</a>: python bitwise operation: https://wiki.python.org/moin/BitwiseOperators\n",
    "\n",
    "<a name=\"ft3\">[3]</a>: python bitwise operation: https://www.w3schools.com/python/python_operators.asp\n",
    "\n",
    "<a name=\"ft4\">[4]</a>: XOR solution: https://leetcode-cn.com/problems/add-binary/solution/yi-huo-yun-suan-ji-suan-er-jin-zhi-jia-fa-by-jiang/\n",
    "\n",
    "<a name=\"ft5\">[5]</a>: `bin()`: https://docs.python.org/3/library/functions.html#bin\n",
    "\n",
    "<a name=\"ft6\">[6]</a>: `int()`: https://docs.python.org/3/library/functions.html#int\n",
    "\n",
    "<a name=\"ft7\">[7]</a>: `eval()`: https://docs.python.org/3/library/functions.html#eval\n",
    "\n",
    "<a name=\"ft8\">[8]</a>: `.format()`: https://docs.python.org/3/library/string.html#formatspec\n",
    "\n",
    "<a name=\"ft9\">[9]</a>: bitwise operation time complexity: https://stackoverflow.com/questions/66720870/what-is-the-time-complexity-of-bitwise-operations-in-python"
   ],
   "metadata": {}
  }
 ],
 "metadata": {
  "hide_input": false,
  "kernelspec": {
   "name": "python3",
   "display_name": "Python 3.7.11 64-bit ('leetcode': conda)"
  },
  "language_info": {
   "codemirror_mode": {
    "name": "ipython",
    "version": 3
   },
   "file_extension": ".py",
   "mimetype": "text/x-python",
   "name": "python",
   "nbconvert_exporter": "python",
   "pygments_lexer": "ipython3",
   "version": "3.7.11"
  },
  "latex_envs": {
   "LaTeX_envs_menu_present": true,
   "autoclose": false,
   "autocomplete": true,
   "bibliofile": "biblio.bib",
   "cite_by": "apalike",
   "current_citInitial": 1,
   "eqLabelWithNumbers": true,
   "eqNumInitial": 1,
   "hotkeys": {
    "equation": "Ctrl-E",
    "itemize": "Ctrl-I"
   },
   "labels_anchors": false,
   "latex_user_defs": false,
   "report_style_numbering": false,
   "user_envs_cfg": false
  },
  "toc": {
   "base_numbering": 1,
   "nav_menu": {},
   "number_sections": true,
   "sideBar": true,
   "skip_h1_title": false,
   "title_cell": "Table of Contents",
   "title_sidebar": "Contents",
   "toc_cell": false,
   "toc_position": {},
   "toc_section_display": true,
   "toc_window_display": false
  },
  "interpreter": {
   "hash": "2f96a6611f6544233df15d5f6a8a08a40aa02f57bca46a950ae6ed4bd6cd3b20"
  }
 },
 "nbformat": 4,
 "nbformat_minor": 4
}