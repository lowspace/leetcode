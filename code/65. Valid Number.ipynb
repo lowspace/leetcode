{
 "cells": [
  {
   "cell_type": "markdown",
   "metadata": {},
   "source": [
    "# Problem\n",
    "\n",
    "A **valid number** can be split up into these components (in order):\n",
    "\n",
    "1. A **decimal number** or an **integer**.\n",
    "2. (Optional) An `'e'` or `'E'`, followed by an **integer**.\n",
    "\n",
    "A **decimal number** can be split up into these components (in order):\n",
    "\n",
    "1. (Optional) A sign character (either `'+'` or `'-'`).\n",
    "2. One of the following formats:\n",
    "   1. One or more digits, followed by a dot `'.'`.\n",
    "   2. One or more digits, followed by a dot `'.'`, followed by one or more digits.\n",
    "   3. A dot `'.'`, followed by one or more digits.\n",
    "\n",
    "An **integer** can be split up into these components (in order):\n",
    "\n",
    "1. (Optional) A sign character (either `'+'` or `'-'`).\n",
    "2. One or more digits.\n",
    "\n",
    "For example, all the following are valid numbers: `[\"2\", \"0089\", \"-0.1\", \"+3.14\", \"4.\", \"-.9\", \"2e10\", \"-90E3\", \"3e+7\", \"+6e-1\", \"53.5e93\", \"-123.456e789\"]`, while the following are not valid numbers: `[\"abc\", \"1a\", \"1e\", \"e3\", \"99e2.5\", \"--6\", \"-+3\", \"95a54e53\"]`.\n",
    "\n",
    "Given a string `s`, return `true` *if* `s` *is a **valid number***.\n",
    "\n",
    " \n",
    "\n",
    "**Example 1:**\n",
    "\n",
    "```\n",
    "Input: s = \"0\"\n",
    "Output: true\n",
    "```\n",
    "\n",
    "**Example 2:**\n",
    "\n",
    "```\n",
    "Input: s = \"e\"\n",
    "Output: false\n",
    "```\n",
    "\n",
    "**Example 3:**\n",
    "\n",
    "```\n",
    "Input: s = \".\"\n",
    "Output: false\n",
    "```\n",
    "\n",
    "**Example 4:**\n",
    "\n",
    "```\n",
    "Input: s = \".1\"\n",
    "Output: true\n",
    "```\n",
    "\n",
    " \n",
    "\n",
    "**Constraints:**\n",
    "\n",
    "- `1 <= s.length <= 20`\n",
    "- `s` consists of only English letters (both uppercase and lowercase), digits (`0-9`), plus `'+'`, minus `'-'`, or dot `'.'`."
   ]
  },
  {
   "cell_type": "markdown",
   "metadata": {},
   "source": [
    "# Summary\n",
    "\n",
    "Noting special, but using pattern to match."
   ]
  },
  {
   "cell_type": "markdown",
   "metadata": {},
   "source": [
    "# Problem Description \n",
    "\n",
    "This problem aims to model the format of the numberic string:\n",
    "\n",
    "+ scientific notation;\n",
    "    + syntax: `(sign)(int or decimal)(e or E)(sign)(int)`\n",
    "+ decimal notation:\n",
    "    + syntax: `(sign)(int)(dot)(int)`"
   ]
  },
  {
   "cell_type": "markdown",
   "metadata": {},
   "source": [
    "# Methods"
   ]
  },
  {
   "cell_type": "markdown",
   "metadata": {},
   "source": [
    "## Method 1 Regex"
   ]
  },
  {
   "cell_type": "markdown",
   "metadata": {},
   "source": [
    "### Version 1 Step By Step\n",
    " \n",
    "scientific = `decimal/int + e/E + int`, thus we can split the string by `e/E`, and judge the former and latter string.\n",
    "\n",
    "decimal = `int + . + int`, thus we can split the string by `.`."
   ]
  },
  {
   "cell_type": "code",
   "execution_count": 1,
   "metadata": {},
   "outputs": [],
   "source": [
    "class Solution:\n",
    "    def isNumber(self, s: str) -> bool:\n",
    "        import re\n",
    "        def isInt(s: str) -> bool:\n",
    "            int_pattern = re.compile('(?<=^)[+-]?\\d+(?=$)')\n",
    "            if re.match(int_pattern, s):\n",
    "                return True\n",
    "            else:\n",
    "                return False\n",
    "\n",
    "        def isDecimal(s: str) -> bool:\n",
    "            p1 = re.compile(r'(?<=^)[+-]?\\d+[.](?=$)')\n",
    "            p2 = re.compile(r'(?<=^)[+-]?\\d+[.]\\d+(?=$)')\n",
    "            p3 = re.compile(r'(?<=^)[+-]?[.]\\d+(?=$)')\n",
    "            if re.match(p1, s) or re.match(p2, s) or re.match(p3, s):\n",
    "                return True\n",
    "            else:\n",
    "                return False\n",
    "\n",
    "        s = re.split('[eE]', s)\n",
    "        if len(s) == 1: # not a scientific notation\n",
    "            return isDecimal(s[0]) or isInt(s[0]) # whether a decimal or int\n",
    "        elif len(s) == 2: # a scientific notation\n",
    "            former = isDecimal(s[0]) or isInt(s[0])\n",
    "            latter = isInt(s[1])\n",
    "            if former and latter:\n",
    "                return True\n",
    "            else:\n",
    "                return False\n",
    "        else:\n",
    "            return False\n",
    "\n"
   ]
  },
  {
   "cell_type": "markdown",
   "metadata": {},
   "source": [
    "# Footnotes"
   ]
  },
  {
   "cell_type": "code",
   "execution_count": 2,
   "metadata": {},
   "outputs": [],
   "source": [
    "# add the doc information to README \n",
    "from tools.setup import generate_row as g\n",
    "\n",
    "g()"
   ]
  }
 ],
 "metadata": {
  "hide_input": false,
  "kernelspec": {
   "display_name": "Python 3",
   "language": "python",
   "name": "python3"
  },
  "language_info": {
   "codemirror_mode": {
    "name": "ipython",
    "version": 3
   },
   "file_extension": ".py",
   "mimetype": "text/x-python",
   "name": "python",
   "nbconvert_exporter": "python",
   "pygments_lexer": "ipython3",
   "version": "3.7.11"
  },
  "latex_envs": {
   "LaTeX_envs_menu_present": true,
   "autoclose": false,
   "autocomplete": true,
   "bibliofile": "biblio.bib",
   "cite_by": "apalike",
   "current_citInitial": 1,
   "eqLabelWithNumbers": true,
   "eqNumInitial": 1,
   "hotkeys": {
    "equation": "Ctrl-E",
    "itemize": "Ctrl-I"
   },
   "labels_anchors": false,
   "latex_user_defs": false,
   "report_style_numbering": false,
   "user_envs_cfg": false
  },
  "toc": {
   "base_numbering": 1,
   "nav_menu": {},
   "number_sections": true,
   "sideBar": true,
   "skip_h1_title": false,
   "title_cell": "Table of Contents",
   "title_sidebar": "Contents",
   "toc_cell": false,
   "toc_position": {},
   "toc_section_display": true,
   "toc_window_display": false
  }
 },
 "nbformat": 4,
 "nbformat_minor": 4
}
