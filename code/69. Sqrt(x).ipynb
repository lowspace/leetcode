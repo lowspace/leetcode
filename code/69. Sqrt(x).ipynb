{
 "cells": [
  {
   "cell_type": "markdown",
   "metadata": {},
   "source": [
    "# Problem\n",
    "\n",
    "Given a non-negative integer `x`, compute and return *the square root of* `x`.\n",
    "\n",
    "Since the return type is an integer, the decimal digits are **truncated**, and only **the integer part** of the result is returned.\n",
    "\n",
    "**Note:** You are not allowed to use any built-in exponent function or operator, such as `pow(x, 0.5)` or `x ** 0.5`.\n",
    "\n",
    " \n",
    "\n",
    "**Example 1:**\n",
    "\n",
    "```\n",
    "Input: x = 4\n",
    "Output: 2\n",
    "```\n",
    "\n",
    "**Example 2:**\n",
    "\n",
    "```\n",
    "Input: x = 8\n",
    "Output: 2\n",
    "Explanation: The square root of 8 is 2.82842..., and since the decimal part is truncated, 2 is returned.\n",
    "```\n",
    "\n",
    " \n",
    "\n",
    "**Constraints:**\n",
    "\n",
    "- `0 <= x <=` $2^{31}$ - 1"
   ]
  },
  {
   "cell_type": "markdown",
   "metadata": {},
   "source": [
    "# Summary\n",
    "\n",
    "Two methods:\n",
    "\n",
    "+ binary search;\n",
    "+ Newton method.\n",
    "\n",
    "While implementing Newton method, we can't employee the reciprocal square root method to solve this problem, since this method can't guarantee the consistency of the integer part and the original version can promise. Meanwhile, Newtown method needs the starting point to be sufficient close to the correct answer, which can't promise in some scenario. "
   ]
  },
  {
   "cell_type": "markdown",
   "metadata": {},
   "source": [
    "# Methods\n",
    "\n",
    "Do not use the built-in function "
   ]
  },
  {
   "cell_type": "markdown",
   "metadata": {},
   "source": [
    "## Method 1 Binary Search\n",
    "\n",
    "Using binary search to find the integer part, since the square root $r$ of $x$ can be expressed as `pow(floor(s)) <= x <= pow(ceil(s))`.\n",
    "\n",
    "Time complexity: $O(xlog(2))$\n",
    "+ $O(n)$ for binary search;\n",
    "+ $O(log(2))$ for `pow(,2)` in Python <sup>[[1]](#ft1)</sup>\n",
    "\n",
    "Space complexity: $O(1)$\n"
   ]
  },
  {
   "cell_type": "code",
   "execution_count": 16,
   "metadata": {},
   "outputs": [],
   "source": [
    "class Solution:\n",
    "    def mySqrt(self, x: int) -> int:\n",
    "        \n",
    "        left = 1\n",
    "        right = x\n",
    "        median = int((right + left)/2)\n",
    "\n",
    "        while True:\n",
    "            if pow(median, 2) <= x < pow(median + 1, 2):\n",
    "                return median\n",
    "            elif pow(median, 2) < x:\n",
    "                left = median\n",
    "                median = int((right + left)/2)\n",
    "            elif pow(median, 2) > x:\n",
    "                right = median\n",
    "                median = int((right + left)/2)"
   ]
  },
  {
   "cell_type": "markdown",
   "metadata": {},
   "source": [
    "The below version runs faster than the above, which indicates ` x * x` is more efficient than `pow(x, 2)` in Python."
   ]
  },
  {
   "cell_type": "code",
   "execution_count": 26,
   "metadata": {},
   "outputs": [],
   "source": [
    "class Solution:\n",
    "    def mySqrt(self, x: int) -> int:\n",
    "        \n",
    "        left = 1\n",
    "        right = x\n",
    "        median = int((right + left)/2)\n",
    "\n",
    "        while True:\n",
    "            if median * median <= x < (median + 1) * (median + 1):\n",
    "                return median\n",
    "            elif median * median < x:\n",
    "                left = median\n",
    "                median = int((right + left)/2)\n",
    "            elif median * median > x:\n",
    "                right = median\n",
    "                median = int((right + left)/2)"
   ]
  },
  {
   "cell_type": "markdown",
   "metadata": {},
   "source": [
    "## Method 2 Newton Method\n",
    "\n",
    "Newton method to find the square root. <sup>[[2]](#ft2)</sup><sup>[[3]](#ft3)</sup>"
   ]
  },
  {
   "cell_type": "markdown",
   "metadata": {},
   "source": [
    "### Version 1 Using division"
   ]
  },
  {
   "cell_type": "code",
   "execution_count": 44,
   "metadata": {},
   "outputs": [],
   "source": [
    "class Solution:\n",
    "    def mySqrt(self, x: int) -> int:\n",
    "        new = 2\n",
    "        previous = 1\n",
    "\n",
    "        while abs(new - previous) >= 1e-10:\n",
    "            previous = new\n",
    "            new = 0.5 * previous + 0.5 * x / previous\n",
    "\n",
    "        return int(new)"
   ]
  },
  {
   "cell_type": "markdown",
   "metadata": {},
   "source": [
    "### Version 2 Without division\n",
    "\n",
    "I always meet the converge issue while using the setting `new = 0.9`. Then I figure out the starting point needs to be \"sufficiently near\" the desired root.<sup>[[4]](#ft4)</sup>\n",
    "\n",
    "Disadvantages:\n",
    "+ this version needs more iteration times than version 1;\n",
    "+ can't guarantee return the actual integer part of the target number."
   ]
  },
  {
   "cell_type": "code",
   "execution_count": null,
   "metadata": {},
   "outputs": [],
   "source": [
    "class Solution:\n",
    "    def mySqrt(self, x: int) -> int:\n",
    "        new = 1 / (x + 2) # avoid 0\n",
    "        previous = 1 / (x + 1) # the starting point needs to be \"sufficiently near\" the desired root\n",
    "\n",
    "        while abs(x * abs(new) - x * abs(previous)) >= 1e-10:\n",
    "            previous = new\n",
    "            new = previous*(1.5 - 0.5 * x * previous * previous)\n",
    "\n",
    "        return int(x * abs(new))"
   ]
  },
  {
   "cell_type": "markdown",
   "metadata": {},
   "source": [
    "## Footnote\n",
    "\n",
    "<a name=\"ft1\">[1]</a>: https://stackoverflow.com/questions/48839772/why-is-time-complexity-o1-for-powx-y-while-it-is-on-for-xy\n",
    "\n",
    "<a name=\"ft2\">[2]</a>: https://en.wikipedia.org/wiki/Newton%27s_method\n",
    "\n",
    "<a name=\"ft3\">[3]</a>: https://leetcode.com/problems/sqrtx/discuss/25240/Newton-method-accepted-solution.\n",
    "\n",
    "<a name=\"ft4\">[4]</a>: can't converge: https://math.stackexchange.com/questions/1687514/newton-raphson-reciprocal-square-root-convergence"
   ]
  }
 ],
 "metadata": {
  "hide_input": false,
  "interpreter": {
   "hash": "76a7b5324f028f295860f76a31df2338ff50596517c2606a79177bbdafd1d5be"
  },
  "kernelspec": {
   "display_name": "Python 3.7.11 64-bit ('leetcode': conda)",
   "name": "python3"
  },
  "language_info": {
   "codemirror_mode": {
    "name": "ipython",
    "version": 3
   },
   "file_extension": ".py",
   "mimetype": "text/x-python",
   "name": "python",
   "nbconvert_exporter": "python",
   "pygments_lexer": "ipython3",
   "version": "3.7.11"
  },
  "latex_envs": {
   "LaTeX_envs_menu_present": true,
   "autoclose": false,
   "autocomplete": true,
   "bibliofile": "biblio.bib",
   "cite_by": "apalike",
   "current_citInitial": 1,
   "eqLabelWithNumbers": true,
   "eqNumInitial": 1,
   "hotkeys": {
    "equation": "Ctrl-E",
    "itemize": "Ctrl-I"
   },
   "labels_anchors": false,
   "latex_user_defs": false,
   "report_style_numbering": false,
   "user_envs_cfg": false
  },
  "toc": {
   "base_numbering": 1,
   "nav_menu": {},
   "number_sections": true,
   "sideBar": true,
   "skip_h1_title": false,
   "title_cell": "Table of Contents",
   "title_sidebar": "Contents",
   "toc_cell": false,
   "toc_position": {},
   "toc_section_display": true,
   "toc_window_display": false
  }
 },
 "nbformat": 4,
 "nbformat_minor": 4
}
