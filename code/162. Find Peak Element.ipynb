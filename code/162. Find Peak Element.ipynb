{
 "cells": [
  {
   "cell_type": "markdown",
   "metadata": {},
   "source": [
    "# Problem\n",
    "\n",
    "A peak element is an element that is strictly greater than its neighbors.\n",
    "\n",
    "Given an integer array `nums`, find a peak element, and return its index. If the array contains multiple peaks, return the index to **any of the peaks**.\n",
    "\n",
    "You may imagine that `nums[-1] = nums[n] = -∞`.\n",
    "\n",
    "You must write an algorithm that runs in `O(log n)` time.\n",
    "\n",
    "**Example 1:**\n",
    "\n",
    "```\n",
    "Input: nums = [1,2,3,1]\n",
    "Output: 2\n",
    "Explanation: 3 is a peak element and your function should return the index number 2.\n",
    "```\n",
    "\n",
    "**Example 2:**\n",
    "\n",
    "```\n",
    "Input: nums = [1,2,1,3,5,6,4]\n",
    "Output: 5\n",
    "Explanation: Your function can return either index number 1 where the peak element is 2, or index number 5 where the peak element is 6.\n",
    "```\n",
    "\n",
    "**Constraints:**\n",
    "\n",
    "- `1 <= nums.length <= 1000`\n",
    "- `2^31 <= nums[i] <= 2^31 - 1`\n",
    "- `nums[i] != nums[i + 1]` for all valid `i`."
   ]
  },
  {
   "cell_type": "markdown",
   "metadata": {},
   "source": [
    "# Summary\n",
    "\n",
    "This problem examines the monotonous of the sorted array. This problem needs more mathematical considerations instead of computer science,\n",
    "\n",
    "+ if an array starts from and ends with negative infinity and the adjacent elements are different, it must contain at least one peak.\n",
    "+ the previous statement can be generalized as, if an array ends with negative infinity (the adjacent elements are different) and we find an ascending order within the array, this array must contain a peak; otherwise, it can not fail back to negative infinity. \n",
    "\n",
    "According to the second statement, we can easily derive a binary search on it."
   ]
  },
  {
   "cell_type": "markdown",
   "metadata": {},
   "source": [
    "# Problem Description \n",
    "\n",
    "Find the index of any peak value in an array. \n",
    "\n",
    "+ A peak is the element that is strictly greater than its neighbors.\n",
    "+ The heading and the trailing element of an array is negative infinity.\n",
    "+ The adjacent elements are different.\n",
    "\n",
    "Q: why does this setting guarantee to find a peak? How to prove this array must have a peak?\n",
    "\n",
    "A: Assume the array doesn't contain a peak. The adjacent elements are different and the array doesn't contain a peak indicates this array is a decreasing or ascending array. However, either the decreasing array or ascending array has a maximum at the edge (at the leftmost or the rightmost), and the heading and trailing of the array is negative infinity, that is the maximum is the peak of the array. In other words, the array must contain a peak (proof by contradiction)."
   ]
  },
  {
   "cell_type": "markdown",
   "metadata": {},
   "source": [
    "# Methods"
   ]
  },
  {
   "cell_type": "markdown",
   "metadata": {},
   "source": [
    "## Method 1 Linear Scan\n",
    "\n",
    "+ **Time Complexity**: \n",
    "\t+ Best case: $O(n)$\n",
    "\t+ Worst case: $O(n)$\n",
    "+ **Space Complexity**: $O(1)"
   ]
  },
  {
   "cell_type": "markdown",
   "metadata": {},
   "source": [
    "Version 1 Naive Linear Search\n",
    "\n",
    "+ **Time Complexity**: \n",
    "\t+ Best case: $O(2n)$\n",
    "\t+ Worst case: $O(2n)$\n",
    "+ **Space Complexity**: $O(1)$\n",
    "\n",
    "Check each element."
   ]
  },
  {
   "cell_type": "code",
   "execution_count": null,
   "metadata": {},
   "outputs": [],
   "source": [
    "class Solution:\n",
    "    def findPeakElement(self, nums: List[int]) -> int:\n",
    "        import math\n",
    "\n",
    "        # insert negative infinity into the heading and trailing of the array\n",
    "        nums.insert(0, -math.inf)\n",
    "        nums.insert(len(nums), -math.inf)\n",
    "\n",
    "\n",
    "        for i in range(1, len(nums) - 1, 1):\n",
    "            if nums[i] > nums[i - 1] and nums[i] > nums[i + 1]:\n",
    "                return i - 1 # insert one element before\n",
    "            else:\n",
    "                continue"
   ]
  },
  {
   "cell_type": "markdown",
   "metadata": {},
   "source": [
    "Version 1 Advanced Linear Search \n",
    "\n",
    "+ **Time Complexity**: \n",
    "\t+ Best case: $O(n)$\n",
    "\t+ Worst case: $O(n)$\n",
    "+ **Space Complexity**: $O(1)$\n",
    "\n",
    "The logic over here is kinda interesting, the algorithm starts from the first element and the `num[-1] = -∞`, which indicates we only need to check whether the first element is greater than the second element. If the first element is greater than the second, then we can return the index of the first element; otherwise, the left side of the second element has already checked in the first trail, and we only need to check the right side.\n",
    "\n",
    "In otherwise, utilizing the previous comparison result enables we only need to compare in $n$ times."
   ]
  },
  {
   "cell_type": "code",
   "execution_count": null,
   "metadata": {},
   "outputs": [],
   "source": [
    "class Solution:\n",
    "    def findPeakElement(self, nums: List[int]) -> int:\n",
    "        import math\n",
    "\n",
    "        # insert negative infinity into the heading and trailing of the array\n",
    "        nums.insert(0, -math.inf)\n",
    "        nums.insert(len(nums), -math.inf)\n",
    "\n",
    "        i = 1\n",
    "\n",
    "        while i <= len(nums) - 2:\n",
    "            if nums[i] > nums[i + 1]:\n",
    "                return i - 1\n",
    "            else:\n",
    "                i += 1"
   ]
  },
  {
   "cell_type": "markdown",
   "metadata": {},
   "source": [
    "## Method 2 Binary Search\n",
    "\n",
    "The challenge of binary search is how to cut the half of the array. In other words, how to set the rules to return the target, to go left, and to go right.\n",
    "\n",
    "+ the target should be `nums[mid] > nums[mid] - 1 and nums[mid] > nums[mid + 1]`.\n",
    "\n",
    "The condition of adjacent distinction implies each element has two inequality relationship. \n",
    "\n",
    "Q: how to use binary search to find the peak?\n",
    "\n",
    "A: The first peak and its previous value(s) form a monotonous sequence, decreasing or ascending. Since the heading value is negative infinity, they must construct a ascending array. In general, `(previous_peak, current_peak]` forms a monotonous sequence. "
   ]
  },
  {
   "cell_type": "code",
   "execution_count": null,
   "metadata": {},
   "outputs": [],
   "source": [
    "class Solution:\n",
    "    def findPeakElement(self, nums: List[int]) -> int:\n",
    "        left, right = 0, len(nums) - 1\n",
    "\n",
    "        while left < right:\n",
    "            mid = (left + right) // 2\n",
    "\n",
    "            if nums[mid] < nums[mid + 1]:\n",
    "                left = mid + 1\n",
    "            else:\n",
    "                right = mid\n",
    "        \n",
    "        return left"
   ]
  },
  {
   "cell_type": "markdown",
   "metadata": {},
   "source": [
    "# Footnotes"
   ]
  },
  {
   "cell_type": "code",
   "execution_count": 8,
   "metadata": {},
   "outputs": [],
   "source": [
    "# add the doc information to README \n",
    "from tools.setup import generate_row as g\n",
    "\n",
    "g()"
   ]
  }
 ],
 "metadata": {
  "hide_input": false,
  "kernelspec": {
   "display_name": "Python 3",
   "language": "python",
   "name": "python3"
  },
  "language_info": {
   "codemirror_mode": {
    "name": "ipython",
    "version": 3
   },
   "file_extension": ".py",
   "mimetype": "text/x-python",
   "name": "python",
   "nbconvert_exporter": "python",
   "pygments_lexer": "ipython3",
   "version": "3.7.11"
  },
  "latex_envs": {
   "LaTeX_envs_menu_present": true,
   "autoclose": false,
   "autocomplete": true,
   "bibliofile": "biblio.bib",
   "cite_by": "apalike",
   "current_citInitial": 1,
   "eqLabelWithNumbers": true,
   "eqNumInitial": 1,
   "hotkeys": {
    "equation": "Ctrl-E",
    "itemize": "Ctrl-I"
   },
   "labels_anchors": false,
   "latex_user_defs": false,
   "report_style_numbering": false,
   "user_envs_cfg": false
  },
  "toc": {
   "base_numbering": 1,
   "nav_menu": {},
   "number_sections": true,
   "sideBar": true,
   "skip_h1_title": false,
   "title_cell": "Table of Contents",
   "title_sidebar": "Contents",
   "toc_cell": false,
   "toc_position": {},
   "toc_section_display": true,
   "toc_window_display": false
  }
 },
 "nbformat": 4,
 "nbformat_minor": 4
}
