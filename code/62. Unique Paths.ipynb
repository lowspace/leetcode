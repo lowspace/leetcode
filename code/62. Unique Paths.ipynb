{
 "cells": [
  {
   "cell_type": "markdown",
   "id": "7e55c3a5",
   "metadata": {},
   "source": [
    "# Problem\n",
    "\n",
    "There is a robot on an `m x n` grid. The robot is initially located at the **top-left corner** (i.e., `grid[0][0]`). The robot tries to move to the **bottom-right corner** (i.e., `grid[m - 1][n - 1]`). The robot can only move either down or right at any point in time.\n",
    "\n",
    "Given the two integers `m` and `n`, return *the number of possible unique paths that the robot can take to reach the bottom-right corner*.\n",
    "\n",
    "The test cases are generated so that the answer will be less than or equal to `2 * 10^9`.\n",
    "\n",
    "**Example 1:**\n",
    "\n",
    "![](https://assets.leetcode.com/uploads/2018/10/22/robot_maze.png)\n",
    "```\n",
    "**Input:** m = 3, n = 7\n",
    "**Output:** 28\n",
    "```\n",
    "\n",
    "**Example 2:**\n",
    "```\n",
    "**Input:** m = 3, n = 2\n",
    "**Output:** 3\n",
    "**Explanation:** From the top-left corner, there are a total of 3 ways to reach the bottom-right corner:\n",
    "1. Right -> Down -> Down\n",
    "2. Down -> Down -> Right\n",
    "3. Down -> Right -> Down\n",
    "```\n",
    "\n",
    "**Constraints:**\n",
    "\n",
    "* `1 <= m, n <= 100`\n",
    "\n"
   ]
  },
  {
   "cell_type": "markdown",
   "id": "7afbad8d",
   "metadata": {},
   "source": [
    "# Summary\n",
    "\n",
    "Classical DP problem.\n"
   ]
  },
  {
   "cell_type": "markdown",
   "id": "1fb937eb",
   "metadata": {},
   "source": [
    "# Problem Description\n",
    "\n",
    "The problem can be decomposed into two subproblem after one movement, the left square and the down square problem."
   ]
  },
  {
   "cell_type": "markdown",
   "id": "0b9ab4f4",
   "metadata": {},
   "source": [
    "# Methods\n",
    "\n",
    "Dynamic programming is the most obvious method to solve this problem. One thing that we should pay attention to is the boundary condition."
   ]
  },
  {
   "cell_type": "markdown",
   "id": "9de74755",
   "metadata": {},
   "source": [
    "## Method 1\n",
    "\n",
    "+ **Time Complexity**: \n",
    "\t+ Best case: $O(m*n)$\n",
    "\t+ Worst case: $O(m*n)$\n",
    "+ **Space Complexity**: $O(m*n)$"
   ]
  },
  {
   "cell_type": "code",
   "execution_count": null,
   "id": "49363494",
   "metadata": {},
   "outputs": [],
   "source": [
    "class Solution:\n",
    "    def uniquePaths(self, m: int, n: int) -> int:\n",
    "        matrix = [[0]*m for _ in range(n)]\n",
    "        for i in range(m):\n",
    "            matrix[i][0] = 1\n",
    "        for i in range(n):\n",
    "            matrix[0][i] = 1\n",
    "        \n",
    "        for i in range(1, m):\n",
    "            for j in range(1, n):\n",
    "                matrix[i][j] = matrix[i - 1][j] + matrix[i][j - 1]\n",
    "                \n",
    "        return matrix[m - 1][n - 1]"
   ]
  },
  {
   "cell_type": "markdown",
   "id": "866bfc2f",
   "metadata": {},
   "source": [
    "# Footnotes\n",
    "\n"
   ]
  },
  {
   "cell_type": "code",
   "execution_count": null,
   "id": "c1b4a035",
   "metadata": {},
   "outputs": [],
   "source": [
    "# add the doc information to README \n",
    "from tools.setup import generate_row as g\n",
    "\n",
    "g()"
   ]
  }
 ],
 "metadata": {
  "interpreter": {
   "hash": "76a7b5324f028f295860f76a31df2338ff50596517c2606a79177bbdafd1d5be"
  },
  "kernelspec": {
   "display_name": "Python 3.7.11 ('leetcode')",
   "language": "python",
   "name": "python3"
  },
  "language_info": {
   "name": "python",
   "version": "3.7.11"
  }
 },
 "nbformat": 4,
 "nbformat_minor": 5
}
