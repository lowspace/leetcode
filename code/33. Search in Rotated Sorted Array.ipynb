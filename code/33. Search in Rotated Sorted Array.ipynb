{
 "cells": [
  {
   "cell_type": "markdown",
   "metadata": {},
   "source": [
    "# Problem\n",
    "\n",
    "There is an integer array `nums` sorted in ascending order (with **distinct** values).\n",
    "\n",
    "Prior to being passed to your function, `nums` is **possibly rotated** at an unknown pivot index `k` (`1 <= k < nums.length`) such that the resulting array is `[nums[k], nums[k+1], ..., nums[n-1], nums[0], nums[1], ..., nums[k-1]]` (**0-indexed**). For example, `[0,1,2,4,5,6,7]` might be rotated at pivot index `3` and become `[4,5,6,7,0,1,2]`.\n",
    "\n",
    "Given the array `nums` **after** the possible rotation and an integer `target`, return *the index of* `target` *if it is in* `nums`*, or* `-1` *if it is not in* `nums`.\n",
    "\n",
    "You must write an algorithm with `O(log n)` runtime complexity.\n",
    "\n",
    " \n",
    "\n",
    "**Example 1:**\n",
    "\n",
    "```\n",
    "Input: nums = [4,5,6,7,0,1,2], target = 0\n",
    "Output: 4\n",
    "```\n",
    "\n",
    "**Example 2:**\n",
    "\n",
    "```\n",
    "Input: nums = [4,5,6,7,0,1,2], target = 3\n",
    "Output: -1\n",
    "```\n",
    "\n",
    "**Example 3:**\n",
    "\n",
    "```\n",
    "Input: nums = [1], target = 0\n",
    "Output: -1\n",
    "```\n",
    "\n",
    " \n",
    "\n",
    "**Constraints:**\n",
    "\n",
    "- `1 <= nums.length <= 5000`\n",
    "- `-10^4 <= nums[i] <= 10^4`\n",
    "- All values of `nums` are **unique**.\n",
    "- `nums` is an ascending array that is possibly rotated.\n",
    "- `-10^4 <= target <= 10^4`"
   ]
  },
  {
   "cell_type": "markdown",
   "metadata": {},
   "source": [
    "# Summary"
   ]
  },
  {
   "cell_type": "markdown",
   "metadata": {},
   "source": [
    "# Problem Description \n",
    "\n",
    "Find the key in a rotated sorted array.\n",
    "\n",
    "The key issue is how to sort the rotated array, then we can implement binary search to find the key.\n",
    "\n",
    "And there is anther key issue that should we format a new array or using the raw array?"
   ]
  },
  {
   "cell_type": "markdown",
   "metadata": {},
   "source": [
    "# Methods\n"
   ]
  },
  {
   "cell_type": "markdown",
   "metadata": {},
   "source": [
    "## Method 1 Linear Sort and Binary Search\n",
    "\n",
    "+ **Time Complexity**: \n",
    "\t+ Best case: $O(n)$\n",
    "\t+ Worst case: $O(n)$\n",
    "+ **Space Complexity**: $O(n)$\n",
    "\n",
    "Using linear sort to sort the array and using binary search to find the index of the target (key).\n",
    "\n",
    "+ linear sort algorithm find the rotated element one by one, and it needs to avoid search length 1 array;\n",
    "+ `list.index(key)` to return the index of the target at the `nums`."
   ]
  },
  {
   "cell_type": "code",
   "execution_count": null,
   "metadata": {},
   "outputs": [],
   "source": [
    "class Solution:\n",
    "    def search(self, nums: List[int], target: int) -> int:\n",
    "        new_nums = []\n",
    "        for i in range(len(nums) - 1):\n",
    "            if nums[i] > nums[i + 1]:  \n",
    "                new_nums = nums[i + 1:]\n",
    "                new_nums.extend(nums[:i + 1])\n",
    "                break\n",
    "\n",
    "        if not new_nums: # avoid length 1 array\n",
    "            new_nums = nums\n",
    "        \n",
    "        left = 0\n",
    "        right = len(new_nums) - 1\n",
    "        \n",
    "        while left <= right:\n",
    "            mid = (left + right) // 2\n",
    "            if target == new_nums[mid]:\n",
    "                return nums.index(target)\n",
    "            elif target < new_nums[mid]:\n",
    "                right = mid - 1\n",
    "            else:\n",
    "                left = mid + 1\n",
    "\n",
    "        return -1"
   ]
  },
  {
   "cell_type": "markdown",
   "metadata": {},
   "source": [
    "## Method 2 Binary Sort and Binary Search [DEPRECATED]\n",
    "\n",
    "Q: Can we just use binary search to sort and find the element?\n",
    "\n",
    "A: Yes. We can implement the binary search three times to complete the problem. The first is to find the rotated boundary, and the last two is to find the target within the former and latter sub-array. Since this array is a possible rotated array, two times may be enough.\n",
    "\n",
    "Q: How to use binary search to sort the array?\n",
    "\n",
    "A: As the problem states the array is a possible rotated array, thus the search sort array may need to check each element instead of just half of the array.\n",
    "\n",
    "Q: Is it necessary to sort the rotated array?\n",
    "\n",
    "A: I think it is necessary, since binary search works in the sorted array. If I just use binary search to find the target and the length of the rotated part is less than the half of the length of the whole array, this part will not be checked and the algorithm will return the wrong answer, such as `[4, 1, 2, 3]`. **I don't know how to sort the array in $O(logn)$.**"
   ]
  },
  {
   "cell_type": "code",
   "execution_count": null,
   "metadata": {},
   "outputs": [],
   "source": [
    "class Solution:\n",
    "    def search(self, nums: List[int], target: int) -> int:\n",
    "\n",
    "        def binary_search(nums: List[int], target: int) -> int:\n",
    "            left = 0\n",
    "            right = len(nums) - 1\n",
    "\n",
    "            while left <= right:\n",
    "                mid = (left + right) // 2\n",
    "                if nums[mid] == target:\n",
    "                    return mid\n",
    "                elif nums[mid] < target:\n",
    "                    left = mid + 1\n",
    "                else:\n",
    "                    right = mid - 1\n",
    "            \n",
    "            return -1\n",
    "\n",
    "        left = 0\n",
    "        right = len(nums) - 1\n",
    "        boundary = None\n",
    "\n",
    "        if right == left: # length 1 array\n",
    "            if nums[0] == target:\n",
    "                return 0\n",
    "            else:\n",
    "                return -1\n",
    "\n",
    "        while left <= right: # length >2 array\n",
    "            mid = (left + right) // 2\n",
    "            if nums[mid - 1] > nums[mid]:\n",
    "                boundary = mid\n",
    "                break\n",
    "\n",
    "        if boundary == None:\n",
    "            return binary_search(nums, target)\n",
    "        else:\n",
    "            former = binary_search(nums[:boundary], target)\n",
    "            latter = binary_search(nums[boundary:], target)\n",
    "            if former != -1:\n",
    "                return former\n",
    "            else:\n",
    "                return latter\n",
    "            "
   ]
  },
  {
   "cell_type": "markdown",
   "metadata": {},
   "source": [
    "# Footnotes"
   ]
  },
  {
   "cell_type": "code",
   "execution_count": null,
   "metadata": {},
   "outputs": [],
   "source": [
    "# add the doc information to README \n",
    "from tools.setup import generate_row as g\n",
    "\n",
    "g()"
   ]
  }
 ],
 "metadata": {
  "hide_input": false,
  "kernelspec": {
   "display_name": "Python 3",
   "language": "python",
   "name": "python3"
  },
  "language_info": {
   "codemirror_mode": {
    "name": "ipython",
    "version": 3
   },
   "file_extension": ".py",
   "mimetype": "text/x-python",
   "name": "python",
   "nbconvert_exporter": "python",
   "pygments_lexer": "ipython3",
   "version": "3.7.11"
  },
  "latex_envs": {
   "LaTeX_envs_menu_present": true,
   "autoclose": false,
   "autocomplete": true,
   "bibliofile": "biblio.bib",
   "cite_by": "apalike",
   "current_citInitial": 1,
   "eqLabelWithNumbers": true,
   "eqNumInitial": 1,
   "hotkeys": {
    "equation": "Ctrl-E",
    "itemize": "Ctrl-I"
   },
   "labels_anchors": false,
   "latex_user_defs": false,
   "report_style_numbering": false,
   "user_envs_cfg": false
  },
  "toc": {
   "base_numbering": 1,
   "nav_menu": {},
   "number_sections": true,
   "sideBar": true,
   "skip_h1_title": false,
   "title_cell": "Table of Contents",
   "title_sidebar": "Contents",
   "toc_cell": false,
   "toc_position": {},
   "toc_section_display": true,
   "toc_window_display": false
  }
 },
 "nbformat": 4,
 "nbformat_minor": 4
}
