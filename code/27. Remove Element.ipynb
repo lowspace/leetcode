{
 "cells": [
  {
   "attachments": {},
   "cell_type": "markdown",
   "metadata": {},
   "source": [
    "# Problem\n",
    "\n",
    "Given an integer array `nums` and an integer `val`, remove all occurrences of `val` in `nums` [**in-place**](https://en.wikipedia.org/wiki/In-place_algorithm). The relative order of the elements may be changed.\n",
    "\n",
    "Since it is impossible to change the length of the array in some languages, you must instead have the result be placed in the **first part** of the array `nums`. More formally, if there are `k` elements after removing the duplicates, then the first `k` elements of `nums` should hold the final result. It does not matter what you leave beyond the first `k` elements.\n",
    "\n",
    "Return `k` *after placing the final result in the first* `k` *slots of* `nums`.\n",
    "\n",
    "Do **not** allocate extra space for another array. You must do this by **modifying the input array [in-place](https://en.wikipedia.org/wiki/In-place_algorithm)** with O(1) extra memory.\n",
    "\n",
    "**Constraints:**\n",
    "\n",
    "- `0 <= nums.length <= 100`\n",
    "- `0 <= nums[i] <= 50`\n",
    "- `0 <= val <= 100`"
   ]
  },
  {
   "cell_type": "markdown",
   "metadata": {},
   "source": [
    "# Summary"
   ]
  },
  {
   "cell_type": "markdown",
   "metadata": {},
   "source": [
    "# Methods"
   ]
  },
  {
   "cell_type": "markdown",
   "metadata": {},
   "source": [
    "## Method 1"
   ]
  },
  {
   "cell_type": "markdown",
   "metadata": {},
   "source": [
    "A very plain method, looking through the whole array and check one by one, if the element is equal to the `val`, then `pop` this element and move to next element. The challenge over here is this should be a *in-place* algorithm. In Python, popping element whiling iterating the original array is invalid. Then, how to fix it?\n",
    "\n",
    "A pretty simple method is iterating the array from the bottom instead of the top, which is similar with the *Problem 26*.\n",
    "\n",
    "**Note**:\n",
    "+ For the interval in Python, Python implements *left close right open* principle. For example:\n",
    "1. \n",
    "```\n",
    "for i in range(1, 5):\n",
    "    print(i)\n",
    "```\n",
    "returns `1, 2, 3, 4`.\n",
    "2. \n",
    "```\n",
    "for i in range(5, 1, -1):\n",
    "    print(i)\n",
    "```\n",
    "returns `5, 4, 3, 2`."
   ]
  },
  {
   "cell_type": "markdown",
   "metadata": {},
   "source": [
    "Leetcode version:"
   ]
  },
  {
   "cell_type": "code",
   "execution_count": null,
   "metadata": {},
   "outputs": [],
   "source": [
    "def removeElement(self, nums: List[int], val: int) -> int:\n",
    "    assert 0 <= len(nums) <= 100, \"The length of the array is out of range [0, 100].\"\n",
    "    assert 0 <= val <= 100, \"The value of the val is out of range [0, 100].\"\n",
    "    for i in range(len(nums)-1, -1, -1):\n",
    "        assert 0 <= nums[i] <= 50, \"The value of the element in the nums is out of range [0, 50].\"\n",
    "        assert isinstance(nums[i], int), \"The type of the element is not int.\"\n",
    "        if nums[i] == val:\n",
    "            nums.pop(i)\n",
    "    return len(nums)"
   ]
  },
  {
   "cell_type": "markdown",
   "metadata": {},
   "source": [
    "Jupyter version 1:"
   ]
  },
  {
   "cell_type": "code",
   "execution_count": 2,
   "metadata": {
    "ExecuteTime": {
     "end_time": "2021-09-07T11:26:41.617754Z",
     "start_time": "2021-09-07T11:26:41.613714Z"
    }
   },
   "outputs": [],
   "source": [
    "def removeElement(nums: list, val: int) -> int:\n",
    "    assert 0 <= len(nums) <= 100, \"The length of the array is out of range [0, 100].\"\n",
    "    assert 0 <= val <= 100, \"The value of the val is out of range [0, 100].\"\n",
    "    \n",
    "    for i in range(len(nums)-1, -1, -1):\n",
    "        assert 0 <= nums[i] <= 50, \"The value of the element in the nums is out of range [0, 50].\"\n",
    "        assert isinstance(nums[i], int), \"The type of the element is not int.\"\n",
    "        if nums[i] == val:\n",
    "            nums.pop(i)\n",
    "            \n",
    "    print(nums)\n",
    "    return len(nums)"
   ]
  },
  {
   "cell_type": "markdown",
   "metadata": {},
   "source": [
    "Jupyter version 2:"
   ]
  },
  {
   "cell_type": "code",
   "execution_count": 49,
   "metadata": {
    "ExecuteTime": {
     "end_time": "2021-09-04T09:24:56.592725Z",
     "start_time": "2021-09-04T09:24:56.587737Z"
    }
   },
   "outputs": [],
   "source": [
    "def removeElement(nums: list, val: int) -> int:\n",
    "    assert 0 <= len(nums) <= 100, \"The length of the array is out of range [0, 100].\"\n",
    "    assert 0 <= val <= 100, \"The value of the val is out of range [0, 100].\"\n",
    "    \n",
    "    for i in range(len(nums)-1, -1, -1):\n",
    "        assert 0 <= nums[i] <= 50, \"The value of the element in the nums is out of range [0, 50].\"\n",
    "        assert isinstance(nums[i], int), \"The type of the element is not int.\"\n",
    "        if nums[i] == val:\n",
    "            nums.pop(i)\n",
    "            \n",
    "    print(nums)\n",
    "    return len(nums)"
   ]
  },
  {
   "cell_type": "code",
   "execution_count": 3,
   "metadata": {
    "ExecuteTime": {
     "end_time": "2021-09-07T11:26:43.907850Z",
     "start_time": "2021-09-07T11:26:43.898972Z"
    }
   },
   "outputs": [
    {
     "name": "stdout",
     "output_type": "stream",
     "text": [
      "[2, 2]\n"
     ]
    },
    {
     "data": {
      "text/plain": [
       "2"
      ]
     },
     "execution_count": 3,
     "metadata": {},
     "output_type": "execute_result"
    }
   ],
   "source": [
    "removeElement([2,2,3,3], 3)"
   ]
  },
  {
   "cell_type": "code",
   "execution_count": 4,
   "metadata": {
    "ExecuteTime": {
     "end_time": "2021-09-07T11:26:45.062137Z",
     "start_time": "2021-09-07T11:26:45.053146Z"
    }
   },
   "outputs": [
    {
     "ename": "AssertionError",
     "evalue": "The type of the element is not int.",
     "output_type": "error",
     "traceback": [
      "\u001b[0;31m---------------------------------------------------------------------------\u001b[0m",
      "\u001b[0;31mAssertionError\u001b[0m                            Traceback (most recent call last)",
      "\u001b[0;32m<ipython-input-4-ca16ce20bdaf>\u001b[0m in \u001b[0;36m<module>\u001b[0;34m\u001b[0m\n\u001b[0;32m----> 1\u001b[0;31m \u001b[0mremoveElement\u001b[0m\u001b[0;34m(\u001b[0m\u001b[0;34m[\u001b[0m\u001b[0;36m2.1\u001b[0m\u001b[0;34m,\u001b[0m\u001b[0;36m2\u001b[0m\u001b[0;34m,\u001b[0m\u001b[0;36m3\u001b[0m\u001b[0;34m,\u001b[0m\u001b[0;36m3\u001b[0m\u001b[0;34m]\u001b[0m\u001b[0;34m,\u001b[0m \u001b[0;36m3\u001b[0m\u001b[0;34m)\u001b[0m\u001b[0;34m\u001b[0m\u001b[0;34m\u001b[0m\u001b[0m\n\u001b[0m",
      "\u001b[0;32m<ipython-input-2-1e985dbd6993>\u001b[0m in \u001b[0;36mremoveElement\u001b[0;34m(nums, val)\u001b[0m\n\u001b[1;32m      5\u001b[0m     \u001b[0;32mfor\u001b[0m \u001b[0mi\u001b[0m \u001b[0;32min\u001b[0m \u001b[0mrange\u001b[0m\u001b[0;34m(\u001b[0m\u001b[0mlen\u001b[0m\u001b[0;34m(\u001b[0m\u001b[0mnums\u001b[0m\u001b[0;34m)\u001b[0m\u001b[0;34m-\u001b[0m\u001b[0;36m1\u001b[0m\u001b[0;34m,\u001b[0m \u001b[0;34m-\u001b[0m\u001b[0;36m1\u001b[0m\u001b[0;34m,\u001b[0m \u001b[0;34m-\u001b[0m\u001b[0;36m1\u001b[0m\u001b[0;34m)\u001b[0m\u001b[0;34m:\u001b[0m\u001b[0;34m\u001b[0m\u001b[0;34m\u001b[0m\u001b[0m\n\u001b[1;32m      6\u001b[0m         \u001b[0;32massert\u001b[0m \u001b[0;36m0\u001b[0m \u001b[0;34m<=\u001b[0m \u001b[0mnums\u001b[0m\u001b[0;34m[\u001b[0m\u001b[0mi\u001b[0m\u001b[0;34m]\u001b[0m \u001b[0;34m<=\u001b[0m \u001b[0;36m50\u001b[0m\u001b[0;34m,\u001b[0m \u001b[0;34m\"The value of the element in the nums is out of range [0, 50].\"\u001b[0m\u001b[0;34m\u001b[0m\u001b[0;34m\u001b[0m\u001b[0m\n\u001b[0;32m----> 7\u001b[0;31m         \u001b[0;32massert\u001b[0m \u001b[0misinstance\u001b[0m\u001b[0;34m(\u001b[0m\u001b[0mnums\u001b[0m\u001b[0;34m[\u001b[0m\u001b[0mi\u001b[0m\u001b[0;34m]\u001b[0m\u001b[0;34m,\u001b[0m \u001b[0mint\u001b[0m\u001b[0;34m)\u001b[0m\u001b[0;34m,\u001b[0m \u001b[0;34m\"The type of the element is not int.\"\u001b[0m\u001b[0;34m\u001b[0m\u001b[0;34m\u001b[0m\u001b[0m\n\u001b[0m\u001b[1;32m      8\u001b[0m         \u001b[0;32mif\u001b[0m \u001b[0mnums\u001b[0m\u001b[0;34m[\u001b[0m\u001b[0mi\u001b[0m\u001b[0;34m]\u001b[0m \u001b[0;34m==\u001b[0m \u001b[0mval\u001b[0m\u001b[0;34m:\u001b[0m\u001b[0;34m\u001b[0m\u001b[0;34m\u001b[0m\u001b[0m\n\u001b[1;32m      9\u001b[0m             \u001b[0mnums\u001b[0m\u001b[0;34m.\u001b[0m\u001b[0mpop\u001b[0m\u001b[0;34m(\u001b[0m\u001b[0mi\u001b[0m\u001b[0;34m)\u001b[0m\u001b[0;34m\u001b[0m\u001b[0;34m\u001b[0m\u001b[0m\n",
      "\u001b[0;31mAssertionError\u001b[0m: The type of the element is not int."
     ]
    }
   ],
   "source": [
    "removeElement([2.1,2,3,3], 3)"
   ]
  },
  {
   "cell_type": "markdown",
   "metadata": {},
   "source": [
    "## Method 2"
   ]
  },
  {
   "cell_type": "markdown",
   "metadata": {},
   "source": [
    "Method 1 is a formal method that removes the same value in the `nums` and gets the length of the `nums`. However, if the result doesn't require us to return the array, we can only count the elements having a different value with `val`. "
   ]
  },
  {
   "cell_type": "markdown",
   "metadata": {},
   "source": [
    "Jupyter version 1:"
   ]
  },
  {
   "cell_type": "code",
   "execution_count": null,
   "metadata": {},
   "outputs": [],
   "source": [
    "def removeElement(nums: list, val: int) -> int:\n",
    "    assert 0 <= len(nums) <= 100, \"The length of the array is out of range [0, 100].\"\n",
    "    assert 0 <= val <= 100, \"The value of the val is out of range [0, 100].\"\n",
    "    \n",
    "    count = 0\n",
    "    for i in nums:\n",
    "        assert 0 <= len(nums) <= 50, \"The value of the element in the nums is out of range [0, 50].\"\n",
    "        assert isinstance(i, int), \"The type of the element is not int.\"\n",
    "        if i != val:\n",
    "            count += 1\n",
    "            \n",
    "    return count"
   ]
  },
  {
   "cell_type": "code",
   "execution_count": 75,
   "metadata": {
    "ExecuteTime": {
     "end_time": "2021-09-04T09:51:14.602752Z",
     "start_time": "2021-09-04T09:51:14.597801Z"
    }
   },
   "outputs": [
    {
     "data": {
      "text/plain": [
       "140607108935264"
      ]
     },
     "execution_count": 75,
     "metadata": {},
     "output_type": "execute_result"
    }
   ],
   "source": [
    "nums = [1,2,3]\n",
    "id(nums)"
   ]
  },
  {
   "cell_type": "code",
   "execution_count": 76,
   "metadata": {
    "ExecuteTime": {
     "end_time": "2021-09-04T09:51:15.617142Z",
     "start_time": "2021-09-04T09:51:15.611699Z"
    }
   },
   "outputs": [
    {
     "name": "stdout",
     "output_type": "stream",
     "text": [
      "[1, 2, 3]\n",
      "[1, 2, 3, [...]]\n"
     ]
    },
    {
     "data": {
      "text/plain": [
       "140607108935264"
      ]
     },
     "execution_count": 76,
     "metadata": {},
     "output_type": "execute_result"
    }
   ],
   "source": [
    "print(nums)\n",
    "nums.append(nums)\n",
    "print(nums)\n",
    "id(nums)"
   ]
  },
  {
   "cell_type": "code",
   "execution_count": 77,
   "metadata": {
    "ExecuteTime": {
     "end_time": "2021-09-04T09:51:28.726803Z",
     "start_time": "2021-09-04T09:51:28.721056Z"
    }
   },
   "outputs": [
    {
     "data": {
      "text/plain": [
       "140607108987872"
      ]
     },
     "execution_count": 77,
     "metadata": {},
     "output_type": "execute_result"
    }
   ],
   "source": [
    "id(nums[:])"
   ]
  }
 ],
 "metadata": {
  "hide_input": false,
  "kernelspec": {
   "display_name": "Python 3",
   "language": "python",
   "name": "python3"
  },
  "latex_envs": {
   "LaTeX_envs_menu_present": true,
   "autoclose": false,
   "autocomplete": true,
   "bibliofile": "biblio.bib",
   "cite_by": "apalike",
   "current_citInitial": 1,
   "eqLabelWithNumbers": true,
   "eqNumInitial": 1,
   "hotkeys": {
    "equation": "Ctrl-E",
    "itemize": "Ctrl-I"
   },
   "labels_anchors": false,
   "latex_user_defs": false,
   "report_style_numbering": false,
   "user_envs_cfg": false
  },
  "toc": {
   "base_numbering": 1,
   "nav_menu": {},
   "number_sections": true,
   "sideBar": true,
   "skip_h1_title": false,
   "title_cell": "Table of Contents",
   "title_sidebar": "Contents",
   "toc_cell": false,
   "toc_position": {},
   "toc_section_display": true,
   "toc_window_display": false
  }
 },
 "nbformat": 4,
 "nbformat_minor": 4
}
