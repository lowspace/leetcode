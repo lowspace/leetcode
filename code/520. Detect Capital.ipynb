{
 "cells": [
  {
   "cell_type": "markdown",
   "metadata": {},
   "source": [
    "# Problem\n",
    "\n",
    "We define the usage of capitals in a word to be right when one of the following cases holds:\n",
    "\n",
    "- All letters in this word are capitals, like `\"USA\"`.\n",
    "- All letters in this word are not capitals, like `\"leetcode\"`.\n",
    "- Only the first letter in this word is capital, like `\"Google\"`.\n",
    "\n",
    "Given a string `word`, return `true` if the usage of capitals in it is right.\n",
    "\n",
    " \n",
    "\n",
    "**Example 1:**\n",
    "\n",
    "```\n",
    "Input: word = \"USA\"\n",
    "Output: true\n",
    "```\n",
    "\n",
    "**Example 2:**\n",
    "\n",
    "```\n",
    "Input: word = \"FlaG\"\n",
    "Output: false\n",
    "```\n",
    "\n",
    " \n",
    "\n",
    "**Constraints:**\n",
    "\n",
    "- `1 <= word.length <= 100`\n",
    "- `word` consists of lowercase and uppercase English letters."
   ]
  },
  {
   "cell_type": "markdown",
   "metadata": {},
   "source": [
    "# Summary\n",
    "\n",
    "Using regex and built-in string methods is pretty simple.\n",
    "\n",
    "Iterative checking is somewhat tricky in how to convey the case consistency information into the next check. This method needs some observations that the letters except the first letter must be the same case and we do not allow the `aA` situation."
   ]
  },
  {
   "cell_type": "markdown",
   "metadata": {},
   "source": [
    "# Problem Description \n",
    "\n",
    "Judge the string whether in the right capital rules:\n",
    "\n",
    "+ only the first letter is capital;\n",
    "+ all letters are capitals;\n",
    "+ all letters are not capitals."
   ]
  },
  {
   "cell_type": "markdown",
   "metadata": {},
   "source": [
    "# Methods\n",
    "\n",
    "+ one by one check;\n",
    "+ two pointer check;\n",
    "+ the whole string check:\n",
    "    + built-in method;\n",
    "    + regex."
   ]
  },
  {
   "cell_type": "markdown",
   "metadata": {},
   "source": [
    "## Method 1 Rule-based\n"
   ]
  },
  {
   "cell_type": "markdown",
   "metadata": {},
   "source": [
    "Version 1 Iteration\n",
    "\n",
    "+ **Time Complexity**: \n",
    "\t+ Best case: $O(n)$\n",
    "\t+ Worst case: $O(n)$\n",
    "+ **Space Complexity**: $O(1)$"
   ]
  },
  {
   "cell_type": "code",
   "execution_count": 3,
   "metadata": {},
   "outputs": [],
   "source": [
    "class Solution:\n",
    "    def detectCapitalUse(self, word: str) -> bool:\n",
    "        if len(word) == 1:\n",
    "            return True\n",
    "\n",
    "        if word[0].islower():\n",
    "            capital = False\n",
    "        else:\n",
    "            capital = True\n",
    "\n",
    "        if not capital: # all lowercase or uppercase\n",
    "            for letter in word[1:]:\n",
    "                if not letter.islower():\n",
    "                    return False\n",
    "        else:\n",
    "            for i in range(1, len(word) - 1): # the consistency\n",
    "                if word[i].islower() == word[i+1].islower() or word[i].isupper() == word[i+1].isupper():\n",
    "                    continue\n",
    "                else:\n",
    "                    return False\n",
    "\n",
    "        return True"
   ]
  },
  {
   "cell_type": "markdown",
   "metadata": {},
   "source": [
    "Version 3 Two Pointer\n",
    "\n",
    "+ **Time Complexity**: \n",
    "\t+ Best case: $O(n/2)$\n",
    "\t+ Worst case: $O(n/2)$\n",
    "+ **Space Complexity**: $O(1)$\n",
    "\n",
    "The key idea is to keep the consistency of the future check, that is the case of the letters except the first letter must to be the same, uppercase or lowercase."
   ]
  },
  {
   "cell_type": "code",
   "execution_count": null,
   "metadata": {},
   "outputs": [],
   "source": [
    "class Solution:\n",
    "    def detectCapitalUse(self, word: str) -> bool:\n",
    "        if len(word) == 1:\n",
    "            return True\n",
    "\n",
    "        if word[0].islower():\n",
    "            capital = False\n",
    "        else:\n",
    "            capital = True\n",
    "\n",
    "        i, j = 1, len(word) - 1\n",
    "\n",
    "        if word[1].islower():\n",
    "            cnt = False\n",
    "        else:\n",
    "            cnt = True\n",
    "\n",
    "        if capital == False and cnt == True: # remove 'aA'\n",
    "            return False\n",
    "        \n",
    "        while i <= j:\n",
    "            if word[i].isupper() == word[j].isupper() == cnt:\n",
    "                i += 1\n",
    "                j -= 1\n",
    "            else:\n",
    "                return False\n",
    "\n",
    "        return True"
   ]
  },
  {
   "cell_type": "markdown",
   "metadata": {},
   "source": [
    "Version 3 Built-in Method\n",
    "\n",
    "+ **Time Complexity**: \n",
    "\t+ Best case: $O(n)$\n",
    "\t+ Worst case: $O(n)$\n",
    "+ **Space Complexity**: $O(n)$"
   ]
  },
  {
   "cell_type": "code",
   "execution_count": 5,
   "metadata": {},
   "outputs": [],
   "source": [
    "class Solution:\n",
    "    def detectCapitalUse(self, word: str) -> bool:\n",
    "        if word == word.lower(): # all lowercase\n",
    "            return True\n",
    "        elif word == word.upper(): # all uppercase\n",
    "            return True\n",
    "        elif word == word.capitalize(): # the first letter capitalized\n",
    "            return True\n",
    "        else:\n",
    "            return False"
   ]
  },
  {
   "cell_type": "markdown",
   "metadata": {},
   "source": [
    "Version 4 Regex\n",
    "\n",
    "+ **Time Complexity**: \n",
    "\t+ Best case: $O(n)$\n",
    "\t+ Worst case: $O(n)$\n",
    "+ **Space Complexity**: $O(1)$"
   ]
  },
  {
   "cell_type": "code",
   "execution_count": null,
   "metadata": {},
   "outputs": [],
   "source": [
    "class Solution:\n",
    "    def detectCapitalUse(self, word: str) -> bool:\n",
    "        import re\n",
    "\n",
    "        pattern = r'[a-z]+|[A-Z]+|[A-Z][a-z]*'\n",
    "\n",
    "        return re.fullmatch(pattern, word)"
   ]
  },
  {
   "cell_type": "markdown",
   "metadata": {},
   "source": [
    "# Footnotes"
   ]
  },
  {
   "cell_type": "code",
   "execution_count": null,
   "metadata": {},
   "outputs": [],
   "source": [
    "# add the doc information to README \n",
    "from tools.setup import generate_row as g\n",
    "\n",
    "g()"
   ]
  }
 ],
 "metadata": {
  "hide_input": false,
  "kernelspec": {
   "display_name": "Python 3",
   "language": "python",
   "name": "python3"
  },
  "language_info": {
   "codemirror_mode": {
    "name": "ipython",
    "version": 3
   },
   "file_extension": ".py",
   "mimetype": "text/x-python",
   "name": "python",
   "nbconvert_exporter": "python",
   "pygments_lexer": "ipython3",
   "version": "3.7.11"
  },
  "latex_envs": {
   "LaTeX_envs_menu_present": true,
   "autoclose": false,
   "autocomplete": true,
   "bibliofile": "biblio.bib",
   "cite_by": "apalike",
   "current_citInitial": 1,
   "eqLabelWithNumbers": true,
   "eqNumInitial": 1,
   "hotkeys": {
    "equation": "Ctrl-E",
    "itemize": "Ctrl-I"
   },
   "labels_anchors": false,
   "latex_user_defs": false,
   "report_style_numbering": false,
   "user_envs_cfg": false
  },
  "toc": {
   "base_numbering": 1,
   "nav_menu": {},
   "number_sections": true,
   "sideBar": true,
   "skip_h1_title": false,
   "title_cell": "Table of Contents",
   "title_sidebar": "Contents",
   "toc_cell": false,
   "toc_position": {},
   "toc_section_display": true,
   "toc_window_display": false
  }
 },
 "nbformat": 4,
 "nbformat_minor": 4
}
