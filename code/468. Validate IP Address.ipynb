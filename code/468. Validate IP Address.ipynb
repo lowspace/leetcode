{
 "cells": [
  {
   "cell_type": "markdown",
   "metadata": {},
   "source": [
    "# Problem\n",
    "\n",
    "Given a string `queryIP`, return `\"IPv4\"` if IP is a valid IPv4 address, `\"IPv6\"` if IP is a valid IPv6 address or `\"Neither\"` if IP is not a correct IP of any type.\n",
    "\n",
    "**A valid IPv4** address is an IP in the form `\"x1.x2.x3.x4\"` where `0 <= xi <= 255` and `xi`**cannot contain** leading zeros. For example, `\"192.168.1.1\"` and `\"192.168.1.0\"` are valid IPv4 addresses but `\"192.168.01.1\"`, while `\"192.168.1.00\"` and `\"192.168@1.1\"` are invalid IPv4 addresses.\n",
    "\n",
    "**A valid IPv6** address is an IP in the form `\"x1:x2:x3:x4:x5:x6:x7:x8\"` where:\n",
    "\n",
    "- `1 <= xi.length <= 4`\n",
    "- `xi` is a **hexadecimal string** which may contain digits, lower-case English letter (`'a'` to `'f'`) and upper-case English letters (`'A'` to `'F'`).\n",
    "- Leading zeros are allowed in `xi`.\n",
    "\n",
    "For example, \"`2001:0db8:85a3:0000:0000:8a2e:0370:7334\"` and \"`2001:db8:85a3:0:0:8A2E:0370:7334\"` are valid IPv6 addresses, while \"`2001:0db8:85a3::8A2E:037j:7334\"` and \"`02001:0db8:85a3:0000:0000:8a2e:0370:7334\"`are invalid IPv6 addresses.\n",
    "\n",
    " \n",
    "\n",
    "**Example 1:**\n",
    "\n",
    "```\n",
    "Input: queryIP = \"172.16.254.1\"\n",
    "Output: \"IPv4\"\n",
    "Explanation: This is a valid IPv4 address, return \"IPv4\".\n",
    "```\n",
    "\n",
    "**Example 2:**\n",
    "\n",
    "```\n",
    "Input: queryIP = \"2001:0db8:85a3:0:0:8A2E:0370:7334\"\n",
    "Output: \"IPv6\"\n",
    "Explanation: This is a valid IPv6 address, return \"IPv6\".\n",
    "```\n",
    "\n",
    "**Example 3:**\n",
    "\n",
    "```\n",
    "Input: queryIP = \"256.256.256.256\"\n",
    "Output: \"Neither\"\n",
    "Explanation: This is neither a IPv4 address nor a IPv6 address.\n",
    "```\n",
    "\n",
    "**Example 4:**\n",
    "\n",
    "```\n",
    "Input: queryIP = \"2001:0db8:85a3:0:0:8A2E:0370:7334:\"\n",
    "Output: \"Neither\"\n",
    "```\n",
    "\n",
    "**Example 5:**\n",
    "\n",
    "```\n",
    "Input: queryIP = \"1e1.4.5.6\"\n",
    "Output: \"Neither\"\n",
    "```\n",
    "\n",
    " \n",
    "\n",
    "**Constraints:**\n",
    "\n",
    "- `queryIP` consists only of English letters, digits and the characters `'.'` and `':'`."
   ]
  },
  {
   "cell_type": "markdown",
   "metadata": {},
   "source": [
    "# Summary\n",
    "\n",
    "+ do not add whitespace in `{m,n}`."
   ]
  },
  {
   "cell_type": "markdown",
   "metadata": {},
   "source": [
    "# Problem Description \n",
    "\n",
    "Given the string pattern of IPv4 and IPv6 to judge whether the string is a valid IPv4 or IPv4 or either.\n",
    "\n",
    "IPv4 = `\"x1.x2.x3.x4\"`:\n",
    "\n",
    "+ $1 \\leq xi \\leq 255$, at most 8-bit *digit*;\n",
    "+ doesn't support leading zeros.\n",
    "\n",
    "IPv6 = `\"x1:x2:x3:x4:x5:x6:x7:x8\"`:\n",
    "\n",
    "+ 1 $\\leq$ `len(xi)` $\\leq$ 4;\n",
    "+ supports both upper and lower case english character, and digits;\n",
    "+ supports leading zeros."
   ]
  },
  {
   "cell_type": "markdown",
   "metadata": {},
   "source": [
    "# Methods\n",
    "\n",
    "Both of them validate the string by rules, but from different ideas. The first one compares in character level, and the second compares in chunk level."
   ]
  },
  {
   "cell_type": "markdown",
   "metadata": {},
   "source": [
    "## Method 1 By Rules"
   ]
  },
  {
   "cell_type": "markdown",
   "metadata": {},
   "source": [
    "### Version 1 Divide and Conquer\n",
    "\n",
    "+ **Time Complexity**: \n",
    "\t+ Best case: $O(1)$\n",
    "\t+ Worst case: $O(n)$\n",
    "+ **Space Complexity**: $O(1)$\n",
    "\n",
    "Ideas:\n",
    "+ Since `0 - 255` doesn't cost a lot of memory, I build a set to store these values, and use these elements to judge whether the target belongs to the IPv4 string.\n",
    "+ set the rules one by one."
   ]
  },
  {
   "cell_type": "code",
   "execution_count": 29,
   "metadata": {},
   "outputs": [],
   "source": [
    "class Solution:\n",
    "    def validIPAddress(self, queryIP: str) -> str:\n",
    "        def isIPv4(queryIP: str) -> bool:\n",
    "            query = queryIP.split('.')\n",
    "            value_set = set()\n",
    "            for i in range(0, 256):\n",
    "                value_set.add(str(i))\n",
    "            if len(query) == 4:\n",
    "                for i in query:\n",
    "                    if i:\n",
    "                        if i not in value_set:\n",
    "                            return False\n",
    "                    else:\n",
    "                        return False\n",
    "                return True \n",
    "            else:\n",
    "                return False\n",
    "\n",
    "        def isIPv6(queryIP: str) -> bool:\n",
    "            import re\n",
    "            query = queryIP.split(':')\n",
    "            pattern = r'[a-fA-F0-9]' # character range\n",
    "            if len(query) == 8:\n",
    "                for i in query:\n",
    "                    if 1 <= len(i) <= 4: # length\n",
    "                        for j in i:\n",
    "                            if not re.match(pattern, j):\n",
    "                                return False\n",
    "                    else:\n",
    "                        return False\n",
    "                return True\n",
    "            else:\n",
    "                return False    \n",
    "\n",
    "        if isIPv4(queryIP):\n",
    "            return \"IPv4\"\n",
    "        elif isIPv6(queryIP):\n",
    "            return \"IPv6\"\n",
    "        else:\n",
    "            return \"Neither\""
   ]
  },
  {
   "cell_type": "markdown",
   "metadata": {},
   "source": [
    "## Version 2 Regex\n",
    "\n",
    "+ **Time Complexity**: \n",
    "\t+ Best case: $O(1)$\n",
    "\t+ Worst case: $O(1)$\n",
    "+ **Space Complexity**: $O(1)$\n",
    "\n",
    "Using regex to judge the IPv4 and IPv6 directly.\n",
    "\n",
    "Tips: \n",
    "\n",
    "+ don't add white space in `{m,n}`."
   ]
  },
  {
   "cell_type": "code",
   "execution_count": 154,
   "metadata": {},
   "outputs": [],
   "source": [
    "class Solution:\n",
    "    def validIPAddress(self, queryIP: str) -> str:\n",
    "        import re\n",
    "        v4_pattern = re.compile('(?<=^)[0-9](?=$)|(?<=^)1[0-9]{1,2}(?=$)|(?<=^)2[0-4][0-9](?=$)|(?<=^)25[0-5](?=$)')\n",
    "        v6_pattern = re.compile('(?<=^)[a-fA-F0-9]{1,4}(?=$)')\n",
    "\n",
    "        v4_str = queryIP.split('.')\n",
    "\n",
    "        if len(v4_str) == 4:\n",
    "            cnt = 0\n",
    "            for i in v4_str:\n",
    "                if re.match(v4_pattern, i):\n",
    "                    cnt += 1\n",
    "                    continue\n",
    "                else:\n",
    "                    break\n",
    "            if cnt == 4:\n",
    "                return 'IPv4'\n",
    "        \n",
    "        v6_str = queryIP.split(':')\n",
    "        if len(v6_str) == 8:\n",
    "            cnt = 0\n",
    "            for i in v6_str:\n",
    "                if re.match(v6_pattern, i):\n",
    "                    cnt += 1\n",
    "                    continue\n",
    "                else:\n",
    "                    break\n",
    "            if cnt == 8:\n",
    "                return 'IPv6'\n",
    "        \n",
    "        return 'Neither'"
   ]
  },
  {
   "cell_type": "markdown",
   "metadata": {},
   "source": [
    "# Footnotes"
   ]
  },
  {
   "cell_type": "code",
   "execution_count": null,
   "metadata": {},
   "outputs": [],
   "source": [
    "# add the doc information to README \n",
    "from tools.setup import generate_row as g\n",
    "\n",
    "g()"
   ]
  }
 ],
 "metadata": {
  "hide_input": false,
  "kernelspec": {
   "display_name": "Python 3",
   "language": "python",
   "name": "python3"
  },
  "language_info": {
   "codemirror_mode": {
    "name": "ipython",
    "version": 3
   },
   "file_extension": ".py",
   "mimetype": "text/x-python",
   "name": "python",
   "nbconvert_exporter": "python",
   "pygments_lexer": "ipython3",
   "version": "3.7.11"
  },
  "latex_envs": {
   "LaTeX_envs_menu_present": true,
   "autoclose": false,
   "autocomplete": true,
   "bibliofile": "biblio.bib",
   "cite_by": "apalike",
   "current_citInitial": 1,
   "eqLabelWithNumbers": true,
   "eqNumInitial": 1,
   "hotkeys": {
    "equation": "Ctrl-E",
    "itemize": "Ctrl-I"
   },
   "labels_anchors": false,
   "latex_user_defs": false,
   "report_style_numbering": false,
   "user_envs_cfg": false
  },
  "toc": {
   "base_numbering": 1,
   "nav_menu": {},
   "number_sections": true,
   "sideBar": true,
   "skip_h1_title": false,
   "title_cell": "Table of Contents",
   "title_sidebar": "Contents",
   "toc_cell": false,
   "toc_position": {},
   "toc_section_display": true,
   "toc_window_display": false
  }
 },
 "nbformat": 4,
 "nbformat_minor": 4
}
