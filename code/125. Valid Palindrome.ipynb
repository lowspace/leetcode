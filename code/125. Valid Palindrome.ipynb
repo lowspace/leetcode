{
 "cells": [
  {
   "cell_type": "markdown",
   "metadata": {},
   "source": [
    "# Problem\n",
    "\n",
    "A phrase is a **palindrome** if, after converting all uppercase letters into lowercase letters and removing all non-alphanumeric characters, it reads the same forward and backward. Alphanumeric characters include letters and numbers.\n",
    "\n",
    "Given a string `s`, return `true` *if it is a **palindrome**, or* `false` *otherwise*.\n",
    "\n",
    " \n",
    "\n",
    "**Example 1:**\n",
    "\n",
    "```\n",
    "Input: s = \"A man, a plan, a canal: Panama\"\n",
    "Output: true\n",
    "Explanation: \"amanaplanacanalpanama\" is a palindrome.\n",
    "```\n",
    "\n",
    "**Example 2:**\n",
    "\n",
    "```\n",
    "Input: s = \"race a car\"\n",
    "Output: false\n",
    "Explanation: \"raceacar\" is not a palindrome.\n",
    "```\n",
    "\n",
    "**Example 3:**\n",
    "\n",
    "```\n",
    "Input: s = \" \"\n",
    "Output: true\n",
    "Explanation: s is an empty string \"\" after removing non-alphanumeric characters.\n",
    "Since an empty string reads the same forward and backward, it is a palindrome.\n",
    "```\n",
    "\n",
    " \n",
    "\n",
    "**Constraints:**\n",
    "\n",
    "- `1 <= s.length <= 2 * 10^5`\n",
    "- `s` consists only of printable ASCII characters.\n"
   ]
  },
  {
   "cell_type": "markdown",
   "metadata": {},
   "source": [
    "# Summary\n",
    "\n",
    "The problem examines the `str` operations and basic palindrome."
   ]
  },
  {
   "cell_type": "markdown",
   "metadata": {},
   "source": [
    "# Methods\n",
    "\n"
   ]
  },
  {
   "cell_type": "markdown",
   "metadata": {},
   "source": [
    "## Method 1 Holistic Approach\n",
    "\n",
    "+ Time complexity: $O(n)$\n",
    "+ Space complexity: $O(n)$\n",
    "+ $n$ is the length of the string\n",
    "\n",
    "steps:\n",
    "1. lowercase the string;\n",
    "2. remove the non-alphanumeric characters;\n",
    "3. check palindrome"
   ]
  },
  {
   "cell_type": "markdown",
   "metadata": {},
   "source": [
    "### Version 1 Naive Built New List"
   ]
  },
  {
   "cell_type": "code",
   "execution_count": null,
   "metadata": {},
   "outputs": [],
   "source": [
    "class Solution:\n",
    "    def isPalindrome(self, s: str) -> bool:\n",
    "        s = s.lower()\n",
    "        new_s = ''\n",
    "        for c in s:\n",
    "            if c.isalpha() or c.isnumeric():\n",
    "                new_s += c\n",
    "        if new_s == new_s[::-1]:\n",
    "            return True\n",
    "        else:\n",
    "            return False"
   ]
  },
  {
   "cell_type": "markdown",
   "metadata": {},
   "source": [
    "### Version 2 `join()`"
   ]
  },
  {
   "cell_type": "code",
   "execution_count": null,
   "metadata": {},
   "outputs": [],
   "source": [
    "class Solution:\n",
    "    def isPalindrome(self, s: str) -> bool:\n",
    "        s = s.lower()\n",
    "        s = ''.join([i for i in s if i.isalnum()])\n",
    "        if s == s[::-1]:\n",
    "            return True\n",
    "        else:\n",
    "            return False"
   ]
  },
  {
   "cell_type": "markdown",
   "metadata": {},
   "source": [
    "### Version 3 Using Loop to Check"
   ]
  },
  {
   "cell_type": "code",
   "execution_count": null,
   "metadata": {},
   "outputs": [],
   "source": [
    "class Solution:\n",
    "    def isPalindrome(self, s: str) -> bool:\n",
    "        s = s.lower()\n",
    "        s = ''.join([i for i in s if i.isalnum()])\n",
    "        for i in range(int(len(s)/2)):\n",
    "            if s[i] == s[-i-1]:\n",
    "                continue\n",
    "            else:\n",
    "                return False\n",
    "        return True"
   ]
  },
  {
   "cell_type": "markdown",
   "metadata": {},
   "source": [
    "### Version 4 `re.sub()`"
   ]
  },
  {
   "cell_type": "code",
   "execution_count": null,
   "metadata": {},
   "outputs": [],
   "source": [
    "class Solution:\n",
    "    def isPalindrome(self, s: str) -> bool:\n",
    "        import re\n",
    "        s = s.lower()\n",
    "        s = re.sub([r'[^A-Za-z0-9]+'], '', s)\n",
    "\n",
    "        return s == s[::-1]"
   ]
  },
  {
   "cell_type": "markdown",
   "metadata": {},
   "source": [
    "### Version 5 `str.translate()`\n",
    "\n",
    "This method may be not as robust as the above versions since `string.punctuation` only contains punctuations which are a proper subset of the non-alphanumeric characters.\n",
    "\n",
    "`str.translate` method maps the characters in the string into other character or string according to a dictionary, and this dictionary is provided by `str.maketrans()`.<sup>[2](#ft2)</sup>\n",
    "\n",
    "`str.maketrans()` has three modes <sup>[1](#ft1)</sup>:\n",
    "\n",
    "+ one parameter mode, which is `str.maketrans(dict)`. This mode only accepts dictionary as its input, and this dictionary maps Unicode ordinals (integers) or characters (strings of length 1) to Unicode ordinals, strings (of arbitrary lengths) or `None`.\n",
    "+ two parameter mode, which is `str.maketrans(str1, str2)`. The `str1` must have the same length with `str2`, and in the result, the character in `str1` will map to the character in `str2` at the same position.\n",
    "+ same parameter mode, which is `str.maketrans(str1, str2, str3)`. The first two are the same the previous, and the `str3` means all the characters in `str3` will map to `None`."
   ]
  },
  {
   "cell_type": "code",
   "execution_count": null,
   "metadata": {},
   "outputs": [],
   "source": [
    "class Solution:\n",
    "    def isPalindrome(self, s: str) -> bool:\n",
    "        import string\n",
    "        s = s.lower().translate(s.maketrans(\"\", \"\", string.punctuation + \" \"))\n",
    "        \n",
    "        return s == s[::-1]"
   ]
  },
  {
   "cell_type": "code",
   "execution_count": 60,
   "metadata": {},
   "outputs": [
    {
     "data": {
      "text/plain": [
       "'applepieABC'"
      ]
     },
     "execution_count": 60,
     "metadata": {},
     "output_type": "execute_result"
    }
   ],
   "source": [
    "s = 'apple pie ABC'\n",
    "import string\n",
    "s.translate(s.maketrans(\"\", \"\", string.punctuation + \" \"))"
   ]
  },
  {
   "cell_type": "code",
   "execution_count": 83,
   "metadata": {},
   "outputs": [
    {
     "data": {
      "text/plain": [
       "'a❦❦le ❦ie ABC'"
      ]
     },
     "execution_count": 83,
     "metadata": {},
     "output_type": "execute_result"
    }
   ],
   "source": [
    "s.translate(s.maketrans({'p':10086}))"
   ]
  },
  {
   "cell_type": "code",
   "execution_count": 85,
   "metadata": {},
   "outputs": [
    {
     "data": {
      "text/plain": [
       "'a我我le 我ie ABC'"
      ]
     },
     "execution_count": 85,
     "metadata": {},
     "output_type": "execute_result"
    }
   ],
   "source": [
    "s.translate(s.maketrans('p', '我'))"
   ]
  },
  {
   "cell_type": "markdown",
   "metadata": {},
   "source": [
    "## Method 2 Atomistic approach: Two Pointer\n",
    "\n",
    "+ **Time Complexity**: $O(n)$\n",
    "+ **Space Complexity**: $O(1)$\n",
    "\n",
    "Note that `for i in range(0)` returns `None`, which means we should handle the empty situation."
   ]
  },
  {
   "cell_type": "code",
   "execution_count": 22,
   "metadata": {},
   "outputs": [],
   "source": [
    "class Solution:\n",
    "    def isPalindrome(self, s: str) -> bool:\n",
    "        s = s.lower()\n",
    "        anchor = len(s) - 1\n",
    "\n",
    "        for i in range(len(s)):\n",
    "            if s[i].isalnum():\n",
    "                for j in range(anchor, -1, -1):\n",
    "                    if s[j].isalnum():\n",
    "                        if s[i] == s[j]:\n",
    "                            anchor = j - 1\n",
    "                            break\n",
    "                        else:\n",
    "                            return False\n",
    "\n",
    "        return True # handle ' '"
   ]
  },
  {
   "cell_type": "code",
   "execution_count": null,
   "metadata": {},
   "outputs": [],
   "source": [
    "class Solution:\n",
    "    def isPalindrome(self, s: str) -> bool:\n",
    "        s = s.lower()\n",
    "        anchor = len(s) - 1\n",
    "\n",
    "        for i in range(len(s)):\n",
    "            if s[i].isalnum():\n",
    "                for j in range(anchor, -1, -1):\n",
    "                    if i == j:\n",
    "                        return True\n",
    "                    if s[j].isalnum():\n",
    "                        if s[i] == s[j]:\n",
    "                            anchor = j - 1\n",
    "                            break\n",
    "                        else:\n",
    "                            return False\n",
    "        \n",
    "        return True # handle ' '"
   ]
  },
  {
   "cell_type": "markdown",
   "metadata": {},
   "source": [
    "# Footnotes\n",
    "\n",
    "\n",
    "<a name=\"ft1\">[1]</a>: `str.maketrans()`: https://docs.python.org/3/library/stdtypes.html#str.maketrans\n",
    "\n",
    "<a name=\"ft2\">[2]</a>: `str.translate()`: https://docs.python.org/3/library/stdtypes.html"
   ]
  }
 ],
 "metadata": {
  "hide_input": false,
  "kernelspec": {
   "display_name": "Python 3",
   "language": "python",
   "name": "python3"
  },
  "language_info": {
   "codemirror_mode": {
    "name": "ipython",
    "version": 3
   },
   "file_extension": ".py",
   "mimetype": "text/x-python",
   "name": "python",
   "nbconvert_exporter": "python",
   "pygments_lexer": "ipython3",
   "version": "3.7.11"
  },
  "latex_envs": {
   "LaTeX_envs_menu_present": true,
   "autoclose": false,
   "autocomplete": true,
   "bibliofile": "biblio.bib",
   "cite_by": "apalike",
   "current_citInitial": 1,
   "eqLabelWithNumbers": true,
   "eqNumInitial": 1,
   "hotkeys": {
    "equation": "Ctrl-E",
    "itemize": "Ctrl-I"
   },
   "labels_anchors": false,
   "latex_user_defs": false,
   "report_style_numbering": false,
   "user_envs_cfg": false
  },
  "toc": {
   "base_numbering": 1,
   "nav_menu": {},
   "number_sections": true,
   "sideBar": true,
   "skip_h1_title": false,
   "title_cell": "Table of Contents",
   "title_sidebar": "Contents",
   "toc_cell": false,
   "toc_position": {},
   "toc_section_display": true,
   "toc_window_display": false
  }
 },
 "nbformat": 4,
 "nbformat_minor": 4
}
