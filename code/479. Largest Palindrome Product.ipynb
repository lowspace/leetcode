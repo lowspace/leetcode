{
 "cells": [
  {
   "cell_type": "markdown",
   "metadata": {},
   "source": [
    "# Problem\n",
    "\n",
    "Given an integer n, return *the **largest palindromic integer** that can be represented as the product of two `n`-digits integers*. Since the answer can be very large, return it **modulo** `1337`.\n",
    "\n",
    " \n",
    "\n",
    "**Example 1:**\n",
    "\n",
    "```\n",
    "Input: n = 2\n",
    "Output: 987\n",
    "Explanation: 99 x 91 = 9009, 9009 % 1337 = 987\n",
    "```\n",
    "\n",
    "**Example 2:**\n",
    "\n",
    "```\n",
    "Input: n = 1\n",
    "Output: 9\n",
    "```\n",
    "\n",
    " \n",
    "\n",
    "**Constraints:**\n",
    "\n",
    "- `1 <= n <= 8`"
   ]
  },
  {
   "cell_type": "markdown",
   "metadata": {},
   "source": [
    "# Summary"
   ]
  },
  {
   "cell_type": "markdown",
   "metadata": {},
   "source": [
    "# Methods"
   ]
  },
  {
   "cell_type": "markdown",
   "metadata": {},
   "source": [
    "## Method 1 Brute Force"
   ]
  },
  {
   "cell_type": "code",
   "execution_count": 38,
   "metadata": {},
   "outputs": [],
   "source": [
    "class Solution:\n",
    "    def largestPalindrome(self, n: int) -> int:\n",
    "        floor = 10 ** n\n",
    "        floor = floor ** 2\n",
    "\n",
    "        for i in range(floor - 1, 0, -1):\n",
    "            if str(i) == str(i)[::-1]:\n",
    "                for j in range(10 ** n - 1, 10 ** (n - 1) - 1, -1):\n",
    "                    res = i % j\n",
    "                    mod = i // j\n",
    "                    if len(str(mod)) == n and res == 0:\n",
    "                        return i % 1337\n"
   ]
  },
  {
   "cell_type": "code",
   "execution_count": 45,
   "metadata": {},
   "outputs": [
    {
     "name": "stdout",
     "output_type": "stream",
     "text": [
      "1\n",
      "(9, 9, 1, 9)\n",
      "2\n",
      "(9009, 99, 91, 987)\n",
      "3\n",
      "(906609, 993, 913, 123)\n",
      "4\n",
      "(99000099, 9999, 9901, 597)\n",
      "5\n",
      "(9966006699, 99979, 99681, 677)\n",
      "6\n",
      "(999000000999, 999999, 999001, 1218)\n"
     ]
    }
   ],
   "source": [
    "def largestPalindrome(n: int) -> int:\n",
    "    floor = 10 ** n\n",
    "    floor = floor ** 2\n",
    "\n",
    "    for i in range(floor - 1, 0, -1):\n",
    "        if str(i) == str(i)[::-1]:\n",
    "            for j in range(10 ** n - 1, 10 ** (n - 1) - 1, -1):\n",
    "                res = i % j\n",
    "                mod = i // j\n",
    "                if len(str(mod)) == n and res == 0:\n",
    "                    print(n)\n",
    "                    return i, j, mod, i % 1337\n",
    "                if len(str(mod)) < n:\n",
    "                    break\n",
    "\n",
    "for i in range(1, 9):\n",
    "    print(largestPalindrome(i))"
   ]
  },
  {
   "cell_type": "markdown",
   "metadata": {},
   "source": [
    "# Footnotes"
   ]
  }
 ],
 "metadata": {
  "hide_input": false,
  "kernelspec": {
   "display_name": "Python 3",
   "language": "python",
   "name": "python3"
  },
  "language_info": {
   "codemirror_mode": {
    "name": "ipython",
    "version": 3
   },
   "file_extension": ".py",
   "mimetype": "text/x-python",
   "name": "python",
   "nbconvert_exporter": "python",
   "pygments_lexer": "ipython3",
   "version": "3.7.11"
  },
  "latex_envs": {
   "LaTeX_envs_menu_present": true,
   "autoclose": false,
   "autocomplete": true,
   "bibliofile": "biblio.bib",
   "cite_by": "apalike",
   "current_citInitial": 1,
   "eqLabelWithNumbers": true,
   "eqNumInitial": 1,
   "hotkeys": {
    "equation": "Ctrl-E",
    "itemize": "Ctrl-I"
   },
   "labels_anchors": false,
   "latex_user_defs": false,
   "report_style_numbering": false,
   "user_envs_cfg": false
  },
  "toc": {
   "base_numbering": 1,
   "nav_menu": {},
   "number_sections": true,
   "sideBar": true,
   "skip_h1_title": false,
   "title_cell": "Table of Contents",
   "title_sidebar": "Contents",
   "toc_cell": false,
   "toc_position": {},
   "toc_section_display": true,
   "toc_window_display": false
  }
 },
 "nbformat": 4,
 "nbformat_minor": 4
}
