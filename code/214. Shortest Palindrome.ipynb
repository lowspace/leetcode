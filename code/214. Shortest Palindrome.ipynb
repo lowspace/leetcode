{
 "cells": [
  {
   "cell_type": "markdown",
   "metadata": {},
   "source": [
    "# Problem\n",
    "\n",
    "You are given a string `s`. You can convert `s` to a palindrome by adding characters in front of it.\n",
    "\n",
    "Return *the shortest palindrome you can find by performing this transformation*.\n",
    "\n",
    " \n",
    "\n",
    "**Example 1:**\n",
    "\n",
    "```\n",
    "Input: s = \"aacecaaa\"\n",
    "Output: \"aaacecaaa\"\n",
    "```\n",
    "\n",
    "**Example 2:**\n",
    "\n",
    "```\n",
    "Input: s = \"abcd\"\n",
    "Output: \"dcbabcd\"\n",
    "```\n",
    "\n",
    " \n",
    "\n",
    "**Constraints:**\n",
    "\n",
    "- `0 <= s.length <= 5 * 10^4`\n",
    "- `s` consists of lowercase English letters only."
   ]
  },
  {
   "cell_type": "markdown",
   "metadata": {},
   "source": [
    "# Summary"
   ]
  },
  {
   "cell_type": "markdown",
   "metadata": {},
   "source": [
    "# Methods\n",
    "\n"
   ]
  },
  {
   "cell_type": "markdown",
   "metadata": {},
   "source": [
    "## Method 1 Brute Force\n",
    "\n",
    "The idea of brute force is pretty simple, add the last `n` character into the front and check whether it is a palindrome."
   ]
  },
  {
   "cell_type": "markdown",
   "metadata": {},
   "source": [
    "### Version 1 Naive Brute Force\n",
    "\n",
    "+ **Time Complexity**: $O(n)$\n",
    "+ **Space Complexity**: $O(3/2*n)$"
   ]
  },
  {
   "cell_type": "code",
   "execution_count": null,
   "metadata": {},
   "outputs": [],
   "source": [
    "class Solution:\n",
    "    def shortestPalindrome(self, s: str) -> str:\n",
    "        check = lambda x: x == x[::-1]\n",
    "        if check(s):\n",
    "            return s\n",
    "        for i in range(len(s) - 1, -1 , -1):\n",
    "            new_s = s[i:][::-1] + s\n",
    "            if check(new_s):\n",
    "                return new_s"
   ]
  },
  {
   "cell_type": "markdown",
   "metadata": {},
   "source": [
    "### Version 2 Advanced Brute Force\n",
    "\n",
    "+ **Time Complexity**: $O(n)$\n",
    "+ **Space Complexity**: $O(n)$\n",
    "\n",
    "Rather checking the longest contiguous subsequence string starting at the first character:\n",
    "\n",
    "+ no need to check twice, handle the whole string and substring together;\n",
    "+ require less memory cost, since this version creates fewer shallow copies of the string."
   ]
  },
  {
   "cell_type": "code",
   "execution_count": null,
   "metadata": {},
   "outputs": [],
   "source": [
    "class Solution:\n",
    "    def shortestPalindrome(self, s: str) -> str:\n",
    "        check = lambda x: x == x[::-1]\n",
    "        for i in range(len(s), -1 , -1):\n",
    "            if check(s[:i]):\n",
    "                return s[i:][::-1] + s"
   ]
  },
  {
   "cell_type": "markdown",
   "metadata": {},
   "source": [
    "## Method 2 Binary Search\n",
    "\n",
    "I don't have a good comprehension on this problem. Binary search is a method to find sth., and for this problem, it does need to find a final position of the longest subsequence. It seems to be quicker than brute force, but almost same if I can't find a good condition to determine go left or right.\n",
    "\n",
    "Using binary search to check all elements is no difference with the brute force method."
   ]
  },
  {
   "cell_type": "markdown",
   "metadata": {},
   "source": [
    "### Version 1 [DEPRECATED]"
   ]
  },
  {
   "cell_type": "code",
   "execution_count": null,
   "metadata": {},
   "outputs": [],
   "source": [
    "class Solution:\n",
    "    def shortestPalindrome(self, s: str) -> str:\n",
    "        check = lambda x: x == x[::-1]\n",
    "        # if check(s):\n",
    "        #     return s\n",
    "\n",
    "        anchor = len(s)\n",
    "        end = 0\n",
    "\n",
    "        while end - anchor > 1 or end - anchor < -1:\n",
    "            if check(s[:anchor]):\n",
    "                end = anchor\n",
    "                anchor = (anchor + len(s)) // 2\n",
    "            else:\n",
    "                anchor = anchor // 2\n",
    "        \n",
    "        return s[anchor:][::-1] + s\n"
   ]
  },
  {
   "cell_type": "markdown",
   "metadata": {},
   "source": [
    "### Version 2 [DEPRECATED] Recursive and Binary Search\n",
    "\n",
    "Since the naive binary search can't determine to go left or right, I can employee a recursive function to make it go one partition at one time.\n",
    "\n",
    "Binary search may be not a good idea to do this, since it only works as a pointer and we can't find an appropriate condition to stop this."
   ]
  },
  {
   "cell_type": "code",
   "execution_count": null,
   "metadata": {},
   "outputs": [],
   "source": [
    "def shortestPalindrome(s: str) -> str:\n",
    "    check = lambda x: x == x[::-1]"
   ]
  },
  {
   "cell_type": "markdown",
   "metadata": {},
   "source": []
  },
  {
   "cell_type": "markdown",
   "metadata": {},
   "source": [
    "# Footnotes"
   ]
  },
  {
   "cell_type": "code",
   "execution_count": null,
   "metadata": {},
   "outputs": [],
   "source": [
    "# add the doc information to README \n",
    "from tools.setup import generate_row as g\n",
    "\n",
    "g()"
   ]
  }
 ],
 "metadata": {
  "hide_input": false,
  "kernelspec": {
   "display_name": "Python 3",
   "language": "python",
   "name": "python3"
  },
  "language_info": {
   "codemirror_mode": {
    "name": "ipython",
    "version": 3
   },
   "file_extension": ".py",
   "mimetype": "text/x-python",
   "name": "python",
   "nbconvert_exporter": "python",
   "pygments_lexer": "ipython3",
   "version": "3.7.11"
  },
  "latex_envs": {
   "LaTeX_envs_menu_present": true,
   "autoclose": false,
   "autocomplete": true,
   "bibliofile": "biblio.bib",
   "cite_by": "apalike",
   "current_citInitial": 1,
   "eqLabelWithNumbers": true,
   "eqNumInitial": 1,
   "hotkeys": {
    "equation": "Ctrl-E",
    "itemize": "Ctrl-I"
   },
   "labels_anchors": false,
   "latex_user_defs": false,
   "report_style_numbering": false,
   "user_envs_cfg": false
  },
  "toc": {
   "base_numbering": 1,
   "nav_menu": {},
   "number_sections": true,
   "sideBar": true,
   "skip_h1_title": false,
   "title_cell": "Table of Contents",
   "title_sidebar": "Contents",
   "toc_cell": false,
   "toc_position": {},
   "toc_section_display": true,
   "toc_window_display": false
  }
 },
 "nbformat": 4,
 "nbformat_minor": 4
}
