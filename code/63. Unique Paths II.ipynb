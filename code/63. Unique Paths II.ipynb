{
 "cells": [
  {
   "cell_type": "markdown",
   "id": "7faba086",
   "metadata": {},
   "source": [
    "# Problem\n",
    "\n",
    "A robot is located at the top-left corner of a `m x n` grid (marked 'Start' in the diagram below).\n",
    "\n",
    "The robot can only move either down or right at any point in time. The robot is trying to reach the bottom-right corner of the grid (marked 'Finish' in the diagram below).\n",
    "\n",
    "Now consider if some obstacles are added to the grids. How many unique paths would there be?\n",
    "\n",
    "An obstacle and space is marked as `1` and `0` respectively in the grid.\n",
    "\n",
    "**Example 1:**\n",
    "\n",
    "![](https://assets.leetcode.com/uploads/2020/11/04/robot1.jpg)\n",
    "```\n",
    "**Input:** obstacleGrid = [[0,0,0],[0,1,0],[0,0,0]]\n",
    "**Output:** 2\n",
    "**Explanation:** There is one obstacle in the middle of the 3x3 grid above.\n",
    "There are two ways to reach the bottom-right corner:\n",
    "1. Right -> Right -> Down -> Down\n",
    "2. Down -> Down -> Right -> Right\n",
    "```\n",
    "\n",
    "**Example 2:**\n",
    "\n",
    "![](https://assets.leetcode.com/uploads/2020/11/04/robot2.jpg)\n",
    "```\n",
    "**Input:** obstacleGrid = [[0,1],[0,0]]\n",
    "**Output:** 1\n",
    "```\n",
    "\n",
    "**Constraints:**\n",
    "\n",
    "* `m ==obstacleGrid.length`\n",
    "* `n ==obstacleGrid[i].length`\n",
    "* `1 <= m, n <= 100`\n",
    "* `obstacleGrid[i][j]` is `0` or `1`.\n",
    "\n"
   ]
  },
  {
   "cell_type": "markdown",
   "id": "8d1b769a",
   "metadata": {},
   "source": [
    "# Summary\n",
    "\n",
    "Treat the obstacle cells as a new boundary condition which sets the value of cells is 0."
   ]
  },
  {
   "cell_type": "markdown",
   "id": "7e082c97",
   "metadata": {},
   "source": [
    "# Problem Description\n",
    "\n",
    "Classical DP with obstacle cell.\n",
    "\n",
    "Init the obstacle cells with `0` and ignore them while traversing the graph.\n"
   ]
  },
  {
   "cell_type": "markdown",
   "id": "17d1e74b",
   "metadata": {},
   "source": [
    "# Methods\n",
    "\n"
   ]
  },
  {
   "cell_type": "markdown",
   "id": "7340d8d9",
   "metadata": {},
   "source": [
    "## Method 1\n",
    "\n",
    "+ **Time Complexity**: \n",
    "\t+ Best case: $O(m*n)$\n",
    "\t+ Worst case: $O(m*n)$\n",
    "+ **Space Complexity**: $O(1)$"
   ]
  },
  {
   "cell_type": "code",
   "execution_count": null,
   "id": "27a2b349",
   "metadata": {},
   "outputs": [],
   "source": [
    "class Solution:\n",
    "    def uniquePathsWithObstacles(self, obstacleGrid: List[List[int]]) -> int:\n",
    "        \n",
    "        M, N = len(obstacleGrid), len(obstacleGrid[0])\n",
    "        dp = [1] + [0]  * (N-1)\n",
    "        \n",
    "        for i in range(M):\n",
    "            for j in range(N):\n",
    "                if obstacleGrid[i][j] == 1:\n",
    "                    dp[j] = 0\n",
    "                elif j > 0:\n",
    "                    dp[j] += dp[j-1]\n",
    "                    \n",
    "        return dp[N-1]"
   ]
  },
  {
   "cell_type": "markdown",
   "id": "70eabf17",
   "metadata": {},
   "source": [
    "# Footnotes\n",
    "\n"
   ]
  },
  {
   "cell_type": "code",
   "execution_count": 1,
   "id": "16115f24",
   "metadata": {},
   "outputs": [],
   "source": [
    "# add the doc information to README \n",
    "from tools.setup import generate_row as g\n",
    "\n",
    "g()"
   ]
  }
 ],
 "metadata": {
  "interpreter": {
   "hash": "76a7b5324f028f295860f76a31df2338ff50596517c2606a79177bbdafd1d5be"
  },
  "kernelspec": {
   "display_name": "Python 3.7.11 ('leetcode')",
   "language": "python",
   "name": "python3"
  },
  "language_info": {
   "codemirror_mode": {
    "name": "ipython",
    "version": 3
   },
   "file_extension": ".py",
   "mimetype": "text/x-python",
   "name": "python",
   "nbconvert_exporter": "python",
   "pygments_lexer": "ipython3",
   "version": "3.7.11"
  }
 },
 "nbformat": 4,
 "nbformat_minor": 5
}
