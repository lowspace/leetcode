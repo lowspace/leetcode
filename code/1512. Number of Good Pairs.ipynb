{
 "cells": [
  {
   "cell_type": "markdown",
   "metadata": {},
   "source": [
    "# Problem\n",
    "\n",
    "Given an array of integers `nums`, return *the number of **good pairs***.\n",
    "\n",
    "A pair `(i, j)` is called *good* if `nums[i] == nums[j]` and `i` < `j`.\n",
    "\n",
    " \n",
    "\n",
    "**Example 1:**\n",
    "\n",
    "```\n",
    "Input: nums = [1,2,3,1,1,3]\n",
    "Output: 4\n",
    "Explanation: There are 4 good pairs (0,3), (0,4), (3,4), (2,5) 0-indexed.\n",
    "```\n",
    "\n",
    "**Example 2:**\n",
    "\n",
    "```\n",
    "Input: nums = [1,1,1,1]\n",
    "Output: 6\n",
    "Explanation: Each pair in the array are good.\n",
    "```\n",
    "\n",
    "**Example 3:**\n",
    "\n",
    "```\n",
    "Input: nums = [1,2,3]\n",
    "Output: 0\n",
    "```\n",
    "\n",
    " \n",
    "\n",
    "**Constraints:**\n",
    "\n",
    "- `1 <= nums.length <= 100`\n",
    "- `1 <= nums[i] <= 100`"
   ]
  },
  {
   "cell_type": "markdown",
   "metadata": {},
   "source": [
    "# Summary\n",
    "\n",
    "We are suppposed to comprehensive mathematics formula in different ways:\n",
    "\n",
    "+ from the mathematics meaning perspective;\n",
    "+ from the formation progress view;\n",
    "+ from the practical application point."
   ]
  },
  {
   "cell_type": "markdown",
   "metadata": {},
   "source": [
    "# Methods\n",
    "\n",
    "Two types:\n",
    "\n",
    "+ Pure brute force method, just loop the all array;\n",
    "+ Using the combination formula to count the pairs in two ways, one is to count one by one, another one is to count for total."
   ]
  },
  {
   "cell_type": "markdown",
   "metadata": {},
   "source": [
    "## Method 1 Brute Force "
   ]
  },
  {
   "cell_type": "markdown",
   "metadata": {},
   "source": [
    "### Version 1 Pure Burte Force\n",
    "\n",
    "+ **Time complexity**: $O(n^2)$\n",
    "+ **Space complexity**: $O(1)$\n",
    "\n",
    "Loop the list and find all pairs."
   ]
  },
  {
   "cell_type": "code",
   "execution_count": null,
   "metadata": {},
   "outputs": [],
   "source": [
    "class Solution:\n",
    "    def numIdenticalPairs(self, nums: List[int]) -> int:\n",
    "        cont = 0\n",
    "        for i in range(len(nums)):\n",
    "            for j in range(i + 1, len(nums)):\n",
    "                if nums[i] == nums[j]:\n",
    "                    cont += 1\n",
    "        \n",
    "        return cont"
   ]
  },
  {
   "cell_type": "markdown",
   "metadata": {},
   "source": [
    "## Method 2 Combination"
   ]
  },
  {
   "cell_type": "markdown",
   "metadata": {},
   "source": [
    "### Version 1 Total\n",
    "\n",
    "+ **Time complexity**: $O(n)$\n",
    "+ **Space complexity**: $O(n)$\n",
    "\n",
    "Convert the list into dict `{value_1:count_1, ...}`, then find the duplication value and compute the good pairs.\n",
    "\n",
    "Q: why use $C^n_2$ there to compute the good pairs for one element?\n",
    "\n",
    "A: Good pairs means there are two identical elements and the element in the array already has its order, thus collecting 2 element from the identical elements can generate the good pairs immediately.\n",
    "\n",
    "Q: what if the question is to compute the good three crew, can we use the same idea to compute the element?\n",
    "\n",
    "A: Yes. Once we collect the three elements, we can always find the order.\n"
   ]
  },
  {
   "cell_type": "code",
   "execution_count": null,
   "metadata": {},
   "outputs": [],
   "source": [
    "class Solution:\n",
    "    def numIdenticalPairs(self, nums: List[int]) -> int:\n",
    "        cont = 0\n",
    "        nums_dict = {}\n",
    "\n",
    "        for i in nums:\n",
    "            # if i not in nums_dict.keys():\n",
    "            if i not in nums_dict:\n",
    "                nums_dict[i] = 1 # get one\n",
    "            else:\n",
    "                nums_dict[i] += 1\n",
    "\n",
    "        for k, v in nums_dict.items():\n",
    "            if v > 1:\n",
    "                cont += v * (v - 1) / 2\n",
    "        \n",
    "        return int(cont) # shape as int"
   ]
  },
  {
   "cell_type": "markdown",
   "metadata": {},
   "source": [
    "### Version 2 One by One\n",
    "\n",
    "Recall the formula $ 1 + 2 + .... + n = \\frac{n(n-1)}{2}$, thus we can compute the result in one loop instead of two.<sup>[[1]](#ft1)</sup><sup>[[2]](#ft2)</sup> This method menas to count the number of good pairs for the new comming identical element."
   ]
  },
  {
   "cell_type": "code",
   "execution_count": null,
   "metadata": {},
   "outputs": [],
   "source": [
    "class Solution:\n",
    "    def numIdenticalPairs(self, nums: List[int]) -> int:\n",
    "        cont = 0\n",
    "        nums_dict = {}\n",
    "\n",
    "        for i in nums:\n",
    "            if i not in nums_dict:\n",
    "                nums_dict[i] = 1\n",
    "            else:\n",
    "                cont += nums_dict[i]\n",
    "                nums_dict[i] += 1\n",
    "        \n",
    "        return cont"
   ]
  },
  {
   "cell_type": "markdown",
   "metadata": {},
   "source": [
    "# Footnotes\n",
    "\n",
    "<a name=\"ft1\">[1]</a>: https://leetcode.com/problems/number-of-good-pairs/discuss/736565/Python-Simple-O(n)-Solution\n",
    "\n",
    "<a name=\"ft2\">[2]</a>: https://leetcode.com/problems/number-of-good-pairs/discuss/749025/Python-O(n)-simple-dictionary-solution"
   ]
  }
 ],
 "metadata": {
  "hide_input": false,
  "interpreter": {
   "hash": "76a7b5324f028f295860f76a31df2338ff50596517c2606a79177bbdafd1d5be"
  },
  "kernelspec": {
   "display_name": "Python 3.7.11 64-bit ('leetcode': conda)",
   "name": "python3"
  },
  "language_info": {
   "codemirror_mode": {
    "name": "ipython",
    "version": 3
   },
   "file_extension": ".py",
   "mimetype": "text/x-python",
   "name": "python",
   "nbconvert_exporter": "python",
   "pygments_lexer": "ipython3",
   "version": "3.7.11"
  },
  "latex_envs": {
   "LaTeX_envs_menu_present": true,
   "autoclose": false,
   "autocomplete": true,
   "bibliofile": "biblio.bib",
   "cite_by": "apalike",
   "current_citInitial": 1,
   "eqLabelWithNumbers": true,
   "eqNumInitial": 1,
   "hotkeys": {
    "equation": "Ctrl-E",
    "itemize": "Ctrl-I"
   },
   "labels_anchors": false,
   "latex_user_defs": false,
   "report_style_numbering": false,
   "user_envs_cfg": false
  },
  "toc": {
   "base_numbering": 1,
   "nav_menu": {},
   "number_sections": true,
   "sideBar": true,
   "skip_h1_title": false,
   "title_cell": "Table of Contents",
   "title_sidebar": "Contents",
   "toc_cell": false,
   "toc_position": {},
   "toc_section_display": true,
   "toc_window_display": false
  }
 },
 "nbformat": 4,
 "nbformat_minor": 4
}
