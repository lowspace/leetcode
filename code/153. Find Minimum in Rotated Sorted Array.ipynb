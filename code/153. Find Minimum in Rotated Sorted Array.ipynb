{
 "cells": [
  {
   "cell_type": "markdown",
   "metadata": {},
   "source": [
    "# Problem\n",
    "\n",
    "Suppose an array of length `n` sorted in ascending order is **rotated** between `1` and `n` times. For example, the array `nums = [0,1,2,4,5,6,7]` might become:\n",
    "\n",
    "- `[4,5,6,7,0,1,2]` if it was rotated `4` times.\n",
    "- `[0,1,2,4,5,6,7]` if it was rotated `7` times.\n",
    "\n",
    "Notice that **rotating** an array `[a[0], a[1], a[2], ..., a[n-1]]` 1 time results in the array `[a[n-1], a[0], a[1], a[2], ..., a[n-2]]`.\n",
    "\n",
    "Given the sorted rotated array `nums` of **unique** elements, return *the minimum element of this array*.\n",
    "\n",
    "You must write an algorithm that runs in `O(log n) time.`\n",
    "\n",
    "**Example 1:**\n",
    "\n",
    "```\n",
    "Input: nums = [3,4,5,1,2]\n",
    "Output: 1\n",
    "Explanation: The original array was [1,2,3,4,5] rotated 3 times.\n",
    "\n",
    "```\n",
    "\n",
    "**Example 2:**\n",
    "\n",
    "```\n",
    "Input: nums = [4,5,6,7,0,1,2]\n",
    "Output: 0\n",
    "Explanation: The original array was [0,1,2,4,5,6,7] and it was rotated 4 times.\n",
    "\n",
    "```\n",
    "\n",
    "**Example 3:**\n",
    "\n",
    "```\n",
    "Input: nums = [11,13,15,17]\n",
    "Output: 11\n",
    "Explanation: The original array was [11,13,15,17] and it was rotated 4 times.\n",
    "\n",
    "```\n",
    "\n",
    "**Constraints:**\n",
    "\n",
    "- `n == nums.length`\n",
    "- `1 <= n <= 5000`\n",
    "- `-5000 <= nums[i] <= 5000`\n",
    "- All the integers of `nums` are **unique**.\n",
    "- `nums` is sorted and rotated between `1` and `n` times."
   ]
  },
  {
   "cell_type": "markdown",
   "metadata": {},
   "source": [
    "# Summary\n",
    "\n",
    "The most tricky thing over here is to distinguish the boundary of the rotated part and un-rotated part. \n",
    "\n",
    "Analysis is critical to comprehend the problem. The most important thing for analysis is the independent thinking or critical thinking. Try to meet my own intelligent needs by myself instead of searching. In this problem, I could remove `ans` without looking at others code since I'm pretty close to this step.\n",
    "\n",
    "One of the key points of binary search is that the algorithm can search each element in the array."
   ]
  },
  {
   "cell_type": "markdown",
   "metadata": {},
   "source": [
    "# Problem Description \n",
    "\n",
    "Find the minimum element in a rotated ascending array. \n",
    "\n",
    "Since it is a possible rotated array, we can also conduct the consistent assumption."
   ]
  },
  {
   "cell_type": "markdown",
   "metadata": {},
   "source": [
    "# Methods\n",
    "\n",
    "1. linear search, $O(n)$;\n",
    "2. binary search, $O(logn)$"
   ]
  },
  {
   "cell_type": "markdown",
   "metadata": {},
   "source": [
    "## Method 1 Linear Search\n",
    "\n",
    "+ **Time Complexity**: \n",
    "\t+ Best case: $O(n)$\n",
    "\t+ Worst case: $O(n)$\n",
    "+ **Space Complexity**: $O(1)$"
   ]
  },
  {
   "cell_type": "code",
   "execution_count": null,
   "metadata": {},
   "outputs": [],
   "source": [
    "class Solution:\n",
    "    def findMin(self, nums: List[int]) -> int:\n",
    "        return min(nums)"
   ]
  },
  {
   "cell_type": "markdown",
   "metadata": {},
   "source": [
    "## Method 2 Binary Search \n",
    "\n",
    "+ **Time Complexity**: \n",
    "\t+ Best case: $O(logn)$\n",
    "\t+ Worst case: $O(logn)$\n",
    "+ **Space Complexity**: $O(1)$\n",
    "\n",
    "Similar with the previous idea, we only need to find the true consistent part if there is one."
   ]
  },
  {
   "cell_type": "markdown",
   "metadata": {},
   "source": [
    "Version 1"
   ]
  },
  {
   "cell_type": "code",
   "execution_count": null,
   "metadata": {},
   "outputs": [],
   "source": [
    "class Solution:\n",
    "    def findMin(self, nums: List[int]) -> int:\n",
    "        left = 0\n",
    "        right = len(nums) - 1\n",
    "        ans = 5001\n",
    "\n",
    "        while left <= right:\n",
    "            mid = (left + right) // 2\n",
    "\n",
    "            # the minimun is in the left side\n",
    "            if nums[mid] < nums[left] or nums[mid] < nums[right]:\n",
    "                if nums[mid] < ans:\n",
    "                    ans = nums[mid]\n",
    "                right = mid - 1\n",
    "            else:\n",
    "                if nums[left] < ans:\n",
    "                    ans = nums[left]\n",
    "                left = mid + 1\n",
    "        return ans"
   ]
  },
  {
   "cell_type": "markdown",
   "metadata": {},
   "source": [
    "Version 2 Without `ans`\n",
    "\n",
    "If without `ans`, we need the final position `left` or `right` returns the minimum value.\n",
    "\n",
    "[@water1111](https://leetcode.com/problems/find-minimum-in-rotated-sorted-array/discuss/158940/Beat-100%3A-Very-Simple-(Python)-Very-Detailed-Explanation) inspires me."
   ]
  },
  {
   "cell_type": "code",
   "execution_count": null,
   "metadata": {},
   "outputs": [],
   "source": [
    "class Solution:\n",
    "    def findMin(self, nums: List[int]) -> int:\n",
    "        left = 0\n",
    "        right = len(nums) - 1\n",
    "\n",
    "        # the minimum always in the left side since this is in ascending order\n",
    "        # thus, we only need to return the left element and keep the right element to compare\n",
    "        # while right = left + 1, mid = (2*left + 1) // 2 = left, thus get the minimum\n",
    "        while left < right: \n",
    "            mid = (left + right) // 2\n",
    "\n",
    "            # the minimun is in the left side\n",
    "            # 1. nums[mid] < nums[left] indicates the rotated part in the left side\n",
    "            # as the rotated array always has the structure such as [rotated part, un-rotated part]\n",
    "            # and the first element of the un-rotated part is the minimun, that is obvious\n",
    "            # the left side of nums[mid] and nums[mid] itself contain at least one un-rotated element, which is nums[mid]\n",
    "            # 2. nums[mid] < nums[right] indicates the right side of the mid is an un-rotated part,\n",
    "            # this un-rotated part contains nums[mid] itself, thus the minimum of this un-rotated part is nums[mid] \n",
    "            if nums[mid] < nums[left] or nums[mid] < nums[right]:\n",
    "                right = mid \n",
    "            # nums[mid] > nums[left] and nums[mid] > nums[right] => nums[mid] > nums[right]\n",
    "            # this scenario implies the length of the rotated part is larger than the half length of the whole array \n",
    "            # thus, the un-rotated part lies rigorly on the right side of nums[mid] (exclude nums[mid])\n",
    "            else: \n",
    "                left = mid + 1\n",
    "        return nums[left]"
   ]
  },
  {
   "cell_type": "markdown",
   "metadata": {},
   "source": [
    "# Footnotes"
   ]
  },
  {
   "cell_type": "code",
   "execution_count": null,
   "metadata": {},
   "outputs": [],
   "source": [
    "# add the doc information to README \n",
    "from tools.setup import generate_row as g\n",
    "\n",
    "g()"
   ]
  }
 ],
 "metadata": {
  "hide_input": false,
  "kernelspec": {
   "display_name": "Python 3",
   "language": "python",
   "name": "python3"
  },
  "language_info": {
   "codemirror_mode": {
    "name": "ipython",
    "version": 3
   },
   "file_extension": ".py",
   "mimetype": "text/x-python",
   "name": "python",
   "nbconvert_exporter": "python",
   "pygments_lexer": "ipython3",
   "version": "3.7.11"
  },
  "latex_envs": {
   "LaTeX_envs_menu_present": true,
   "autoclose": false,
   "autocomplete": true,
   "bibliofile": "biblio.bib",
   "cite_by": "apalike",
   "current_citInitial": 1,
   "eqLabelWithNumbers": true,
   "eqNumInitial": 1,
   "hotkeys": {
    "equation": "Ctrl-E",
    "itemize": "Ctrl-I"
   },
   "labels_anchors": false,
   "latex_user_defs": false,
   "report_style_numbering": false,
   "user_envs_cfg": false
  },
  "toc": {
   "base_numbering": 1,
   "nav_menu": {},
   "number_sections": true,
   "sideBar": true,
   "skip_h1_title": false,
   "title_cell": "Table of Contents",
   "title_sidebar": "Contents",
   "toc_cell": false,
   "toc_position": {},
   "toc_section_display": true,
   "toc_window_display": false
  }
 },
 "nbformat": 4,
 "nbformat_minor": 4
}
