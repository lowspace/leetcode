{
 "cells": [
  {
   "cell_type": "markdown",
   "metadata": {},
   "source": [
    "# Problem \n",
    "\n",
    "Roman numerals are represented by seven different symbols: `I`, `V`, `X`, `L`, `C`, `D` and `M`.\n",
    "\n",
    "```\n",
    "Symbol       Value\n",
    "I             1\n",
    "V             5\n",
    "X             10\n",
    "L             50\n",
    "C             100\n",
    "D             500\n",
    "M             1000\n",
    "```\n",
    "For example, `2` is written as `II` in Roman numeral, just two one's added together. `12` is written as `XII`, which is simply `X + II`. The number `27` is written as `XXVII`, which is `XX + V + II`.\n",
    "\n",
    "Roman numerals are usually written largest to smallest from left to right. However, the numeral for four is not `IIII`. Instead, the number four is written as `IV`. Because the one is before the five we subtract it making four. The same principle applies to the number nine, which is written as `IX`. There are six instances where subtraction is used:\n",
    "\n",
    "`I` can be placed before `V` (5) and `X` (10) to make 4 and 9.  \n",
    "`X` can be placed before `L` (50) and `C` (100) to make 40 and 90.  \n",
    "`C` can be placed before `D` (500) and `M` (1000) to make 400 and 900.  \n",
    "\n",
    "Given a roman numeral, convert it to an integer.\n",
    "\n",
    "Notes：\n",
    "```\n",
    "Symbol       Value\n",
    "III           3\n",
    "VIII          8\n",
    "```"
   ]
  },
  {
   "cell_type": "markdown",
   "metadata": {},
   "source": [
    "# Summary\n",
    "\n",
    "Input: Roman numberic representation in range $[1, 3999]$.  \n",
    "Output: Arabic numerc representation of the input  \n",
    "Time complexity: $O(n)$\n",
    "\n",
    "+ while excuting the comparison in a loop, consider the beginning and the end carefully\n",
    "+ `str` can do `for` loop directly, -> no need to transform `str` to `list`\n",
    "+ the key point is to compare the previous value and the current value of the Roman number, we can record the previous value and replace it iteratively by the current value instead keep slicing the `str` or the `list`. In this way, no need to consider the beginning and the end carefully."
   ]
  },
  {
   "cell_type": "markdown",
   "metadata": {},
   "source": [
    "# Method\n",
    "\n",
    "1. rule-based method\n",
    "\n",
    "Q1: how to write `4333`?  \n",
    "A1: `433` = `CDXXXIII`. The sybmol-value table listed above is not complete, beyond `M` we have:\n",
    "\n",
    "|Sybmbol|Value|\n",
    "|:--|:--|\n",
    "|$\\overline{V}$|\t5,000\n",
    "|$\\overline{X}$|\t10,000\n",
    "|$\\overline{L}$|\t50,000\n",
    "|$\\overline{C}$|\t100,000\n",
    "|$\\overline{D}$|\t500,000\n",
    "|$\\overline{M}$|\t1,000,000\n",
    "\n",
    "Since the problem doesn't contain them, we can ignore it, which means the problem only covert int in $[0, 3999]$."
   ]
  },
  {
   "cell_type": "markdown",
   "metadata": {},
   "source": [
    "## Mehtod 1 Rule-based\n",
    "\n",
    "Rule:\n",
    "+ read string from left to right\n",
    "+ typically, apply addtion when left > right, and apply substraction when left < right\n",
    "\n",
    "Time complexity: $O(n)$\n",
    "+ go through the string, $O(n)$\n",
    "+ ~check twice $O(2)$ in each time, $O(2n)$~\n",
    "+ check the previous and the current, $O(n)$\n",
    "\n",
    "Q1: how to determine whether left is larger or smaller than right?  \n",
    "A1: read the following character, and check their precedence.\n",
    "\n",
    "Q2: how to represent this precedence?\n",
    "A2: this representation should contain two information, the precedence of the roman symbol and its corresponding value. `dict` nested with `list` would be good, `[{symbol: value}, ... , {symbol: value}]`  \n",
    "However, the value of the symbol already indicate the precedence, thus comparing the value is enough. The representation should be a `dict`. "
   ]
  },
  {
   "cell_type": "code",
   "execution_count": 23,
   "metadata": {},
   "outputs": [],
   "source": [
    "# version 1\n",
    "'''\n",
    "Runtime: 36 ms, faster than 97.45% of Python3 online submissions for Roman to Integer.\n",
    "Memory Usage: 14.3 MB, less than 59.55% of Python3 online submissions for Roman to Integer.\n",
    "'''\n",
    "\n",
    "def romanToInt(s: str) -> int:\n",
    "    '''\n",
    "    check from left to right:\n",
    "        + if left >= right, use addtion\n",
    "        + if left < right, use substraction\n",
    "    '''\n",
    "    pred = {'I':1, 'V':5, 'X':10, 'L':50, 'C':100, 'D':500, 'M':1000}\n",
    "    # step 1 split the string into one char representation\n",
    "    s = list(s)\n",
    "    n = 0\n",
    "    # step 2 go trought the splitted string and apply the rule\n",
    "    # comparasion terminates while i = len - 2, since s[len(s)] is out of index\n",
    "    for i in range(len(s)-1):\n",
    "        assert s[i] in pred.keys(), \"plz type the correct roman string only including 'I', 'V', 'X', 'L', 'C', 'D'.\"\n",
    "        if pred[s[i]] >= pred[s[i+1]]:\n",
    "            n += pred[s[i]]\n",
    "        else:\n",
    "            n -= pred[s[i]]\n",
    "    # add the last\n",
    "    n += pred[s[len(s)-1]]\n",
    "    return n"
   ]
  },
  {
   "cell_type": "markdown",
   "metadata": {},
   "source": [
    "It seems to be unable to ameliorate the `for` loop to gather the last addition into the loop, since the comparison always requires two elements. The pointer/anchor moves from left to right, and the compared obeject is either in the left side of the pointer or the right side."
   ]
  },
  {
   "cell_type": "code",
   "execution_count": null,
   "metadata": {},
   "outputs": [],
   "source": [
    "# version 2 the standard ans\n",
    "def romanToInt(s: str) -> int:\n",
    "    roman = {'I': 1, 'V': 5, 'X': 10,\n",
    "             'L': 50, 'C': 100, 'D': 500, 'M': 1000}\n",
    "    prev, total = 0, 0\n",
    "    for c in s:\n",
    "        curr = roman[c]\n",
    "        total += curr\n",
    "        # need to subtract\n",
    "        if curr > prev:\n",
    "            total -= 2 * prev\n",
    "        prev = curr\n",
    "    return total"
   ]
  }
 ],
 "metadata": {
  "kernelspec": {
   "display_name": "Python 3",
   "language": "python",
   "name": "python3"
  },
  "language_info": {
   "codemirror_mode": {
    "name": "ipython",
    "version": 3
   },
   "file_extension": ".py",
   "mimetype": "text/x-python",
   "name": "python",
   "nbconvert_exporter": "python",
   "pygments_lexer": "ipython3",
   "version": "3.7.6"
  }
 },
 "nbformat": 4,
 "nbformat_minor": 4
}
