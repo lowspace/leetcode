{
 "cells": [
  {
   "cell_type": "markdown",
   "metadata": {},
   "source": [
    "# Problem\n",
    "\n",
    "Write a function to find the longest common prefix string amongst an array of strings.\n",
    "\n",
    "If there is no common prefix, return an empty string `\"\"`.\n",
    "\n",
    "Example 1:\n",
    "```\n",
    "Input: strs = [\"flower\",\"flow\",\"flight\"]\n",
    "Output: \"fl\"\n",
    "```\n",
    "\n",
    "Example 2:\n",
    "```\n",
    "Input: strs = [\"dog\",\"racecar\",\"car\"]\n",
    "Output: \"\"\n",
    "Explanation: There is no common prefix among the input strings.\n",
    "```"
   ]
  },
  {
   "cell_type": "markdown",
   "metadata": {},
   "source": [
    "# Summary\n",
    "\n",
    "Input: `list` with `str`  \n",
    "Output: prefix  \n",
    "Time Complexity: $O(mn)$\n",
    "\n",
    "+ For `input`, consider:\n",
    "    + input is `None`;\n",
    "    + input is out of range, either the data type or the variable range;\n",
    "    + the size of the input, large data may require multiprocessing\n",
    "+ For `return`, consider:\n",
    "    + nothing happens;\n",
    "    + `return` during the process;\n",
    "    + `return` after executing all the code\n",
    "+ The assumption behind the algorithm is important, in there, I presume the first element of the list is the shorest string, thus the out of range error occurs when the current string is shorter than the prefix.\n",
    "+ Iterate vertically or horizontally."
   ]
  },
  {
   "cell_type": "markdown",
   "metadata": {},
   "source": [
    "# Methods\n",
    "\n",
    "1. concatenate the previous string and the current character, the current = the character in the same index of all the string; $O(mn)$\n",
    "2. set the first string as the longest prefix, and check the next to reduce the prefix, until iterate all the strings; $O(mn)$"
   ]
  },
  {
   "cell_type": "markdown",
   "metadata": {},
   "source": [
    "## Method 1 Exhausted the Index\n",
    "\n",
    "Issues:\n",
    "+ does not consider the empty input situation\n",
    "+ does not write the pseudocode before writing code\n",
    "+ does not consider the input are all the same"
   ]
  },
  {
   "cell_type": "code",
   "execution_count": 60,
   "metadata": {},
   "outputs": [],
   "source": [
    "'''\n",
    "Runtime: 44 ms\n",
    "Memory Usage: 14.3 MB\n",
    "'''\n",
    "\n",
    "def longestCommonPrefix(strs: list) -> str:\n",
    "    prefix = ''\n",
    "    \n",
    "    # index of the str\n",
    "    if strs:\n",
    "        for i in range(len(strs[0])):\n",
    "            curr = strs[0][i]\n",
    "            for s in strs:\n",
    "                try: # the first element = the shortest\n",
    "                    if curr == s[i]:\n",
    "                        continue\n",
    "                    else:\n",
    "                        return prefix\n",
    "                except: # the first element ≠ the shortest, unnecessary to keep going\n",
    "                    return prefix\n",
    "            # after exhausting the str list\n",
    "            prefix += curr\n",
    "    \n",
    "        return prefix\n",
    "    else:\n",
    "        return prefix"
   ]
  },
  {
   "cell_type": "markdown",
   "metadata": {},
   "source": [
    "## Method 2 Reduce the Prefix\n",
    "\n",
    "Issues:\n",
    "+ have not carefully consider which one will out of range, and how to handle it;\n",
    "\n",
    "Idea:\n",
    "+ The key idea behind this method is reducing the prefix after each comparing, and we can return `''` ASAP in string level.\n",
    "+ How to handle the out of range error in there is significant. Since I use prefix as the measurement, the prefix serves as the shortest string in the list, if not, reducing the prefix by the current string pointer."
   ]
  },
  {
   "cell_type": "code",
   "execution_count": 59,
   "metadata": {},
   "outputs": [],
   "source": [
    "'''\n",
    "Runtime: 36 ms\n",
    "Memory Usage: 14.2 MB\n",
    "'''\n",
    "\n",
    "def longestCommonPrefix(strs: list) -> str:\n",
    "    if strs:\n",
    "        prefix = strs[0]\n",
    "        l_prefix = len(prefix)\n",
    "        \n",
    "        for i in strs:\n",
    "            for s in range(l_prefix):\n",
    "                try: # i is out of range\n",
    "                    if prefix[s] == i[s]:\n",
    "                        continue\n",
    "                    else:\n",
    "                        prefix = prefix[:s]\n",
    "                        break\n",
    "                except:\n",
    "                    prefix = prefix[:s]\n",
    "                    break\n",
    "            if prefix == '':\n",
    "                return ''\n",
    "        return prefix     \n",
    "    else:\n",
    "        return ''"
   ]
  },
  {
   "cell_type": "code",
   "execution_count": 58,
   "metadata": {},
   "outputs": [
    {
     "data": {
      "text/plain": [
       "'a'"
      ]
     },
     "execution_count": 58,
     "metadata": {},
     "output_type": "execute_result"
    }
   ],
   "source": [
    "longestCommonPrefix([\"ab\", \"a\"])"
   ]
  }
 ],
 "metadata": {
  "kernelspec": {
   "display_name": "Python 3",
   "language": "python",
   "name": "python3"
  },
  "language_info": {
   "codemirror_mode": {
    "name": "ipython",
    "version": 3
   },
   "file_extension": ".py",
   "mimetype": "text/x-python",
   "name": "python",
   "nbconvert_exporter": "python",
   "pygments_lexer": "ipython3",
   "version": "3.7.6"
  }
 },
 "nbformat": 4,
 "nbformat_minor": 4
}
