{
 "cells": [
  {
   "cell_type": "markdown",
   "metadata": {},
   "source": [
    "# Problem\n",
    "\n",
    "You are given a phone number as a string `number`. `number` consists of digits, spaces `' '`, and/or dashes `'-'`.\n",
    "\n",
    "You would like to reformat the phone number in a certain manner. Firstly, **remove** all spaces and dashes. Then, **group** the digits from left to right into blocks of length 3 **until** there are 4 or fewer digits. The final digits are then grouped as follows:\n",
    "\n",
    "- 2 digits: A single block of length 2.\n",
    "- 3 digits: A single block of length 3.\n",
    "- 4 digits: Two blocks of length 2 each.\n",
    "\n",
    "The blocks are then joined by dashes. Notice that the reformatting process should **never** produce any blocks of length 1 and produce **at most** two blocks of length 2.\n",
    "\n",
    "Return *the phone number after formatting.*\n",
    "\n",
    " \n",
    "\n",
    "**Example 1:**\n",
    "\n",
    "```\n",
    "Input: number = \"1-23-45 6\"\n",
    "Output: \"123-456\"\n",
    "Explanation: The digits are \"123456\".\n",
    "Step 1: There are more than 4 digits, so group the next 3 digits. The 1st block is \"123\".\n",
    "Step 2: There are 3 digits remaining, so put them in a single block of length 3. The 2nd block is \"456\".\n",
    "Joining the blocks gives \"123-456\".\n",
    "```\n",
    "\n",
    "**Example 2:**\n",
    "\n",
    "```\n",
    "Input: number = \"123 4-567\"\n",
    "Output: \"123-45-67\"\n",
    "Explanation: The digits are \"1234567\".\n",
    "Step 1: There are more than 4 digits, so group the next 3 digits. The 1st block is \"123\".\n",
    "Step 2: There are 4 digits left, so split them into two blocks of length 2. The blocks are \"45\" and \"67\".\n",
    "Joining the blocks gives \"123-45-67\".\n",
    "```\n",
    "\n",
    "**Example 3:**\n",
    "\n",
    "```\n",
    "Input: number = \"123 4-5678\"\n",
    "Output: \"123-456-78\"\n",
    "Explanation: The digits are \"12345678\".\n",
    "Step 1: The 1st block is \"123\".\n",
    "Step 2: The 2nd block is \"456\".\n",
    "Step 3: There are 2 digits left, so put them in a single block of length 2. The 3rd block is \"78\".\n",
    "Joining the blocks gives \"123-456-78\".\n",
    "```\n",
    "\n",
    "**Example 4:**\n",
    "\n",
    "```\n",
    "Input: number = \"12\"\n",
    "Output: \"12\"\n",
    "```\n",
    "\n",
    "**Example 5:**\n",
    "\n",
    "```\n",
    "Input: number = \"--17-5 229 35-39475 \"\n",
    "Output: \"175-229-353-94-75\"\n",
    "```\n",
    "\n",
    " \n",
    "\n",
    "**Constraints:**\n",
    "\n",
    "- `2 <= number.length <= 100`\n",
    "- `number` consists of digits and the characters `'-'` and `' '`.\n",
    "- There are at least **two** digits in `number`."
   ]
  },
  {
   "cell_type": "markdown",
   "metadata": {},
   "source": [
    "# Summary\n",
    "\n",
    "`str.replace('a', 'b')` replaces `a` with `b`."
   ]
  },
  {
   "cell_type": "markdown",
   "metadata": {},
   "source": [
    "# Problem Description \n",
    "\n",
    "Steps:\n",
    "\n",
    "1. remove all spaces and dashes;\n",
    "2. group the digits into length-3 block until remains 4 or fewer digits:\n",
    "\n",
    " + 2 digits = 2-digit block;\n",
    " + 3 digits = 3-digit block;\n",
    " + 4 digits = two 2-digit blocks."
   ]
  },
  {
   "cell_type": "markdown",
   "metadata": {},
   "source": [
    "# Methods"
   ]
  },
  {
   "cell_type": "markdown",
   "metadata": {},
   "source": [
    "## Method 1 Step by Step\n",
    "\n",
    "+ **Time Complexity**: \n",
    "\t+ Best case: $O(n)$\n",
    "\t+ Worst case: $O(n)$\n",
    "+ **Space Complexity**: $O(n)$"
   ]
  },
  {
   "cell_type": "code",
   "execution_count": 15,
   "metadata": {},
   "outputs": [],
   "source": [
    "class Solution:\n",
    "    def reformatNumber(self, number: str) -> str:\n",
    "        number = number.translate(number.maketrans('', '', '- ')) # remove dash and space\n",
    "        r = ''\n",
    "\n",
    "        i = 0\n",
    "        res = len(number) # how many elements in the string\n",
    "        while res > 4:\n",
    "            r += number[i:i+3] + '-'\n",
    "            i += 3\n",
    "            res -= 3\n",
    "        if res == 4:\n",
    "            r += number[-4:-2] + '-' + number[-2:]\n",
    "        elif res == 3:\n",
    "            r += number[-3:]\n",
    "        else:\n",
    "            r += number[-2:]\n",
    "\n",
    "        return r"
   ]
  },
  {
   "cell_type": "markdown",
   "metadata": {},
   "source": [
    "# Footnotes"
   ]
  },
  {
   "cell_type": "code",
   "execution_count": 16,
   "metadata": {},
   "outputs": [],
   "source": [
    "# add the doc information to README \n",
    "from tools.setup import generate_row as g\n",
    "\n",
    "g()"
   ]
  }
 ],
 "metadata": {
  "hide_input": false,
  "kernelspec": {
   "display_name": "Python 3",
   "language": "python",
   "name": "python3"
  },
  "language_info": {
   "codemirror_mode": {
    "name": "ipython",
    "version": 3
   },
   "file_extension": ".py",
   "mimetype": "text/x-python",
   "name": "python",
   "nbconvert_exporter": "python",
   "pygments_lexer": "ipython3",
   "version": "3.7.11"
  },
  "latex_envs": {
   "LaTeX_envs_menu_present": true,
   "autoclose": false,
   "autocomplete": true,
   "bibliofile": "biblio.bib",
   "cite_by": "apalike",
   "current_citInitial": 1,
   "eqLabelWithNumbers": true,
   "eqNumInitial": 1,
   "hotkeys": {
    "equation": "Ctrl-E",
    "itemize": "Ctrl-I"
   },
   "labels_anchors": false,
   "latex_user_defs": false,
   "report_style_numbering": false,
   "user_envs_cfg": false
  },
  "toc": {
   "base_numbering": 1,
   "nav_menu": {},
   "number_sections": true,
   "sideBar": true,
   "skip_h1_title": false,
   "title_cell": "Table of Contents",
   "title_sidebar": "Contents",
   "toc_cell": false,
   "toc_position": {},
   "toc_section_display": true,
   "toc_window_display": false
  }
 },
 "nbformat": 4,
 "nbformat_minor": 4
}
