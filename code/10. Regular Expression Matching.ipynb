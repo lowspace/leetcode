{
 "cells": [
  {
   "cell_type": "markdown",
   "id": "f2efae2a",
   "metadata": {},
   "source": [
    "# Problem\n",
    "\n",
    "Given an input string `s`and a pattern `p`, implement regular expression matching with support for `'.'` and `'*'` where:\n",
    "\n",
    "* `'.'` Matches any single character.​​​​\n",
    "* `'*'` Matches zero or more of the preceding element.\n",
    "\n",
    "The matching should cover the **entire** input string (not partial).\n",
    "\n",
    "**Example 1:**\n",
    "```\n",
    "**Input:** s = \"aa\", p = \"a\"\n",
    "**Output:** false\n",
    "**Explanation:** \"a\" does not match the entire string \"aa\".\n",
    "```\n",
    "\n",
    "**Example 2:**\n",
    "```\n",
    "**Input:** s = \"aa\", p = \"a*\"\n",
    "**Output:** true\n",
    "**Explanation:** '*' means zero or more of the preceding element, 'a'. Therefore, by repeating 'a' once, it becomes \"aa\".\n",
    "```\n",
    "\n",
    "**Example 3:**\n",
    "```\n",
    "**Input:** s = \"ab\", p = \".*\"\n",
    "**Output:** true\n",
    "**Explanation:** \".*\" means \"zero or more (*) of any character (.)\".\n",
    "```\n",
    "\n",
    "**Constraints:**\n",
    "\n",
    "* `1 <= s.length<= 20`\n",
    "* `1 <= p.length<= 30`\n",
    "* `s` contains only lowercase English letters.\n",
    "* `p` contains only lowercase English letters, `'.'`, and`'*'`.\n",
    "* It is guaranteed for each appearance of the character `'*'`, there will be a previous valid character to match.\n",
    "\n"
   ]
  },
  {
   "cell_type": "markdown",
   "id": "17fe110f",
   "metadata": {},
   "source": [
    "# Summary\n",
    "\n"
   ]
  },
  {
   "cell_type": "markdown",
   "id": "c07899ec",
   "metadata": {},
   "source": [
    "# Problem Description\n",
    "\n",
    "Implement the wildcard `*` and `.` in regex.\n",
    "\n",
    "`*` consists of arbitrary number of `.`, thus implementing `.` first.\n",
    "\n",
    "Q: how to express *any character* in that position in Python?\n",
    "\n",
    "A: Firstly, consider whether we have a position for a singe `.`. If yes, it matches. Therefore, `.` means a position after the preceding character.\n",
    "\n",
    "Thus, `*` means it occupies zero or more positions in string."
   ]
  },
  {
   "cell_type": "markdown",
   "id": "b0438370",
   "metadata": {},
   "source": [
    "# Methods\n",
    "\n"
   ]
  },
  {
   "cell_type": "markdown",
   "id": "023ecc7e",
   "metadata": {},
   "source": [
    "## Method 1 Brute Force\n",
    "\n"
   ]
  },
  {
   "cell_type": "code",
   "execution_count": null,
   "id": "e5a57dab",
   "metadata": {},
   "outputs": [],
   "source": [
    "class Solution:\n",
    "    def isMatch(self, s: str, p: str) -> bool:\n",
    "        for i in range(len(s) - len(p)):\n",
    "            for j in range(len(p)):\n",
    "                if p[j] == '.':\n",
    "                    continue\n",
    "            \n"
   ]
  },
  {
   "cell_type": "markdown",
   "id": "27f33895",
   "metadata": {},
   "source": [
    "# Footnotes\n",
    "\n"
   ]
  },
  {
   "cell_type": "code",
   "execution_count": null,
   "id": "4f8089db",
   "metadata": {},
   "outputs": [],
   "source": [
    "# add the doc information to README \n",
    "from tools.setup import generate_row as g\n",
    "\n",
    "g()"
   ]
  }
 ],
 "metadata": {
  "interpreter": {
   "hash": "76a7b5324f028f295860f76a31df2338ff50596517c2606a79177bbdafd1d5be"
  },
  "kernelspec": {
   "display_name": "Python 3.7.11 ('leetcode')",
   "language": "python",
   "name": "python3"
  },
  "language_info": {
   "name": "python",
   "version": "3.7.11"
  }
 },
 "nbformat": 4,
 "nbformat_minor": 5
}
