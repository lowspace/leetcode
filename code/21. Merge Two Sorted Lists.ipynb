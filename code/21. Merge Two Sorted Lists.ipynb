{
 "cells": [
  {
   "cell_type": "markdown",
   "metadata": {},
   "source": [
    "# Problem\n",
    "\n",
    "Merge two sorted linked lists and return it as a **sorted** list. The list should be made by splicing together the nodes of the first two lists.\n",
    "\n",
    "Example 1:\n",
    "![](https://assets.leetcode.com/uploads/2020/10/03/merge_ex1.jpg)\n",
    "```\n",
    "Input: l1 = [1,2,4], l2 = [1,3,4]\n",
    "Output: [1,1,2,3,4,4]\n",
    "```\n",
    "Example 2:\n",
    "```\n",
    "Input: l1 = [], l2 = []\n",
    "Output: []\n",
    "```\n",
    "Example 3:\n",
    "```\n",
    "Input: l1 = [], l2 = [0]\n",
    "Output: [0]\n",
    "```\n",
    "\n",
    "Constraints:\n",
    "\n",
    "1. The number of nodes in both lists is in the range $[0, 50]$.\n",
    "2. `-100 <= Node.val <= 100`\n",
    "3. Both `l1` and `l2` are sorted in **non-decreasing** order."
   ]
  },
  {
   "cell_type": "markdown",
   "metadata": {},
   "source": [
    "# Summary"
   ]
  },
  {
   "cell_type": "markdown",
   "metadata": {},
   "source": [
    "# Methods"
   ]
  },
  {
   "cell_type": "markdown",
   "metadata": {},
   "source": [
    "## Method 1"
   ]
  },
  {
   "cell_type": "code",
   "execution_count": null,
   "metadata": {},
   "outputs": [],
   "source": []
  }
 ],
 "metadata": {
  "kernelspec": {
   "display_name": "Python 3",
   "language": "python",
   "name": "python3"
  },
  "language_info": {
   "codemirror_mode": {
    "name": "ipython",
    "version": 3
   },
   "file_extension": ".py",
   "mimetype": "text/x-python",
   "name": "python",
   "nbconvert_exporter": "python",
   "pygments_lexer": "ipython3",
   "version": "3.7.6"
  }
 },
 "nbformat": 4,
 "nbformat_minor": 4
}
