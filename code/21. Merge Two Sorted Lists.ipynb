{
 "cells": [
  {
   "cell_type": "markdown",
   "metadata": {},
   "source": [
    "# Problem\n",
    "\n",
    "Merge two sorted linked lists and return it as a **sorted** list. The list should be made by splicing together the nodes of the first two lists.\n",
    "\n",
    "Example 1:\n",
    "![](https://assets.leetcode.com/uploads/2020/10/03/merge_ex1.jpg)\n",
    "```\n",
    "Input: l1 = [1,2,4], l2 = [1,3,4]\n",
    "Output: [1,1,2,3,4,4]\n",
    "```\n",
    "Example 2:\n",
    "```\n",
    "Input: l1 = [], l2 = []\n",
    "Output: []\n",
    "```\n",
    "Example 3:\n",
    "```\n",
    "Input: l1 = [], l2 = [0]\n",
    "Output: [0]\n",
    "```\n",
    "\n",
    "Constraints:\n",
    "\n",
    "1. The number of nodes in both lists is in the range $[0, 50]$.\n",
    "2. `-100 <= Node.val <= 100`\n",
    "3. Both `l1` and `l2` are sorted in **non-decreasing** order."
   ]
  },
  {
   "cell_type": "markdown",
   "metadata": {},
   "source": [
    "# Summary"
   ]
  },
  {
   "cell_type": "markdown",
   "metadata": {},
   "source": [
    "# Methods"
   ]
  },
  {
   "cell_type": "markdown",
   "metadata": {},
   "source": [
    "## Method 1 Iteratively"
   ]
  },
  {
   "cell_type": "code",
   "execution_count": 14,
   "metadata": {},
   "outputs": [],
   "source": [
    "class ListNode:\n",
    "    def __init__(self, val=0, next=None):\n",
    "        self.val = val\n",
    "        self.next = next\n",
    "\n",
    "def mergeTwoLists(l1: ListNode, l2: ListNode) -> ListNode:\n",
    "    dummy = cur = ListNode(0) # the head of the listnode\n",
    "    while l1 and l2: # the l1 and l2 r not empty\n",
    "        if l1.val > l2.val:\n",
    "            cur.next = l2\n",
    "            l2 = l2.next\n",
    "        else:\n",
    "            cur.next = l1\n",
    "            l1 = l1.next\n",
    "        cur = cur.next\n",
    "    cur.next = l1 or l2\n",
    "    return dummy.next"
   ]
  },
  {
   "cell_type": "code",
   "execution_count": 46,
   "metadata": {},
   "outputs": [],
   "source": [
    "class ListNode:\n",
    "    def __init__(self, val=0, next=None):\n",
    "        self.val = val\n",
    "        self.next = next\n",
    "\n",
    "def mergeTwoLists(l1: ListNode, l2: ListNode) -> ListNode:\n",
    "    dummy = cur = ListNode(0)\n",
    "    while l1 and l2:\n",
    "        if l1.val < l2.val:\n",
    "            cur.next = l1\n",
    "            l1 = l1.next\n",
    "        else:\n",
    "            cur.next = l2\n",
    "            l2 = l2.next\n",
    "        cur = cur.next\n",
    "    cur.next = l1 or l2\n",
    "    return dummy.next"
   ]
  },
  {
   "cell_type": "code",
   "execution_count": 97,
   "metadata": {},
   "outputs": [
    {
     "name": "stdout",
     "output_type": "stream",
     "text": [
      "[4, 5, 6] [1, 2, 3]\n"
     ]
    },
    {
     "data": {
      "text/plain": [
       "<__main__.ListNode at 0x7fe36d9f07d0>"
      ]
     },
     "execution_count": 97,
     "metadata": {},
     "output_type": "execute_result"
    }
   ],
   "source": [
    "t1 = ListNode([1, 2, 3])\n",
    "t2 = ListNode([4,5,6])\n",
    "mergeTwoLists(t2, t1)"
   ]
  },
  {
   "cell_type": "code",
   "execution_count": 59,
   "metadata": {},
   "outputs": [
    {
     "name": "stdout",
     "output_type": "stream",
     "text": [
      "0 1\n",
      "1 2\n",
      "2 3\n",
      "3 None\n"
     ]
    }
   ],
   "source": [
    "class ListNode:\n",
    "    def __init__(self, val=0, next=None):\n",
    "        self.val = val\n",
    "        self.next = next\n",
    "\n",
    "t1 = ListNode(0)\n",
    "t1.next = ListNode(1, ListNode(2, ListNode(3)))\n",
    "\n",
    "\n",
    "print(t1.val, t1.next.val)\n",
    "print(t1.next.val, t1.next.next.val)\n",
    "print(t1.next.next.val, t1.next.next.next.val)\n",
    "print(t1.next.next.next.val, t1.next.next.next.next)"
   ]
  },
  {
   "cell_type": "code",
   "execution_count": 77,
   "metadata": {},
   "outputs": [
    {
     "name": "stdout",
     "output_type": "stream",
     "text": [
      "0 1\n",
      "True\n",
      "1\n",
      "2\n",
      "True\n",
      "2\n",
      "0 1\n",
      "1 2\n",
      "2 3\n",
      "3 None\n"
     ]
    },
    {
     "data": {
      "text/plain": [
       "False"
      ]
     },
     "execution_count": 77,
     "metadata": {},
     "output_type": "execute_result"
    }
   ],
   "source": [
    "class ListNode:\n",
    "    def __init__(self, val=0):\n",
    "        self.val = val\n",
    "        self.next = None\n",
    "\n",
    "ln = t1 = ListNode(0)\n",
    "t1.next = ListNode(1) # ln = t1 = ListNode(0, ListNode(1))\n",
    "print(t1.val, t1.next.val)\n",
    "print(id(ln) == id(t1))\n",
    "t1 = t1.next # t1 = ListNode(1); ln = ListNode(0, t1)\n",
    "print(t1.val)\n",
    "t1.next = ListNode(2) # t1 = ListNode(1, ListNode(2)); ln = ListNode(0, t1)\n",
    "t1 = t1.next # t1 = ListNode(2); ln = ListNode(0, ListNode(1, t1))\n",
    "print(t1.val)\n",
    "print(id(ln.next.next) == id(t1))\n",
    "t1.next = ListNode(3)\n",
    "print(t1.val)\n",
    "\n",
    "print(ln.val, ln.next.val)\n",
    "print(ln.next.val, ln.next.next.val)\n",
    "print(ln.next.next.val, ln.next.next.next.val)\n",
    "print(ln.next.next.next.val, ln.next.next.next.next)\n",
    "id(ln) == id(t1)"
   ]
  },
  {
   "cell_type": "markdown",
   "metadata": {},
   "source": [
    "# ListNode\n",
    "\n",
    "Q: How to generate a linked list from 0 to 3?  \n",
    "A: `0 -> 1 -> 2 -> 3`, which is `ListNode(0, ListNode(1, ListNode(2, ListNode(3))))`. "
   ]
  }
 ],
 "metadata": {
  "kernelspec": {
   "display_name": "Python 3",
   "language": "python",
   "name": "python3"
  },
  "language_info": {
   "codemirror_mode": {
    "name": "ipython",
    "version": 3
   },
   "file_extension": ".py",
   "mimetype": "text/x-python",
   "name": "python",
   "nbconvert_exporter": "python",
   "pygments_lexer": "ipython3",
   "version": "3.7.10"
  }
 },
 "nbformat": 4,
 "nbformat_minor": 4
}
