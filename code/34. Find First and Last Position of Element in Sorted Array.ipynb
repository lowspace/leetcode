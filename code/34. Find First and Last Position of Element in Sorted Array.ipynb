{
 "cells": [
  {
   "cell_type": "markdown",
   "metadata": {},
   "source": [
    "# Problem\n",
    "\n",
    "Given an array of integers `nums` sorted in non-decreasing order, find the starting and ending position of a given `target` value.\n",
    "\n",
    "If `target` is not found in the array, return `[-1, -1]`.\n",
    "\n",
    "You must write an algorithm with `O(log n)` runtime complexity.\n",
    "\n",
    "**Example 1:**\n",
    "\n",
    "```\n",
    "Input: nums = [5,7,7,8,8,10], target = 8\n",
    "Output: [3,4]\n",
    "\n",
    "```\n",
    "\n",
    "**Example 2:**\n",
    "\n",
    "```\n",
    "Input: nums = [5,7,7,8,8,10], target = 6\n",
    "Output: [-1,-1]\n",
    "\n",
    "```\n",
    "\n",
    "**Example 3:**\n",
    "\n",
    "```\n",
    "Input: nums = [], target = 0\n",
    "Output: [-1,-1]\n",
    "\n",
    "```\n",
    "\n",
    "**Constraints:**\n",
    "\n",
    "- `0 <= nums.length <= 105`\n",
    "- `10^9 <= nums[i] <= 10^9`\n",
    "- `nums` is a non-decreasing array.\n",
    "- `10^9 <= target <= 10^9`"
   ]
  },
  {
   "cell_type": "markdown",
   "metadata": {},
   "source": [
    "# Summary\n",
    "\n",
    "Two key points of this problem:\n",
    "\n",
    "+ using binary search to find the boundary of the target range (left and right);\n",
    "+ assuming the existence of the target and searching for the boundary directly instead of checking the existence first.\n",
    "\n",
    "Q: when we need to check the existence of the target instead of searching it directly?\n",
    "\n",
    "A: I think for searching algorithms they don't need to check the existence since searching the target is the way to check the existence. In programming, assuming it already in the data and to find the index may be the clever way."
   ]
  },
  {
   "cell_type": "markdown",
   "metadata": {},
   "source": [
    "# Problem Description \n",
    "\n",
    "Find the index range of the target in a non-decreasing array."
   ]
  },
  {
   "cell_type": "markdown",
   "metadata": {},
   "source": [
    "# Methods\n",
    "\n",
    "1. linear search, $O(n)$;\n",
    "2. binary search, $O(logn)$."
   ]
  },
  {
   "cell_type": "markdown",
   "metadata": {},
   "source": [
    "## Method 1 Linear Search\n",
    "\n",
    "+ **Time Complexity**: \n",
    "\t+ Best case: $O(n)$\n",
    "\t+ Worst case: $O(n)$\n",
    "+ **Space Complexity**: $O(1a)$"
   ]
  },
  {
   "cell_type": "code",
   "execution_count": null,
   "metadata": {},
   "outputs": [],
   "source": [
    "class Solution:\n",
    "    def searchRange(self, nums: List[int], target: int) -> List[int]:\n",
    "        starting = -1\n",
    "        cnt = 0\n",
    "        for i in range(len(nums)):\n",
    "            if nums[i] == target:\n",
    "                if starting == -1:\n",
    "                    starting = i\n",
    "                else:\n",
    "                    cnt += 1\n",
    "        \n",
    "        return [starting, starting + cnt]"
   ]
  },
  {
   "cell_type": "markdown",
   "metadata": {},
   "source": [
    "## Method 2 Binary Search\n",
    "\n",
    "The challenge is how to make the algorithm run after finding the target and terminate while the index is out of the target scope. \n",
    "\n",
    "If we use binary search to find the target, how to guarantee the target is in the leftmost or rightmost of the array? then we can count the duplications one by one. But in this way, the complexity is:\n",
    "\n",
    "+ **Time Complexity**: \n",
    "\t+ Best case: $O(logn)$\n",
    "\t+ Worst case: $O(n)$\n",
    "+ **Space Complexity**: $O(1)$\n",
    "\n",
    "which does not meet the requirements of the problem. \n",
    "\n",
    "There is another method to achieve the range requirement is to divide the array into two part, and search the target in the two part. However, this method handles the scenario that the duplication around the medium position and can not copy with the scenario that the duplication only in one side.\n",
    "\n",
    "~~Thus, it seems the best solution is to run binary search three times. The first time to find whether to contain the target. If the array contains the target, the algorithm will run the binary search twice on the left side and right side to detect the boundary of the target; otherwise, the algorithm will terminate.~~ In this design, the algorithm has \n",
    "\n",
    "+ **Time Complexity**: \n",
    "\t+ Best case: $O(3logn)$\n",
    "\t+ Worst case: $O(3logn)$\n",
    "+ **Space Complexity**: $O(1)$\n",
    "\n",
    "Thus, it seems the best solution is once we find the target, then use binary search to check the left and right side whether to contain the target. If they contain(s) the target, repeat this process until the left or right side doesn't contain the target.\n",
    "\n",
    "+ **Time Complexity**: \n",
    "\t+ Best case: $O(logn)$\n",
    "\t+ Worst case: $O(logn)$\n",
    "+ **Space Complexity**: $O(1)$"
   ]
  },
  {
   "cell_type": "markdown",
   "metadata": {},
   "source": [
    "Version 1 Binary Search and Linear Count\n",
    "\n",
    "+ **Time Complexity**: \n",
    "\t+ Best case: $O(logn)$\n",
    "\t+ Worst case: $O(n)$\n",
    "+ **Space Complexity**: $O(1)$"
   ]
  },
  {
   "cell_type": "code",
   "execution_count": null,
   "metadata": {},
   "outputs": [],
   "source": [
    "class Solution:\n",
    "    def searchRange(self, nums: List[int], target: int) -> List[int]:\n",
    "        left, right = 0, len(nums) - 1\n",
    "\n",
    "        while left <= right:\n",
    "            mid = (left + right) // 2\n",
    "\n",
    "            if nums[mid] == target:\n",
    "                starting, ending = mid, mid # init the starting and ending\n",
    "                for i in range(mid - 1, -1, -1): \n",
    "                    if nums[i] == target: # found the target, then update the index\n",
    "                        starting = i\n",
    "                    else:\n",
    "                        break\n",
    "                for i in range(mid, len(nums), 1):\n",
    "                    if nums[i] == target:\n",
    "                        ending = i\n",
    "                    else:\n",
    "                        break\n",
    "                return [starting, ending]\n",
    "            elif nums[mid] < target:\n",
    "                left = mid + 1\n",
    "            else:\n",
    "                right = mid - 1\n",
    "\n",
    "        return [-1, -1]"
   ]
  },
  {
   "cell_type": "markdown",
   "metadata": {},
   "source": [
    "Version 2 Two-time Binary Search\n",
    "\n",
    "+ **Time Complexity**: \n",
    "\t+ Best case: $O(2logn)$\n",
    "\t+ Worst case: $O(2logn)$\n",
    "+ **Space Complexity**: $O(1)$\n",
    "\n",
    "The reason why only use two times instead of three is the existence of the left boundary already indicates the existence of the target, we don't need to waste one binary search to check whether the array contains the target."
   ]
  },
  {
   "cell_type": "code",
   "execution_count": null,
   "metadata": {},
   "outputs": [],
   "source": [
    "class Solution:\n",
    "    def searchRange(self, nums: List[int], target: int) -> List[int]:\n",
    "        \n",
    "        starting, ending = -1, -1\n",
    "\n",
    "        # check the left boundary\n",
    "        left, right = 0, len(nums) - 1\n",
    "        \n",
    "        while left <= right:\n",
    "            mid = (left + right) // 2\n",
    "\n",
    "            if nums[mid] == target:\n",
    "                if mid == 0 or nums[mid - 1] != target:\n",
    "                    starting = mid\n",
    "                    break\n",
    "                else:\n",
    "                    right = mid - 1\n",
    "            elif nums[mid] < target:\n",
    "                left = mid + 1\n",
    "            else:\n",
    "                right = mid - 1\n",
    "        \n",
    "        # check the right boundary\n",
    "        left, right = 0, len(nums) - 1\n",
    "        \n",
    "        while left <= right and starting != -1:\n",
    "            mid = (left + right) // 2\n",
    "\n",
    "            if nums[mid] == target:\n",
    "                if mid == len(nums) - 1 or nums[mid + 1] != target:\n",
    "                    ending = mid\n",
    "                    break\n",
    "                else:\n",
    "                    left = mid + 1\n",
    "            elif nums[mid] < target:\n",
    "                left = mid + 1\n",
    "            else:\n",
    "                right = mid - 1\n",
    "\n",
    "        return [starting, ending]"
   ]
  },
  {
   "cell_type": "markdown",
   "metadata": {},
   "source": [
    "Version 2.1 Two-time Binary Search\n",
    "\n",
    "Reduce code duplication by implementing a `for` control statement."
   ]
  },
  {
   "cell_type": "code",
   "execution_count": null,
   "metadata": {},
   "outputs": [],
   "source": [
    "class Solution:\n",
    "    def searchRange(self, nums: List[int], target: int) -> List[int]:\n",
    "        \n",
    "        starting, ending = -1, -1\n",
    "\n",
    "        for check in ['left', 'right']:\n",
    "            left, right = 0, len(nums) - 1\n",
    "        \n",
    "            while left <= right:\n",
    "                mid = (left + right) // 2\n",
    "\n",
    "                if nums[mid] == target:\n",
    "                    if check == 'left': # check the left side\n",
    "                        if mid == 0 or nums[mid - 1] != target:\n",
    "                            starting = mid\n",
    "                            break\n",
    "                        else:\n",
    "                            right = mid - 1\n",
    "                    else: # check the right side\n",
    "                        if mid == len(nums) - 1 or nums[mid + 1] != target:\n",
    "                            ending = mid\n",
    "                            break\n",
    "                        else:\n",
    "                            left = mid + 1\n",
    "                elif nums[mid] < target:\n",
    "                    left = mid + 1\n",
    "                else:\n",
    "                    right = mid - 1\n",
    "            \n",
    "            if starting == -1:\n",
    "                break\n",
    "\n",
    "        return [starting, ending]"
   ]
  },
  {
   "cell_type": "markdown",
   "metadata": {},
   "source": [
    "# Footnotes"
   ]
  },
  {
   "cell_type": "code",
   "execution_count": 17,
   "metadata": {},
   "outputs": [],
   "source": [
    "# add the doc information to README \n",
    "from tools.setup import generate_row as g\n",
    "\n",
    "g()"
   ]
  }
 ],
 "metadata": {
  "hide_input": false,
  "kernelspec": {
   "display_name": "Python 3",
   "language": "python",
   "name": "python3"
  },
  "language_info": {
   "codemirror_mode": {
    "name": "ipython",
    "version": 3
   },
   "file_extension": ".py",
   "mimetype": "text/x-python",
   "name": "python",
   "nbconvert_exporter": "python",
   "pygments_lexer": "ipython3",
   "version": "3.7.11"
  },
  "latex_envs": {
   "LaTeX_envs_menu_present": true,
   "autoclose": false,
   "autocomplete": true,
   "bibliofile": "biblio.bib",
   "cite_by": "apalike",
   "current_citInitial": 1,
   "eqLabelWithNumbers": true,
   "eqNumInitial": 1,
   "hotkeys": {
    "equation": "Ctrl-E",
    "itemize": "Ctrl-I"
   },
   "labels_anchors": false,
   "latex_user_defs": false,
   "report_style_numbering": false,
   "user_envs_cfg": false
  },
  "toc": {
   "base_numbering": 1,
   "nav_menu": {},
   "number_sections": true,
   "sideBar": true,
   "skip_h1_title": false,
   "title_cell": "Table of Contents",
   "title_sidebar": "Contents",
   "toc_cell": false,
   "toc_position": {},
   "toc_section_display": true,
   "toc_window_display": false
  }
 },
 "nbformat": 4,
 "nbformat_minor": 4
}
