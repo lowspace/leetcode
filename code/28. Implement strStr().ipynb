{
 "cells": [
  {
   "cell_type": "markdown",
   "source": [
    "# Problem\n",
    "\n",
    "Implement [strStr()](http://www.cplusplus.com/reference/cstring/strstr/).\n",
    "\n",
    "Return the index of the first occurrence of needle in haystack, or `-1` if `needle` is not part of `haystack`.\n",
    "\n",
    "**Clarification:**\n",
    "\n",
    "What should we return when `needle` is an empty string? This is a great question to ask during an interview.\n",
    "\n",
    "For the purpose of this problem, we will return 0 when `needle` is an empty string. This is consistent to C's [strstr()](http://www.cplusplus.com/reference/cstring/strstr/) and Java's [indexOf()](https://docs.oracle.com/javase/7/docs/api/java/lang/String.html#indexOf(java.lang.String)).\n",
    "\n",
    " \n",
    "\n",
    "**Example 1:**\n",
    "\n",
    "```\n",
    "Input: haystack = \"hello\", needle = \"ll\"\n",
    "Output: 2\n",
    "```\n",
    "\n",
    "**Example 2:**\n",
    "\n",
    "```\n",
    "Input: haystack = \"aaaaa\", needle = \"bba\"\n",
    "Output: -1\n",
    "```\n",
    "\n",
    "**Example 3:**\n",
    "\n",
    "```\n",
    "Input: haystack = \"\", needle = \"\"\n",
    "Output: 0\n",
    "```\n",
    "\n",
    " \n",
    "\n",
    "**Constraints:**\n",
    "\n",
    "- `0 <= haystack.length, needle.length <=` 5 * $10^4$\n",
    "- `haystack` and `needle` consist of only lower-case English characters."
   ],
   "metadata": {}
  },
  {
   "cell_type": "markdown",
   "source": [
    "# Summary\n",
    "\n",
    "At first, I wanna to check the character one by one and return `True` or `False`, which works but inefficient. We can use list slicing to compare the `haystack` and `needle` entirely."
   ],
   "metadata": {}
  },
  {
   "cell_type": "markdown",
   "source": [
    "# Methods"
   ],
   "metadata": {}
  },
  {
   "cell_type": "markdown",
   "source": [
    "## Method 1\n",
    "\n",
    "Divide the scenario:\n",
    "\n",
    "- `len(needle)` > `len(haystack)`: unable to find the first occurence\n",
    "- `len(needle)` <= `len(haystack)`: may be\n",
    "\n",
    "    | Hay\\Needle | 0  | >0 |\n",
    "    |:------------|:----:|:----:|\n",
    "    | 0          | P  | NG |\n",
    "    | >0         | NG | P  |\n",
    "\n",
    "This table indicates there is only two scenarios that we can find the occurences:\n",
    "\n",
    " - $len(needle) = len(haystack) = 0$;\n",
    " - $0 \\lt len(needle) \\le len(haystack)$\n",
    "\n",
    "That is $0 \\le len(needle) \\le len(haystack)$."
   ],
   "metadata": {}
  },
  {
   "cell_type": "code",
   "execution_count": 12,
   "source": [
    "def strStr(haystack: str, needle: str) -> int:\n",
    "    assert 0 <= len(haystack) <= 5 * 10 ** 4, 'The length of haystack is out of [0, 50000].'\n",
    "    assert 0 <= len(needle) <= 5 * 10 ** 4, 'The length of needle is out of [0, 50000].'\n",
    "\n",
    "    if len(needle) == 0 :\n",
    "        return 0\n",
    "    elif 0 < len(needle) <= len(haystack):\n",
    "        assert haystack.islower(), 'Haystack needs to be lower-case English characters.'\n",
    "        assert needle.islower(), 'Needle needs to be lower-case English characters.'\n",
    "        for i in range(0, len(haystack)-len(needle)+1):\n",
    "            if haystack[i:i+len(needle)] == needle:\n",
    "                return i\n",
    "        return -1\n",
    "    else:\n",
    "        return -1"
   ],
   "outputs": [],
   "metadata": {}
  },
  {
   "cell_type": "markdown",
   "source": [
    "This below version code works in the small input, while the input going larger, this code will costs a lot of time $O(mn)$. Knuth–Morris–Pratt algorithm (KMP)<sup>[[1]](#ft1)</sup> uses to solve duplication comparison $O(n)$."
   ],
   "metadata": {}
  },
  {
   "cell_type": "code",
   "execution_count": 1,
   "source": [
    "def strStr(haystack: str, needle: str) -> int:\n",
    "    assert 0 <= len(haystack) <= 5 * 10 ** 4, 'The length of haystack is out of [0, 50000].'\n",
    "    assert 0 <= len(needle) <= 5 * 10 ** 4, 'The length of needle is out of [0, 50000].'\n",
    "\n",
    "    if len(needle) == 0 :\n",
    "        return 0\n",
    "    elif 0 < len(needle) <= len(haystack):\n",
    "        assert haystack.islower(), 'Haystack needs to be lower-case English characters.'\n",
    "        assert needle.islower(), 'Needle needs to be lower-case English characters.'\n",
    "        for i in range(0, len(haystack)-len(needle)+1):\n",
    "            for j in range(0, len(needle)):\n",
    "                print(i, haystack[i+j], needle[j])\n",
    "                if haystack[i+j] == needle[j]:\n",
    "                    if j == len(needle)-1:\n",
    "                        return i\n",
    "                else:\n",
    "                    break\n",
    "        return -1\n",
    "    else:\n",
    "        return -1"
   ],
   "outputs": [],
   "metadata": {}
  },
  {
   "cell_type": "markdown",
   "source": [
    "## KMP\n",
    "\n",
    "KMP algorithm uses information gleaned from partial matches of the pattern and text to skip over shifts that are guaranteed not to result in a match.\n"
   ],
   "metadata": {}
  },
  {
   "cell_type": "code",
   "execution_count": null,
   "source": [
    "def strStr(haystack: str, needle: str) -> int:\n",
    "    assert 0 <= len(haystack) <= 5 * 10 ** 4, 'The length of haystack is out of [0, 50000].'\n",
    "    assert 0 <= len(needle) <= 5 * 10 ** 4, 'The length of needle is out of [0, 50000].'\n",
    "\n",
    "    def skip(matched: str) -> int:\n",
    "        prefix = [matched[:i] for i in range(1, len(matched))]\n",
    "        suffiex = [matched[i:] for i in range(1, len(matched))][::-1]\n",
    "        com = 0\n",
    "\n",
    "        for i in range(0, len(prefix)):\n",
    "            if prefix[i] == suffiex[i] and len(prefix[i]) > com:\n",
    "                com = len(prefix[i])\n",
    "\n",
    "        return com\n",
    "\n",
    "    if needle == None :\n",
    "        return 0\n",
    "    elif 0 < len(needle) <= len(haystack):\n",
    "        assert haystack.islower(), 'Haystack needs to be lower-case English characters.'\n",
    "        assert needle.islower(), 'Needle needs to be lower-case English characters.'\n",
    "        # run KMP\n",
    "        for i in range(0, len(haystack)-len(needle)+1):\n",
    "            for j in range(0, len(needle)):\n",
    "                print(i, haystack[i+j], needle[j])\n",
    "                if haystack[i+j] == needle[j]:\n",
    "                    if j == len(needle) - 1:\n",
    "                        return i\n",
    "                else:\n",
    "                    break\n",
    "        return -1\n",
    "    else:\n",
    "        return -1"
   ],
   "outputs": [],
   "metadata": {}
  },
  {
   "cell_type": "code",
   "execution_count": 16,
   "source": [
    "def skip(matched: str) -> int:\n",
    "    prefix = [matched[:i] for i in range(1, len(matched))]\n",
    "    suffiex = [matched[i:] for i in range(1, len(matched))][::-1]\n",
    "    com = 0\n",
    "\n",
    "    for i in range(0, len(prefix)):\n",
    "        if prefix[i] == suffiex[i] and len(prefix[i]) > com:\n",
    "            com = len(prefix[i])\n",
    "\n",
    "    return com\n",
    "\n",
    "skip('ABCDAB')"
   ],
   "outputs": [
    {
     "output_type": "stream",
     "name": "stdout",
     "text": [
      "['A', 'AB', 'ABC', 'ABCD', 'ABCDA'] ['B', 'AB', 'DAB', 'CDAB', 'BCDAB']\n"
     ]
    },
    {
     "output_type": "execute_result",
     "data": {
      "text/plain": [
       "2"
      ]
     },
     "metadata": {},
     "execution_count": 16
    }
   ],
   "metadata": {}
  },
  {
   "cell_type": "markdown",
   "source": [
    "## Footnote\n",
    "\n",
    "<a name=\"ft1\">[1]</a>: wikipedia KMP: https://en.wikipedia.org/wiki/Knuth%E2%80%93Morris%E2%80%93Pratt_algorithm"
   ],
   "metadata": {}
  }
 ],
 "metadata": {
  "hide_input": false,
  "kernelspec": {
   "name": "python3",
   "display_name": "Python 3.7.11 64-bit ('leetcode': conda)"
  },
  "language_info": {
   "codemirror_mode": {
    "name": "ipython",
    "version": 3
   },
   "file_extension": ".py",
   "mimetype": "text/x-python",
   "name": "python",
   "nbconvert_exporter": "python",
   "pygments_lexer": "ipython3",
   "version": "3.7.11"
  },
  "latex_envs": {
   "LaTeX_envs_menu_present": true,
   "autoclose": false,
   "autocomplete": true,
   "bibliofile": "biblio.bib",
   "cite_by": "apalike",
   "current_citInitial": 1,
   "eqLabelWithNumbers": true,
   "eqNumInitial": 1,
   "hotkeys": {
    "equation": "Ctrl-E",
    "itemize": "Ctrl-I"
   },
   "labels_anchors": false,
   "latex_user_defs": false,
   "report_style_numbering": false,
   "user_envs_cfg": false
  },
  "toc": {
   "base_numbering": 1,
   "nav_menu": {},
   "number_sections": true,
   "sideBar": true,
   "skip_h1_title": false,
   "title_cell": "Table of Contents",
   "title_sidebar": "Contents",
   "toc_cell": false,
   "toc_position": {},
   "toc_section_display": true,
   "toc_window_display": false
  },
  "interpreter": {
   "hash": "2f96a6611f6544233df15d5f6a8a08a40aa02f57bca46a950ae6ed4bd6cd3b20"
  }
 },
 "nbformat": 4,
 "nbformat_minor": 4
}