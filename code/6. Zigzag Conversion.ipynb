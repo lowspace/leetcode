{
 "cells": [
  {
   "cell_type": "markdown",
   "metadata": {},
   "source": [
    "# Problem\n",
    "The string `\"PAYPALISHIRING\"` is written in a zigzag pattern on a given number of rows like this: (you may want to display this pattern in a fixed font for better legibility)\n",
    "\n",
    "```\n",
    "P   A   H   N\n",
    "A P L S I I G\n",
    "Y   I   R\n",
    "```\n",
    "\n",
    "And then read line by line: `\"PAHNAPLSIIGYIR\"`\n",
    "\n",
    "Write the code that will take a string and make this conversion given a number of rows:\n",
    "\n",
    "```\n",
    "string convert(string s, int numRows);\n",
    "```\n",
    "\n",
    " \n",
    "\n",
    "**Example 1:**\n",
    "\n",
    "```\n",
    "Input: s = \"PAYPALISHIRING\", numRows = 3\n",
    "Output: \"PAHNAPLSIIGYIR\"\n",
    "```\n",
    "\n",
    "**Example 2:**\n",
    "\n",
    "```\n",
    "Input: s = \"PAYPALISHIRING\", numRows = 4\n",
    "Output: \"PINALSIGYAHRPI\"\n",
    "Explanation:\n",
    "P     I    N\n",
    "A   L S  I G\n",
    "Y A   H R\n",
    "P     I\n",
    "```\n",
    "\n",
    "**Example 3:**\n",
    "\n",
    "```\n",
    "Input: s = \"A\", numRows = 1\n",
    "Output: \"A\"\n",
    "```\n",
    "\n",
    " \n",
    "\n",
    "**Constraints:**\n",
    "\n",
    "- `1 <= s.length <= 1000`\n",
    "- `s` consists of English letters (lower-case and upper-case), `','` and `'.'`.\n",
    "- `1 <= numRows <= 1000`"
   ]
  },
  {
   "cell_type": "markdown",
   "metadata": {},
   "source": [
    "# Summary\n",
    "\n",
    "In this question, I always wanna use mathematics ideas to handle it, since it looks like a sequence problem. However, I didn't notice the simple idea of this problem.\n",
    "\n",
    "The simple idea is like moving up and down, and using `-1` to control the direction."
   ]
  },
  {
   "cell_type": "markdown",
   "metadata": {},
   "source": [
    "# Problem Description \n",
    "\n",
    "Zigzag pattern means to format the string into `Z` style in horizontally."
   ]
  },
  {
   "cell_type": "markdown",
   "metadata": {},
   "source": [
    "# Methods\n",
    "\n",
    "+ build level character by character, and concatenate them at the last;\n",
    "+ use sequence to build the string at once."
   ]
  },
  {
   "cell_type": "markdown",
   "metadata": {},
   "source": [
    "## Method 1 Built by Columns\n",
    "\n",
    "Convert the string into matrix format, then read it one by one."
   ]
  },
  {
   "cell_type": "markdown",
   "metadata": {},
   "source": [
    "### Version 1 Naive Mathematics Idea\n",
    "\n",
    "+ **Time Complexity**: \n",
    "\t+ Best case: $O(n)$\n",
    "\t+ Worst case: $O(n)$\n",
    "+ **Space Complexity**: $O(n)$\n",
    "\n",
    "Observations and rules:\n",
    "\n",
    "+ The Zigzag pattern can be divided into two kinds of columns, the first one is a full column that each element is listed in that column, the second on is a partition that only one element in that column. And the number of elements in the two columns are $2 * numsRows - 2$, minus 2 means the partition columns lacks the leading and trailing element. Thus, we can use this observation to determine the row of the elements by dividing $2 * numsRows - 2$.\n",
    "+ For example, \n",
    "\n",
    "x\n",
    "\n",
    "    + `1 % 8 = 1` => the 1st row;\n",
    "    + `6 % 8 = 6` and `6 > 5 (numRows)` => `2 * 5 - 6 = 4` => the 4th row;\n",
    "    + `8 % 8 = 0` => the 2rd row."
   ]
  },
  {
   "cell_type": "code",
   "execution_count": 1,
   "metadata": {},
   "outputs": [],
   "source": [
    "class Solution:\n",
    "    def convert(self, s: str, numRows: int) -> str:\n",
    "        if numRows == 1: return s\n",
    "        matrix = dict()\n",
    "        for i in range(1, numRows + 1):\n",
    "            matrix[i] = ''\n",
    "        \n",
    "        s = ' ' + s\n",
    "        div = 2 * numRows - 2\n",
    "        \n",
    "        for i in range(1, len(s)):\n",
    "            res = i % div\n",
    "            if 0 < res <= numRows:\n",
    "                matrix[res] += s[i]\n",
    "            else:\n",
    "                if res:\n",
    "                    res = 2 * numRows - res\n",
    "                    matrix[res] += s[i]\n",
    "                else:\n",
    "                    matrix[2] += s[i]\n",
    "        \n",
    "        r = ''\n",
    "        for k, v in matrix.items():\n",
    "            r += v\n",
    "        \n",
    "        return r"
   ]
  },
  {
   "cell_type": "markdown",
   "metadata": {},
   "source": [
    "### Version 2 Advanced Intuition Idea\n",
    "\n",
    "+ **Time Complexity**: \n",
    "\t+ Best case: $O(n)$\n",
    "\t+ Worst case: $O(n)$\n",
    "+ **Space Complexity**: $O(n)$\n",
    "\n",
    "This version has the same idea as the version 1, but from different perspective to implement the idea <sup>[1](#ft1)</sup>. The most significant difference between the two version is that the version 1 uses division to control the up and down while the version 2 uses a `-1`. I also noticed that `-1`, but I didn't realize how to use it to move."
   ]
  },
  {
   "cell_type": "code",
   "execution_count": 4,
   "metadata": {},
   "outputs": [],
   "source": [
    "class Solution(object):\n",
    "    def convert(self, s, numRows):\n",
    "        if numRows == 1: return s\n",
    "        \n",
    "        levels = [\"\"] * numRows\n",
    "        level = 0\n",
    "        step = 1\n",
    "        \n",
    "        for letter in s:\n",
    "            levels[level] += letter\n",
    "            level += step\n",
    "            if level == 0 or level == numRows - 1:\n",
    "                step *= -1\n",
    "           \n",
    "        return ''.join(levels)"
   ]
  },
  {
   "cell_type": "markdown",
   "metadata": {},
   "source": [
    "### Method 2 Built by Rows"
   ]
  },
  {
   "cell_type": "markdown",
   "metadata": {},
   "source": [
    "### Version 1 Sequence Rule\n",
    "\n",
    "+ **Time Complexity**: \n",
    "\t+ Best case: $O(n)$\n",
    "\t+ Worst case: $O(n)$\n",
    "+ **Space Complexity**: $O(n)$\n",
    "\n",
    "Explanation:\n",
    "\n",
    "    ```\n",
    "    1. 0       8           16\n",
    "    2. 1     7 9       15\n",
    "    3. 2   6   10    14\n",
    "    4. 3 5     11 13\n",
    "    5. 4       12\n",
    "    ```\n",
    "\n",
    "+ `seq_1`: the difference between the elements in the first row and the last row, which equals to the path of elements among the index, $2 * numRows - 2$. Also, the `seq_1` depicts the gap of the elements at the corresponding position of the two adjacent full columns.\n",
    "+ `seq_2`: the difference measures the gap between the full-column element and partition-column element, which is $i + i + d = 2 * numRows$ => $ d = 2 * numRows - 2 * i$.\n",
    "+ `seq_3`: the difference measures the gap between partition-column element and the next full-column element, which is $ i + d + q = i + seq_1$ => $ q = 2 * i - 2$."
   ]
  },
  {
   "cell_type": "code",
   "execution_count": 2,
   "metadata": {},
   "outputs": [],
   "source": [
    "class Solution:\n",
    "    def convert(self, s: str, numRows: int) -> str:\n",
    "        if numRows == 1: return s\n",
    "        r = ''\n",
    "        s = ' ' + s\n",
    "\n",
    "        for i in range(1, numRows + 1):\n",
    "            if i == 1 or i == numRows:\n",
    "                seq_1 = 2 * numRows - 2\n",
    "                anchor = i\n",
    "                while s[anchor : anchor + 1]:\n",
    "                    r += s[anchor : anchor + 1]\n",
    "                    anchor += seq_1\n",
    "            else:\n",
    "                seq_2 = 2 * numRows - 2 * i\n",
    "                seq_3 = 2 * i - 2\n",
    "                anchor = i\n",
    "                time = 1\n",
    "                while s[anchor : anchor + 1]:\n",
    "                    r += s[anchor : anchor + 1]\n",
    "                    if time % 2 == 1:\n",
    "                        anchor += seq_2\n",
    "                    else:\n",
    "                        anchor += seq_3\n",
    "                    time += 1\n",
    "\n",
    "        return r\n"
   ]
  },
  {
   "cell_type": "markdown",
   "metadata": {},
   "source": [
    "### Version 2 Advanced Seq Rule\n",
    "\n",
    "Modification:\n",
    "\n",
    "+ remove `time`;\n",
    "+ don't need to pad space at the leading.\n",
    "\n",
    "Explanation:\n",
    "\n",
    "    ```\n",
    "    0. 0       8           16\n",
    "    1. 1     7 9       15\n",
    "    2. 2   6   10    14\n",
    "    3. 3 5     11 13\n",
    "    4. 4       12\n",
    "    ```\n",
    "\n",
    "+ `seq_1`: the difference between the elements in the first row and the last row, which equals to the path of elements among the index, $2 * numRows - 2$. Also, the `seq_1` depicts the gap of the elements at the corresponding position of the two adjacent full columns.\n",
    "+ `seq_2`: the difference measures the gap between the full-column element and partition-column element, which is $i + i + d = 2 * numRows - 2$  => $ d = 2 * numRows - 2 * i - 2$.\n",
    "+ `seq_3`: the difference measures the gap between partition-column element and the next full-column element, which is $ i + d + q = i + seq_1$ => $ q = 2 * i$."
   ]
  },
  {
   "cell_type": "code",
   "execution_count": 3,
   "metadata": {},
   "outputs": [],
   "source": [
    "class Solution:\n",
    "    def convert(self, s: str, numRows: int) -> str:\n",
    "        if numRows == 1: return s\n",
    "        r = ''\n",
    "\n",
    "        for i in range(0, numRows):\n",
    "            if i == 0 or i == numRows - 1:\n",
    "                seq_1 = 2 * numRows - 2\n",
    "                anchor = i\n",
    "                while s[anchor : anchor + 1]:\n",
    "                    r += s[anchor : anchor + 1]\n",
    "                    anchor += seq_1\n",
    "            else:\n",
    "                seq_2 = 2 * numRows - 2 * i - 2\n",
    "                seq_3 = 2 * i\n",
    "                anchor = i\n",
    "                seq = None\n",
    "                while s[anchor : anchor + 1]:\n",
    "                    r += s[anchor : anchor + 1]\n",
    "                    if seq == seq_2:\n",
    "                        seq = seq_3\n",
    "                    else:\n",
    "                        seq = seq_2\n",
    "                    anchor += seq\n",
    "\n",
    "        return r\n"
   ]
  },
  {
   "cell_type": "markdown",
   "metadata": {},
   "source": [
    "# Footnotes\n",
    "\n",
    "<a name=\"ft1\">[1]</a>: https://leetcode.com/problems/zigzag-conversion/discuss/427621/Python-Solution-with-Step-by-Step-Walk-Through-(Beats-95)"
   ]
  },
  {
   "cell_type": "code",
   "execution_count": 5,
   "metadata": {},
   "outputs": [],
   "source": [
    "# add the doc information to README \n",
    "from tools.setup import generate_row as g\n",
    "\n",
    "g()"
   ]
  }
 ],
 "metadata": {
  "hide_input": false,
  "kernelspec": {
   "display_name": "Python 3",
   "language": "python",
   "name": "python3"
  },
  "language_info": {
   "codemirror_mode": {
    "name": "ipython",
    "version": 3
   },
   "file_extension": ".py",
   "mimetype": "text/x-python",
   "name": "python",
   "nbconvert_exporter": "python",
   "pygments_lexer": "ipython3",
   "version": "3.7.11"
  },
  "latex_envs": {
   "LaTeX_envs_menu_present": true,
   "autoclose": false,
   "autocomplete": true,
   "bibliofile": "biblio.bib",
   "cite_by": "apalike",
   "current_citInitial": 1,
   "eqLabelWithNumbers": true,
   "eqNumInitial": 1,
   "hotkeys": {
    "equation": "Ctrl-E",
    "itemize": "Ctrl-I"
   },
   "labels_anchors": false,
   "latex_user_defs": false,
   "report_style_numbering": false,
   "user_envs_cfg": false
  },
  "toc": {
   "base_numbering": 1,
   "nav_menu": {},
   "number_sections": true,
   "sideBar": true,
   "skip_h1_title": false,
   "title_cell": "Table of Contents",
   "title_sidebar": "Contents",
   "toc_cell": false,
   "toc_position": {},
   "toc_section_display": true,
   "toc_window_display": false
  }
 },
 "nbformat": 4,
 "nbformat_minor": 4
}
