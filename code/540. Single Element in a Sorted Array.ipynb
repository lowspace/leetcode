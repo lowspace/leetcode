{
 "cells": [
  {
   "cell_type": "markdown",
   "metadata": {},
   "source": [
    "# Problem\n",
    "\n",
    "You are given a sorted array consisting of only integers where every element appears exactly twice, except for one element which appears exactly once.\n",
    "\n",
    "Return *the single element that appears only once*.\n",
    "\n",
    "Your solution must run in `O(log n)` time and `O(1)` space.\n",
    "\n",
    "**Example 1:**\n",
    "\n",
    "```\n",
    "Input: nums = [1,1,2,3,3,4,4,8,8]\n",
    "Output: 2\n",
    "\n",
    "```\n",
    "\n",
    "**Example 2:**\n",
    "\n",
    "```\n",
    "Input: nums = [3,3,7,7,10,11,11]\n",
    "Output: 10\n",
    "\n",
    "```\n",
    "\n",
    "**Constraints:**\n",
    "\n",
    "- `1 <= nums.length <= 10^5`\n",
    "- `0 <= nums[i] <= 10^5`"
   ]
  },
  {
   "cell_type": "markdown",
   "metadata": {},
   "source": [
    "# Summary\n",
    "\n",
    "+ the key points of binary search:\n",
    "\n",
    "    + how to motivate binary search method? once we can reduce half of the array iteratively, binary search can contribute to find the target.\n",
    "    + if there are multiple targets in the array but we only need one of them, we can assume the monotony of the array and set the monotony in an extreme scenario.\n",
    "\n",
    "+ `x ^ 1 == x + 1` to check whether `x` is an even int."
   ]
  },
  {
   "cell_type": "markdown",
   "metadata": {},
   "source": [
    "# Problem Description \n",
    "\n",
    "The array consists of one unique element and elements appearing twice. Using binary search to find the unique element. Note, this array is a sorted array."
   ]
  },
  {
   "cell_type": "markdown",
   "metadata": {},
   "source": [
    "# Methods"
   ]
  },
  {
   "cell_type": "markdown",
   "metadata": {},
   "source": [
    "## Method 1 Linear Scan\n",
    "\n",
    "+ **Time Complexity**: \n",
    "\t+ Best case: $O(n/2)$\n",
    "\t+ Worst case: $O(n/2)$\n",
    "+ **Space Complexity**: $O(1)$\n",
    "\n",
    "The length of this array must be one of the `[1, 3, 5, 7, 9, ...]`, and the unique element must locate behind a twice appearance or `None`."
   ]
  },
  {
   "cell_type": "code",
   "execution_count": null,
   "metadata": {},
   "outputs": [],
   "source": [
    "class Solution:\n",
    "    def singleNonDuplicate(self, nums: List[int]) -> int:\n",
    "        i = 0\n",
    "\n",
    "        while i <= len(nums) - 2: # do not exceed the index\n",
    "            if nums[i] == nums[i + 1]: # twice appearance\n",
    "                i += 2\n",
    "            else:\n",
    "                return nums[i]\n",
    "\n",
    "        return nums[i]"
   ]
  },
  {
   "cell_type": "markdown",
   "metadata": {},
   "source": [
    "## Method 2 Binary Search\n",
    "\n",
    "+ **Time Complexity**: \n",
    "\t+ Best case: $O(logn)$\n",
    "\t+ Worst case: $O(logn)$\n",
    "+ **Space Complexity**: $O(1)$\n",
    "\n",
    "Similar with the linear scan, binary search check the equality of the medium element.\n",
    "\n",
    "+ If the medium element is equal to the previous element, the unique element is in the left side of the medium element;\n",
    "+ otherwise, right side.\n",
    "\n",
    "The idea of binary search is to drop all consecutive elements that appears exactly twice."
   ]
  },
  {
   "cell_type": "markdown",
   "metadata": {},
   "source": [
    "Version 1 `len()`"
   ]
  },
  {
   "cell_type": "code",
   "execution_count": null,
   "metadata": {},
   "outputs": [],
   "source": [
    "class Solution:\n",
    "    def singleNonDuplicate(self, nums: List[int]) -> int:\n",
    "        if len(nums) == 1:\n",
    "            return nums[0]\n",
    "        \n",
    "        left, right = 0, len(nums) - 1\n",
    "\n",
    "        while left < right: # always in the left side\n",
    "            mid = (left + right) // 2\n",
    "\n",
    "            if nums[mid] == nums[mid + 1]:\n",
    "                if mid % 2 == 0:\n",
    "                    left = mid + 2\n",
    "                else:\n",
    "                    right = mid - 1\n",
    "            elif nums[mid] == nums[mid - 1]:\n",
    "                if (mid - 1) % 2 == 0:\n",
    "                    left = mid + 1\n",
    "                else:\n",
    "                    right = mid - 2\n",
    "            else:\n",
    "                return nums[mid]\n",
    "    \n",
    "        return nums[left]"
   ]
  },
  {
   "cell_type": "markdown",
   "metadata": {},
   "source": [
    "Version 2 Bitwise Operation"
   ]
  },
  {
   "cell_type": "code",
   "execution_count": null,
   "metadata": {},
   "outputs": [],
   "source": [
    "class Solution:\n",
    "    def singleNonDuplicate(self, nums: List[int]) -> int:\n",
    "        if len(nums) == 1:\n",
    "            return nums[0]\n",
    "        \n",
    "        left, right = 0, len(nums) - 1\n",
    "\n",
    "        while left < right:\n",
    "            mid = (left + right) // 2\n",
    "\n",
    "            if nums[mid] == nums[mid + 1]:\n",
    "                if mid ^ 1 == mid + 1:\n",
    "                    left = mid + 2\n",
    "                else:\n",
    "                    right = mid - 1\n",
    "            elif nums[mid] == nums[mid - 1]:\n",
    "                if (mid - 1) ^ 1 == mid:\n",
    "                    left = mid + 1\n",
    "                else:\n",
    "                    right = mid - 2\n",
    "            else:\n",
    "                return nums[mid]\n",
    "    \n",
    "        return nums[left]"
   ]
  },
  {
   "cell_type": "markdown",
   "metadata": {},
   "source": [
    "# Footnotes"
   ]
  },
  {
   "cell_type": "code",
   "execution_count": null,
   "metadata": {},
   "outputs": [],
   "source": [
    "# add the doc information to README \n",
    "from tools.setup import generate_row as g\n",
    "\n",
    "g()"
   ]
  }
 ],
 "metadata": {
  "hide_input": false,
  "kernelspec": {
   "display_name": "Python 3",
   "language": "python",
   "name": "python3"
  },
  "language_info": {
   "codemirror_mode": {
    "name": "ipython",
    "version": 3
   },
   "file_extension": ".py",
   "mimetype": "text/x-python",
   "name": "python",
   "nbconvert_exporter": "python",
   "pygments_lexer": "ipython3",
   "version": "3.7.11"
  },
  "latex_envs": {
   "LaTeX_envs_menu_present": true,
   "autoclose": false,
   "autocomplete": true,
   "bibliofile": "biblio.bib",
   "cite_by": "apalike",
   "current_citInitial": 1,
   "eqLabelWithNumbers": true,
   "eqNumInitial": 1,
   "hotkeys": {
    "equation": "Ctrl-E",
    "itemize": "Ctrl-I"
   },
   "labels_anchors": false,
   "latex_user_defs": false,
   "report_style_numbering": false,
   "user_envs_cfg": false
  },
  "toc": {
   "base_numbering": 1,
   "nav_menu": {},
   "number_sections": true,
   "sideBar": true,
   "skip_h1_title": false,
   "title_cell": "Table of Contents",
   "title_sidebar": "Contents",
   "toc_cell": false,
   "toc_position": {},
   "toc_section_display": true,
   "toc_window_display": false
  }
 },
 "nbformat": 4,
 "nbformat_minor": 4
}
