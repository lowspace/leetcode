{
 "cells": [
  {
   "cell_type": "markdown",
   "metadata": {},
   "source": [
    "# Problem\n",
    "\n",
    "Write an efficient algorithm that searches for a value in an `m x n` matrix. This matrix has the following properties:\n",
    "\n",
    "- Integers in each row are sorted from left to right.\n",
    "- The first integer of each row is greater than the last integer of the previous row.\n",
    "\n",
    "**Example 1:**\n",
    "\n",
    "![https://assets.leetcode.com/uploads/2020/10/05/mat.jpg](https://assets.leetcode.com/uploads/2020/10/05/mat.jpg)\n",
    "\n",
    "```\n",
    "Input: matrix = [[1,3,5,7],[10,11,16,20],[23,30,34,60]], target = 3\n",
    "Output: true\n",
    "\n",
    "```\n",
    "\n",
    "**Example 2:**\n",
    "\n",
    "![https://assets.leetcode.com/uploads/2020/10/05/mat2.jpg](https://assets.leetcode.com/uploads/2020/10/05/mat2.jpg)\n",
    "\n",
    "```\n",
    "Input: matrix = [[1,3,5,7],[10,11,16,20],[23,30,34,60]], target = 13\n",
    "Output: false\n",
    "\n",
    "```\n",
    "\n",
    "**Constraints:**\n",
    "\n",
    "- `m == matrix.length`\n",
    "- `n == matrix[i].length`\n",
    "- `1 <= m, n <= 100`\n",
    "- `10^4 <= matrix[i][j], target <= 10^4`"
   ]
  },
  {
   "cell_type": "markdown",
   "metadata": {},
   "source": [
    "# Summary\n",
    "\n",
    "+ Model this matrix as a shorted array."
   ]
  },
  {
   "cell_type": "markdown",
   "metadata": {},
   "source": [
    "# Problem Description \n",
    "\n",
    "Using binary search to find the target within a sorted matrix. This matrix can be regarded as a fold ascending sorted array."
   ]
  },
  {
   "cell_type": "markdown",
   "metadata": {},
   "source": [
    "# Methods"
   ]
  },
  {
   "cell_type": "markdown",
   "metadata": {},
   "source": [
    "## Method 1 Linear Scan\n",
    "\n",
    "+ **Time Complexity**: \n",
    "\t+ Best case: $O(n)$\n",
    "\t+ Worst case: $O(n)$\n",
    "+ **Space Complexity**: $O(1)$"
   ]
  },
  {
   "cell_type": "code",
   "execution_count": null,
   "metadata": {},
   "outputs": [],
   "source": [
    "class Solution:\n",
    "    def searchMatrix(self, matrix: List[List[int]], target: int) -> bool:\n",
    "        for row in matrix:\n",
    "            if target in row:\n",
    "                return True\n",
    "        \n",
    "        return False"
   ]
  },
  {
   "cell_type": "markdown",
   "metadata": {},
   "source": [
    "## Method 2 Binary Search\n",
    "\n"
   ]
  },
  {
   "cell_type": "markdown",
   "metadata": {},
   "source": [
    "Version 1 Shape the Matrix into An Array\n",
    "\n",
    "+ **Time Complexity**: \n",
    "\t+ Best case: $O(logn)$\n",
    "\t+ Worst case: $O(logn)$\n",
    "+ **Space Complexity**: $O(n)$"
   ]
  },
  {
   "cell_type": "code",
   "execution_count": null,
   "metadata": {},
   "outputs": [],
   "source": [
    "class Solution:\n",
    "    def searchMatrix(self, matrix: List[List[int]], target: int) -> bool:\n",
    "        nums = []\n",
    "        for row in matrix:\n",
    "            nums.extend(row)\n",
    "\n",
    "        left, right = 0, len(nums) - 1\n",
    "\n",
    "        while left <= right:\n",
    "            mid = (left + right) // 2\n",
    "\n",
    "            if nums[mid] == target:\n",
    "                return True\n",
    "            elif nums[mid] < target:\n",
    "                left = mid + 1\n",
    "            else:\n",
    "                right = mid - 1\n",
    "        \n",
    "        return False"
   ]
  },
  {
   "cell_type": "markdown",
   "metadata": {},
   "source": [
    "Version 2 Naive Binary Search\n",
    "\n",
    "+ **Time Complexity**: \n",
    "\t+ Best case: $O(logn)$\n",
    "\t+ Worst case: $O(logn)$\n",
    "+ **Space Complexity**: $O(1)$\n",
    "\n",
    "Same idea, but computing the index of the matrix instead of shaping it as an array."
   ]
  },
  {
   "cell_type": "code",
   "execution_count": null,
   "metadata": {},
   "outputs": [],
   "source": [
    "class Solution:\n",
    "    def searchMatrix(self, matrix: List[List[int]], target: int) -> bool:\n",
    "        # get the matrix information\n",
    "        row_len = len(matrix)\n",
    "        col_len = len(matrix[0])\n",
    "        total_len = row_len * col_len\n",
    "\n",
    "        # init the binary search\n",
    "        left, right = 0, total_len - 1\n",
    "\n",
    "        while left <= right:\n",
    "            mid = (left + right) // 2\n",
    "\n",
    "            # mid starts from 0 and ends with total_len - 1\n",
    "            row = mid // col_len \n",
    "            col = mid % col_len\n",
    "\n",
    "            if matrix[row][col] == target:\n",
    "                return True\n",
    "            elif matrix[row][col] < target:\n",
    "                left = mid + 1\n",
    "            else:\n",
    "                right = mid - 1\n",
    "        \n",
    "        return False"
   ]
  },
  {
   "cell_type": "markdown",
   "metadata": {},
   "source": [
    "# Footnotes"
   ]
  },
  {
   "cell_type": "code",
   "execution_count": 4,
   "metadata": {},
   "outputs": [],
   "source": [
    "# add the doc information to README \n",
    "from tools.setup import generate_row as g\n",
    "\n",
    "g()"
   ]
  }
 ],
 "metadata": {
  "hide_input": false,
  "kernelspec": {
   "display_name": "Python 3",
   "language": "python",
   "name": "python3"
  },
  "language_info": {
   "codemirror_mode": {
    "name": "ipython",
    "version": 3
   },
   "file_extension": ".py",
   "mimetype": "text/x-python",
   "name": "python",
   "nbconvert_exporter": "python",
   "pygments_lexer": "ipython3",
   "version": "3.7.11"
  },
  "latex_envs": {
   "LaTeX_envs_menu_present": true,
   "autoclose": false,
   "autocomplete": true,
   "bibliofile": "biblio.bib",
   "cite_by": "apalike",
   "current_citInitial": 1,
   "eqLabelWithNumbers": true,
   "eqNumInitial": 1,
   "hotkeys": {
    "equation": "Ctrl-E",
    "itemize": "Ctrl-I"
   },
   "labels_anchors": false,
   "latex_user_defs": false,
   "report_style_numbering": false,
   "user_envs_cfg": false
  },
  "toc": {
   "base_numbering": 1,
   "nav_menu": {},
   "number_sections": true,
   "sideBar": true,
   "skip_h1_title": false,
   "title_cell": "Table of Contents",
   "title_sidebar": "Contents",
   "toc_cell": false,
   "toc_position": {},
   "toc_section_display": true,
   "toc_window_display": false
  }
 },
 "nbformat": 4,
 "nbformat_minor": 4
}
