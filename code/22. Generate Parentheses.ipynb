{
 "cells": [
  {
   "cell_type": "markdown",
   "id": "a4498f59",
   "metadata": {},
   "source": [
    "# Problem\n",
    "\n",
    "Given `n` pairs of parentheses, write a function to *generate all combinations of well-formed parentheses*.\n",
    "\n",
    "**Example 1:**\n",
    "```\n",
    "**Input:** n = 3\n",
    "**Output:** [\"((()))\",\"(()())\",\"(())()\",\"()(())\",\"()()()\"]\n",
    "```\n",
    "**Example 2:**\n",
    "```\n",
    "**Input:** n = 1\n",
    "**Output:** [\"()\"]\n",
    "```\n",
    "\n",
    "**Constraints:**\n",
    "\n",
    "* `1 <= n <= 8`\n",
    "\n"
   ]
  },
  {
   "cell_type": "markdown",
   "id": "3cf497ab",
   "metadata": {},
   "source": [
    "# Summary\n",
    "\n"
   ]
  },
  {
   "cell_type": "markdown",
   "id": "d8e57556",
   "metadata": {},
   "source": [
    "# Problem Description\n",
    "\n",
    "Generate all combinations of well-formed parentheses given *n* pairs.\n",
    "\n",
    "The tricky part is "
   ]
  },
  {
   "cell_type": "markdown",
   "id": "f0aa975a",
   "metadata": {},
   "source": [
    "# Methods\n",
    "\n"
   ]
  },
  {
   "cell_type": "markdown",
   "id": "6809ce5d",
   "metadata": {},
   "source": [
    "## Method 1 Rule-based and BFS Generation\n",
    "\n",
    "+ **Time Complexity**: \n",
    "\t+ $O(2 ^ {n - 1})$ ~ $O(2 ^ n)$\n",
    "+ **Space Complexity**: $O(1)$\n",
    "\n",
    "A pair of well-formed parentheses requires each left parenthesis corresponds to a right parenthesis. In other words, using an indicator to check whether this right parenthesis has a corresponding left parenthesis.\n",
    "\n",
    "Two indicators:\n",
    "+ the number of left parentheses;\n",
    "+ the number of right parentheses.\n",
    "\n",
    "Using a stack to store the index of the left parentheses, once a right parenthesis occurs, the stack pops one element until it empty.\n",
    "\n",
    "But how to traverse the combination?\n",
    "\n",
    "Continue with the stack, BFS can be implemented there to handle the choice problem. Put the first left parenthesis into the stack, and BFS. Each time the BFS uses the stack to make decision, if the stack is empty or the generation progress doesn't meet the boundary condition, putting a left parenthesis or a right parenthesis is ok.\n",
    "\n",
    "Boundary condition:\n",
    "\n",
    "+ run out of the length of the generation, *2n*, back to another situation;\n",
    "+ the stack is empty but some position remained, the next level must be left parenthesis;\n",
    "+ the stack is not empty but run out of left parentheses positions, the next level must be right parenthesis.\n",
    "\n",
    "Thus,\n",
    "\n",
    "+ the stack works globally;\n",
    "+ `cnt_left` counts how many left parentheses used in the past;"
   ]
  },
  {
   "cell_type": "code",
   "execution_count": 18,
   "id": "d5572468",
   "metadata": {},
   "outputs": [],
   "source": [
    "class Solution:\n",
    "    def generateParenthesis(self, n: int):\n",
    "        stack, cnt, ans = [], 0, []\n",
    "        temp = ''\n",
    "\n",
    "        def BFS(stack, cnt, temp, c):\n",
    "            if cnt == n:\n",
    "                if len(temp) == 2 * n:\n",
    "                    return ans.append(temp)\n",
    "                else:\n",
    "                    temp += ')'\n",
    "                    stack.pop()\n",
    "                    BFS(stack, cnt, temp, c)\n",
    "            else:\n",
    "                if stack == []:\n",
    "                    stack.append('(')\n",
    "                    BFS(stack, cnt + 1, temp + '(')\n",
    "                else:\n",
    "                    right = [i for i in stack]\n",
    "                    right.pop()\n",
    "                    BFS(right, cnt, temp + ')', c)\n",
    "                    left = [i for i in stack]\n",
    "                    left.append('(')\n",
    "                    BFS(left, cnt + 1, temp + '(', c)\n",
    "        \n",
    "        BFS([], 0, '', 0)\n",
    "        return ans\n"
   ]
  },
  {
   "cell_type": "markdown",
   "id": "e2787954",
   "metadata": {},
   "source": [
    "# Footnotes\n",
    "\n"
   ]
  },
  {
   "cell_type": "code",
   "execution_count": null,
   "id": "05716245",
   "metadata": {},
   "outputs": [],
   "source": [
    "# add the doc information to README \n",
    "from tools.setup import generate_row as g\n",
    "\n",
    "g()"
   ]
  }
 ],
 "metadata": {
  "interpreter": {
   "hash": "76a7b5324f028f295860f76a31df2338ff50596517c2606a79177bbdafd1d5be"
  },
  "kernelspec": {
   "display_name": "Python 3.7.11 ('leetcode')",
   "language": "python",
   "name": "python3"
  },
  "language_info": {
   "codemirror_mode": {
    "name": "ipython",
    "version": 3
   },
   "file_extension": ".py",
   "mimetype": "text/x-python",
   "name": "python",
   "nbconvert_exporter": "python",
   "pygments_lexer": "ipython3",
   "version": "3.7.11"
  }
 },
 "nbformat": 4,
 "nbformat_minor": 5
}
