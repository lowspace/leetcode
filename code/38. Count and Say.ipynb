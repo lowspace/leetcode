{
 "cells": [
  {
   "cell_type": "markdown",
   "metadata": {},
   "source": [
    "# Problem\n",
    "\n",
    "The **count-and-say** sequence is a sequence of digit strings defined by the recursive formula:\n",
    "\n",
    "- `countAndSay(1) = \"1\"`\n",
    "- `countAndSay(n)` is the way you would \"say\" the digit string from `countAndSay(n-1)`, which is then converted into a different digit string.\n",
    "\n",
    "To determine how you \"say\" a digit string, split it into the **minimal** number of groups so that each group is a contiguous section all of the **same character.** Then for each group, say the number of characters, then say the character. To convert the saying into a digit string, replace the counts with a number and concatenate every saying.\n",
    "\n",
    "For example, the saying and conversion for digit string `\"3322251\"`:\n",
    "\n",
    "![img](https://assets.leetcode.com/uploads/2020/10/23/countandsay.jpg)\n",
    "\n",
    "Given a positive integer `n`, return *the* `nth` *term of the **count-and-say** sequence*.\n",
    "\n",
    " \n",
    "\n",
    "**Example 1:**\n",
    "\n",
    "```\n",
    "Input: n = 1\n",
    "Output: \"1\"\n",
    "Explanation: This is the base case.\n",
    "```\n",
    "\n",
    "**Example 2:**\n",
    "\n",
    "```\n",
    "Input: n = 4\n",
    "Output: \"1211\"\n",
    "Explanation:\n",
    "countAndSay(1) = \"1\"\n",
    "countAndSay(2) = say \"1\" = one 1 = \"11\"\n",
    "countAndSay(3) = say \"11\" = two 1's = \"21\"\n",
    "countAndSay(4) = say \"21\" = one 2 + one 1 = \"12\" + \"11\" = \"1211\"\n",
    "```\n",
    "\n",
    " \n",
    "\n",
    "**Constraints:**\n",
    "\n",
    "- `1 <= n <= 30`"
   ]
  },
  {
   "cell_type": "markdown",
   "metadata": {},
   "source": [
    "# Summary"
   ]
  },
  {
   "cell_type": "markdown",
   "metadata": {},
   "source": [
    "# Problem Description \n",
    "\n",
    "The problem aims to count and say the previous result <sup>[1](#ft1)</sup>, that is `countAndSay(n)` counts and says the result of `countAndSay(n-1)`. And the first one is `1`."
   ]
  },
  {
   "cell_type": "markdown",
   "metadata": {},
   "source": [
    "# Methods"
   ]
  },
  {
   "cell_type": "markdown",
   "metadata": {},
   "source": [
    "## Method 1 Straightforward Loop"
   ]
  },
  {
   "cell_type": "markdown",
   "metadata": {},
   "source": [
    "### Version 1 Naive `while`\n",
    "\n",
    "+ **Time Complexity**: \n",
    "\t+ Best case: $O(n)$\n",
    "\t+ Worst case: $O(n)$\n",
    "+ **Space Complexity**: $O(n^2)$"
   ]
  },
  {
   "cell_type": "code",
   "execution_count": 3,
   "metadata": {},
   "outputs": [],
   "source": [
    "class Solution:\n",
    "    def countAndSay(self, n: int) -> str:\n",
    "        r = '1' \n",
    "\n",
    "        while n > 1:\n",
    "            turn = ''\n",
    "            prev = ''\n",
    "            cnt = 0\n",
    "            for i in r:\n",
    "                if prev:\n",
    "                    if i == prev:\n",
    "                        cnt += 1\n",
    "                    else:\n",
    "                        turn += str(cnt) + prev\n",
    "                        prev = i\n",
    "                        cnt = 1\n",
    "                else: # initialize the prev\n",
    "                    prev = i\n",
    "                    cnt += 1\n",
    "            turn += str(cnt) + prev # offset the last count\n",
    "            n -= 1\n",
    "            r = turn\n",
    "\n",
    "        return r"
   ]
  },
  {
   "cell_type": "markdown",
   "metadata": {},
   "source": [
    "### Version 2 Advanced `while`\n",
    "\n",
    "The previous one needs too many constants, and needs to assign the turn at the last, can we find a way to use fewer variables and assign the value once?\n",
    "\n",
    "+ `turn` is used to record the count-and-say string at that `n` turn, which is a temporary variable;\n",
    "+ assign `prev` to the first element of `r` to avoid long `if` statement;\n",
    "+ unable to put the concatenation once, since the termination of the `for` statement doesn't inform the `prev` and `cnt`."
   ]
  },
  {
   "cell_type": "code",
   "execution_count": null,
   "metadata": {},
   "outputs": [],
   "source": [
    "class Solution:\n",
    "    def countAndSay(self, n: int) -> str:\n",
    "        r = '1' \n",
    "\n",
    "        while n > 1:\n",
    "            turn = ''\n",
    "            prev = r[0]\n",
    "            cnt = 0\n",
    "            for i in r:\n",
    "                if i == prev:\n",
    "                    cnt += 1\n",
    "                else:\n",
    "                    turn += str(cnt) + prev\n",
    "                    prev = i\n",
    "                    cnt = 1\n",
    "            turn += str(cnt) + prev # offset the last count\n",
    "            n -= 1\n",
    "            r = turn\n",
    "\n",
    "        return r"
   ]
  },
  {
   "cell_type": "markdown",
   "metadata": {},
   "source": [
    "## Method 2 Recursive Method\n",
    "\n",
    "+ **Time Complexity**: \n",
    "\t+ Best case: $O(n)$\n",
    "\t+ Worst case: $O(n)$\n",
    "+ **Space Complexity**: $O(n^2)$\n",
    "\n",
    "Using the same function to get the previous result, and say it."
   ]
  },
  {
   "cell_type": "code",
   "execution_count": 29,
   "metadata": {},
   "outputs": [],
   "source": [
    "class Solution:\n",
    "    def countAndSay(self, n: int) -> str:\n",
    "        if n == 1: return '1'\n",
    "        \n",
    "        r = self.countAndSay(n - 1)\n",
    "        turn = ''\n",
    "        prev = r[0]\n",
    "        cnt = 0\n",
    "        for i in r:\n",
    "            if i == prev:\n",
    "                cnt += 1\n",
    "            else:\n",
    "                turn += str(cnt) + prev\n",
    "                prev = i\n",
    "                cnt = 1\n",
    "        turn += str(cnt) + prev # offset the last count\n",
    "\n",
    "        return turn"
   ]
  },
  {
   "cell_type": "markdown",
   "metadata": {},
   "source": [
    "# Footnotes\n",
    "\n",
    "<a name=\"ft1\">[1]</a>: how to understand `countAndSay`: https://leetcode.com/problems/count-and-say/discuss/201832/It's-a-good-question-let-me-explain-it.\n",
    "\n"
   ]
  },
  {
   "cell_type": "code",
   "execution_count": null,
   "metadata": {},
   "outputs": [],
   "source": [
    "# add the doc information to README \n",
    "from tools.setup import generate_row as g\n",
    "\n",
    "g()"
   ]
  }
 ],
 "metadata": {
  "hide_input": false,
  "kernelspec": {
   "display_name": "Python 3",
   "language": "python",
   "name": "python3"
  },
  "language_info": {
   "codemirror_mode": {
    "name": "ipython",
    "version": 3
   },
   "file_extension": ".py",
   "mimetype": "text/x-python",
   "name": "python",
   "nbconvert_exporter": "python",
   "pygments_lexer": "ipython3",
   "version": "3.7.11"
  },
  "latex_envs": {
   "LaTeX_envs_menu_present": true,
   "autoclose": false,
   "autocomplete": true,
   "bibliofile": "biblio.bib",
   "cite_by": "apalike",
   "current_citInitial": 1,
   "eqLabelWithNumbers": true,
   "eqNumInitial": 1,
   "hotkeys": {
    "equation": "Ctrl-E",
    "itemize": "Ctrl-I"
   },
   "labels_anchors": false,
   "latex_user_defs": false,
   "report_style_numbering": false,
   "user_envs_cfg": false
  },
  "toc": {
   "base_numbering": 1,
   "nav_menu": {},
   "number_sections": true,
   "sideBar": true,
   "skip_h1_title": false,
   "title_cell": "Table of Contents",
   "title_sidebar": "Contents",
   "toc_cell": false,
   "toc_position": {},
   "toc_section_display": true,
   "toc_window_display": false
  }
 },
 "nbformat": 4,
 "nbformat_minor": 4
}
