{
 "cells": [
  {
   "cell_type": "markdown",
   "id": "0d90eeb8",
   "metadata": {},
   "source": [
    "# What is list comprehensions"
   ]
  },
  {
   "cell_type": "markdown",
   "id": "8c3909cb",
   "metadata": {},
   "source": [
    "A list comprehension is a syntactic construct available in some programming languages for creating a list based on existing lists. It follows the form of the mathematical set-builder notation (set comprehension) as distinct from the use of map and filter functions.<sup>[[1]](#ft1)</sup>\n",
    "\n",
    "List comprehensions provide a concise way to create lists. Common applications are to make new lists where each element is the result of some operations applied to each member of another sequence or iterable, or to create a subsequence of those elements that satisfy a certain condition.<sup>[[2]](#ft2)</sup>\n",
    "\n",
    "In a nutshell, a list comprehension is a Pythonic style to create lists based on existing lists, mostly the new list has the same name as the old."
   ]
  },
  {
   "cell_type": "markdown",
   "id": "5006d92d",
   "metadata": {},
   "source": [
    "# List Comprehensions examples"
   ]
  },
  {
   "cell_type": "markdown",
   "id": "0d4ffae2",
   "metadata": {},
   "source": [
    "## Basic exmaples"
   ]
  },
  {
   "cell_type": "markdown",
   "id": "669188ae",
   "metadata": {},
   "source": [
    "1. create new list based on one old list"
   ]
  },
  {
   "cell_type": "code",
   "execution_count": 55,
   "id": "6f7a6026",
   "metadata": {
    "ExecuteTime": {
     "end_time": "2021-09-15T10:09:35.959404Z",
     "start_time": "2021-09-15T10:09:35.953544Z"
    }
   },
   "outputs": [
    {
     "name": "stdout",
     "output_type": "stream",
     "text": [
      "the old list is [0, 1, 2, 3, 4, 5, 6, 7, 8, 9, 10] 140652484330512\n",
      "the new list is [0, 1, 4, 9, 16, 25, 36, 49, 64, 81, 100] 140652484946112\n"
     ]
    }
   ],
   "source": [
    "x = list(range(0,11))\n",
    "print(\"the old list is\", x, id(x))\n",
    "x = [i**2 for i in x]\n",
    "print(\"the new list is\", x, id(x))"
   ]
  },
  {
   "cell_type": "code",
   "execution_count": 11,
   "id": "d079362d",
   "metadata": {
    "ExecuteTime": {
     "end_time": "2021-09-15T09:10:19.231449Z",
     "start_time": "2021-09-15T09:10:19.227271Z"
    }
   },
   "outputs": [
    {
     "name": "stdout",
     "output_type": "stream",
     "text": [
      "the old list is [0, 1, 2, 3, 4, 5, 6, 7, 8, 9, 10]\n",
      "the new list is [(0, 1), (1, 2), (2, 3), (3, 4), (4, 5), (5, 6), (6, 7), (7, 8), (8, 9), (9, 10), (10, 11)]\n"
     ]
    }
   ],
   "source": [
    "x = list(range(0,11))\n",
    "print(\"the old list is\", x)\n",
    "x = [(i, i+1) for i in x]\n",
    "print(\"the new list is\", x)"
   ]
  },
  {
   "cell_type": "code",
   "execution_count": 13,
   "id": "91aa19bd",
   "metadata": {
    "ExecuteTime": {
     "end_time": "2021-09-15T09:11:46.419690Z",
     "start_time": "2021-09-15T09:11:46.415867Z"
    }
   },
   "outputs": [
    {
     "name": "stdout",
     "output_type": "stream",
     "text": [
      "the old list is [0, 1, 2, 3, 4, 5, 6, 7, 8, 9, 10]\n",
      "the new list is [[0, 0], [1, 2], [2, 4], [3, 6], [4, 8], [5, 10], [6, 12], [7, 14], [8, 16], [9, 18], [10, 20]]\n"
     ]
    }
   ],
   "source": [
    "x = list(range(0,11))\n",
    "print(\"the old list is\", x)\n",
    "x = [[i, i*2] for i in x]\n",
    "print(\"the new list is\", x)"
   ]
  },
  {
   "cell_type": "code",
   "execution_count": 15,
   "id": "7cfd154e",
   "metadata": {
    "ExecuteTime": {
     "end_time": "2021-09-15T09:13:54.966867Z",
     "start_time": "2021-09-15T09:13:54.962951Z"
    }
   },
   "outputs": [
    {
     "name": "stdout",
     "output_type": "stream",
     "text": [
      "the old list is [0, 1, 2, 3, 4, 5, 6, 7, 8, 9, 10]\n",
      "the new list is [{0: 0}, {1: 1}, {2: 8}, {3: 27}, {4: 64}, {5: 125}, {6: 216}, {7: 343}, {8: 512}, {9: 729}, {10: 1000}]\n"
     ]
    }
   ],
   "source": [
    "x = list(range(0,11))\n",
    "print(\"the old list is\", x)\n",
    "x = [{i:i**3} for i in x]\n",
    "print(\"the new list is\", x)"
   ]
  },
  {
   "cell_type": "code",
   "execution_count": 12,
   "id": "061b9ea3",
   "metadata": {
    "ExecuteTime": {
     "end_time": "2021-09-15T09:10:31.394536Z",
     "start_time": "2021-09-15T09:10:31.389763Z"
    }
   },
   "outputs": [
    {
     "ename": "SyntaxError",
     "evalue": "invalid syntax (<ipython-input-12-5d7834987280>, line 3)",
     "output_type": "error",
     "traceback": [
      "\u001b[0;36m  File \u001b[0;32m\"<ipython-input-12-5d7834987280>\"\u001b[0;36m, line \u001b[0;32m3\u001b[0m\n\u001b[0;31m    x = [i, i+1 for i in x]\u001b[0m\n\u001b[0m                  ^\u001b[0m\n\u001b[0;31mSyntaxError\u001b[0m\u001b[0;31m:\u001b[0m invalid syntax\n"
     ]
    }
   ],
   "source": [
    "x = list(range(0,11))\n",
    "print(\"the old list is\", x)\n",
    "x = [i, i+1 for i in x]\n",
    "print(\"the new list is\", x)"
   ]
  },
  {
   "cell_type": "markdown",
   "id": "5c94a118",
   "metadata": {},
   "source": [
    "Thus, list comprehensions can only return one element at once, such as a int, a string, a tuple, a list and a dictionary."
   ]
  },
  {
   "cell_type": "markdown",
   "id": "c6a9bd20",
   "metadata": {
    "ExecuteTime": {
     "end_time": "2021-09-15T09:06:27.587785Z",
     "start_time": "2021-09-15T09:06:27.583031Z"
    }
   },
   "source": [
    "2. create new list based on two old lists"
   ]
  },
  {
   "cell_type": "code",
   "execution_count": 16,
   "id": "9acd1f45",
   "metadata": {
    "ExecuteTime": {
     "end_time": "2021-09-15T09:14:31.691503Z",
     "start_time": "2021-09-15T09:14:31.685782Z"
    }
   },
   "outputs": [
    {
     "name": "stdout",
     "output_type": "stream",
     "text": [
      "the old list x is [0, 1, 2, 3, 4, 5, 6, 7, 8, 9, 10] \n",
      "the old list y is [11, 12, 13, 14, 15, 16, 17, 18, 19, 20]\n",
      "the new list is [11, 13, 15, 17, 19, 21, 23, 25, 27, 29]\n"
     ]
    }
   ],
   "source": [
    "x = list(range(0,11))\n",
    "y = list(range(11, 21))\n",
    "print(\"the old list x is\", x, \"\\nthe old list y is\", y)\n",
    "x = [i+j for i, j in zip(x,y)]\n",
    "print(\"the new list is\", x)"
   ]
  },
  {
   "cell_type": "code",
   "execution_count": 19,
   "id": "aa426b68",
   "metadata": {
    "ExecuteTime": {
     "end_time": "2021-09-15T09:15:48.482149Z",
     "start_time": "2021-09-15T09:15:48.477149Z"
    }
   },
   "outputs": [
    {
     "name": "stdout",
     "output_type": "stream",
     "text": [
      "the old list x is [0, 1, 2, 3, 4, 5, 6, 7, 8, 9, 10] \n",
      "the old list y is [11, 12, 13, 14, 15, 16, 17, 18, 19, 20]\n",
      "the new list is [(6, 11), (6, 12), (7, 11), (7, 12), (7, 13), (7, 14), (8, 11), (8, 12), (8, 13), (8, 14), (8, 15), (8, 16), (9, 11), (9, 12), (9, 13), (9, 14), (9, 15), (9, 16), (9, 17), (9, 18), (10, 11), (10, 12), (10, 13), (10, 14), (10, 15), (10, 16), (10, 17), (10, 18), (10, 19), (10, 20)]\n"
     ]
    }
   ],
   "source": [
    "x = list(range(0,11))\n",
    "y = list(range(11, 21))\n",
    "print(\"the old list x is\", x, \"\\nthe old list y is\", y)\n",
    "x = [(i,j) for i in x for j in y if 2*i >= j]\n",
    "print(\"the new list is\", x)"
   ]
  },
  {
   "cell_type": "markdown",
   "id": "278bb04e",
   "metadata": {},
   "source": [
    "The two `for` loop implies a nested `for` loop, which is\n",
    "```\n",
    "for i in x:\n",
    "    for j in y:\n",
    "        if 2*i >= j:\n",
    "            (i,j)\n",
    "```"
   ]
  },
  {
   "cell_type": "markdown",
   "id": "05b2a542",
   "metadata": {},
   "source": [
    "## Advance examples"
   ]
  },
  {
   "cell_type": "markdown",
   "id": "3f957ece",
   "metadata": {},
   "source": [
    "Using `lambda` function to create new list is a fancy method."
   ]
  },
  {
   "cell_type": "code",
   "execution_count": 52,
   "id": "abba3e93",
   "metadata": {
    "ExecuteTime": {
     "end_time": "2021-09-15T10:06:08.279790Z",
     "start_time": "2021-09-15T10:06:08.274349Z"
    }
   },
   "outputs": [
    {
     "data": {
      "text/plain": [
       "[0, 1, 4, 9, 16, 25, 36, 49, 64, 81]"
      ]
     },
     "execution_count": 52,
     "metadata": {},
     "output_type": "execute_result"
    }
   ],
   "source": [
    "list(map(lambda x: x**2, range(10)))"
   ]
  },
  {
   "cell_type": "markdown",
   "id": "951b459e",
   "metadata": {},
   "source": [
    "Q: what is `map` function?\n",
    "\n",
    "A: Return an iterator that applies function to every item of iterable, yielding the results. <sup>[[6]](#ft6)</sup>"
   ]
  },
  {
   "cell_type": "markdown",
   "id": "327e6074",
   "metadata": {},
   "source": [
    "# `lambda` function"
   ]
  },
  {
   "cell_type": "markdown",
   "id": "2a66015f",
   "metadata": {},
   "source": [
    "Q: what is `lambda` function?\n",
    "\n",
    "A: Lambda expressions (sometimes called lambda forms) are used to create anonymous functions. <sup>[[3]](#ft3)</sup> In computer programming, an anonymous function (function literal, lambda abstraction, lambda function, lambda expression or block) is a function definition that is not bound to an identifier. <sup>[[4]](#ft4)</sup>\n",
    "\n",
    "Q: how to create `lambda` function?\n",
    "\n",
    "A: The syntax is `lambda_expr ::=  \"lambda\" [parameter_list] \":\" expression`   <sup>[[3]](#ft3)</sup>, which equals to \n",
    "```\n",
    "def <lambda>(parameters):\n",
    "    return expression\n",
    "```\n",
    "Note, `lambda` function doesn't accept statements or annotations, which means it can't defined the data type of the parameters well.\n",
    "\n",
    "Q: what is curring?\n",
    "\n",
    "A: In mathematics and computer science, currying is the technique of converting a function that takes multiple arguments into a sequence of functions that each takes a single argument. <sup>[[5]](#ft5)</sup>"
   ]
  },
  {
   "cell_type": "markdown",
   "id": "514405ca",
   "metadata": {},
   "source": [
    "Example:"
   ]
  },
  {
   "cell_type": "code",
   "execution_count": 27,
   "id": "1a5d9311",
   "metadata": {
    "ExecuteTime": {
     "end_time": "2021-09-15T09:45:05.720480Z",
     "start_time": "2021-09-15T09:45:05.716729Z"
    }
   },
   "outputs": [
    {
     "name": "stdout",
     "output_type": "stream",
     "text": [
      "double 3 is 6\n",
      "double 'abc' is abcabc\n"
     ]
    }
   ],
   "source": [
    "double = lambda x: x*2\n",
    "print(\"double 3 is\", double(3))\n",
    "print(\"double 'abc' is\", double('abc'))"
   ]
  },
  {
   "cell_type": "code",
   "execution_count": 50,
   "id": "dd2155a1",
   "metadata": {
    "ExecuteTime": {
     "end_time": "2021-09-15T10:04:55.422712Z",
     "start_time": "2021-09-15T10:04:55.418059Z"
    }
   },
   "outputs": [
    {
     "name": "stdout",
     "output_type": "stream",
     "text": [
      "return a list [6, 9]\n",
      "return a tuple (6, 9)\n",
      "return a dictionary {10089: 9}\n"
     ]
    }
   ],
   "source": [
    "t1 = lambda x: [x*2, x**2]\n",
    "t2 = lambda x: (x*2, x**2)\n",
    "t3 = lambda x: {x+10086: x**2}\n",
    "print('return a list', t1(3))\n",
    "print('return a tuple', t2(3))\n",
    "print('return a dictionary', t3(3))"
   ]
  },
  {
   "cell_type": "code",
   "execution_count": 51,
   "id": "e2f968e4",
   "metadata": {
    "ExecuteTime": {
     "end_time": "2021-09-15T10:04:57.257502Z",
     "start_time": "2021-09-15T10:04:57.250180Z"
    }
   },
   "outputs": [
    {
     "ename": "TypeError",
     "evalue": "unsupported operand type(s) for ** or pow(): 'list' and 'int'",
     "output_type": "error",
     "traceback": [
      "\u001b[0;31m---------------------------------------------------------------------------\u001b[0m",
      "\u001b[0;31mTypeError\u001b[0m                                 Traceback (most recent call last)",
      "\u001b[0;32m<ipython-input-51-443c502ef6da>\u001b[0m in \u001b[0;36m<module>\u001b[0;34m\u001b[0m\n\u001b[0;32m----> 1\u001b[0;31m \u001b[0mt\u001b[0m \u001b[0;34m=\u001b[0m \u001b[0;32mlambda\u001b[0m \u001b[0mx\u001b[0m\u001b[0;34m:\u001b[0m \u001b[0mx\u001b[0m\u001b[0;34m*\u001b[0m\u001b[0;36m2\u001b[0m\u001b[0;34m,\u001b[0m \u001b[0mx\u001b[0m\u001b[0;34m**\u001b[0m\u001b[0;36m2\u001b[0m\u001b[0;34m\u001b[0m\u001b[0;34m\u001b[0m\u001b[0m\n\u001b[0m\u001b[1;32m      2\u001b[0m \u001b[0mt\u001b[0m\u001b[0;34m(\u001b[0m\u001b[0;36m3\u001b[0m\u001b[0;34m)\u001b[0m\u001b[0;34m\u001b[0m\u001b[0;34m\u001b[0m\u001b[0m\n",
      "\u001b[0;31mTypeError\u001b[0m: unsupported operand type(s) for ** or pow(): 'list' and 'int'"
     ]
    }
   ],
   "source": [
    "t = lambda x: x*2, x**2\n",
    "t(3)"
   ]
  },
  {
   "cell_type": "markdown",
   "id": "7ffdb460",
   "metadata": {},
   "source": [
    "Similar to list comprehensions, `lambda` function can only return one element."
   ]
  },
  {
   "cell_type": "markdown",
   "id": "ee79ba1b",
   "metadata": {},
   "source": [
    "# The id of list"
   ]
  },
  {
   "cell_type": "code",
   "execution_count": 56,
   "id": "cfcf8946",
   "metadata": {
    "ExecuteTime": {
     "end_time": "2021-09-15T10:10:28.397415Z",
     "start_time": "2021-09-15T10:10:28.392626Z"
    }
   },
   "outputs": [
    {
     "name": "stdout",
     "output_type": "stream",
     "text": [
      "[1, 2, 3] , the id of this array is 140652484237984 .\n",
      "\n"
     ]
    }
   ],
   "source": [
    "nums = [1,2,3]\n",
    "old = id(nums)\n",
    "print(nums, ', the id of this array is', id(nums), '.\\n')\n",
    "nums.append(nums)\n",
    "new = id(nums)\n",
    "assert old == new"
   ]
  },
  {
   "cell_type": "code",
   "execution_count": 60,
   "id": "34a35b91",
   "metadata": {
    "ExecuteTime": {
     "end_time": "2021-09-15T10:11:32.285680Z",
     "start_time": "2021-09-15T10:11:32.282304Z"
    }
   },
   "outputs": [],
   "source": [
    "nums = [1,2,3]\n",
    "old = id(nums)\n",
    "nums.extend(nums)\n",
    "assert old == id(nums)"
   ]
  },
  {
   "cell_type": "code",
   "execution_count": 61,
   "id": "50a58076",
   "metadata": {
    "ExecuteTime": {
     "end_time": "2021-09-15T10:11:45.496530Z",
     "start_time": "2021-09-15T10:11:45.493393Z"
    }
   },
   "outputs": [],
   "source": [
    "nums = [1,2,3]\n",
    "old = id(nums)\n",
    "nums.pop()\n",
    "assert old == id(nums)"
   ]
  },
  {
   "cell_type": "code",
   "execution_count": 64,
   "id": "53b8693e",
   "metadata": {
    "ExecuteTime": {
     "end_time": "2021-09-15T10:12:27.404433Z",
     "start_time": "2021-09-15T10:12:27.401209Z"
    }
   },
   "outputs": [],
   "source": [
    "nums = [1,2,3]\n",
    "old = id(nums)\n",
    "nums.insert(0, 100)\n",
    "assert old == id(nums)"
   ]
  },
  {
   "cell_type": "markdown",
   "id": "40d97126",
   "metadata": {},
   "source": [
    "Thus, `append`, `extend`, `pop`, and `insert` the four basic operations don't change the id of the array"
   ]
  },
  {
   "cell_type": "markdown",
   "id": "6c0b6da5",
   "metadata": {},
   "source": [
    "# What is `list[:]`"
   ]
  },
  {
   "cell_type": "markdown",
   "id": "5bbb60c7",
   "metadata": {},
   "source": [
    "Basic slicing operations:\n",
    "\n",
    "+ `list[n:]`: return the elements from $n$th to the last\n",
    "+ `list[n:m]`: return the elements from $n$th to $m-1$th\n",
    "+ `list[::-1]`: return the list with reverse order\n",
    "\n",
    "Q: how to understand `list[::-1]`?\n",
    "\n",
    "A: `[::-1]` employees a `slice` function, which returns a slice object representing the set of `indices` specified by `range(start, stop, step)`. <sup>[[7]](#ft7)</sup> Thus, the syntax over here is `list[start:stop:step]`."
   ]
  },
  {
   "cell_type": "code",
   "execution_count": 72,
   "id": "1dbc7f5a",
   "metadata": {
    "ExecuteTime": {
     "end_time": "2021-09-15T10:17:46.156838Z",
     "start_time": "2021-09-15T10:17:46.148653Z"
    }
   },
   "outputs": [
    {
     "ename": "AssertionError",
     "evalue": "list[:] return a shadow copy of the previous list",
     "output_type": "error",
     "traceback": [
      "\u001b[0;31m---------------------------------------------------------------------------\u001b[0m",
      "\u001b[0;31mAssertionError\u001b[0m                            Traceback (most recent call last)",
      "\u001b[0;32m<ipython-input-72-dd81d6add407>\u001b[0m in \u001b[0;36m<module>\u001b[0;34m\u001b[0m\n\u001b[1;32m      1\u001b[0m \u001b[0mt\u001b[0m \u001b[0;34m=\u001b[0m \u001b[0mlist\u001b[0m\u001b[0;34m(\u001b[0m\u001b[0mrange\u001b[0m\u001b[0;34m(\u001b[0m\u001b[0;36m0\u001b[0m\u001b[0;34m,\u001b[0m \u001b[0;36m11\u001b[0m\u001b[0;34m)\u001b[0m\u001b[0;34m)\u001b[0m\u001b[0;34m\u001b[0m\u001b[0;34m\u001b[0m\u001b[0m\n\u001b[0;32m----> 2\u001b[0;31m \u001b[0;32massert\u001b[0m \u001b[0mid\u001b[0m\u001b[0;34m(\u001b[0m\u001b[0mt\u001b[0m\u001b[0;34m)\u001b[0m \u001b[0;34m==\u001b[0m \u001b[0mid\u001b[0m\u001b[0;34m(\u001b[0m\u001b[0mt\u001b[0m\u001b[0;34m[\u001b[0m\u001b[0;34m:\u001b[0m\u001b[0;34m]\u001b[0m\u001b[0;34m)\u001b[0m\u001b[0;34m,\u001b[0m \u001b[0;34m\"list[:] return a shadow copy of the previous list\"\u001b[0m\u001b[0;34m\u001b[0m\u001b[0;34m\u001b[0m\u001b[0m\n\u001b[0m",
      "\u001b[0;31mAssertionError\u001b[0m: list[:] return a shadow copy of the previous list"
     ]
    }
   ],
   "source": [
    "t = list(range(0, 11))\n",
    "assert id(t) == id(t[:]), \"list[:] return a shadow copy of the previous list\""
   ]
  },
  {
   "cell_type": "markdown",
   "id": "0d139b8d",
   "metadata": {},
   "source": [
    "The above code implies list slicing returns a new list instead of the previous list, which is natural since new element corresponds to new memory address."
   ]
  },
  {
   "cell_type": "markdown",
   "id": "cacecc34",
   "metadata": {
    "ExecuteTime": {
     "end_time": "2021-09-15T08:29:29.638349Z",
     "start_time": "2021-09-15T08:29:29.635559Z"
    }
   },
   "source": [
    "# Footnote\n",
    "\n",
    "<a name=\"ft1\">[1]</a>: wiki list comprehensions: https://en.wikipedia.org/wiki/List_comprehension\n",
    "\n",
    "<a name=\"ft2\">[2]</a>: Python doc: https://docs.python.org/3/tutorial/datastructures.html#list-comprehensions\n",
    "\n",
    "<a name=\"ft3\">[3]</a>: Python doc: https://docs.python.org/3/reference/expressions.html#lambda\n",
    "\n",
    "<a name=\"ft4\">[4]</a>: wiki Anonymous function: https://en.wikipedia.org/wiki/Anonymous_function\n",
    "\n",
    "<a name=\"ft5\">[5]</a>: wiki curring: https://en.wikipedia.org/wiki/Currying\n",
    "\n",
    "<a name=\"ft6\">[6]</a>: Python doc: https://docs.python.org/3/library/functions.html#map\n",
    "\n",
    "<a name=\"ft7\">[7]</a>: Python doc: https://docs.python.org/3/library/functions.html#slice"
   ]
  }
 ],
 "metadata": {
  "hide_input": false,
  "kernelspec": {
   "display_name": "Python 3",
   "language": "python",
   "name": "python3"
  },
  "language_info": {
   "codemirror_mode": {
    "name": "ipython",
    "version": 3
   },
   "file_extension": ".py",
   "mimetype": "text/x-python",
   "name": "python",
   "nbconvert_exporter": "python",
   "pygments_lexer": "ipython3",
   "version": "3.7.10"
  },
  "latex_envs": {
   "LaTeX_envs_menu_present": true,
   "autoclose": false,
   "autocomplete": true,
   "bibliofile": "biblio.bib",
   "cite_by": "apalike",
   "current_citInitial": 1,
   "eqLabelWithNumbers": true,
   "eqNumInitial": 1,
   "hotkeys": {
    "equation": "Ctrl-E",
    "itemize": "Ctrl-I"
   },
   "labels_anchors": false,
   "latex_user_defs": false,
   "report_style_numbering": false,
   "user_envs_cfg": false
  },
  "toc": {
   "base_numbering": 1,
   "nav_menu": {},
   "number_sections": true,
   "sideBar": true,
   "skip_h1_title": false,
   "title_cell": "Table of Contents",
   "title_sidebar": "Contents",
   "toc_cell": false,
   "toc_position": {},
   "toc_section_display": true,
   "toc_window_display": false
  }
 },
 "nbformat": 4,
 "nbformat_minor": 5
}
