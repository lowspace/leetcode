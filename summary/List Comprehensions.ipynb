{
 "cells": [
  {
   "cell_type": "markdown",
   "id": "6c0b6da5",
   "metadata": {},
   "source": [
    "# what is `list[:]`"
   ]
  },
  {
   "cell_type": "code",
   "execution_count": 8,
   "id": "cfcf8946",
   "metadata": {
    "ExecuteTime": {
     "end_time": "2021-09-04T09:55:48.582364Z",
     "start_time": "2021-09-04T09:55:48.578074Z"
    }
   },
   "outputs": [
    {
     "name": "stdout",
     "output_type": "stream",
     "text": [
      "[1, 2, 3] , the id of this array is 140313463850000 .\n",
      "\n",
      "140313463850000\n"
     ]
    }
   ],
   "source": [
    "nums = [1,2,3]\n",
    "print(nums, ', the id of this array is', id(nums), '.\\n')\n",
    "\n",
    "print(id(nums))"
   ]
  },
  {
   "cell_type": "code",
   "execution_count": 16,
   "id": "8a0b0898",
   "metadata": {
    "ExecuteTime": {
     "end_time": "2021-09-04T21:13:17.708026Z",
     "start_time": "2021-09-04T21:13:17.702992Z"
    }
   },
   "outputs": [
    {
     "data": {
      "text/plain": [
       "[1, 2, 3, [...]]"
      ]
     },
     "execution_count": 16,
     "metadata": {},
     "output_type": "execute_result"
    }
   ],
   "source": [
    "nums = [1,2,3]\n",
    "nums.append(nums)\n",
    "nums[3]"
   ]
  }
 ],
 "metadata": {
  "hide_input": false,
  "kernelspec": {
   "display_name": "Python 3",
   "language": "python",
   "name": "python3"
  },
  "language_info": {
   "codemirror_mode": {
    "name": "ipython",
    "version": 3
   },
   "file_extension": ".py",
   "mimetype": "text/x-python",
   "name": "python",
   "nbconvert_exporter": "python",
   "pygments_lexer": "ipython3",
   "version": "3.7.10"
  },
  "latex_envs": {
   "LaTeX_envs_menu_present": true,
   "autoclose": false,
   "autocomplete": true,
   "bibliofile": "biblio.bib",
   "cite_by": "apalike",
   "current_citInitial": 1,
   "eqLabelWithNumbers": true,
   "eqNumInitial": 1,
   "hotkeys": {
    "equation": "Ctrl-E",
    "itemize": "Ctrl-I"
   },
   "labels_anchors": false,
   "latex_user_defs": false,
   "report_style_numbering": false,
   "user_envs_cfg": false
  },
  "toc": {
   "base_numbering": 1,
   "nav_menu": {},
   "number_sections": true,
   "sideBar": true,
   "skip_h1_title": false,
   "title_cell": "Table of Contents",
   "title_sidebar": "Contents",
   "toc_cell": false,
   "toc_position": {},
   "toc_section_display": true,
   "toc_window_display": false
  }
 },
 "nbformat": 4,
 "nbformat_minor": 5
}
