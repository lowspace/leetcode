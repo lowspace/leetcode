{
 "cells": [
  {
   "cell_type": "markdown",
   "metadata": {},
   "source": [
    "# Introduction\n",
    "\n",
    "Six operations:<sup>[1](#ft1)</sup>\n",
    "\n",
    "+ `x >> y`. `x` shifts to right for `y` steps, which is same as `x // (2 ** y)`.\n",
    "+ `x << y`. `x` shifts to left for `y` steps, new bits are padded with 0, which is same as `x * (2 ** y)`.\n",
    "+ `x & y`, bitwise and. Return 1 if the bits at the same position is 1, otherwise 0.\n",
    "+ `x | y`, bitwise or. Return 0 if the bits at the same position is 0, otherwise 1.\n",
    "+ `~ x`. Return the complement bit of x, which turns 1 to 0 and 0 to 1.\n",
    "+ `x ^ y`, bitwise exclusive or. Return 1 if the bits at the same position is different, otherwise 1.\n"
   ]
  },
  {
   "cell_type": "markdown",
   "metadata": {},
   "source": [
    "The `show_progress()` function displays the calculation progress.<sup>[2](#ft2)</sup>"
   ]
  },
  {
   "cell_type": "code",
   "execution_count": 3,
   "metadata": {},
   "outputs": [],
   "source": [
    "def show_progress(s: str):\n",
    "    \"\"\"\n",
    "    display the calculation progress.\n",
    "    \"\"\"\n",
    "    s = s.split() # split by space\n",
    "    output = lambda x: '{:08b}'.format(int(x)) + ' ({:4d})'.format(int(x))\n",
    "    if len(s) == 2:\n",
    "        x = s[1]\n",
    "        operation = s[0]\n",
    "        blank_len = len('{} '.format(operation))\n",
    "        print('{} '.format(operation), output(x))\n",
    "        print('=' * 18)\n",
    "        print(' ' * blank_len, output(eval(' '.join(s))))     \n",
    "    else:\n",
    "        x = s[0]\n",
    "        operation = s[1]\n",
    "        y = s[2]\n",
    "        blank_len = len('{} '.format(operation))\n",
    "        print(' ' * blank_len, output(x))\n",
    "        print('{} '.format(operation), output(y))\n",
    "        print('=' * 18)\n",
    "        print(' ' * blank_len, output(eval(' '.join(s))))\n",
    "    return "
   ]
  },
  {
   "cell_type": "markdown",
   "metadata": {},
   "source": [
    "# `>>` and `<<`"
   ]
  },
  {
   "cell_type": "code",
   "execution_count": 111,
   "metadata": {},
   "outputs": [
    {
     "name": "stdout",
     "output_type": "stream",
     "text": [
      "    00110110 (  54)\n",
      ">>  00000001 (   1)\n",
      "==================\n",
      "    00011011 (  27)\n"
     ]
    }
   ],
   "source": [
    "show_progress('54 >> 1')"
   ]
  },
  {
   "cell_type": "code",
   "execution_count": 120,
   "metadata": {},
   "outputs": [
    {
     "name": "stdout",
     "output_type": "stream",
     "text": [
      "    -0110110 ( -54)\n",
      ">>  00000001 (   1)\n",
      "==================\n",
      "    -0011011 ( -27)\n"
     ]
    }
   ],
   "source": [
    "show_progress('-54 >> 1')"
   ]
  },
  {
   "cell_type": "code",
   "execution_count": 110,
   "metadata": {},
   "outputs": [
    {
     "name": "stdout",
     "output_type": "stream",
     "text": [
      "    00110110 (  54)\n",
      "<<  00000001 (   1)\n",
      "==================\n",
      "    01101100 ( 108)\n"
     ]
    }
   ],
   "source": [
    "show_progress('54 << 1')"
   ]
  },
  {
   "cell_type": "code",
   "execution_count": 118,
   "metadata": {},
   "outputs": [
    {
     "name": "stdout",
     "output_type": "stream",
     "text": [
      "    -0110110 ( -54)\n",
      "<<  00000001 (   1)\n",
      "==================\n",
      "    -1101100 (-108)\n"
     ]
    }
   ],
   "source": [
    "show_progress('-54 << 1')"
   ]
  },
  {
   "cell_type": "markdown",
   "metadata": {},
   "source": [
    "# `&`, `|`, and `^`"
   ]
  },
  {
   "cell_type": "code",
   "execution_count": 126,
   "metadata": {},
   "outputs": [
    {
     "name": "stdout",
     "output_type": "stream",
     "text": [
      "   00001011 (  11)\n",
      "&  00111111 (  63)\n",
      "==================\n",
      "   00001011 (  11)\n"
     ]
    }
   ],
   "source": [
    "show_progress('11 & 63')"
   ]
  },
  {
   "cell_type": "code",
   "execution_count": 131,
   "metadata": {},
   "outputs": [
    {
     "name": "stdout",
     "output_type": "stream",
     "text": [
      "   -0001011 ( -11)\n",
      "&  -0111111 ( -63)\n",
      "==================\n",
      "   -0111111 ( -63)\n"
     ]
    }
   ],
   "source": [
    "show_progress('-11 & -63')"
   ]
  },
  {
   "cell_type": "code",
   "execution_count": 9,
   "metadata": {},
   "outputs": [
    {
     "name": "stdout",
     "output_type": "stream",
     "text": [
      "   -0001011 ( -11)\n",
      "&  01000000 (  64)\n",
      "==================\n",
      "   01000000 (  64)\n"
     ]
    }
   ],
   "source": [
    "show_progress('-11 & 64')"
   ]
  },
  {
   "cell_type": "code",
   "execution_count": 133,
   "metadata": {},
   "outputs": [
    {
     "name": "stdout",
     "output_type": "stream",
     "text": [
      "   00001011 (  11)\n",
      "&  -0111111 ( -63)\n",
      "==================\n",
      "   00000001 (   1)\n"
     ]
    }
   ],
   "source": [
    "show_progress('11 & -63')"
   ]
  },
  {
   "cell_type": "code",
   "execution_count": 135,
   "metadata": {},
   "outputs": [
    {
     "name": "stdout",
     "output_type": "stream",
     "text": [
      "   00001011 (  11)\n",
      "|  00111111 (  63)\n",
      "==================\n",
      "   00111111 (  63)\n"
     ]
    }
   ],
   "source": [
    "show_progress('11 | 63')"
   ]
  },
  {
   "cell_type": "code",
   "execution_count": 130,
   "metadata": {},
   "outputs": [
    {
     "name": "stdout",
     "output_type": "stream",
     "text": [
      "   00001011 (  11)\n",
      "^  00111111 (  63)\n",
      "==================\n",
      "   00110100 (  52)\n"
     ]
    }
   ],
   "source": [
    "show_progress('11 ^ 63')"
   ]
  },
  {
   "cell_type": "markdown",
   "metadata": {},
   "source": [
    "# `~`\n",
    "\n",
    "The complement operation works wired. \n",
    "\n",
    "To understand how complement operation works, we need to figure out how Python stores the binary integers. In Python, it stores a `n` bits with `n+1` bit string, which the leading bit represents positive or negative. In other words, if the leading bit is zero, then bit string represents a positive integer, otherwise negative.\n",
    "\n",
    "Therefore, the complement of one bit string means to change it value and signal. Further, all 0 `n+1` bits means `0`, and all 1 `n+1` bits means the maximum positive integer at `n` bit length. And the negative number should be same rule as the mathematical negative number, which means the first negative element should be the largest one, which is all 1 `n+1` bits representing `-1`. Thus, finding the counterpart of a positive integer $k$ will be:\n",
    "\n",
    "+ add 1 to this int, which ensures the distance from $k - 0$ is the same with $(k+1) -1$ and guarantees the relatively distance from the largest number.\n",
    "+ do complement operation over $k+1$.<sup>[3](#ft3)</sup>"
   ]
  },
  {
   "cell_type": "code",
   "execution_count": 8,
   "metadata": {},
   "outputs": [
    {
     "name": "stdout",
     "output_type": "stream",
     "text": [
      "~  00100000 (  32)\n",
      "==================\n",
      "   -0100001 ( -33)\n"
     ]
    }
   ],
   "source": [
    "show_progress('~ 32')"
   ]
  },
  {
   "cell_type": "markdown",
   "metadata": {},
   "source": [
    "# Footnotes\n",
    "\n",
    "<a name=\"ft1\">[1]</a>: https://wiki.python.org/moin/BitwiseOperators\n",
    "\n",
    "<a name=\"ft2\">[2]</a>: https://stackoverflow.com/questions/46044936/bitwise-and-between-negative-and-positive-numbers\n",
    "\n",
    "<a name=\"ft3\">[3]</a>: https://stackoverflow.com/questions/791328/how-does-the-bitwise-complement-operator-tilde-work"
   ]
  }
 ],
 "metadata": {
  "interpreter": {
   "hash": "76a7b5324f028f295860f76a31df2338ff50596517c2606a79177bbdafd1d5be"
  },
  "kernelspec": {
   "display_name": "Python 3.7.11 64-bit ('leetcode': conda)",
   "language": "python",
   "name": "python3"
  },
  "language_info": {
   "codemirror_mode": {
    "name": "ipython",
    "version": 3
   },
   "file_extension": ".py",
   "mimetype": "text/x-python",
   "name": "python",
   "nbconvert_exporter": "python",
   "pygments_lexer": "ipython3",
   "version": "3.7.11"
  },
  "orig_nbformat": 4
 },
 "nbformat": 4,
 "nbformat_minor": 2
}
