{
 "cells": [
  {
   "cell_type": "markdown",
   "metadata": {},
   "source": [
    "Assume we are dealing with an environment which could only store integers within the 32-bit signed integer range: $[-2^{31}, 2^{31}-1]$. For the purpose of this problem, assume that your function returns 0 when the reversed integer overflows."
   ]
  },
  {
   "cell_type": "markdown",
   "metadata": {},
   "source": [
    "# Summary\n",
    "\n",
    "## Method\n",
    "\n",
    "Two methods to solve this problem:\n",
    "1. reverse the int = reverse a string, and add the sign after the reverse\n",
    "2. reverse the int = pop the number of that int, using `int mod 10` to obtain the last number and `int(int/10)` to obtain the new int after pop the number\n",
    "\n",
    "\n",
    "## Code\n",
    "+ Terminate the code ASAP if there is no need to excute the following code. For example, do not wait to return the results at the end of all the code, return the results when we get them.\n",
    "+ Using constant to replace the calcuation results less cost of the memory and time\n",
    "+ Try to assign the value to the varible in one line, this can save some memory, like Method 1.1 line 9"
   ]
  },
  {
   "cell_type": "code",
   "execution_count": 1,
   "metadata": {},
   "outputs": [],
   "source": [
    "# Method 1 To String\n",
    "def reverse(x: int) -> int:\n",
    "    # identify the range\n",
    "    while -2 **31 <= x <= 2 **31 - 1:\n",
    "        if x > 0:\n",
    "            x = list(str(x))\n",
    "            x.reverse()\n",
    "            y = ''\n",
    "            for num in x:\n",
    "                y = y + num \n",
    "            return int(y)\n",
    "        elif x == 0:\n",
    "            return x\n",
    "        else:\n",
    "            x = list(str(abs(x)))\n",
    "            x.reverse()\n",
    "            y = ''\n",
    "            for num in x:\n",
    "                y = y + num \n",
    "            return -int(y)\n",
    "    # meet the needs!!\n",
    "    return 0"
   ]
  },
  {
   "cell_type": "code",
   "execution_count": 28,
   "metadata": {},
   "outputs": [],
   "source": [
    "# Method 1.1 To String (pass version)\n",
    "'''\n",
    "Runtime: 28 ms\n",
    "Memory Usage: 14.3 MB\n",
    "'''\n",
    "\n",
    "def reverse(x: int) -> int:\n",
    "    if x >= 0:\n",
    "        x = str(x)\n",
    "        x = int(x[::-1])\n",
    "        if -2 **31 <= x <= 2 **31 - 1:\n",
    "            return x\n",
    "        else:\n",
    "            return 0\n",
    "    else:\n",
    "        x = str(abs(x))\n",
    "        x = -int(x[::-1])\n",
    "        if -2 **31 <= x <= 2 **31 - 1:\n",
    "            return x\n",
    "        else:\n",
    "            return 0"
   ]
  },
  {
   "cell_type": "code",
   "execution_count": null,
   "metadata": {},
   "outputs": [],
   "source": [
    "# Method 1.1 To String (state-of-the-art version)\n",
    "'''\n",
    "Runtime: 24 ms, faster than 96.56% of Python3 online submissions for Reverse Integer.\n",
    "Memory Usage: 14.2 MB, less than 73.47% of Python3 online submissions for Reverse Integer.\n",
    "'''\n",
    "\n",
    "def reverse(x: int) -> int:\n",
    "    if x >= 0:\n",
    "        x = int(str(x)[::-1])\n",
    "        if -2147483648 <= x <= 2147483647:\n",
    "            return x\n",
    "        else:\n",
    "            return 0\n",
    "    else:\n",
    "        x = -int(str(abs(x))[::-1])\n",
    "        if -2147483648 <= x <=2147483647:\n",
    "            return x\n",
    "        else:\n",
    "            return 0"
   ]
  },
  {
   "cell_type": "code",
   "execution_count": 72,
   "metadata": {},
   "outputs": [],
   "source": [
    "# Method 2 Standard Method\n",
    "'''\n",
    "Runtime: 40 ms\n",
    "Memory Usage: 14.3 MB\n",
    "'''\n",
    "\n",
    "def reverse(x: int) -> int:\n",
    "    rev = 0\n",
    "    if x < 0:\n",
    "        sign = True\n",
    "        x = abs(x)\n",
    "    else:\n",
    "        sign = False\n",
    "    while x >= 1:\n",
    "        pop = x % 10\n",
    "        x = int(x/10)\n",
    "\n",
    "        rev = rev * 10 + pop\n",
    "    if sign:\n",
    "        rev = -rev\n",
    "    if -2**31 <= rev <= 2**31 - 1:\n",
    "        return rev\n",
    "    else:\n",
    "        return 0"
   ]
  },
  {
   "cell_type": "code",
   "execution_count": 75,
   "metadata": {},
   "outputs": [
    {
     "data": {
      "text/plain": [
       "2147483648"
      ]
     },
     "execution_count": 75,
     "metadata": {},
     "output_type": "execute_result"
    }
   ],
   "source": [
    "# Method 2.1 Standard Method\n",
    "# Using constant to replace the calcuation results less cost of the memory and time\n",
    "'''\n",
    "Runtime: 32 ms\n",
    "Memory Usage: 13.9 MB\n",
    "'''\n",
    "\n",
    "def reverse(x: int) -> int:\n",
    "    rev = 0\n",
    "    if x < 0:\n",
    "        sign = True\n",
    "        x = abs(x)\n",
    "    else:\n",
    "        sign = False\n",
    "    while x >= 1:\n",
    "        pop = x % 10\n",
    "        x = int(x/10)\n",
    "\n",
    "        rev = rev * 10 + pop\n",
    "    if sign:\n",
    "        rev = -rev\n",
    "    if -2147483648 <= rev <= 2147483647:\n",
    "        return rev\n",
    "    else:\n",
    "        return 0"
   ]
  },
  {
   "cell_type": "markdown",
   "metadata": {},
   "source": [
    "Then how to deal with the sign?\n",
    "+ keep the Method 2.1 way, use a boolean to record the sign\n",
    "+ use if to control the code, but more code in similar way"
   ]
  },
  {
   "cell_type": "code",
   "execution_count": 94,
   "metadata": {},
   "outputs": [],
   "source": [
    "# Method 2.2 Standard Method\n",
    "# try to solve sign problem\n",
    "'''\n",
    "Runtime: 36 ms\n",
    "Memory Usage: 14.3 MB\n",
    "'''\n",
    "\n",
    "def reverse(x: int) -> int:\n",
    "    rev = 0\n",
    "    if x > 0:\n",
    "        while x >= 1:\n",
    "            pop = x % 10\n",
    "            x = int(x/10)\n",
    "\n",
    "            rev = rev * 10 + pop\n",
    "        if rev <= 2147483647:\n",
    "            return rev\n",
    "    elif x == 0:\n",
    "        return 0\n",
    "    else:\n",
    "        while x <= -1:\n",
    "            pop = x % (-10)\n",
    "            x = int(x/10)\n",
    "\n",
    "            rev = rev * 10 - pop\n",
    "        if rev <= 2147483647:\n",
    "            return -rev\n",
    "    return 0\n",
    "       "
   ]
  },
  {
   "cell_type": "code",
   "execution_count": 102,
   "metadata": {},
   "outputs": [],
   "source": [
    "# Method 2.2 Standard Method\n",
    "# Return the results ASAP\n",
    "'''\n",
    "Runtime: 32 ms\n",
    "Memory Usage: 14.1 MB\n",
    "'''\n",
    "\n",
    "def reverse(x: int) -> int:   \n",
    "    rev = 0\n",
    "    if x > 0:\n",
    "        while x >= 1:\n",
    "            pop = x % 10\n",
    "            x = int(x/10)\n",
    "\n",
    "            rev = rev * 10 + pop\n",
    "        if rev <= 2147483647:\n",
    "            return rev\n",
    "        else:\n",
    "             return 0\n",
    "    elif x == 0:\n",
    "        return 0\n",
    "    else:\n",
    "        while x <= -1:\n",
    "            pop = x % (-10)\n",
    "            x = int(x/10)\n",
    "\n",
    "            rev = rev * 10 - pop\n",
    "        if rev <= 2147483648:\n",
    "            return -rev\n",
    "        else:\n",
    "             return 0"
   ]
  }
 ],
 "metadata": {
  "kernelspec": {
   "display_name": "Python 3",
   "language": "python",
   "name": "python3"
  },
  "language_info": {
   "codemirror_mode": {
    "name": "ipython",
    "version": 3
   },
   "file_extension": ".py",
   "mimetype": "text/x-python",
   "name": "python",
   "nbconvert_exporter": "python",
   "pygments_lexer": "ipython3",
   "version": "3.7.6"
  }
 },
 "nbformat": 4,
 "nbformat_minor": 4
}
