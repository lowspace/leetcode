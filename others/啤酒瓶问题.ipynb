{
 "cells": [
  {
   "cell_type": "markdown",
   "metadata": {},
   "source": [
    "啤酒2块1瓶\n",
    "\n",
    "4个瓶盖换1瓶酒\n",
    "\n",
    "2个空瓶换1瓶酒\n",
    "\n",
    "问，10块钱能换多少瓶酒？"
   ]
  },
  {
   "cell_type": "code",
   "execution_count": 18,
   "metadata": {},
   "outputs": [
    {
     "name": "stdout",
     "output_type": "stream",
     "text": [
      "买了5瓶；空瓶剩5，盖子剩5\n",
      "第 1次兑换，瓶子兑 2瓶，盖子兑 1瓶；空瓶剩 4，盖子剩 4，本次共兑换 3.\n",
      "第 2次兑换，瓶子兑 2瓶，盖子兑 1瓶；空瓶剩 3，盖子剩 3，本次共兑换 3.\n",
      "第 3次兑换，瓶子兑 1瓶，盖子兑 0瓶；空瓶剩 2，盖子剩 4，本次共兑换 1.\n",
      "第 4次兑换，瓶子兑 1瓶，盖子兑 1瓶；空瓶剩 2，盖子剩 2，本次共兑换 2.\n",
      "第 5次兑换，瓶子兑 1瓶，盖子兑 0瓶；空瓶剩 1，盖子剩 3，本次共兑换 1.\n"
     ]
    },
    {
     "data": {
      "text/plain": [
       "15"
      ]
     },
     "execution_count": 18,
     "metadata": {},
     "output_type": "execute_result"
    }
   ],
   "source": [
    "def beer_count(buck: int) -> int:\n",
    "    beer_cnt = buck // 2 # how many bottles of beer it can buy at first\n",
    "    bottle_cnt = beer_cnt\n",
    "    cap_cnt = beer_cnt\n",
    "    i = 0\n",
    "    print('买了{}瓶；空瓶剩{}，盖子剩{}'.format(beer_cnt, bottle_cnt, cap_cnt))\n",
    "\n",
    "    while bottle_cnt >= 2 or cap_cnt >= 4:\n",
    "        beer_bottle_trans = bottle_cnt // 2\n",
    "        beer_cap_trans = cap_cnt // 4\n",
    "        total_trans = beer_bottle_trans + beer_cap_trans\n",
    "        beer_cnt += total_trans\n",
    "        bottle_cnt = bottle_cnt % 2 + total_trans\n",
    "        cap_cnt = cap_cnt % 4 + total_trans\n",
    "        i += 1\n",
    "        print('第{:2}次兑换，瓶子兑{:2}瓶，盖子兑{:2}瓶；空瓶剩{:2}，盖子剩{:2}，本次共兑换{:2}.'.format(i, beer_bottle_trans, beer_cap_trans, bottle_cnt, cap_cnt, total_trans))\n",
    "\n",
    "    return beer_cnt\n",
    "\n",
    "beer_count(10)"
   ]
  }
 ],
 "metadata": {
  "interpreter": {
   "hash": "76a7b5324f028f295860f76a31df2338ff50596517c2606a79177bbdafd1d5be"
  },
  "kernelspec": {
   "display_name": "Python 3.7.11 64-bit ('leetcode': conda)",
   "language": "python",
   "name": "python3"
  },
  "language_info": {
   "codemirror_mode": {
    "name": "ipython",
    "version": 3
   },
   "file_extension": ".py",
   "mimetype": "text/x-python",
   "name": "python",
   "nbconvert_exporter": "python",
   "pygments_lexer": "ipython3",
   "version": "3.7.11"
  },
  "orig_nbformat": 4
 },
 "nbformat": 4,
 "nbformat_minor": 2
}
