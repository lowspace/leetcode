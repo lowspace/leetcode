{
 "cells": [
  {
   "cell_type": "markdown",
   "metadata": {},
   "source": [
    "# Problem\n",
    "\n",
    "+ only consider the A.D\n",
    "+ date formate is YEAR-MONTH-DAY, for example, 9-01-01, and remove all dashes."
   ]
  },
  {
   "cell_type": "markdown",
   "metadata": {},
   "source": [
    "# Method"
   ]
  },
  {
   "cell_type": "markdown",
   "metadata": {},
   "source": [
    "## Method 1 Brute Force\n",
    "\n",
    "Leap year:\n",
    "\n",
    "**if** (*year* is not [divisible](https://en.wikipedia.org/wiki/Divisor) by 4) **then** (it is a common year)\n",
    "\n",
    "**else if** (*year* is not divisible by 100) **then** (it is a leap year)\n",
    "\n",
    "**else if** (*year* is not divisible by 400) **then** (it is a common year)\n",
    "\n",
    "**else** (it is a leap year)"
   ]
  },
  {
   "cell_type": "code",
   "execution_count": 53,
   "metadata": {},
   "outputs": [],
   "source": [
    "def symmetricalDate(y: int) -> list:\n",
    "    if y % 4 == 0 and y % 100 != 0:\n",
    "        leap_year = True\n",
    "    elif y % 400 == 0:\n",
    "        leap_year = True\n",
    "    else:\n",
    "        leap_year = False\n",
    "\n",
    "    result = []\n",
    "\n",
    "    months = {\n",
    "        1: 31,\n",
    "        3: 31,\n",
    "        4: 30,\n",
    "        5: 31,\n",
    "        6: 30,\n",
    "        7: 31,\n",
    "        8: 31,\n",
    "        9: 30,\n",
    "        10: 31,\n",
    "        11: 30,\n",
    "        12: 31,\n",
    "    }\n",
    "\n",
    "    if leap_year:\n",
    "        months[2] = 29\n",
    "    else:\n",
    "        months[2] = 28\n",
    "    \n",
    "    for month, days in months.items():\n",
    "        for day in range(1, days + 1):\n",
    "            date = '{year}{:02}{:02}'.format(month, day, year = y)\n",
    "            # date = '{:04}{:02}{:02}'.format(y, month, day)\n",
    "            if date == date[::-1]:\n",
    "                result.append(date)\n",
    "    \n",
    "    if result:\n",
    "        return result\n",
    "    else:\n",
    "        return 0"
   ]
  },
  {
   "cell_type": "code",
   "execution_count": 54,
   "metadata": {},
   "outputs": [
    {
     "name": "stdout",
     "output_type": "stream",
     "text": [
      "516\n"
     ]
    }
   ],
   "source": [
    "cnt = 0\n",
    "for y in range(0, 2022):\n",
    "    r = symmetricalDate(y)\n",
    "    if  r != 0:\n",
    "        cnt += len(r)\n",
    "        # print(r)\n",
    "print(cnt)"
   ]
  },
  {
   "cell_type": "code",
   "execution_count": 26,
   "metadata": {},
   "outputs": [
    {
     "name": "stdout",
     "output_type": "stream",
     "text": [
      "2001 20011002\n",
      "2010 20100102\n",
      "2011 20111102\n",
      "2020 20200202\n",
      "2021 20211202\n",
      "2030 20300302\n",
      "2040 20400402\n",
      "2050 20500502\n",
      "2060 20600602\n",
      "2070 20700702\n",
      "2080 20800802\n",
      "2090 20900902\n"
     ]
    }
   ],
   "source": [
    "for y in range(2000, 2100):\n",
    "    r = symmetricalDate(y)\n",
    "    if  r != 0:\n",
    "        print(y, r[0])"
   ]
  },
  {
   "cell_type": "markdown",
   "metadata": {},
   "source": [
    "# Additional Problem\n",
    "\n",
    "The date difference between A and B. Source: https://weibo.com/2032766377/L4bqlrHeA"
   ]
  },
  {
   "cell_type": "code",
   "execution_count": 77,
   "metadata": {},
   "outputs": [
    {
     "data": {
      "text/plain": [
       "3013"
      ]
     },
     "execution_count": 77,
     "metadata": {},
     "output_type": "execute_result"
    }
   ],
   "source": [
    "def dateDiff(start: str, end: str) -> int:\n",
    "    def leapYear(y: int) -> bool:\n",
    "        if y % 4 == 0 and y % 100 != 0:\n",
    "            return True\n",
    "        elif y % 400 == 0:\n",
    "            return True\n",
    "        else:\n",
    "            return False\n",
    "    \n",
    "    start, end = str(start), str(end)\n",
    "    start_y = int(start[:4])\n",
    "    end_y = int(end[:4])\n",
    "\n",
    "    months = {\n",
    "        1: 31,\n",
    "        3: 31,\n",
    "        4: 30,\n",
    "        5: 31,\n",
    "        6: 30,\n",
    "        7: 31,\n",
    "        8: 31,\n",
    "        9: 30,\n",
    "        10: 31,\n",
    "        11: 30,\n",
    "        12: 31,\n",
    "    }\n",
    "\n",
    "    cnt_start = False\n",
    "    \n",
    "    for year in range(start_y, end_y + 1):\n",
    "        if leapYear(year):\n",
    "            months[2] = 29\n",
    "        else:\n",
    "            months[2] = 28\n",
    "        for month in sorted(months.keys()):\n",
    "            for day in range(1, months[month] + 1):\n",
    "                cnt_date = '{year}{:02}{:02}'.format(month, day, year = year)\n",
    "                if not cnt_start:\n",
    "                    if cnt_date == start:\n",
    "                        cnt_start = True\n",
    "                        cnt = 0\n",
    "                if cnt_start and cnt_date != end:\n",
    "                    cnt += 1\n",
    "                if cnt_start and cnt_date == end:    \n",
    "                    cnt += 1     \n",
    "                    return cnt\n",
    "\n",
    "dateDiff('20211202', '20300302')"
   ]
  }
 ],
 "metadata": {
  "interpreter": {
   "hash": "76a7b5324f028f295860f76a31df2338ff50596517c2606a79177bbdafd1d5be"
  },
  "kernelspec": {
   "display_name": "Python 3.7.11 64-bit ('leetcode': conda)",
   "language": "python",
   "name": "python3"
  },
  "language_info": {
   "codemirror_mode": {
    "name": "ipython",
    "version": 3
   },
   "file_extension": ".py",
   "mimetype": "text/x-python",
   "name": "python",
   "nbconvert_exporter": "python",
   "pygments_lexer": "ipython3",
   "version": "3.7.11"
  },
  "orig_nbformat": 4
 },
 "nbformat": 4,
 "nbformat_minor": 2
}
