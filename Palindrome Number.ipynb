{
 "cells": [
  {
   "cell_type": "markdown",
   "metadata": {},
   "source": [
    "# Problem\n",
    "\n",
    "Given an integer `x`, return `true` if `x` is palindrome integer.\n",
    "\n",
    "An integer is a palindrome when it reads the same backward as forward. For example, `121` is palindrome while `123` is not."
   ]
  },
  {
   "cell_type": "markdown",
   "metadata": {},
   "source": [
    "# Summary\n",
    "\n",
    "+ `string` slicing is more efficent than `list` slicing\n",
    "+ 'read the same' means read from right to left = from left to right => do not take negative int into account"
   ]
  },
  {
   "cell_type": "markdown",
   "metadata": {},
   "source": [
    "# Method\n",
    "\n",
    "1. reverse(int) string = int string, then the int is a palindrome\n",
    "2. int -> string, and compare the begining and the end\n",
    "3. reverse the int, and check"
   ]
  },
  {
   "cell_type": "markdown",
   "metadata": {},
   "source": [
    "## Method 1 Reverse String"
   ]
  },
  {
   "cell_type": "code",
   "execution_count": 13,
   "metadata": {},
   "outputs": [],
   "source": [
    "'''\n",
    "Runtime: from 48ms to 64 ms\n",
    "Memory Usage: from 14.2 MB to 14.4 MB\n",
    "'''\n",
    "\n",
    "def isPalindrome(x: int) -> bool:\n",
    "    if x >= 0:\n",
    "        if x == int(str(x)[::-1]):\n",
    "            return True\n",
    "        else:\n",
    "            return False\n",
    "    else:\n",
    "        return False"
   ]
  },
  {
   "cell_type": "markdown",
   "metadata": {},
   "source": [
    "## Method 2 To String"
   ]
  },
  {
   "cell_type": "code",
   "execution_count": null,
   "metadata": {},
   "outputs": [],
   "source": [
    "# Version 1\n",
    "'''\n",
    "Runtime: 68 ms, faster than 35.01% of Python3 online submissions for Palindrome Number.\n",
    "Memory Usage: 14.1 MB, less than 77.11% of Python3 online submissions for Palindrome Number.\n",
    "'''\n",
    "\n",
    "def isPalindrome(x: int) -> bool:\n",
    "    x = str(x)\n",
    "    for i in range(0, len(x), 1):\n",
    "        if x[i] != x[-i-1]:\n",
    "            return False\n",
    "    return True"
   ]
  },
  {
   "cell_type": "code",
   "execution_count": 6,
   "metadata": {},
   "outputs": [],
   "source": [
    "# Version 2\n",
    "# do not go through the whole string, just look up the half\n",
    "'''\n",
    "Runtime: 56 ms, faster than 76.49% of Python3 online submissions for Palindrome Number.\n",
    "Memory Usage: 14.3 MB, less than 48.79% of Python3 online submissions for Palindrome Number.\n",
    "'''\n",
    "\n",
    "def isPalindrome(x: int) -> bool:\n",
    "    x = str(x)\n",
    "    for i in range(0, int(len(x)/2)):\n",
    "        if x[i] != x[-i-1]:\n",
    "            return False\n",
    "    return True"
   ]
  },
  {
   "cell_type": "markdown",
   "metadata": {},
   "source": [
    "## Method 3 Reverse Int\n",
    "\n",
    "Similar to method 2, we only need to reverse the half-length int, and check. However, this idea works when the length int is even. How to handle the odd scenario?\n",
    "\n",
    "+ check each time, but time consuming"
   ]
  },
  {
   "cell_type": "code",
   "execution_count": 74,
   "metadata": {},
   "outputs": [],
   "source": [
    "def isPalindrome(x: int) -> bool:\n",
    "    if x >= 0:\n",
    "        rev = 0\n",
    "        while x > 0:\n",
    "            mod = x % 10\n",
    "            x = int(x/10)\n",
    "            rev = rev * 10 + mod\n",
    "            print(x, rev)\n",
    "            if x == rev:\n",
    "                return True\n",
    "            try:\n",
    "                if x // rev == 10:\n",
    "                    return True\n",
    "            except:\n",
    "                pass\n",
    "        return False\n",
    "    elif x == 0:\n",
    "        return True\n",
    "    else:\n",
    "        return False"
   ]
  },
  {
   "cell_type": "code",
   "execution_count": 90,
   "metadata": {},
   "outputs": [
    {
     "name": "stdout",
     "output_type": "stream",
     "text": [
      "29 2\n",
      "2 29\n",
      "0 292\n"
     ]
    },
    {
     "data": {
      "text/plain": [
       "False"
      ]
     },
     "execution_count": 90,
     "metadata": {},
     "output_type": "execute_result"
    }
   ],
   "source": [
    "isPalindrome(292)"
   ]
  },
  {
   "cell_type": "code",
   "execution_count": 77,
   "metadata": {},
   "outputs": [
    {
     "name": "stdout",
     "output_type": "stream",
     "text": [
      "2 0\n",
      "0 2\n"
     ]
    },
    {
     "data": {
      "text/plain": [
       "False"
      ]
     },
     "execution_count": 77,
     "metadata": {},
     "output_type": "execute_result"
    }
   ],
   "source": [
    "isPalindrome(20)"
   ]
  },
  {
   "cell_type": "markdown",
   "metadata": {},
   "source": [
    "## Compare the string slice time and the list slice time"
   ]
  },
  {
   "cell_type": "code",
   "execution_count": 7,
   "metadata": {},
   "outputs": [
    {
     "name": "stdout",
     "output_type": "stream",
     "text": [
      "Total time:83.4308249950409\n",
      "list_cost is 170.12418293952942\n",
      "str_cost is 131.83411622047424\n",
      "string is more efficient\n"
     ]
    }
   ],
   "source": [
    "import time as tm\n",
    "import random\n",
    "from multiprocessing import Pool\n",
    "\n",
    "def isPalindrome_str(x: int) -> bool:\n",
    "    x = str(x)\n",
    "    for i in range(0, int(len(x)/2)):\n",
    "        if x[i] != x[-i-1]:\n",
    "            return False\n",
    "    return True\n",
    "\n",
    "def isPalindrome_list(x: int) -> bool:\n",
    "    x = list(str(x))\n",
    "    for i in range(0, int(len(x)/2)):\n",
    "        if x[i] != x[-i-1]:\n",
    "            return False\n",
    "    return True\n",
    "\n",
    "def generate(x:int)->list:\n",
    "    num = []\n",
    "    for i in range(x):\n",
    "        num.append(random.randint(1, 999999999))\n",
    "    return num\n",
    "\n",
    "if __name__ == '__main__':\n",
    "        \n",
    "    # construct the # of pools corresponding to the cpu_count in ur PC\n",
    "    with Pool(4) as pool:\n",
    "\n",
    "        startTime = tm.time()\n",
    "\n",
    "        num1 = pool.map(generate, [50000000, 50000000, 50000000, 50000000])\n",
    "        pool.close()\n",
    "        num = []\n",
    "        for i in num1:\n",
    "            num.extend(i)\n",
    "\n",
    "        endTime = tm.time()\n",
    "        print(\"Total time:\" + (endTime - startTime).__str__())\n",
    "\n",
    "start = tm.time()\n",
    "for n in num:\n",
    "    isPalindrome_str(n)\n",
    "end = tm.time()\n",
    "str_cost = end - start\n",
    "print('str_cost is', str_cost)\n",
    "\n",
    "start = tm.time()\n",
    "for n in num:\n",
    "    isPalindrome_list(n)\n",
    "end = tm.time()\n",
    "list_cost = end - start\n",
    "print(\"list_cost is\", list_cost)\n",
    "\n",
    "if list_cost > str_cost:\n",
    "    print('string is more efficient')\n",
    "else:\n",
    "    print('list is more efficient')"
   ]
  }
 ],
 "metadata": {
  "kernelspec": {
   "display_name": "Python 3",
   "language": "python",
   "name": "python3"
  },
  "language_info": {
   "codemirror_mode": {
    "name": "ipython",
    "version": 3
   },
   "file_extension": ".py",
   "mimetype": "text/x-python",
   "name": "python",
   "nbconvert_exporter": "python",
   "pygments_lexer": "ipython3",
   "version": "3.7.6"
  }
 },
 "nbformat": 4,
 "nbformat_minor": 4
}
